{
  "nbformat": 4,
  "nbformat_minor": 0,
  "metadata": {
    "colab": {
      "name": "2021-07-03-Analysis of US Firework Sales and Injuries.ipynb",
      "provenance": [],
      "collapsed_sections": [],
      "mount_file_id": "10XFvwTZU7qelj5UUY5-pCWAmISYPRSl8",
      "authorship_tag": "ABX9TyNiEm0y3ahvw1Pcl3r7XX7o",
      "include_colab_link": true
    },
    "kernelspec": {
      "name": "python3",
      "display_name": "Python 3"
    },
    "language_info": {
      "name": "python"
    }
  },
  "cells": [
    {
      "cell_type": "markdown",
      "metadata": {
        "id": "view-in-github",
        "colab_type": "text"
      },
      "source": [
        "<a href=\"https://colab.research.google.com/github/drusho/drusho.github.io/blob/master/_notebooks/2021_07_03_Analysis_of_US_Firework_Sales_and_Injuries.ipynb\" target=\"_parent\"><img src=\"https://colab.research.google.com/assets/colab-badge.svg\" alt=\"Open In Colab\"/></a>"
      ]
    },
    {
      "cell_type": "markdown",
      "metadata": {
        "id": "ZQTyxYd-aRro"
      },
      "source": [
        "# US Firework Sales and Injuries (2016-2021)\n",
        "> Data Exploration, Visualizations, Plotly, Seaborn\n",
        "\n",
        "- toc: true \n",
        "- badges: false\n",
        "- comments: true\n",
        "- categories: [Pandas, Plotly, Seaborn]\n",
        "- image: \"images/thumbnails/fireworks.png\""
      ]
    },
    {
      "cell_type": "markdown",
      "metadata": {
        "id": "jG_5Js3WgXc4"
      },
      "source": [
        "## __Introduction__"
      ]
    },
    {
      "cell_type": "markdown",
      "metadata": {
        "id": "YkferpUCeO78"
      },
      "source": [
        "#### __Goals__\n",
        "\n",
        "<details>\n",
        "\n",
        "<summary>Goals</summary>\n",
        "\n",
        "Provide an overview of incidents that involve fireworks.  This includes understaing which age groups are most affected and frequency of injury types.  Provide sales figures for fireworks across the US.\n",
        "\n",
        "</details>"
      ]
    },
    {
      "cell_type": "markdown",
      "metadata": {
        "id": "g7Lsx7AhozOM"
      },
      "source": [
        "#### __Conclusions__\n",
        "\n",
        "<details>  \n",
        "\n",
        "<summary>Injury</summary>\n",
        "\n",
        "Ages 0-20 showed the highest rate of injury.  Injury rates by age decrease with age.  The 60+ age groups showed the lowest rate of injury\n",
        "\n",
        "Injuries to the hands, face, and eyes were the most common, while injuries to lower extemities were less common.\n",
        "\n",
        "</details>  \n",
        "\n",
        "<details>  \n",
        "\n",
        "<summary>Sales</summary>\n",
        "\n",
        "The state of Missouri held the record for most spent on fireworks (over 250 million dollars over the past 5 years).  For comparision, Alaska spent around 560,000 dollars with the last five years\n",
        "\n",
        "</details>  \n",
        "\n",
        "<details>  \n",
        "\n",
        "<summary>Correlation</summary>\n",
        "\n",
        "There was no significate correlation between the number of injuries in a year compared to the number of sales.\n",
        "\n",
        "</details>  \n"
      ]
    },
    {
      "cell_type": "markdown",
      "metadata": {
        "id": "X5mEe07RqIFM"
      },
      "source": [
        "#### __Resources__\n",
        "\n",
        "\n",
        "1. [Firework Injury Reports](https://www.cpsc.gov/cgibin/NEISSQuery/UserCriteria.aspx?UserAff=5x08cgz9T6YPDAZJzvlZjA%3d%3d&UserAffOther=9OYR9kUytIsLilKZieD5xg%3d%3d)\n",
        "\n",
        "2. [USA Trade Census](https://usatrade.census.gov/)\n",
        "\n",
        "<details>\n",
        "\n",
        "<summary>Source Details</summary>\n",
        "\n",
        "Source 1 consisted multiple excel incident reports involving fireworks over the past 5 years taken from the U.S. Consumer Product Safety Commission (CPSC).\n",
        "\n",
        "The NEISS injury data are gathered from the emergency departments (ED) of 96 hospitals selected as a probability sample of all U.S. hospitals with 24-hour EDs and at least 6 inpatient beds. Each participating NEISS hospital is hand-selected by CPSC because it provides an important representation of all other hospitals of its size and unique characteristics in the U.S.\n",
        "\n",
        "Source 2 conatins Sales and Trade data for each state regarding fireworks.  Reports data range from 2016 to April 2021.\n",
        "\n",
        "</details>"
      ]
    },
    {
      "cell_type": "markdown",
      "metadata": {
        "id": "SpAPSovpo7QQ"
      },
      "source": [
        "#### __Tools Used__\n",
        "\n",
        "<details>\n",
        "\n",
        "<summary>Tools</summary>\n",
        "\n",
        "* Matplotlib\n",
        "* Pandas\n",
        "* Seaborn\n",
        "* Plotly\n",
        "\n",
        "</details>"
      ]
    },
    {
      "cell_type": "markdown",
      "metadata": {
        "id": "Rm2rUP3lqxBg"
      },
      "source": [
        "## Import Libraries\n",
        "___"
      ]
    },
    {
      "cell_type": "code",
      "metadata": {
        "id": "8Va-4WVdnmV4"
      },
      "source": [
        "#collapse\n",
        "# install libraries to save plotly images to disk\n",
        "%%capture\n",
        "!pip install kaleido\n",
        "!pip install plotly>=4.0.0\n",
        "!wget https://github.com/plotly/orca/releases/download/v1.2.1/orca-1.2.1-x86_64.AppImage -O /usr/local/bin/orca\n",
        "!chmod +x /usr/local/bin/orca\n",
        "!apt-get install xvfb libgtk2.0-0 libgconf-2-4"
      ],
      "execution_count": 62,
      "outputs": []
    },
    {
      "cell_type": "code",
      "metadata": {
        "id": "_eR7Tez5qFM0"
      },
      "source": [
        "#collapse\n",
        "import matplotlib.pyplot as plt\n",
        "import numpy as np\n",
        "import pandas as pd\n",
        "import plotly.express as px\n",
        "import seaborn as sns\n",
        "import warnings\n",
        "warnings.filterwarnings('ignore')"
      ],
      "execution_count": 63,
      "outputs": []
    },
    {
      "cell_type": "markdown",
      "metadata": {
        "id": "rmClEHM0jeIg"
      },
      "source": [
        "## Import Firework Injury Datasets\n",
        "---"
      ]
    },
    {
      "cell_type": "code",
      "metadata": {
        "colab": {
          "base_uri": "https://localhost:8080/",
          "height": 213
        },
        "id": "vmPUm1h3cZo0",
        "outputId": "c0539f41-722a-4027-db53-025d1576843f"
      },
      "source": [
        "#collapse-output\n",
        "# Import clean injury dataframe\n",
        "injury = 'https://github.com/drusho/fireworks_data_exploration/raw/main/data/data_clean/df_injury_clean.csv'\n",
        "df_injury = pd.read_csv(injury,usecols=[1,2,3,4,5,6,7,8,9,10])\n",
        "df_injury.head(3)"
      ],
      "execution_count": 64,
      "outputs": [
        {
          "output_type": "execute_result",
          "data": {
            "text/html": [
              "<div>\n",
              "<style scoped>\n",
              "    .dataframe tbody tr th:only-of-type {\n",
              "        vertical-align: middle;\n",
              "    }\n",
              "\n",
              "    .dataframe tbody tr th {\n",
              "        vertical-align: top;\n",
              "    }\n",
              "\n",
              "    .dataframe thead th {\n",
              "        text-align: right;\n",
              "    }\n",
              "</style>\n",
              "<table border=\"1\" class=\"dataframe\">\n",
              "  <thead>\n",
              "    <tr style=\"text-align: right;\">\n",
              "      <th></th>\n",
              "      <th>Treatment_Date</th>\n",
              "      <th>Age</th>\n",
              "      <th>Sex</th>\n",
              "      <th>Alcohol</th>\n",
              "      <th>Drug</th>\n",
              "      <th>Narrative</th>\n",
              "      <th>Incident Locale</th>\n",
              "      <th>Body_Part</th>\n",
              "      <th>Diagnosis</th>\n",
              "      <th>Disposition</th>\n",
              "    </tr>\n",
              "  </thead>\n",
              "  <tbody>\n",
              "    <tr>\n",
              "      <th>0</th>\n",
              "      <td>1/1/16</td>\n",
              "      <td>39</td>\n",
              "      <td>Male</td>\n",
              "      <td>NaN</td>\n",
              "      <td>NaN</td>\n",
              "      <td>39YOM WAS LIGHTING BOTTLE ROCKETS AND ONE FLEW...</td>\n",
              "      <td>Home</td>\n",
              "      <td>Eyeball</td>\n",
              "      <td>Contusions, Abrasions</td>\n",
              "      <td>Treated/Untreated and Released</td>\n",
              "    </tr>\n",
              "    <tr>\n",
              "      <th>1</th>\n",
              "      <td>1/1/16</td>\n",
              "      <td>13</td>\n",
              "      <td>Male</td>\n",
              "      <td>NaN</td>\n",
              "      <td>NaN</td>\n",
              "      <td>13YOM SOMEONE POINTED FIREWORKS AT HIM FROM 10...</td>\n",
              "      <td>Home</td>\n",
              "      <td>Eyeball</td>\n",
              "      <td>Contusions, Abrasions</td>\n",
              "      <td>Treated/Untreated and Released</td>\n",
              "    </tr>\n",
              "    <tr>\n",
              "      <th>2</th>\n",
              "      <td>7/5/16</td>\n",
              "      <td>31</td>\n",
              "      <td>Female</td>\n",
              "      <td>NaN</td>\n",
              "      <td>NaN</td>\n",
              "      <td>A 31YOF WAS STRUCK TO EYE WITH PIECE OF FIRECR...</td>\n",
              "      <td>Home</td>\n",
              "      <td>Eyeball</td>\n",
              "      <td>Contusions, Abrasions</td>\n",
              "      <td>Treated/Untreated and Released</td>\n",
              "    </tr>\n",
              "  </tbody>\n",
              "</table>\n",
              "</div>"
            ],
            "text/plain": [
              "  Treatment_Date  Age  ...              Diagnosis                     Disposition\n",
              "0         1/1/16   39  ...  Contusions, Abrasions  Treated/Untreated and Released\n",
              "1         1/1/16   13  ...  Contusions, Abrasions  Treated/Untreated and Released\n",
              "2         7/5/16   31  ...  Contusions, Abrasions  Treated/Untreated and Released\n",
              "\n",
              "[3 rows x 10 columns]"
            ]
          },
          "metadata": {
            "tags": []
          },
          "execution_count": 64
        }
      ]
    },
    {
      "cell_type": "markdown",
      "metadata": {
        "id": "VpFMWNdv9ry4"
      },
      "source": [
        "### Displaying Column Data Types"
      ]
    },
    {
      "cell_type": "code",
      "metadata": {
        "colab": {
          "base_uri": "https://localhost:8080/"
        },
        "id": "-RGKXwRi8Jns",
        "outputId": "84064837-7d17-4c8e-eff9-4833c5edb3fd"
      },
      "source": [
        "#collapse-output\n",
        "#Change dtype for 'Treatment_Date' to datetime dtype\n",
        "df_injury.Treatment_Date = pd.to_datetime(df_injury.Treatment_Date)\n",
        "df_injury.info()"
      ],
      "execution_count": 65,
      "outputs": [
        {
          "output_type": "stream",
          "text": [
            "<class 'pandas.core.frame.DataFrame'>\n",
            "RangeIndex: 1532 entries, 0 to 1531\n",
            "Data columns (total 10 columns):\n",
            " #   Column           Non-Null Count  Dtype         \n",
            "---  ------           --------------  -----         \n",
            " 0   Treatment_Date   1532 non-null   datetime64[ns]\n",
            " 1   Age              1532 non-null   int64         \n",
            " 2   Sex              1532 non-null   object        \n",
            " 3   Alcohol          701 non-null    float64       \n",
            " 4   Drug             701 non-null    float64       \n",
            " 5   Narrative        1532 non-null   object        \n",
            " 6   Incident Locale  1532 non-null   object        \n",
            " 7   Body_Part        1532 non-null   object        \n",
            " 8   Diagnosis        1532 non-null   object        \n",
            " 9   Disposition      1532 non-null   object        \n",
            "dtypes: datetime64[ns](1), float64(2), int64(1), object(6)\n",
            "memory usage: 119.8+ KB\n"
          ],
          "name": "stdout"
        }
      ]
    },
    {
      "cell_type": "markdown",
      "metadata": {
        "id": "I4lfn8xH1js8"
      },
      "source": [
        "### Converting Alchol/Drug booleans (0,1) values to yes/no"
      ]
    },
    {
      "cell_type": "code",
      "metadata": {
        "colab": {
          "base_uri": "https://localhost:8080/",
          "height": 164
        },
        "id": "ERce0T912tD4",
        "outputId": "adaadc00-7852-4a52-d55d-5358fc954aee"
      },
      "source": [
        "#collapse\n",
        "#Converting Alcohol and Drug columns to 'yes/no' values\n",
        "#Fill nan values to 0.0 \n",
        "#Convert all values to float type\n",
        "#Convert 0.0 to No and 1.0 to Yes\n",
        "\n",
        "#Change nan values to to 0.0 string\n",
        "df_injury.Alcohol = df_injury['Alcohol'].fillna(0.0)\n",
        "\n",
        "# Convert dytpe to float\n",
        "df_injury.Alcohol = df_injury.Alcohol.astype('float')\n",
        "\n",
        "# Convert Alcohol to Yes/No\n",
        "df_injury.Alcohol = df_injury['Alcohol'].replace(1.0,\"Yes\").replace(0.0,\"No\")\n",
        "df_injury.head(2)\n",
        "\n",
        "#Change nan values to to 0.0 string\n",
        "df_injury.Drug = df_injury['Drug'].fillna(0.0)\n",
        "\n",
        "# Convert dytpe to float\n",
        "df_injury.Drug = df_injury.Drug.astype('float')\n",
        "\n",
        "# Convert Drug to Yes/No\n",
        "df_injury.Drug = df_injury['Drug'].replace(1.0,\"Yes\").replace(0.0,\"No\")\n",
        "df_injury.head(2)"
      ],
      "execution_count": 66,
      "outputs": [
        {
          "output_type": "execute_result",
          "data": {
            "text/html": [
              "<div>\n",
              "<style scoped>\n",
              "    .dataframe tbody tr th:only-of-type {\n",
              "        vertical-align: middle;\n",
              "    }\n",
              "\n",
              "    .dataframe tbody tr th {\n",
              "        vertical-align: top;\n",
              "    }\n",
              "\n",
              "    .dataframe thead th {\n",
              "        text-align: right;\n",
              "    }\n",
              "</style>\n",
              "<table border=\"1\" class=\"dataframe\">\n",
              "  <thead>\n",
              "    <tr style=\"text-align: right;\">\n",
              "      <th></th>\n",
              "      <th>Treatment_Date</th>\n",
              "      <th>Age</th>\n",
              "      <th>Sex</th>\n",
              "      <th>Alcohol</th>\n",
              "      <th>Drug</th>\n",
              "      <th>Narrative</th>\n",
              "      <th>Incident Locale</th>\n",
              "      <th>Body_Part</th>\n",
              "      <th>Diagnosis</th>\n",
              "      <th>Disposition</th>\n",
              "    </tr>\n",
              "  </thead>\n",
              "  <tbody>\n",
              "    <tr>\n",
              "      <th>0</th>\n",
              "      <td>2016-01-01</td>\n",
              "      <td>39</td>\n",
              "      <td>Male</td>\n",
              "      <td>No</td>\n",
              "      <td>No</td>\n",
              "      <td>39YOM WAS LIGHTING BOTTLE ROCKETS AND ONE FLEW...</td>\n",
              "      <td>Home</td>\n",
              "      <td>Eyeball</td>\n",
              "      <td>Contusions, Abrasions</td>\n",
              "      <td>Treated/Untreated and Released</td>\n",
              "    </tr>\n",
              "    <tr>\n",
              "      <th>1</th>\n",
              "      <td>2016-01-01</td>\n",
              "      <td>13</td>\n",
              "      <td>Male</td>\n",
              "      <td>No</td>\n",
              "      <td>No</td>\n",
              "      <td>13YOM SOMEONE POINTED FIREWORKS AT HIM FROM 10...</td>\n",
              "      <td>Home</td>\n",
              "      <td>Eyeball</td>\n",
              "      <td>Contusions, Abrasions</td>\n",
              "      <td>Treated/Untreated and Released</td>\n",
              "    </tr>\n",
              "  </tbody>\n",
              "</table>\n",
              "</div>"
            ],
            "text/plain": [
              "  Treatment_Date  Age  ...              Diagnosis                     Disposition\n",
              "0     2016-01-01   39  ...  Contusions, Abrasions  Treated/Untreated and Released\n",
              "1     2016-01-01   13  ...  Contusions, Abrasions  Treated/Untreated and Released\n",
              "\n",
              "[2 rows x 10 columns]"
            ]
          },
          "metadata": {
            "tags": []
          },
          "execution_count": 66
        }
      ]
    },
    {
      "cell_type": "markdown",
      "metadata": {
        "id": "udHmPU_HkeAA"
      },
      "source": [
        "### Counting Drug and Alchol Use\n",
        "\n",
        "The number of people injuried with positive results for drug or alcohol use was very insignificant compared to overall count of injuries.  "
      ]
    },
    {
      "cell_type": "code",
      "metadata": {
        "colab": {
          "base_uri": "https://localhost:8080/",
          "height": 175
        },
        "id": "Q6LOD0ehNULQ",
        "outputId": "a880dd8a-7ba9-408c-fbbb-a0ee457f2379"
      },
      "source": [
        "#collapse\n",
        "# Count Drug and Alcohol for df_injury\n",
        "df_da = df_injury.groupby(['Drug','Alcohol'])['Age'].count().reset_index(name='count')\n",
        "df_da"
      ],
      "execution_count": 67,
      "outputs": [
        {
          "output_type": "execute_result",
          "data": {
            "text/html": [
              "<div>\n",
              "<style scoped>\n",
              "    .dataframe tbody tr th:only-of-type {\n",
              "        vertical-align: middle;\n",
              "    }\n",
              "\n",
              "    .dataframe tbody tr th {\n",
              "        vertical-align: top;\n",
              "    }\n",
              "\n",
              "    .dataframe thead th {\n",
              "        text-align: right;\n",
              "    }\n",
              "</style>\n",
              "<table border=\"1\" class=\"dataframe\">\n",
              "  <thead>\n",
              "    <tr style=\"text-align: right;\">\n",
              "      <th></th>\n",
              "      <th>Drug</th>\n",
              "      <th>Alcohol</th>\n",
              "      <th>count</th>\n",
              "    </tr>\n",
              "  </thead>\n",
              "  <tbody>\n",
              "    <tr>\n",
              "      <th>0</th>\n",
              "      <td>No</td>\n",
              "      <td>No</td>\n",
              "      <td>1487</td>\n",
              "    </tr>\n",
              "    <tr>\n",
              "      <th>1</th>\n",
              "      <td>No</td>\n",
              "      <td>Yes</td>\n",
              "      <td>40</td>\n",
              "    </tr>\n",
              "    <tr>\n",
              "      <th>2</th>\n",
              "      <td>Yes</td>\n",
              "      <td>No</td>\n",
              "      <td>1</td>\n",
              "    </tr>\n",
              "    <tr>\n",
              "      <th>3</th>\n",
              "      <td>Yes</td>\n",
              "      <td>Yes</td>\n",
              "      <td>4</td>\n",
              "    </tr>\n",
              "  </tbody>\n",
              "</table>\n",
              "</div>"
            ],
            "text/plain": [
              "  Drug Alcohol  count\n",
              "0   No      No   1487\n",
              "1   No     Yes     40\n",
              "2  Yes      No      1\n",
              "3  Yes     Yes      4"
            ]
          },
          "metadata": {
            "tags": []
          },
          "execution_count": 67
        }
      ]
    },
    {
      "cell_type": "markdown",
      "metadata": {
        "id": "vIDtWxIaoBOQ"
      },
      "source": [
        "### Visualizing Drug and Alcohol Usuage (Bar Plot)"
      ]
    },
    {
      "cell_type": "code",
      "metadata": {
        "colab": {
          "base_uri": "https://localhost:8080/",
          "height": 395
        },
        "id": "0HNo5hevRrQM",
        "outputId": "f5e683a3-0425-452a-d873-de3bb950975b"
      },
      "source": [
        "#collapse\n",
        "#define figure size\n",
        "sns.set(rc={\"figure.figsize\":(15, 6)})\n",
        "\n",
        "#set background to white\n",
        "sns.set_style(\"white\")\n",
        "\n",
        "fig, ax = plt.subplots(1,2)\n",
        "\n",
        "sns.countplot(df_injury['Drug'], \n",
        "              ax=ax[0],\n",
        "              palette=\"Oranges_r\")\n",
        "\n",
        "ax[0].set_title('Drug Related Incidents', \n",
        "             fontdict = {'fontsize': 15})\n",
        "ax[0].set(ylabel='Counts',\n",
        "       xlabel='')\n",
        "\n",
        "sns.countplot(df_injury['Alcohol'], \n",
        "              ax=ax[1],\n",
        "              palette=\"Blues_r\")\n",
        "\n",
        "ax[1].set_title('Alcohol Related Incidents', \n",
        "             fontdict = {'fontsize': 15})\n",
        "ax[1].set(ylabel='',\n",
        "       xlabel='')\n",
        "\n",
        "# remove spines\n",
        "sns.despine(left=True)\n",
        "\n",
        "#save to png\n",
        "# fig.savefig(\"Drug/Alcohol Counts.png\")\n",
        "\n",
        "plt.show()\n",
        "fig.savefig('Drug_and_Alcohol_Counts.png')\n",
        "\n",
        "plt.show()"
      ],
      "execution_count": 129,
      "outputs": [
        {
          "output_type": "display_data",
          "data": {
            "image/png": "[encoded data removed]",
            "text/plain": [
              "<Figure size 1080x432 with 2 Axes>"
            ]
          },
          "metadata": {
            "tags": []
          }
        }
      ]
    },
    {
      "cell_type": "code",
      "metadata": {
        "id": "i5R0xQ88_kTA"
      },
      "source": [
        "#collapse\n",
        "# Sort DF by treatment date\n",
        "df_injury.sort_values(by = 'Treatment_Date',\n",
        "                      inplace = True)"
      ],
      "execution_count": 69,
      "outputs": []
    },
    {
      "cell_type": "markdown",
      "metadata": {
        "id": "XD1iqjl4JI5k"
      },
      "source": [
        "### Visualizing Incident Counts by Year (Bar Plot)"
      ]
    },
    {
      "cell_type": "code",
      "metadata": {
        "colab": {
          "base_uri": "https://localhost:8080/",
          "height": 503
        },
        "id": "-9ZQ2bi0AzpI",
        "outputId": "da76e093-96ed-4c0a-ae34-d3993c63877e"
      },
      "source": [
        "#collapse\n",
        "# Incident Counts by Year BarGraph\n",
        "\n",
        "#define figure size\n",
        "sns.set(rc = {\"figure.figsize\":(12,8)})\n",
        "\n",
        "#set background to white\n",
        "sns.set_style(\"white\")\n",
        "\n",
        "treamentDates = df_injury['Treatment_Date'].dt.year.value_counts().sort_index().reset_index()\n",
        "\n",
        "ax = sns.barplot(y=\"Treatment_Date\", \n",
        "                 x=\"index\", \n",
        "                 data=treamentDates, \n",
        "                 palette=\"Blues\")\n",
        "\n",
        "#set x,y labels\n",
        "ax.set(xlabel='',\n",
        "       ylabel='Incident Counts')\n",
        "\n",
        "#set titles\n",
        "ax.set_title('Firework Injury Counts by Year', \n",
        "             fontdict = {'fontsize': 15})\n",
        "\n",
        "#remove spiens\n",
        "sns.despine(left=True)\n",
        "\n",
        "#save to png\n",
        "ax.figure.savefig(\"Firework Injury Counts by Year.png\")\n",
        "\n",
        "plt.show()"
      ],
      "execution_count": 125,
      "outputs": [
        {
          "output_type": "display_data",
          "data": {
            "image/png": "[encoded data removed]",
            "text/plain": [
              "<Figure size 864x576 with 1 Axes>"
            ]
          },
          "metadata": {
            "tags": []
          }
        }
      ]
    },
    {
      "cell_type": "markdown",
      "metadata": {
        "id": "RnROK8w8n3EQ"
      },
      "source": [
        "### Visualizing Incident Counts by Gender (Bar Plot)"
      ]
    },
    {
      "cell_type": "code",
      "metadata": {
        "colab": {
          "base_uri": "https://localhost:8080/",
          "height": 503
        },
        "id": "Kw1XQgY4HjuQ",
        "outputId": "94278819-882a-4450-bd1d-62d0a242f997"
      },
      "source": [
        "#collapse\n",
        "# Incident Counts by Sex\n",
        "\n",
        "incidentSex = df_injury['Sex'].value_counts().reset_index(name='incidents')\n",
        "\n",
        "#define figure size\n",
        "sns.set(rc={\"figure.figsize\":(12, 8)})\n",
        "\n",
        "#set background to white\n",
        "sns.set_style(\"white\")\n",
        "\n",
        "ax = sns.barplot(x=\"incidents\", \n",
        "                 y=\"index\", \n",
        "                 data=incidentSex, \n",
        "                 palette=\"Blues_r\")\n",
        "\n",
        "#set x,y labels\n",
        "ax.set(xlabel='',\n",
        "       ylabel='Injury Counts')\n",
        "\n",
        "#set titles\n",
        "ax.set_title('Firework Injury Counts by Gender (2016-2020)', \n",
        "             fontdict = {'fontsize':15})\n",
        "\n",
        "#remove spines\n",
        "sns.despine(left=True)\n",
        "\n",
        "#save to png\n",
        "ax.figure.savefig(\"Firework Injury Counts by Gender.png\")\n",
        "\n",
        "plt.show()"
      ],
      "execution_count": 123,
      "outputs": [
        {
          "output_type": "display_data",
          "data": {
            "image/png": "[encoded data removed]",
            "text/plain": [
              "<Figure size 864x576 with 1 Axes>"
            ]
          },
          "metadata": {
            "tags": []
          }
        }
      ]
    },
    {
      "cell_type": "markdown",
      "metadata": {
        "id": "XvZE7TCynt9c"
      },
      "source": [
        "### Visualizing Incident Counts by Body Part (Bar Plot)"
      ]
    },
    {
      "cell_type": "code",
      "metadata": {
        "colab": {
          "base_uri": "https://localhost:8080/",
          "height": 503
        },
        "id": "HvJwlHJWItmY",
        "outputId": "9c12462b-139d-4cf3-d185-4fee56924e37"
      },
      "source": [
        "#collapse\n",
        "# Incident Counts by Body Part\n",
        "\n",
        "#define figure size\n",
        "sns.set(rc={\"figure.figsize\":(12,8)})\n",
        "\n",
        "#set background color\n",
        "sns.set_style(\"white\")\n",
        "\n",
        "incidentBp = df_injury['Body_Part'].value_counts().reset_index(name='incidents').head(23)\n",
        "\n",
        "ax = sns.barplot(x=\"incidents\", \n",
        "                 y=\"index\", \n",
        "                 data=incidentBp, \n",
        "                 palette=\"Blues_r\")\n",
        "\n",
        "#set x,y labels\n",
        "ax.set(xlabel='',\n",
        "       ylabel='')\n",
        "\n",
        "#set title\n",
        "ax.set_title('Firework Injury Counts by Body Part (2016-2020)', \n",
        "             fontdict = {'fontsize':15})\n",
        "\n",
        "#remove spines\n",
        "sns.despine(left=True)\n",
        "\n",
        "#save to png\n",
        "ax.figure.savefig(\"Incident Counts by Body Part.png\")\n",
        "\n",
        "plt.show()"
      ],
      "execution_count": 122,
      "outputs": [
        {
          "output_type": "display_data",
          "data": {
            "image/png": "[encoded data removed]",
            "text/plain": [
              "<Figure size 864x576 with 1 Axes>"
            ]
          },
          "metadata": {
            "tags": []
          }
        }
      ]
    },
    {
      "cell_type": "markdown",
      "metadata": {
        "id": "Jrp0Ht82TJi0"
      },
      "source": [
        "### Fixing Age Column\n",
        "\n",
        "|Age Code|Description             |\n",
        "|--------|------------------------|\n",
        "|0       |No Recorded Age         |\n",
        "|2       |2 Years Old             |\n",
        "|45      |45 Years Old            |\n",
        "|100     |100 Years Old           |\n",
        "|102     |102 Years Old           |\n",
        "|201     |Three Weeks Old         |\n",
        "|201     |Four Weeks Old          |\n",
        "|201     |Seven Weeks Old         |\n",
        "|202     |Ten Weeks Old           |\n",
        "|209     |Nine Months Old         |\n",
        "|212     |Twelve months (one year)|\n",
        "|218     |Eighteen months         |\n",
        "\n",
        "<details>\n",
        "\n",
        "<summary>Details</summary>\n",
        "\n",
        "The Age column list not only numeric ages but also includes category codes for individuals under the age of 2 year old.  Individuals that are under 2 years old are given a code starting with 200 combined with their age in months.  If the patient is older than 115 years old, code the age as 115 and indicate the actual age in the Comment. If the ED record indicates the patient was born on January 1, 1900, please verify the patient’s age with hospital staff – some hospitals use this date when the patient’s age is unknown.\n",
        "\n",
        "</details>\n",
        "\n",
        "<details>\n",
        "\n",
        "<summary>Note</summary>\n",
        "\n",
        "CPSC prefers that coders use the Date of Birth variable in lieu of the age variable. Mistakes in coded ages are common when patients have birthdays after the date of treatment and before the NEISS coder codes the case. Hospital medical record systems automatically update the age of the patient daily.\n",
        "\n",
        "</details>\n",
        " "
      ]
    },
    {
      "cell_type": "code",
      "metadata": {
        "id": "_bydZH4YVvm8"
      },
      "source": [
        "#hide\n",
        "def fix_age(age):\n",
        "  if 201 <= age <=209:\n",
        "    age = 0\n",
        "    return age\n",
        "  elif age >=201:\n",
        "    age = 1\n",
        "    return age\n",
        "  else:\n",
        "    return age\n",
        "\n",
        "df_injury['Age_Fix'] = df_injury['Age'].apply(fix_age)\n",
        "df_injury.query('Age>=200').head()\n",
        "\n",
        "df_injury.to_csv('df_injury_clean2.csv')"
      ],
      "execution_count": 73,
      "outputs": []
    },
    {
      "cell_type": "markdown",
      "metadata": {
        "id": "q38tlSWtmMTY"
      },
      "source": [
        "### Visualizing Age Groups (Histogram) \n",
        "\n",
        "<details>\n",
        "\n",
        "<summary>Details</summary>\n",
        "\n",
        "The histogram below shows that the majority of firework related injuries that were reported occured with indivuals under the age of 40.  The largest grouping belonged to individuals under the age of 20, which is also below the legal drinking age in the US.  \n",
        "\n",
        "</details>"
      ]
    },
    {
      "cell_type": "code",
      "metadata": {
        "colab": {
          "base_uri": "https://localhost:8080/",
          "height": 520
        },
        "id": "boqv-AjyaABU",
        "outputId": "13f68579-2be1-4294-9c31-9f1e84ae9ec8"
      },
      "source": [
        "#collapse\n",
        "# Histogram of Ages\n",
        "\n",
        "#set figsize\n",
        "sns.set(rc={\"figure.figsize\":(8, 8)})\n",
        "\n",
        "#set background color\n",
        "sns.set_style(\"white\")\n",
        "\n",
        "ax = sns.histplot(data=df_injury, \n",
        "                  x='Age_Fix', \n",
        "                  bins=5)\n",
        "\n",
        "#set x,y labels\n",
        "ax.set(xlabel='Age',\n",
        "       ylabel='Counts')\n",
        "\n",
        "#set title\n",
        "ax.set_title('Firework Injury Counts by Age (2016-2020)', \n",
        "             fontdict = {'fontsize':15})\n",
        "\n",
        "#remove spines\n",
        "sns.despine(left=True)\n",
        "\n",
        "#save to png\n",
        "ax.figure.savefig(\"Incident Counts by Age_Hist.png\")\n",
        "\n",
        "plt.show()"
      ],
      "execution_count": 121,
      "outputs": [
        {
          "output_type": "display_data",
          "data": {
            "image/png": "[encoded data removed]",
            "text/plain": [
              "<Figure size 576x576 with 1 Axes>"
            ]
          },
          "metadata": {
            "tags": []
          }
        }
      ]
    },
    {
      "cell_type": "markdown",
      "metadata": {
        "id": "XL1EmHZynAR8"
      },
      "source": [
        "### Visualizing Incident Counts by Age (Bar Plot)"
      ]
    },
    {
      "cell_type": "code",
      "metadata": {
        "colab": {
          "base_uri": "https://localhost:8080/",
          "height": 580
        },
        "id": "zF_MJwZagfpU",
        "outputId": "02e1fb54-94ac-4e63-92f5-783e38404c77"
      },
      "source": [
        "#collapse\n",
        "# Incident Counts by Age (Age_Fix)\n",
        "\n",
        "#define figure size\n",
        "sns.set(rc={\"figure.figsize\":(30, 12)})\n",
        "\n",
        "#set background color\n",
        "sns.set_style(\"white\")\n",
        "\n",
        "incidentAge = df_injury['Age_Fix'].value_counts().reset_index(name='incidents')\n",
        "\n",
        "ax = sns.barplot(y=\"incidents\", \n",
        "                 x=\"index\", \n",
        "                 data=incidentAge, \n",
        "                 palette=\"Blues_r\")\n",
        "\n",
        "#set x,y labels\n",
        "ax.set(xlabel='Age',\n",
        "       ylabel='Count')\n",
        "\n",
        "#set title\n",
        "ax.set_title('Firework Injury Counts by Age (2016-2020)', \n",
        "             fontdict = {'fontsize':30})\n",
        "\n",
        "#remove spines\n",
        "sns.despine(left=True)\n",
        "\n",
        "#save to png\n",
        "ax.figure.savefig(\"Incident Counts by Age_Bar.png\")\n",
        "\n",
        "plt.show()"
      ],
      "execution_count": 117,
      "outputs": [
        {
          "output_type": "display_data",
          "data": {
            "image/png": "[encoded data removed]",
            "text/plain": [
              "<Figure size 2160x864 with 1 Axes>"
            ]
          },
          "metadata": {
            "tags": []
          }
        }
      ]
    },
    {
      "cell_type": "markdown",
      "metadata": {
        "id": "ujpvM-vjnQMs"
      },
      "source": [
        "### Visualizing Age, Year, Gender (Swarm Plot)"
      ]
    },
    {
      "cell_type": "code",
      "metadata": {
        "colab": {
          "base_uri": "https://localhost:8080/",
          "height": 631
        },
        "id": "HYCTKiogc2hA",
        "outputId": "86ef972f-8c89-4115-fcb6-3cf059047ed3"
      },
      "source": [
        "#collapse\n",
        "# Swarm graph by age, year, and gender\n",
        "\n",
        "#define figure size\n",
        "sns.set(rc={\"figure.figsize\":(14,10)})\n",
        "\n",
        "#set background color\n",
        "sns.set_style(\"white\")\n",
        "\n",
        "ax = sns.swarmplot(data = df_injury, \n",
        "                   x = df_injury['Treatment_Date'].dt.year, \n",
        "                   y = \"Age_Fix\",\n",
        "                   hue = \"Sex\",\n",
        "                   palette = \"Blues_r\")\n",
        "\n",
        "#set x,y labels\n",
        "ax.set(xlabel = 'Year',\n",
        "       ylabel = 'Age')\n",
        "\n",
        "#set title\n",
        "ax.set_title('Firework Injury Counts by Age', \n",
        "             fontdict = {'fontsize':18})\n",
        "\n",
        "#remove spines\n",
        "sns.despine(left=True)\n",
        "\n",
        "#save to png\n",
        "ax.figure.savefig(\"Incident Counts by Age_Swarm.png\")\n",
        "\n",
        "plt.show()"
      ],
      "execution_count": 110,
      "outputs": [
        {
          "output_type": "display_data",
          "data": {
            "image/png": "[encoded data removed]",
            "text/plain": [
              "<Figure size 1008x720 with 1 Axes>"
            ]
          },
          "metadata": {
            "tags": []
          }
        }
      ]
    },
    {
      "cell_type": "markdown",
      "metadata": {
        "id": "f_8KkMOQnaxQ"
      },
      "source": [
        "### Visualizing Incident Counts by Disposition (Bar Plot)"
      ]
    },
    {
      "cell_type": "code",
      "metadata": {
        "colab": {
          "base_uri": "https://localhost:8080/",
          "height": 614
        },
        "id": "jlFaP2G7KUuY",
        "outputId": "a3bdcd6b-44d6-487a-c9bf-c460e95515b5"
      },
      "source": [
        "#collapse\n",
        "# Incident Counts by Disposition\n",
        "\n",
        "incidentDis = df_injury['Disposition'].value_counts().reset_index(name='incidents').head()\n",
        "\n",
        "#define figure size\n",
        "sns.set(rc={\"figure.figsize\":(10,10)})\n",
        "\n",
        "#set background color\n",
        "sns.set_style(\"white\")\n",
        "\n",
        "ax = sns.barplot(x = \"incidents\", \n",
        "                 y = \"index\", \n",
        "                 data = incidentDis, \n",
        "                 palette = \"Blues_r\")\n",
        "\n",
        "#set x,y labels\n",
        "ax.set(xlabel = '',\n",
        "       ylabel = '')\n",
        "\n",
        "ax.set_title('Firework Injury Counts by Disposition (2016-2020)', \n",
        "             fontdict = {'fontsize':18})\n",
        "\n",
        "#set title\n",
        "# ax.set_ylabel('', fontdict= {'fontsize':25})\n",
        "\n",
        "#remove spine\n",
        "sns.despine(left=True)\n",
        "\n",
        "#save to png\n",
        "# ax.figure.savefig(\"Incident Counts by Disposition.png\")\n",
        "\n",
        "plt.show()"
      ],
      "execution_count": 116,
      "outputs": [
        {
          "output_type": "display_data",
          "data": {
            "image/png": "[encoded data removed]",
            "text/plain": [
              "<Figure size 720x720 with 1 Axes>"
            ]
          },
          "metadata": {
            "tags": []
          }
        }
      ]
    },
    {
      "cell_type": "markdown",
      "metadata": {
        "id": "loMla9MOnigk"
      },
      "source": [
        "### Visualizing Incident Counts by Diagnosis (Bar Plot)"
      ]
    },
    {
      "cell_type": "code",
      "metadata": {
        "colab": {
          "base_uri": "https://localhost:8080/",
          "height": 614
        },
        "id": "ONi1wMCXJNBU",
        "outputId": "3efab12f-222c-431c-f469-352e1c663570"
      },
      "source": [
        "#collapse\n",
        "# Incident Counts by Diagnosis\n",
        "\n",
        "incidentDia = df_injury['Diagnosis'].value_counts().reset_index(name='incidents').head(10)\n",
        "\n",
        "#define figure size\n",
        "sns.set(rc={\"figure.figsize\":(14,10)})\n",
        "\n",
        "#set background color\n",
        "sns.set_style(\"white\")\n",
        "\n",
        "ax = sns.barplot(x = \"incidents\", \n",
        "                 y = \"index\", \n",
        "                 data = incidentDia, \n",
        "                 palette = \"Blues_r\")\n",
        "\n",
        "#set x,y labels\n",
        "ax.set(xlabel = '',\n",
        "       ylabel = '')\n",
        "\n",
        "#set title\n",
        "ax.set_title('Firework Injury Counts by Diagnosis (2016-2020)', \n",
        "             fontdict = {'fontsize':18})\n",
        "\n",
        "#remove spine\n",
        "sns.despine(left=True)\n",
        "\n",
        "# #set y axis labels (shortened longer labels to fit for print out)\n",
        "# ax.set_yticklabels(['Burns', 'Contusions', 'Abrasions','Other/Not Stated',\n",
        "#                     'Laceration','Fracture','Amputation','Foreign body',\n",
        "#                     'Internal organ','Strain or Sprain','Avulsion',\n",
        "#                     'Anoxia','Puncture','Poisoning','Dermatitis', 'Conjunctivitis',\n",
        "#                     'Concussions','Hematoma'])\n",
        "\n",
        "#save to png\n",
        "ax.figure.savefig(\"Incident Counts by Diagnosis.png\")\n",
        "\n",
        "plt.show()"
      ],
      "execution_count": 115,
      "outputs": [
        {
          "output_type": "display_data",
          "data": {
            "image/png": "[encoded data removed]",
            "text/plain": [
              "<Figure size 1008x720 with 1 Axes>"
            ]
          },
          "metadata": {
            "tags": []
          }
        }
      ]
    },
    {
      "cell_type": "markdown",
      "metadata": {
        "id": "t7fgmMAusbMg"
      },
      "source": [
        "## __Import Firework Sales Data (State)__\n",
        "---"
      ]
    },
    {
      "cell_type": "code",
      "metadata": {
        "colab": {
          "base_uri": "https://localhost:8080/",
          "height": 206
        },
        "id": "1ljkZxjsjQs0",
        "outputId": "d65ed7f3-a777-45f7-ab58-30ee0ed8daa4"
      },
      "source": [
        "#collapse\n",
        "sales_state = 'https://github.com/drusho/fireworks_data_exploration/raw/main/data/data_raw/State%20Imports%20by%20HS%20Commodities.csv'\n",
        "df_sales_st = pd.read_csv(sales_state,skiprows=4,usecols=[0,1,2,3])\n",
        "df_sales_st.head()"
      ],
      "execution_count": 79,
      "outputs": [
        {
          "output_type": "execute_result",
          "data": {
            "text/html": [
              "<div>\n",
              "<style scoped>\n",
              "    .dataframe tbody tr th:only-of-type {\n",
              "        vertical-align: middle;\n",
              "    }\n",
              "\n",
              "    .dataframe tbody tr th {\n",
              "        vertical-align: top;\n",
              "    }\n",
              "\n",
              "    .dataframe thead th {\n",
              "        text-align: right;\n",
              "    }\n",
              "</style>\n",
              "<table border=\"1\" class=\"dataframe\">\n",
              "  <thead>\n",
              "    <tr style=\"text-align: right;\">\n",
              "      <th></th>\n",
              "      <th>State</th>\n",
              "      <th>Commodity</th>\n",
              "      <th>Time</th>\n",
              "      <th>Total Value ($US)</th>\n",
              "    </tr>\n",
              "  </thead>\n",
              "  <tbody>\n",
              "    <tr>\n",
              "      <th>0</th>\n",
              "      <td>Alabama</td>\n",
              "      <td>360410 Fireworks</td>\n",
              "      <td>2016</td>\n",
              "      <td>29,602,090</td>\n",
              "    </tr>\n",
              "    <tr>\n",
              "      <th>1</th>\n",
              "      <td>Alabama</td>\n",
              "      <td>360410 Fireworks</td>\n",
              "      <td>2017</td>\n",
              "      <td>19,396,430</td>\n",
              "    </tr>\n",
              "    <tr>\n",
              "      <th>2</th>\n",
              "      <td>Alabama</td>\n",
              "      <td>360410 Fireworks</td>\n",
              "      <td>2018</td>\n",
              "      <td>26,399,895</td>\n",
              "    </tr>\n",
              "    <tr>\n",
              "      <th>3</th>\n",
              "      <td>Alabama</td>\n",
              "      <td>360410 Fireworks</td>\n",
              "      <td>2019</td>\n",
              "      <td>28,353,392</td>\n",
              "    </tr>\n",
              "    <tr>\n",
              "      <th>4</th>\n",
              "      <td>Alabama</td>\n",
              "      <td>360410 Fireworks</td>\n",
              "      <td>2020</td>\n",
              "      <td>23,141,950</td>\n",
              "    </tr>\n",
              "  </tbody>\n",
              "</table>\n",
              "</div>"
            ],
            "text/plain": [
              "     State         Commodity  Time Total Value ($US)\n",
              "0  Alabama  360410 Fireworks  2016        29,602,090\n",
              "1  Alabama  360410 Fireworks  2017        19,396,430\n",
              "2  Alabama  360410 Fireworks  2018        26,399,895\n",
              "3  Alabama  360410 Fireworks  2019        28,353,392\n",
              "4  Alabama  360410 Fireworks  2020        23,141,950"
            ]
          },
          "metadata": {
            "tags": []
          },
          "execution_count": 79
        }
      ]
    },
    {
      "cell_type": "markdown",
      "metadata": {
        "id": "6xAX68V-n2Fs"
      },
      "source": [
        "### Web Scraping for State Abbreviations\n",
        "\n",
        "<details>\n",
        "\n",
        "<summary>Details</summary>\n",
        "\n",
        "The dataframe was missing state abbreviations that are needed to plot data onto a map using Plotly.  Used pandas function 'read_hml' to read tables from a website that contact state and state abbreviation data.\n",
        "\n",
        "</details>"
      ]
    },
    {
      "cell_type": "code",
      "metadata": {
        "colab": {
          "base_uri": "https://localhost:8080/",
          "height": 206
        },
        "id": "3NmQFPE9309w",
        "outputId": "82cc6df0-05b5-4ac3-b580-6c3663da704f"
      },
      "source": [
        "#collapse\n",
        "#WebScrap State Abbreviations\n",
        "\n",
        "#scrap state names and abbrev\n",
        "states_abrev = pd.read_html('https://abbreviations.yourdictionary.com/articles/state-abbrev.html')[0].iloc[1:,:2]\n",
        "\n",
        "#scrap US territory names and abbrev\n",
        "territories = pd.read_html('https://abbreviations.yourdictionary.com/articles/state-abbrev.html')[1].iloc[[2,5],:2]\n",
        "\n",
        "#merge dfs\n",
        "st_at = states_abrev.merge(territories,how='outer').sort_values(by=0).reset_index(drop=True)\n",
        "\n",
        "#rename cols\n",
        "st_at.rename(columns={0:'State',1:'Abbrevation'},inplace=True)\n",
        "\n",
        "st_at.head()"
      ],
      "execution_count": 80,
      "outputs": [
        {
          "output_type": "execute_result",
          "data": {
            "text/html": [
              "<div>\n",
              "<style scoped>\n",
              "    .dataframe tbody tr th:only-of-type {\n",
              "        vertical-align: middle;\n",
              "    }\n",
              "\n",
              "    .dataframe tbody tr th {\n",
              "        vertical-align: top;\n",
              "    }\n",
              "\n",
              "    .dataframe thead th {\n",
              "        text-align: right;\n",
              "    }\n",
              "</style>\n",
              "<table border=\"1\" class=\"dataframe\">\n",
              "  <thead>\n",
              "    <tr style=\"text-align: right;\">\n",
              "      <th></th>\n",
              "      <th>State</th>\n",
              "      <th>Abbrevation</th>\n",
              "    </tr>\n",
              "  </thead>\n",
              "  <tbody>\n",
              "    <tr>\n",
              "      <th>0</th>\n",
              "      <td>Alabama</td>\n",
              "      <td>AL</td>\n",
              "    </tr>\n",
              "    <tr>\n",
              "      <th>1</th>\n",
              "      <td>Alaska</td>\n",
              "      <td>AK</td>\n",
              "    </tr>\n",
              "    <tr>\n",
              "      <th>2</th>\n",
              "      <td>Arizona</td>\n",
              "      <td>AZ</td>\n",
              "    </tr>\n",
              "    <tr>\n",
              "      <th>3</th>\n",
              "      <td>Arkansas</td>\n",
              "      <td>AR</td>\n",
              "    </tr>\n",
              "    <tr>\n",
              "      <th>4</th>\n",
              "      <td>California</td>\n",
              "      <td>CA</td>\n",
              "    </tr>\n",
              "  </tbody>\n",
              "</table>\n",
              "</div>"
            ],
            "text/plain": [
              "        State Abbrevation\n",
              "0     Alabama          AL\n",
              "1      Alaska          AK\n",
              "2     Arizona          AZ\n",
              "3    Arkansas          AR\n",
              "4  California          CA"
            ]
          },
          "metadata": {
            "tags": []
          },
          "execution_count": 80
        }
      ]
    },
    {
      "cell_type": "markdown",
      "metadata": {
        "id": "yBa9-xjIE5ic"
      },
      "source": [
        "### Merging State Abbreviations with Master Dataframe"
      ]
    },
    {
      "cell_type": "code",
      "metadata": {
        "colab": {
          "base_uri": "https://localhost:8080/",
          "height": 206
        },
        "id": "-WoPbmNb_UNo",
        "outputId": "fe967501-6306-400e-9336-e0a2edf1f303"
      },
      "source": [
        "#collapse\n",
        "#merge abbrevation with state sales data\n",
        "df_sales_st2 = df_sales_st.merge(st_at,how='inner')\n",
        "\n",
        "df_sales_st2.head()"
      ],
      "execution_count": 81,
      "outputs": [
        {
          "output_type": "execute_result",
          "data": {
            "text/html": [
              "<div>\n",
              "<style scoped>\n",
              "    .dataframe tbody tr th:only-of-type {\n",
              "        vertical-align: middle;\n",
              "    }\n",
              "\n",
              "    .dataframe tbody tr th {\n",
              "        vertical-align: top;\n",
              "    }\n",
              "\n",
              "    .dataframe thead th {\n",
              "        text-align: right;\n",
              "    }\n",
              "</style>\n",
              "<table border=\"1\" class=\"dataframe\">\n",
              "  <thead>\n",
              "    <tr style=\"text-align: right;\">\n",
              "      <th></th>\n",
              "      <th>State</th>\n",
              "      <th>Commodity</th>\n",
              "      <th>Time</th>\n",
              "      <th>Total Value ($US)</th>\n",
              "      <th>Abbrevation</th>\n",
              "    </tr>\n",
              "  </thead>\n",
              "  <tbody>\n",
              "    <tr>\n",
              "      <th>0</th>\n",
              "      <td>Alabama</td>\n",
              "      <td>360410 Fireworks</td>\n",
              "      <td>2016</td>\n",
              "      <td>29,602,090</td>\n",
              "      <td>AL</td>\n",
              "    </tr>\n",
              "    <tr>\n",
              "      <th>1</th>\n",
              "      <td>Alabama</td>\n",
              "      <td>360410 Fireworks</td>\n",
              "      <td>2017</td>\n",
              "      <td>19,396,430</td>\n",
              "      <td>AL</td>\n",
              "    </tr>\n",
              "    <tr>\n",
              "      <th>2</th>\n",
              "      <td>Alabama</td>\n",
              "      <td>360410 Fireworks</td>\n",
              "      <td>2018</td>\n",
              "      <td>26,399,895</td>\n",
              "      <td>AL</td>\n",
              "    </tr>\n",
              "    <tr>\n",
              "      <th>3</th>\n",
              "      <td>Alabama</td>\n",
              "      <td>360410 Fireworks</td>\n",
              "      <td>2019</td>\n",
              "      <td>28,353,392</td>\n",
              "      <td>AL</td>\n",
              "    </tr>\n",
              "    <tr>\n",
              "      <th>4</th>\n",
              "      <td>Alabama</td>\n",
              "      <td>360410 Fireworks</td>\n",
              "      <td>2020</td>\n",
              "      <td>23,141,950</td>\n",
              "      <td>AL</td>\n",
              "    </tr>\n",
              "  </tbody>\n",
              "</table>\n",
              "</div>"
            ],
            "text/plain": [
              "     State         Commodity  Time Total Value ($US) Abbrevation\n",
              "0  Alabama  360410 Fireworks  2016        29,602,090          AL\n",
              "1  Alabama  360410 Fireworks  2017        19,396,430          AL\n",
              "2  Alabama  360410 Fireworks  2018        26,399,895          AL\n",
              "3  Alabama  360410 Fireworks  2019        28,353,392          AL\n",
              "4  Alabama  360410 Fireworks  2020        23,141,950          AL"
            ]
          },
          "metadata": {
            "tags": []
          },
          "execution_count": 81
        }
      ]
    },
    {
      "cell_type": "markdown",
      "metadata": {
        "id": "fJ4BnP51KQMI"
      },
      "source": [
        "### Changing Data Types for Time and Sales"
      ]
    },
    {
      "cell_type": "code",
      "metadata": {
        "id": "_j1rngv80cqw"
      },
      "source": [
        "#collapse\n",
        "#Convert Sales to int dtype\n",
        "df_sales_st2['Total Value ($US)'] = df_sales_st2['Total Value ($US)'].str.replace(',','').astype('int')\n",
        "df_sales_st2.head(2)\n",
        "\n",
        "#Convert Time to datetime dtype\n",
        "df_sales_st2['Time'] = df_sales_st2['Time'].str.replace('2021 through April','2021')\n",
        "df_sales_st2['Time'] = pd.to_datetime(df_sales_st2['Time'])\n",
        "\n",
        "#export csv of clean data\n",
        "df_sales_st2.to_csv('df_state_sales_clean.csv')"
      ],
      "execution_count": 82,
      "outputs": []
    },
    {
      "cell_type": "code",
      "metadata": {
        "colab": {
          "base_uri": "https://localhost:8080/"
        },
        "id": "Un_chKKNKWzk",
        "outputId": "594696ef-bc6a-4107-b02c-18dd03443225"
      },
      "source": [
        "#collapse-output\n",
        "df_sales_st2.info()"
      ],
      "execution_count": 83,
      "outputs": [
        {
          "output_type": "stream",
          "text": [
            "<class 'pandas.core.frame.DataFrame'>\n",
            "Int64Index: 285 entries, 0 to 284\n",
            "Data columns (total 5 columns):\n",
            " #   Column             Non-Null Count  Dtype         \n",
            "---  ------             --------------  -----         \n",
            " 0   State              285 non-null    object        \n",
            " 1   Commodity          285 non-null    object        \n",
            " 2   Time               285 non-null    datetime64[ns]\n",
            " 3   Total Value ($US)  285 non-null    int64         \n",
            " 4   Abbrevation        285 non-null    object        \n",
            "dtypes: datetime64[ns](1), int64(1), object(3)\n",
            "memory usage: 13.4+ KB\n"
          ],
          "name": "stdout"
        }
      ]
    },
    {
      "cell_type": "markdown",
      "metadata": {
        "id": "PdZNObzAoCzw"
      },
      "source": [
        "### Visualizating States with Top 20 Sales (Bar Plot)"
      ]
    },
    {
      "cell_type": "code",
      "metadata": {
        "colab": {
          "base_uri": "https://localhost:8080/",
          "height": 542
        },
        "id": "FFzNVC860H_U",
        "outputId": "5670a8e7-1090-4dae-ea4f-1ebb81cd73f1"
      },
      "source": [
        "#collapse\n",
        "# Visualization State Sales (Bar Plot)\n",
        "st_sales = df_sales_st2.copy()\n",
        "\n",
        "st_sales = st_sales.groupby('State')['Total Value ($US)'].sum().reset_index(name='Sales').sort_values(by='Sales',ascending=False).reset_index(drop=True).head(20)\n",
        "\n",
        "st_sales.sort_values(by='Sales',ascending=True,inplace=True)\n",
        "\n",
        "fig = px.bar(st_sales, \n",
        "             y='State', \n",
        "             x='Sales',\n",
        "             orientation='h',\n",
        "             color_continuous_scale='Blues',\n",
        "             color=\"Sales\")\n",
        "\n",
        "fig.update_layout({\"plot_bgcolor\":\"rgba(255,255,255, 0.9)\"},\n",
        "                  title={'text': \"Firework Total Sales ($USD) 2016-2020\",\n",
        "                  'y':.98,\n",
        "                  'x':.5,\n",
        "                  'xanchor': 'center',\n",
        "                  'yanchor': 'top'})\n",
        "\n",
        "fig.show()\n",
        "\n",
        "# # save fig to image\n",
        "# fig.write_image(\"Total Firework Sales ($USD) 2016-2020.png\", width=1980, height=1080)\n",
        "\n",
        "# fig.write_html(\"Total Firework Sales ($USD) 2016-2020.html\") "
      ],
      "execution_count": 106,
      "outputs": [
        {
          "output_type": "display_data",
          "data": {
            "text/html": [
              "<html>\n",
              "<head><meta charset=\"utf-8\" /></head>\n",
              "<body>\n",
              "    <div>\n",
              "            <script src=\"https://cdnjs.cloudflare.com/ajax/libs/mathjax/2.7.5/MathJax.js?config=TeX-AMS-MML_SVG\"></script><script type=\"text/javascript\">if (window.MathJax) {MathJax.Hub.Config({SVG: {font: \"STIX-Web\"}});}</script>\n",
              "                <script type=\"text/javascript\">window.PlotlyConfig = {MathJaxConfig: 'local'};</script>\n",
              "        <script src=\"https://cdn.plot.ly/plotly-latest.min.js\"></script>    \n",
              "            <div id=\"d6f8c3f7-6484-46d5-9fff-b14b7bbbe539\" class=\"plotly-graph-div\" style=\"height:525px; width:100%;\"></div>\n",
              "            <script type=\"text/javascript\">\n",
              "                \n",
              "                    window.PLOTLYENV=window.PLOTLYENV || {};\n",
              "                    \n",
              "                if (document.getElementById(\"d6f8c3f7-6484-46d5-9fff-b14b7bbbe539\")) {\n",
              "                    Plotly.newPlot(\n",
              "                        'd6f8c3f7-6484-46d5-9fff-b14b7bbbe539',\n",
              "                        [{\"alignmentgroup\": \"True\", \"hoverlabel\": {\"namelength\": 0}, \"hovertemplate\": \"Sales=%{marker.color}<br>State=%{y}\", \"legendgroup\": \"\", \"marker\": {\"color\": [13056461, 16249849, 18643948, 21301551, 40060057, 41428836, 42277078, 45648311, 54666758, 54736253, 65933257, 82967512, 83857950, 84066237, 86391433, 95575210, 116525257, 139075835, 155591837, 268527077], \"coloraxis\": \"coloraxis\"}, \"name\": \"\", \"offsetgroup\": \"\", \"orientation\": \"h\", \"showlegend\": false, \"textposition\": \"auto\", \"type\": \"bar\", \"x\": [13056461, 16249849, 18643948, 21301551, 40060057, 41428836, 42277078, 45648311, 54666758, 54736253, 65933257, 82967512, 83857950, 84066237, 86391433, 95575210, 116525257, 139075835, 155591837, 268527077], \"xaxis\": \"x\", \"y\": [\"Illinois\", \"New York\", \"Utah\", \"Arkansas\", \"Tennessee\", \"Nevada\", \"Michigan\", \"Wisconsin\", \"Washington\", \"Nebraska\", \"Pennsylvania\", \"Kansas\", \"Florida\", \"California\", \"Indiana\", \"Texas\", \"South Carolina\", \"Alabama\", \"Ohio\", \"Missouri\"], \"yaxis\": \"y\"}],\n",
              "                        {\"barmode\": \"relative\", \"coloraxis\": {\"colorbar\": {\"title\": {\"text\": \"Sales\"}}, \"colorscale\": [[0.0, \"rgb(247,251,255)\"], [0.125, \"rgb(222,235,247)\"], [0.25, \"rgb(198,219,239)\"], [0.375, \"rgb(158,202,225)\"], [0.5, \"rgb(107,174,214)\"], [0.625, \"rgb(66,146,198)\"], [0.75, \"rgb(33,113,181)\"], [0.875, \"rgb(8,81,156)\"], [1.0, \"rgb(8,48,107)\"]]}, \"legend\": {\"tracegroupgap\": 0}, \"margin\": {\"t\": 60}, \"plot_bgcolor\": \"rgba(255,255,255, 0.9)\", \"template\": {\"data\": {\"bar\": [{\"error_x\": {\"color\": \"#2a3f5f\"}, \"error_y\": {\"color\": \"#2a3f5f\"}, \"marker\": {\"line\": {\"color\": \"#E5ECF6\", \"width\": 0.5}}, \"type\": \"bar\"}], \"barpolar\": [{\"marker\": {\"line\": {\"color\": \"#E5ECF6\", \"width\": 0.5}}, \"type\": \"barpolar\"}], \"carpet\": [{\"aaxis\": {\"endlinecolor\": \"#2a3f5f\", \"gridcolor\": \"white\", \"linecolor\": \"white\", \"minorgridcolor\": \"white\", \"startlinecolor\": \"#2a3f5f\"}, \"baxis\": {\"endlinecolor\": \"#2a3f5f\", \"gridcolor\": \"white\", \"linecolor\": \"white\", \"minorgridcolor\": \"white\", \"startlinecolor\": \"#2a3f5f\"}, \"type\": \"carpet\"}], \"choropleth\": [{\"colorbar\": {\"outlinewidth\": 0, \"ticks\": \"\"}, \"type\": \"choropleth\"}], \"contour\": [{\"colorbar\": {\"outlinewidth\": 0, \"ticks\": \"\"}, \"colorscale\": [[0.0, \"#0d0887\"], [0.1111111111111111, \"#46039f\"], [0.2222222222222222, \"#7201a8\"], [0.3333333333333333, \"#9c179e\"], [0.4444444444444444, \"#bd3786\"], [0.5555555555555556, \"#d8576b\"], [0.6666666666666666, \"#ed7953\"], [0.7777777777777778, \"#fb9f3a\"], [0.8888888888888888, \"#fdca26\"], [1.0, \"#f0f921\"]], \"type\": \"contour\"}], \"contourcarpet\": [{\"colorbar\": {\"outlinewidth\": 0, \"ticks\": \"\"}, \"type\": \"contourcarpet\"}], \"heatmap\": [{\"colorbar\": {\"outlinewidth\": 0, \"ticks\": \"\"}, \"colorscale\": [[0.0, \"#0d0887\"], [0.1111111111111111, \"#46039f\"], [0.2222222222222222, \"#7201a8\"], [0.3333333333333333, \"#9c179e\"], [0.4444444444444444, \"#bd3786\"], [0.5555555555555556, \"#d8576b\"], [0.6666666666666666, \"#ed7953\"], [0.7777777777777778, \"#fb9f3a\"], [0.8888888888888888, \"#fdca26\"], [1.0, \"#f0f921\"]], \"type\": \"heatmap\"}], \"heatmapgl\": [{\"colorbar\": {\"outlinewidth\": 0, \"ticks\": \"\"}, \"colorscale\": [[0.0, \"#0d0887\"], [0.1111111111111111, \"#46039f\"], [0.2222222222222222, \"#7201a8\"], [0.3333333333333333, \"#9c179e\"], [0.4444444444444444, \"#bd3786\"], [0.5555555555555556, \"#d8576b\"], [0.6666666666666666, \"#ed7953\"], [0.7777777777777778, \"#fb9f3a\"], [0.8888888888888888, \"#fdca26\"], [1.0, \"#f0f921\"]], \"type\": \"heatmapgl\"}], \"histogram\": [{\"marker\": {\"colorbar\": {\"outlinewidth\": 0, \"ticks\": \"\"}}, \"type\": \"histogram\"}], \"histogram2d\": [{\"colorbar\": {\"outlinewidth\": 0, \"ticks\": \"\"}, \"colorscale\": [[0.0, \"#0d0887\"], [0.1111111111111111, \"#46039f\"], [0.2222222222222222, \"#7201a8\"], [0.3333333333333333, \"#9c179e\"], [0.4444444444444444, \"#bd3786\"], [0.5555555555555556, \"#d8576b\"], [0.6666666666666666, \"#ed7953\"], [0.7777777777777778, \"#fb9f3a\"], [0.8888888888888888, \"#fdca26\"], [1.0, \"#f0f921\"]], \"type\": \"histogram2d\"}], \"histogram2dcontour\": [{\"colorbar\": {\"outlinewidth\": 0, \"ticks\": \"\"}, \"colorscale\": [[0.0, \"#0d0887\"], [0.1111111111111111, \"#46039f\"], [0.2222222222222222, \"#7201a8\"], [0.3333333333333333, \"#9c179e\"], [0.4444444444444444, \"#bd3786\"], [0.5555555555555556, \"#d8576b\"], [0.6666666666666666, \"#ed7953\"], [0.7777777777777778, \"#fb9f3a\"], [0.8888888888888888, \"#fdca26\"], [1.0, \"#f0f921\"]], \"type\": \"histogram2dcontour\"}], \"mesh3d\": [{\"colorbar\": {\"outlinewidth\": 0, \"ticks\": \"\"}, \"type\": \"mesh3d\"}], \"parcoords\": [{\"line\": {\"colorbar\": {\"outlinewidth\": 0, \"ticks\": \"\"}}, \"type\": \"parcoords\"}], \"pie\": [{\"automargin\": true, \"type\": \"pie\"}], \"scatter\": [{\"marker\": {\"colorbar\": {\"outlinewidth\": 0, \"ticks\": \"\"}}, \"type\": \"scatter\"}], \"scatter3d\": [{\"line\": {\"colorbar\": {\"outlinewidth\": 0, \"ticks\": \"\"}}, \"marker\": {\"colorbar\": {\"outlinewidth\": 0, \"ticks\": \"\"}}, \"type\": \"scatter3d\"}], \"scattercarpet\": [{\"marker\": {\"colorbar\": {\"outlinewidth\": 0, \"ticks\": \"\"}}, \"type\": \"scattercarpet\"}], \"scattergeo\": [{\"marker\": {\"colorbar\": {\"outlinewidth\": 0, \"ticks\": \"\"}}, \"type\": \"scattergeo\"}], \"scattergl\": [{\"marker\": {\"colorbar\": {\"outlinewidth\": 0, \"ticks\": \"\"}}, \"type\": \"scattergl\"}], \"scattermapbox\": [{\"marker\": {\"colorbar\": {\"outlinewidth\": 0, \"ticks\": \"\"}}, \"type\": \"scattermapbox\"}], \"scatterpolar\": [{\"marker\": {\"colorbar\": {\"outlinewidth\": 0, \"ticks\": \"\"}}, \"type\": \"scatterpolar\"}], \"scatterpolargl\": [{\"marker\": {\"colorbar\": {\"outlinewidth\": 0, \"ticks\": \"\"}}, \"type\": \"scatterpolargl\"}], \"scatterternary\": [{\"marker\": {\"colorbar\": {\"outlinewidth\": 0, \"ticks\": \"\"}}, \"type\": \"scatterternary\"}], \"surface\": [{\"colorbar\": {\"outlinewidth\": 0, \"ticks\": \"\"}, \"colorscale\": [[0.0, \"#0d0887\"], [0.1111111111111111, \"#46039f\"], [0.2222222222222222, \"#7201a8\"], [0.3333333333333333, \"#9c179e\"], [0.4444444444444444, \"#bd3786\"], [0.5555555555555556, \"#d8576b\"], [0.6666666666666666, \"#ed7953\"], [0.7777777777777778, \"#fb9f3a\"], [0.8888888888888888, \"#fdca26\"], [1.0, \"#f0f921\"]], \"type\": \"surface\"}], \"table\": [{\"cells\": {\"fill\": {\"color\": \"#EBF0F8\"}, \"line\": {\"color\": \"white\"}}, \"header\": {\"fill\": {\"color\": \"#C8D4E3\"}, \"line\": {\"color\": \"white\"}}, \"type\": \"table\"}]}, \"layout\": {\"annotationdefaults\": {\"arrowcolor\": \"#2a3f5f\", \"arrowhead\": 0, \"arrowwidth\": 1}, \"coloraxis\": {\"colorbar\": {\"outlinewidth\": 0, \"ticks\": \"\"}}, \"colorscale\": {\"diverging\": [[0, \"#8e0152\"], [0.1, \"#c51b7d\"], [0.2, \"#de77ae\"], [0.3, \"#f1b6da\"], [0.4, \"#fde0ef\"], [0.5, \"#f7f7f7\"], [0.6, \"#e6f5d0\"], [0.7, \"#b8e186\"], [0.8, \"#7fbc41\"], [0.9, \"#4d9221\"], [1, \"#276419\"]], \"sequential\": [[0.0, \"#0d0887\"], [0.1111111111111111, \"#46039f\"], [0.2222222222222222, \"#7201a8\"], [0.3333333333333333, \"#9c179e\"], [0.4444444444444444, \"#bd3786\"], [0.5555555555555556, \"#d8576b\"], [0.6666666666666666, \"#ed7953\"], [0.7777777777777778, \"#fb9f3a\"], [0.8888888888888888, \"#fdca26\"], [1.0, \"#f0f921\"]], \"sequentialminus\": [[0.0, \"#0d0887\"], [0.1111111111111111, \"#46039f\"], [0.2222222222222222, \"#7201a8\"], [0.3333333333333333, \"#9c179e\"], [0.4444444444444444, \"#bd3786\"], [0.5555555555555556, \"#d8576b\"], [0.6666666666666666, \"#ed7953\"], [0.7777777777777778, \"#fb9f3a\"], [0.8888888888888888, \"#fdca26\"], [1.0, \"#f0f921\"]]}, \"colorway\": [\"#636efa\", \"#EF553B\", \"#00cc96\", \"#ab63fa\", \"#FFA15A\", \"#19d3f3\", \"#FF6692\", \"#B6E880\", \"#FF97FF\", \"#FECB52\"], \"font\": {\"color\": \"#2a3f5f\"}, \"geo\": {\"bgcolor\": \"white\", \"lakecolor\": \"white\", \"landcolor\": \"#E5ECF6\", \"showlakes\": true, \"showland\": true, \"subunitcolor\": \"white\"}, \"hoverlabel\": {\"align\": \"left\"}, \"hovermode\": \"closest\", \"mapbox\": {\"style\": \"light\"}, \"paper_bgcolor\": \"white\", \"plot_bgcolor\": \"#E5ECF6\", \"polar\": {\"angularaxis\": {\"gridcolor\": \"white\", \"linecolor\": \"white\", \"ticks\": \"\"}, \"bgcolor\": \"#E5ECF6\", \"radialaxis\": {\"gridcolor\": \"white\", \"linecolor\": \"white\", \"ticks\": \"\"}}, \"scene\": {\"xaxis\": {\"backgroundcolor\": \"#E5ECF6\", \"gridcolor\": \"white\", \"gridwidth\": 2, \"linecolor\": \"white\", \"showbackground\": true, \"ticks\": \"\", \"zerolinecolor\": \"white\"}, \"yaxis\": {\"backgroundcolor\": \"#E5ECF6\", \"gridcolor\": \"white\", \"gridwidth\": 2, \"linecolor\": \"white\", \"showbackground\": true, \"ticks\": \"\", \"zerolinecolor\": \"white\"}, \"zaxis\": {\"backgroundcolor\": \"#E5ECF6\", \"gridcolor\": \"white\", \"gridwidth\": 2, \"linecolor\": \"white\", \"showbackground\": true, \"ticks\": \"\", \"zerolinecolor\": \"white\"}}, \"shapedefaults\": {\"line\": {\"color\": \"#2a3f5f\"}}, \"ternary\": {\"aaxis\": {\"gridcolor\": \"white\", \"linecolor\": \"white\", \"ticks\": \"\"}, \"baxis\": {\"gridcolor\": \"white\", \"linecolor\": \"white\", \"ticks\": \"\"}, \"bgcolor\": \"#E5ECF6\", \"caxis\": {\"gridcolor\": \"white\", \"linecolor\": \"white\", \"ticks\": \"\"}}, \"title\": {\"x\": 0.05}, \"xaxis\": {\"automargin\": true, \"gridcolor\": \"white\", \"linecolor\": \"white\", \"ticks\": \"\", \"title\": {\"standoff\": 15}, \"zerolinecolor\": \"white\", \"zerolinewidth\": 2}, \"yaxis\": {\"automargin\": true, \"gridcolor\": \"white\", \"linecolor\": \"white\", \"ticks\": \"\", \"title\": {\"standoff\": 15}, \"zerolinecolor\": \"white\", \"zerolinewidth\": 2}}}, \"title\": {\"text\": \"Firework Total Sales ($USD) 2016-2020\", \"x\": 0.5, \"xanchor\": \"center\", \"y\": 0.98, \"yanchor\": \"top\"}, \"xaxis\": {\"anchor\": \"y\", \"domain\": [0.0, 1.0], \"title\": {\"text\": \"Sales\"}}, \"yaxis\": {\"anchor\": \"x\", \"domain\": [0.0, 1.0], \"title\": {\"text\": \"State\"}}},\n",
              "                        {\"responsive\": true}\n",
              "                    ).then(function(){\n",
              "                            \n",
              "var gd = document.getElementById('d6f8c3f7-6484-46d5-9fff-b14b7bbbe539');\n",
              "var x = new MutationObserver(function (mutations, observer) {{\n",
              "        var display = window.getComputedStyle(gd).display;\n",
              "        if (!display || display === 'none') {{\n",
              "            console.log([gd, 'removed!']);\n",
              "            Plotly.purge(gd);\n",
              "            observer.disconnect();\n",
              "        }}\n",
              "}});\n",
              "\n",
              "// Listen for the removal of the full notebook cells\n",
              "var notebookContainer = gd.closest('#notebook-container');\n",
              "if (notebookContainer) {{\n",
              "    x.observe(notebookContainer, {childList: true});\n",
              "}}\n",
              "\n",
              "// Listen for the clearing of the current output cell\n",
              "var outputEl = gd.closest('.output');\n",
              "if (outputEl) {{\n",
              "    x.observe(outputEl, {childList: true});\n",
              "}}\n",
              "\n",
              "                        })\n",
              "                };\n",
              "                \n",
              "            </script>\n",
              "        </div>\n",
              "</body>\n",
              "</html>"
            ]
          },
          "metadata": {
            "tags": []
          }
        }
      ]
    },
    {
      "cell_type": "markdown",
      "metadata": {
        "id": "PRrUWtGCoJq0"
      },
      "source": [
        "### Visualizating State Sales (Scatter Plot)\n",
        "\n",
        "<details>\n",
        "\n",
        "<summary>Note</summary>\n",
        "\n",
        "Plotly currently does not have the ability to position colorscales to horizontal.\n",
        "\n",
        "</details>"
      ]
    },
    {
      "cell_type": "code",
      "metadata": {
        "colab": {
          "base_uri": "https://localhost:8080/",
          "height": 1000
        },
        "id": "HWa6So1lSi2k",
        "outputId": "b21d7ed9-5d88-44fe-95ac-6a52996e75ef"
      },
      "source": [
        "#collapse\n",
        "# Visualization State Sales (Scatter Plot)\n",
        "\n",
        "\n",
        "df_sales_st2.sort_values(by='State',ascending=False,inplace=True)\n",
        "\n",
        "fig = px.scatter(df_sales_st2, \n",
        "                 y=\"State\", \n",
        "                 x=\"Time\", \n",
        "                 color=\"Total Value ($US)\",\n",
        "                 size='Total Value ($US)', \n",
        "                 width=800, height=1100,\n",
        "                 color_continuous_scale='Blues')\n",
        "\n",
        "#change background and legend background to white\n",
        "fig.update_layout({\"plot_bgcolor\":\"rgba(255,255,255, 0.9)\"},\n",
        "                  #  \"paper_bgcolor\": \"rgba(255,255,255, 0.9)\"},\n",
        "                  title={'text': \"Firework Sales ($USD)\",\n",
        "                         'y':.98,\n",
        "                         'x':.5,'xanchor':'center',\n",
        "                         'yanchor': 'top'},\n",
        "                  xaxis=dict(title=''),\n",
        "                  yaxis=dict(title=''))\n",
        "\n",
        "fig.show()\n",
        "\n",
        "# save fig to image\n",
        "fig.write_image(\"Firework Sales ($USD) (scatter_plot).png\", width=800, height=1000)\n",
        "\n",
        "fig.write_html(\"Firework Sales ($USD) (scatter_plot).html\")\n",
        "\n"
      ],
      "execution_count": 131,
      "outputs": [
        {
          "output_type": "display_data",
          "data": {
            "text/html": [
              "<html>\n",
              "<head><meta charset=\"utf-8\" /></head>\n",
              "<body>\n",
              "    <div>\n",
              "            <script src=\"https://cdnjs.cloudflare.com/ajax/libs/mathjax/2.7.5/MathJax.js?config=TeX-AMS-MML_SVG\"></script><script type=\"text/javascript\">if (window.MathJax) {MathJax.Hub.Config({SVG: {font: \"STIX-Web\"}});}</script>\n",
              "                <script type=\"text/javascript\">window.PlotlyConfig = {MathJaxConfig: 'local'};</script>\n",
              "        <script src=\"https://cdn.plot.ly/plotly-latest.min.js\"></script>    \n",
              "            <div id=\"92d4d5d1-ff7c-4f0f-bd06-07c551254417\" class=\"plotly-graph-div\" style=\"height:1100px; width:800px;\"></div>\n",
              "            <script type=\"text/javascript\">\n",
              "                \n",
              "                    window.PLOTLYENV=window.PLOTLYENV || {};\n",
              "                    \n",
              "                if (document.getElementById(\"92d4d5d1-ff7c-4f0f-bd06-07c551254417\")) {\n",
              "                    Plotly.newPlot(\n",
              "                        '92d4d5d1-ff7c-4f0f-bd06-07c551254417',\n",
              "                        [{\"hoverlabel\": {\"namelength\": 0}, \"hovertemplate\": \"Time=%{x}<br>State=%{y}<br>Total Value ($US)=%{marker.color}\", \"legendgroup\": \"\", \"marker\": {\"color\": [606265, 2208173, 1655074, 2565544, 1853759, 2390366, 7936230, 8866292, 8052014, 10827106, 6376219, 3590450, 300212, 173825, 34047, 179820, 168831, 180721, 10587756, 5613285, 11966065, 6420545, 10739279, 9339828, 517576, 1520414, 1426308, 1649292, 1113267, 677384, 318784, 186337, 346753, 355610, 235655, 3149085, 3387747, 1883195, 2671881, 3778233, 3773807, 17435374, 17158599, 16931495, 17973475, 16714499, 9361768, 7003917, 6690239, 7138557, 3376347, 7044736, 8806261, 2368591, 1916672, 4020724, 914388, 1542888, 1332329, 13809613, 20753332, 18913998, 24564918, 18999940, 19483456, 26424, 22629, 247992, 138439, 3512, 15842819, 12740863, 6736289, 8506912, 7563846, 14542528, 1315321, 710164, 591434, 1494905, 1341795, 891775, 486499, 1145901, 1575292, 1933966, 1482712, 2128409, 16071093, 29260325, 26514838, 28969003, 31140380, 23636198, 980664, 2209584, 2199618, 1680911, 1913692, 2654136, 513090, 275165, 197652, 276128, 3368009, 3103837, 2251057, 2841791, 1546390, 3138765, 104134, 236735, 131655, 223390, 193637, 211141, 280648, 2612250, 1981527, 3498669, 1248003, 1001430, 2228863, 362949, 1978039, 698641, 738995, 2097088, 5773151, 5768449, 7366040, 8921663, 7548350, 6051183, 7824307, 18873198, 11182825, 3375957, 6648462, 6831504, 1572964, 1636271, 2452552, 2826581, 956437, 2380566, 51088748, 42274580, 53918481, 42662332, 51835944, 26746992, 2225561, 2069296, 2910675, 555513, 2969119, 2258550, 642277, 961300, 29313, 419674, 872548, 484924, 3287095, 7619099, 7810634, 7491151, 7236063, 8833036, 534024, 164121, 185087, 80953, 80129, 719134, 598454, 903650, 1256016, 1229453, 1957307, 539235, 131687, 359297, 673825, 638882, 809437, 1066447, 1082455, 1702419, 901738, 2095682, 1290998, 827564, 1254978, 544586, 2438346, 2596400, 2405186, 8413999, 14684427, 16099349, 18610498, 12247314, 12911925, 108650, 1119641, 2198849, 2609111, 1303879, 1742428, 6649006, 14005011, 14470363, 16652693, 18239800, 16374560, 2461423, 1530614, 1390698, 1829695, 2746868, 3097163, 352596, 812962, 759796, 477691, 585801, 589311, 655480, 554955, 568458, 807483, 672925, 436063, 631432, 764976, 421266, 426309, 138007, 4461091, 12022629, 16711138, 15931113, 18065772, 16666207, 509653, 229605, 459680, 432540, 337954, 328714, 388155, 825313, 765963, 650888, 879850, 789824, 5893441, 14968906, 17732810, 18402996, 13000442, 14067642, 3007191, 3800572, 2100336, 2628217, 5808578, 3956657, 751640, 1415936, 1042197, 1294404, 1034060, 718000, 231243, 226399, 109001, 28353392, 26399895, 19396430, 23141950, 12182078, 29602090], \"coloraxis\": \"coloraxis\", \"size\": [606265, 2208173, 1655074, 2565544, 1853759, 2390366, 7936230, 8866292, 8052014, 10827106, 6376219, 3590450, 300212, 173825, 34047, 179820, 168831, 180721, 10587756, 5613285, 11966065, 6420545, 10739279, 9339828, 517576, 1520414, 1426308, 1649292, 1113267, 677384, 318784, 186337, 346753, 355610, 235655, 3149085, 3387747, 1883195, 2671881, 3778233, 3773807, 17435374, 17158599, 16931495, 17973475, 16714499, 9361768, 7003917, 6690239, 7138557, 3376347, 7044736, 8806261, 2368591, 1916672, 4020724, 914388, 1542888, 1332329, 13809613, 20753332, 18913998, 24564918, 18999940, 19483456, 26424, 22629, 247992, 138439, 3512, 15842819, 12740863, 6736289, 8506912, 7563846, 14542528, 1315321, 710164, 591434, 1494905, 1341795, 891775, 486499, 1145901, 1575292, 1933966, 1482712, 2128409, 16071093, 29260325, 26514838, 28969003, 31140380, 23636198, 980664, 2209584, 2199618, 1680911, 1913692, 2654136, 513090, 275165, 197652, 276128, 3368009, 3103837, 2251057, 2841791, 1546390, 3138765, 104134, 236735, 131655, 223390, 193637, 211141, 280648, 2612250, 1981527, 3498669, 1248003, 1001430, 2228863, 362949, 1978039, 698641, 738995, 2097088, 5773151, 5768449, 7366040, 8921663, 7548350, 6051183, 7824307, 18873198, 11182825, 3375957, 6648462, 6831504, 1572964, 1636271, 2452552, 2826581, 956437, 2380566, 51088748, 42274580, 53918481, 42662332, 51835944, 26746992, 2225561, 2069296, 2910675, 555513, 2969119, 2258550, 642277, 961300, 29313, 419674, 872548, 484924, 3287095, 7619099, 7810634, 7491151, 7236063, 8833036, 534024, 164121, 185087, 80953, 80129, 719134, 598454, 903650, 1256016, 1229453, 1957307, 539235, 131687, 359297, 673825, 638882, 809437, 1066447, 1082455, 1702419, 901738, 2095682, 1290998, 827564, 1254978, 544586, 2438346, 2596400, 2405186, 8413999, 14684427, 16099349, 18610498, 12247314, 12911925, 108650, 1119641, 2198849, 2609111, 1303879, 1742428, 6649006, 14005011, 14470363, 16652693, 18239800, 16374560, 2461423, 1530614, 1390698, 1829695, 2746868, 3097163, 352596, 812962, 759796, 477691, 585801, 589311, 655480, 554955, 568458, 807483, 672925, 436063, 631432, 764976, 421266, 426309, 138007, 4461091, 12022629, 16711138, 15931113, 18065772, 16666207, 509653, 229605, 459680, 432540, 337954, 328714, 388155, 825313, 765963, 650888, 879850, 789824, 5893441, 14968906, 17732810, 18402996, 13000442, 14067642, 3007191, 3800572, 2100336, 2628217, 5808578, 3956657, 751640, 1415936, 1042197, 1294404, 1034060, 718000, 231243, 226399, 109001, 28353392, 26399895, 19396430, 23141950, 12182078, 29602090], \"sizemode\": \"area\", \"sizeref\": 134796.2025, \"symbol\": \"circle\"}, \"mode\": \"markers\", \"name\": \"\", \"showlegend\": false, \"type\": \"scatter\", \"x\": [\"2021-01-01T00:00:00\", \"2020-01-01T00:00:00\", \"2016-01-01T00:00:00\", \"2018-01-01T00:00:00\", \"2017-01-01T00:00:00\", \"2019-01-01T00:00:00\", \"2019-01-01T00:00:00\", \"2016-01-01T00:00:00\", \"2017-01-01T00:00:00\", \"2018-01-01T00:00:00\", \"2020-01-01T00:00:00\", \"2021-01-01T00:00:00\", \"2018-01-01T00:00:00\", \"2017-01-01T00:00:00\", \"2016-01-01T00:00:00\", \"2021-01-01T00:00:00\", \"2020-01-01T00:00:00\", \"2019-01-01T00:00:00\", \"2019-01-01T00:00:00\", \"2021-01-01T00:00:00\", \"2020-01-01T00:00:00\", \"2016-01-01T00:00:00\", \"2018-01-01T00:00:00\", \"2017-01-01T00:00:00\", \"2021-01-01T00:00:00\", \"2020-01-01T00:00:00\", \"2019-01-01T00:00:00\", \"2018-01-01T00:00:00\", \"2017-01-01T00:00:00\", \"2016-01-01T00:00:00\", \"2020-01-01T00:00:00\", \"2019-01-01T00:00:00\", \"2018-01-01T00:00:00\", \"2017-01-01T00:00:00\", \"2016-01-01T00:00:00\", \"2019-01-01T00:00:00\", \"2020-01-01T00:00:00\", \"2021-01-01T00:00:00\", \"2017-01-01T00:00:00\", \"2016-01-01T00:00:00\", \"2018-01-01T00:00:00\", \"2019-01-01T00:00:00\", \"2017-01-01T00:00:00\", \"2018-01-01T00:00:00\", \"2016-01-01T00:00:00\", \"2020-01-01T00:00:00\", \"2021-01-01T00:00:00\", \"2018-01-01T00:00:00\", \"2017-01-01T00:00:00\", \"2016-01-01T00:00:00\", \"2021-01-01T00:00:00\", \"2020-01-01T00:00:00\", \"2019-01-01T00:00:00\", \"2020-01-01T00:00:00\", \"2019-01-01T00:00:00\", \"2021-01-01T00:00:00\", \"2017-01-01T00:00:00\", \"2016-01-01T00:00:00\", \"2018-01-01T00:00:00\", \"2021-01-01T00:00:00\", \"2020-01-01T00:00:00\", \"2019-01-01T00:00:00\", \"2018-01-01T00:00:00\", \"2017-01-01T00:00:00\", \"2016-01-01T00:00:00\", \"2021-01-01T00:00:00\", \"2019-01-01T00:00:00\", \"2018-01-01T00:00:00\", \"2017-01-01T00:00:00\", \"2019-01-01T00:00:00\", \"2019-01-01T00:00:00\", \"2020-01-01T00:00:00\", \"2021-01-01T00:00:00\", \"2017-01-01T00:00:00\", \"2016-01-01T00:00:00\", \"2018-01-01T00:00:00\", \"2020-01-01T00:00:00\", \"2016-01-01T00:00:00\", \"2021-01-01T00:00:00\", \"2019-01-01T00:00:00\", \"2018-01-01T00:00:00\", \"2017-01-01T00:00:00\", \"2021-01-01T00:00:00\", \"2020-01-01T00:00:00\", \"2019-01-01T00:00:00\", \"2018-01-01T00:00:00\", \"2017-01-01T00:00:00\", \"2016-01-01T00:00:00\", \"2021-01-01T00:00:00\", \"2020-01-01T00:00:00\", \"2017-01-01T00:00:00\", \"2016-01-01T00:00:00\", \"2019-01-01T00:00:00\", \"2018-01-01T00:00:00\", \"2021-01-01T00:00:00\", \"2020-01-01T00:00:00\", \"2019-01-01T00:00:00\", \"2018-01-01T00:00:00\", \"2017-01-01T00:00:00\", \"2016-01-01T00:00:00\", \"2019-01-01T00:00:00\", \"2018-01-01T00:00:00\", \"2017-01-01T00:00:00\", \"2016-01-01T00:00:00\", \"2020-01-01T00:00:00\", \"2018-01-01T00:00:00\", \"2019-01-01T00:00:00\", \"2017-01-01T00:00:00\", \"2021-01-01T00:00:00\", \"2016-01-01T00:00:00\", \"2019-01-01T00:00:00\", \"2020-01-01T00:00:00\", \"2021-01-01T00:00:00\", \"2017-01-01T00:00:00\", \"2018-01-01T00:00:00\", \"2016-01-01T00:00:00\", \"2021-01-01T00:00:00\", \"2020-01-01T00:00:00\", \"2019-01-01T00:00:00\", \"2018-01-01T00:00:00\", \"2017-01-01T00:00:00\", \"2016-01-01T00:00:00\", \"2016-01-01T00:00:00\", \"2021-01-01T00:00:00\", \"2018-01-01T00:00:00\", \"2019-01-01T00:00:00\", \"2020-01-01T00:00:00\", \"2017-01-01T00:00:00\", \"2021-01-01T00:00:00\", \"2020-01-01T00:00:00\", \"2019-01-01T00:00:00\", \"2018-01-01T00:00:00\", \"2017-01-01T00:00:00\", \"2016-01-01T00:00:00\", \"2018-01-01T00:00:00\", \"2016-01-01T00:00:00\", \"2017-01-01T00:00:00\", \"2021-01-01T00:00:00\", \"2019-01-01T00:00:00\", \"2020-01-01T00:00:00\", \"2016-01-01T00:00:00\", \"2017-01-01T00:00:00\", \"2018-01-01T00:00:00\", \"2019-01-01T00:00:00\", \"2021-01-01T00:00:00\", \"2020-01-01T00:00:00\", \"2019-01-01T00:00:00\", \"2017-01-01T00:00:00\", \"2018-01-01T00:00:00\", \"2016-01-01T00:00:00\", \"2020-01-01T00:00:00\", \"2021-01-01T00:00:00\", \"2018-01-01T00:00:00\", \"2017-01-01T00:00:00\", \"2016-01-01T00:00:00\", \"2021-01-01T00:00:00\", \"2020-01-01T00:00:00\", \"2019-01-01T00:00:00\", \"2019-01-01T00:00:00\", \"2020-01-01T00:00:00\", \"2021-01-01T00:00:00\", \"2016-01-01T00:00:00\", \"2018-01-01T00:00:00\", \"2017-01-01T00:00:00\", \"2021-01-01T00:00:00\", \"2020-01-01T00:00:00\", \"2019-01-01T00:00:00\", \"2018-01-01T00:00:00\", \"2017-01-01T00:00:00\", \"2016-01-01T00:00:00\", \"2020-01-01T00:00:00\", \"2019-01-01T00:00:00\", \"2018-01-01T00:00:00\", \"2017-01-01T00:00:00\", \"2016-01-01T00:00:00\", \"2021-01-01T00:00:00\", \"2020-01-01T00:00:00\", \"2018-01-01T00:00:00\", \"2017-01-01T00:00:00\", \"2016-01-01T00:00:00\", \"2019-01-01T00:00:00\", \"2016-01-01T00:00:00\", \"2021-01-01T00:00:00\", \"2020-01-01T00:00:00\", \"2019-01-01T00:00:00\", \"2018-01-01T00:00:00\", \"2017-01-01T00:00:00\", \"2018-01-01T00:00:00\", \"2017-01-01T00:00:00\", \"2016-01-01T00:00:00\", \"2021-01-01T00:00:00\", \"2020-01-01T00:00:00\", \"2019-01-01T00:00:00\", \"2019-01-01T00:00:00\", \"2020-01-01T00:00:00\", \"2021-01-01T00:00:00\", \"2018-01-01T00:00:00\", \"2016-01-01T00:00:00\", \"2017-01-01T00:00:00\", \"2021-01-01T00:00:00\", \"2020-01-01T00:00:00\", \"2019-01-01T00:00:00\", \"2018-01-01T00:00:00\", \"2017-01-01T00:00:00\", \"2016-01-01T00:00:00\", \"2021-01-01T00:00:00\", \"2020-01-01T00:00:00\", \"2019-01-01T00:00:00\", \"2018-01-01T00:00:00\", \"2017-01-01T00:00:00\", \"2016-01-01T00:00:00\", \"2021-01-01T00:00:00\", \"2020-01-01T00:00:00\", \"2019-01-01T00:00:00\", \"2016-01-01T00:00:00\", \"2018-01-01T00:00:00\", \"2017-01-01T00:00:00\", \"2016-01-01T00:00:00\", \"2017-01-01T00:00:00\", \"2018-01-01T00:00:00\", \"2021-01-01T00:00:00\", \"2020-01-01T00:00:00\", \"2019-01-01T00:00:00\", \"2021-01-01T00:00:00\", \"2020-01-01T00:00:00\", \"2019-01-01T00:00:00\", \"2018-01-01T00:00:00\", \"2017-01-01T00:00:00\", \"2016-01-01T00:00:00\", \"2019-01-01T00:00:00\", \"2020-01-01T00:00:00\", \"2018-01-01T00:00:00\", \"2016-01-01T00:00:00\", \"2017-01-01T00:00:00\", \"2016-01-01T00:00:00\", \"2021-01-01T00:00:00\", \"2020-01-01T00:00:00\", \"2019-01-01T00:00:00\", \"2018-01-01T00:00:00\", \"2017-01-01T00:00:00\", \"2021-01-01T00:00:00\", \"2020-01-01T00:00:00\", \"2019-01-01T00:00:00\", \"2018-01-01T00:00:00\", \"2017-01-01T00:00:00\", \"2016-01-01T00:00:00\", \"2019-01-01T00:00:00\", \"2021-01-01T00:00:00\", \"2020-01-01T00:00:00\", \"2017-01-01T00:00:00\", \"2018-01-01T00:00:00\", \"2016-01-01T00:00:00\", \"2021-01-01T00:00:00\", \"2020-01-01T00:00:00\", \"2016-01-01T00:00:00\", \"2019-01-01T00:00:00\", \"2017-01-01T00:00:00\", \"2018-01-01T00:00:00\", \"2021-01-01T00:00:00\", \"2020-01-01T00:00:00\", \"2019-01-01T00:00:00\", \"2018-01-01T00:00:00\", \"2017-01-01T00:00:00\", \"2016-01-01T00:00:00\", \"2019-01-01T00:00:00\", \"2020-01-01T00:00:00\", \"2021-01-01T00:00:00\", \"2017-01-01T00:00:00\", \"2016-01-01T00:00:00\", \"2018-01-01T00:00:00\", \"2021-01-01T00:00:00\", \"2020-01-01T00:00:00\", \"2019-01-01T00:00:00\", \"2018-01-01T00:00:00\", \"2017-01-01T00:00:00\", \"2016-01-01T00:00:00\", \"2018-01-01T00:00:00\", \"2017-01-01T00:00:00\", \"2016-01-01T00:00:00\", \"2019-01-01T00:00:00\", \"2018-01-01T00:00:00\", \"2017-01-01T00:00:00\", \"2020-01-01T00:00:00\", \"2021-01-01T00:00:00\", \"2016-01-01T00:00:00\"], \"xaxis\": \"x\", \"y\": [\"Wyoming\", \"Wyoming\", \"Wyoming\", \"Wyoming\", \"Wyoming\", \"Wyoming\", \"Wisconsin\", \"Wisconsin\", \"Wisconsin\", \"Wisconsin\", \"Wisconsin\", \"Wisconsin\", \"West Virginia\", \"West Virginia\", \"West Virginia\", \"West Virginia\", \"West Virginia\", \"West Virginia\", \"Washington\", \"Washington\", \"Washington\", \"Washington\", \"Washington\", \"Washington\", \"Virginia\", \"Virginia\", \"Virginia\", \"Virginia\", \"Virginia\", \"Virginia\", \"Vermont\", \"Vermont\", \"Vermont\", \"Vermont\", \"Vermont\", \"Utah\", \"Utah\", \"Utah\", \"Utah\", \"Utah\", \"Utah\", \"Texas\", \"Texas\", \"Texas\", \"Texas\", \"Texas\", \"Texas\", \"Tennessee\", \"Tennessee\", \"Tennessee\", \"Tennessee\", \"Tennessee\", \"Tennessee\", \"South Dakota\", \"South Dakota\", \"South Dakota\", \"South Dakota\", \"South Dakota\", \"South Dakota\", \"South Carolina\", \"South Carolina\", \"South Carolina\", \"South Carolina\", \"South Carolina\", \"South Carolina\", \"Rhode Island\", \"Rhode Island\", \"Rhode Island\", \"Rhode Island\", \"Puerto Rico\", \"Pennsylvania\", \"Pennsylvania\", \"Pennsylvania\", \"Pennsylvania\", \"Pennsylvania\", \"Pennsylvania\", \"Oregon\", \"Oregon\", \"Oregon\", \"Oregon\", \"Oregon\", \"Oregon\", \"Oklahoma\", \"Oklahoma\", \"Oklahoma\", \"Oklahoma\", \"Oklahoma\", \"Oklahoma\", \"Ohio\", \"Ohio\", \"Ohio\", \"Ohio\", \"Ohio\", \"Ohio\", \"North Dakota\", \"North Dakota\", \"North Dakota\", \"North Dakota\", \"North Dakota\", \"North Dakota\", \"North Carolina\", \"North Carolina\", \"North Carolina\", \"North Carolina\", \"New York\", \"New York\", \"New York\", \"New York\", \"New York\", \"New York\", \"New Mexico\", \"New Mexico\", \"New Mexico\", \"New Mexico\", \"New Mexico\", \"New Mexico\", \"New Jersey\", \"New Jersey\", \"New Jersey\", \"New Jersey\", \"New Jersey\", \"New Jersey\", \"New Hampshire\", \"New Hampshire\", \"New Hampshire\", \"New Hampshire\", \"New Hampshire\", \"New Hampshire\", \"Nevada\", \"Nevada\", \"Nevada\", \"Nevada\", \"Nevada\", \"Nevada\", \"Nebraska\", \"Nebraska\", \"Nebraska\", \"Nebraska\", \"Nebraska\", \"Nebraska\", \"Montana\", \"Montana\", \"Montana\", \"Montana\", \"Montana\", \"Montana\", \"Missouri\", \"Missouri\", \"Missouri\", \"Missouri\", \"Missouri\", \"Missouri\", \"Mississippi\", \"Mississippi\", \"Mississippi\", \"Mississippi\", \"Mississippi\", \"Mississippi\", \"Minnesota\", \"Minnesota\", \"Minnesota\", \"Minnesota\", \"Minnesota\", \"Minnesota\", \"Michigan\", \"Michigan\", \"Michigan\", \"Michigan\", \"Michigan\", \"Michigan\", \"Massachusetts\", \"Massachusetts\", \"Massachusetts\", \"Massachusetts\", \"Massachusetts\", \"Maryland\", \"Maryland\", \"Maryland\", \"Maryland\", \"Maryland\", \"Maryland\", \"Maine\", \"Maine\", \"Maine\", \"Maine\", \"Maine\", \"Maine\", \"Louisiana\", \"Louisiana\", \"Louisiana\", \"Louisiana\", \"Louisiana\", \"Louisiana\", \"Kentucky\", \"Kentucky\", \"Kentucky\", \"Kentucky\", \"Kentucky\", \"Kentucky\", \"Kansas\", \"Kansas\", \"Kansas\", \"Kansas\", \"Kansas\", \"Kansas\", \"Iowa\", \"Iowa\", \"Iowa\", \"Iowa\", \"Iowa\", \"Iowa\", \"Indiana\", \"Indiana\", \"Indiana\", \"Indiana\", \"Indiana\", \"Indiana\", \"Illinois\", \"Illinois\", \"Illinois\", \"Illinois\", \"Illinois\", \"Illinois\", \"Idaho\", \"Idaho\", \"Idaho\", \"Idaho\", \"Idaho\", \"Idaho\", \"Hawaii\", \"Hawaii\", \"Hawaii\", \"Hawaii\", \"Hawaii\", \"Georgia\", \"Georgia\", \"Georgia\", \"Georgia\", \"Georgia\", \"Georgia\", \"Florida\", \"Florida\", \"Florida\", \"Florida\", \"Florida\", \"Florida\", \"Connecticut\", \"Connecticut\", \"Connecticut\", \"Connecticut\", \"Connecticut\", \"Connecticut\", \"Colorado\", \"Colorado\", \"Colorado\", \"Colorado\", \"Colorado\", \"Colorado\", \"California\", \"California\", \"California\", \"California\", \"California\", \"California\", \"Arkansas\", \"Arkansas\", \"Arkansas\", \"Arkansas\", \"Arkansas\", \"Arkansas\", \"Arizona\", \"Arizona\", \"Arizona\", \"Arizona\", \"Arizona\", \"Arizona\", \"Alaska\", \"Alaska\", \"Alaska\", \"Alabama\", \"Alabama\", \"Alabama\", \"Alabama\", \"Alabama\", \"Alabama\"], \"yaxis\": \"y\"}],\n",
              "                        {\"coloraxis\": {\"colorbar\": {\"title\": {\"text\": \"Total Value ($US)\"}}, \"colorscale\": [[0.0, \"rgb(247,251,255)\"], [0.125, \"rgb(222,235,247)\"], [0.25, \"rgb(198,219,239)\"], [0.375, \"rgb(158,202,225)\"], [0.5, \"rgb(107,174,214)\"], [0.625, \"rgb(66,146,198)\"], [0.75, \"rgb(33,113,181)\"], [0.875, \"rgb(8,81,156)\"], [1.0, \"rgb(8,48,107)\"]]}, \"height\": 1100, \"legend\": {\"itemsizing\": \"constant\", \"tracegroupgap\": 0}, \"margin\": {\"t\": 60}, \"plot_bgcolor\": \"rgba(255,255,255, 0.9)\", \"template\": {\"data\": {\"bar\": [{\"error_x\": {\"color\": \"#2a3f5f\"}, \"error_y\": {\"color\": \"#2a3f5f\"}, \"marker\": {\"line\": {\"color\": \"#E5ECF6\", \"width\": 0.5}}, \"type\": \"bar\"}], \"barpolar\": [{\"marker\": {\"line\": {\"color\": \"#E5ECF6\", \"width\": 0.5}}, \"type\": \"barpolar\"}], \"carpet\": [{\"aaxis\": {\"endlinecolor\": \"#2a3f5f\", \"gridcolor\": \"white\", \"linecolor\": \"white\", \"minorgridcolor\": \"white\", \"startlinecolor\": \"#2a3f5f\"}, \"baxis\": {\"endlinecolor\": \"#2a3f5f\", \"gridcolor\": \"white\", \"linecolor\": \"white\", \"minorgridcolor\": \"white\", \"startlinecolor\": \"#2a3f5f\"}, \"type\": \"carpet\"}], \"choropleth\": [{\"colorbar\": {\"outlinewidth\": 0, \"ticks\": \"\"}, \"type\": \"choropleth\"}], \"contour\": [{\"colorbar\": {\"outlinewidth\": 0, \"ticks\": \"\"}, \"colorscale\": [[0.0, \"#0d0887\"], [0.1111111111111111, \"#46039f\"], [0.2222222222222222, \"#7201a8\"], [0.3333333333333333, \"#9c179e\"], [0.4444444444444444, \"#bd3786\"], [0.5555555555555556, \"#d8576b\"], [0.6666666666666666, \"#ed7953\"], [0.7777777777777778, \"#fb9f3a\"], [0.8888888888888888, \"#fdca26\"], [1.0, \"#f0f921\"]], \"type\": \"contour\"}], \"contourcarpet\": [{\"colorbar\": {\"outlinewidth\": 0, \"ticks\": \"\"}, \"type\": \"contourcarpet\"}], \"heatmap\": [{\"colorbar\": {\"outlinewidth\": 0, \"ticks\": \"\"}, \"colorscale\": [[0.0, \"#0d0887\"], [0.1111111111111111, \"#46039f\"], [0.2222222222222222, \"#7201a8\"], [0.3333333333333333, \"#9c179e\"], [0.4444444444444444, \"#bd3786\"], [0.5555555555555556, \"#d8576b\"], [0.6666666666666666, \"#ed7953\"], [0.7777777777777778, \"#fb9f3a\"], [0.8888888888888888, \"#fdca26\"], [1.0, \"#f0f921\"]], \"type\": \"heatmap\"}], \"heatmapgl\": [{\"colorbar\": {\"outlinewidth\": 0, \"ticks\": \"\"}, \"colorscale\": [[0.0, \"#0d0887\"], [0.1111111111111111, \"#46039f\"], [0.2222222222222222, \"#7201a8\"], [0.3333333333333333, \"#9c179e\"], [0.4444444444444444, \"#bd3786\"], [0.5555555555555556, \"#d8576b\"], [0.6666666666666666, \"#ed7953\"], [0.7777777777777778, \"#fb9f3a\"], [0.8888888888888888, \"#fdca26\"], [1.0, \"#f0f921\"]], \"type\": \"heatmapgl\"}], \"histogram\": [{\"marker\": {\"colorbar\": {\"outlinewidth\": 0, \"ticks\": \"\"}}, \"type\": \"histogram\"}], \"histogram2d\": [{\"colorbar\": {\"outlinewidth\": 0, \"ticks\": \"\"}, \"colorscale\": [[0.0, \"#0d0887\"], [0.1111111111111111, \"#46039f\"], [0.2222222222222222, \"#7201a8\"], [0.3333333333333333, \"#9c179e\"], [0.4444444444444444, \"#bd3786\"], [0.5555555555555556, \"#d8576b\"], [0.6666666666666666, \"#ed7953\"], [0.7777777777777778, \"#fb9f3a\"], [0.8888888888888888, \"#fdca26\"], [1.0, \"#f0f921\"]], \"type\": \"histogram2d\"}], \"histogram2dcontour\": [{\"colorbar\": {\"outlinewidth\": 0, \"ticks\": \"\"}, \"colorscale\": [[0.0, \"#0d0887\"], [0.1111111111111111, \"#46039f\"], [0.2222222222222222, \"#7201a8\"], [0.3333333333333333, \"#9c179e\"], [0.4444444444444444, \"#bd3786\"], [0.5555555555555556, \"#d8576b\"], [0.6666666666666666, \"#ed7953\"], [0.7777777777777778, \"#fb9f3a\"], [0.8888888888888888, \"#fdca26\"], [1.0, \"#f0f921\"]], \"type\": \"histogram2dcontour\"}], \"mesh3d\": [{\"colorbar\": {\"outlinewidth\": 0, \"ticks\": \"\"}, \"type\": \"mesh3d\"}], \"parcoords\": [{\"line\": {\"colorbar\": {\"outlinewidth\": 0, \"ticks\": \"\"}}, \"type\": \"parcoords\"}], \"pie\": [{\"automargin\": true, \"type\": \"pie\"}], \"scatter\": [{\"marker\": {\"colorbar\": {\"outlinewidth\": 0, \"ticks\": \"\"}}, \"type\": \"scatter\"}], \"scatter3d\": [{\"line\": {\"colorbar\": {\"outlinewidth\": 0, \"ticks\": \"\"}}, \"marker\": {\"colorbar\": {\"outlinewidth\": 0, \"ticks\": \"\"}}, \"type\": \"scatter3d\"}], \"scattercarpet\": [{\"marker\": {\"colorbar\": {\"outlinewidth\": 0, \"ticks\": \"\"}}, \"type\": \"scattercarpet\"}], \"scattergeo\": [{\"marker\": {\"colorbar\": {\"outlinewidth\": 0, \"ticks\": \"\"}}, \"type\": \"scattergeo\"}], \"scattergl\": [{\"marker\": {\"colorbar\": {\"outlinewidth\": 0, \"ticks\": \"\"}}, \"type\": \"scattergl\"}], \"scattermapbox\": [{\"marker\": {\"colorbar\": {\"outlinewidth\": 0, \"ticks\": \"\"}}, \"type\": \"scattermapbox\"}], \"scatterpolar\": [{\"marker\": {\"colorbar\": {\"outlinewidth\": 0, \"ticks\": \"\"}}, \"type\": \"scatterpolar\"}], \"scatterpolargl\": [{\"marker\": {\"colorbar\": {\"outlinewidth\": 0, \"ticks\": \"\"}}, \"type\": \"scatterpolargl\"}], \"scatterternary\": [{\"marker\": {\"colorbar\": {\"outlinewidth\": 0, \"ticks\": \"\"}}, \"type\": \"scatterternary\"}], \"surface\": [{\"colorbar\": {\"outlinewidth\": 0, \"ticks\": \"\"}, \"colorscale\": [[0.0, \"#0d0887\"], [0.1111111111111111, \"#46039f\"], [0.2222222222222222, \"#7201a8\"], [0.3333333333333333, \"#9c179e\"], [0.4444444444444444, \"#bd3786\"], [0.5555555555555556, \"#d8576b\"], [0.6666666666666666, \"#ed7953\"], [0.7777777777777778, \"#fb9f3a\"], [0.8888888888888888, \"#fdca26\"], [1.0, \"#f0f921\"]], \"type\": \"surface\"}], \"table\": [{\"cells\": {\"fill\": {\"color\": \"#EBF0F8\"}, \"line\": {\"color\": \"white\"}}, \"header\": {\"fill\": {\"color\": \"#C8D4E3\"}, \"line\": {\"color\": \"white\"}}, \"type\": \"table\"}]}, \"layout\": {\"annotationdefaults\": {\"arrowcolor\": \"#2a3f5f\", \"arrowhead\": 0, \"arrowwidth\": 1}, \"coloraxis\": {\"colorbar\": {\"outlinewidth\": 0, \"ticks\": \"\"}}, \"colorscale\": {\"diverging\": [[0, \"#8e0152\"], [0.1, \"#c51b7d\"], [0.2, \"#de77ae\"], [0.3, \"#f1b6da\"], [0.4, \"#fde0ef\"], [0.5, \"#f7f7f7\"], [0.6, \"#e6f5d0\"], [0.7, \"#b8e186\"], [0.8, \"#7fbc41\"], [0.9, \"#4d9221\"], [1, \"#276419\"]], \"sequential\": [[0.0, \"#0d0887\"], [0.1111111111111111, \"#46039f\"], [0.2222222222222222, \"#7201a8\"], [0.3333333333333333, \"#9c179e\"], [0.4444444444444444, \"#bd3786\"], [0.5555555555555556, \"#d8576b\"], [0.6666666666666666, \"#ed7953\"], [0.7777777777777778, \"#fb9f3a\"], [0.8888888888888888, \"#fdca26\"], [1.0, \"#f0f921\"]], \"sequentialminus\": [[0.0, \"#0d0887\"], [0.1111111111111111, \"#46039f\"], [0.2222222222222222, \"#7201a8\"], [0.3333333333333333, \"#9c179e\"], [0.4444444444444444, \"#bd3786\"], [0.5555555555555556, \"#d8576b\"], [0.6666666666666666, \"#ed7953\"], [0.7777777777777778, \"#fb9f3a\"], [0.8888888888888888, \"#fdca26\"], [1.0, \"#f0f921\"]]}, \"colorway\": [\"#636efa\", \"#EF553B\", \"#00cc96\", \"#ab63fa\", \"#FFA15A\", \"#19d3f3\", \"#FF6692\", \"#B6E880\", \"#FF97FF\", \"#FECB52\"], \"font\": {\"color\": \"#2a3f5f\"}, \"geo\": {\"bgcolor\": \"white\", \"lakecolor\": \"white\", \"landcolor\": \"#E5ECF6\", \"showlakes\": true, \"showland\": true, \"subunitcolor\": \"white\"}, \"hoverlabel\": {\"align\": \"left\"}, \"hovermode\": \"closest\", \"mapbox\": {\"style\": \"light\"}, \"paper_bgcolor\": \"white\", \"plot_bgcolor\": \"#E5ECF6\", \"polar\": {\"angularaxis\": {\"gridcolor\": \"white\", \"linecolor\": \"white\", \"ticks\": \"\"}, \"bgcolor\": \"#E5ECF6\", \"radialaxis\": {\"gridcolor\": \"white\", \"linecolor\": \"white\", \"ticks\": \"\"}}, \"scene\": {\"xaxis\": {\"backgroundcolor\": \"#E5ECF6\", \"gridcolor\": \"white\", \"gridwidth\": 2, \"linecolor\": \"white\", \"showbackground\": true, \"ticks\": \"\", \"zerolinecolor\": \"white\"}, \"yaxis\": {\"backgroundcolor\": \"#E5ECF6\", \"gridcolor\": \"white\", \"gridwidth\": 2, \"linecolor\": \"white\", \"showbackground\": true, \"ticks\": \"\", \"zerolinecolor\": \"white\"}, \"zaxis\": {\"backgroundcolor\": \"#E5ECF6\", \"gridcolor\": \"white\", \"gridwidth\": 2, \"linecolor\": \"white\", \"showbackground\": true, \"ticks\": \"\", \"zerolinecolor\": \"white\"}}, \"shapedefaults\": {\"line\": {\"color\": \"#2a3f5f\"}}, \"ternary\": {\"aaxis\": {\"gridcolor\": \"white\", \"linecolor\": \"white\", \"ticks\": \"\"}, \"baxis\": {\"gridcolor\": \"white\", \"linecolor\": \"white\", \"ticks\": \"\"}, \"bgcolor\": \"#E5ECF6\", \"caxis\": {\"gridcolor\": \"white\", \"linecolor\": \"white\", \"ticks\": \"\"}}, \"title\": {\"x\": 0.05}, \"xaxis\": {\"automargin\": true, \"gridcolor\": \"white\", \"linecolor\": \"white\", \"ticks\": \"\", \"title\": {\"standoff\": 15}, \"zerolinecolor\": \"white\", \"zerolinewidth\": 2}, \"yaxis\": {\"automargin\": true, \"gridcolor\": \"white\", \"linecolor\": \"white\", \"ticks\": \"\", \"title\": {\"standoff\": 15}, \"zerolinecolor\": \"white\", \"zerolinewidth\": 2}}}, \"title\": {\"text\": \"Firework Sales ($USD)\", \"x\": 0.5, \"xanchor\": \"center\", \"y\": 0.98, \"yanchor\": \"top\"}, \"width\": 800, \"xaxis\": {\"anchor\": \"y\", \"domain\": [0.0, 1.0], \"title\": {\"text\": \"\"}}, \"yaxis\": {\"anchor\": \"x\", \"domain\": [0.0, 1.0], \"title\": {\"text\": \"\"}}},\n",
              "                        {\"responsive\": true}\n",
              "                    ).then(function(){\n",
              "                            \n",
              "var gd = document.getElementById('92d4d5d1-ff7c-4f0f-bd06-07c551254417');\n",
              "var x = new MutationObserver(function (mutations, observer) {{\n",
              "        var display = window.getComputedStyle(gd).display;\n",
              "        if (!display || display === 'none') {{\n",
              "            console.log([gd, 'removed!']);\n",
              "            Plotly.purge(gd);\n",
              "            observer.disconnect();\n",
              "        }}\n",
              "}});\n",
              "\n",
              "// Listen for the removal of the full notebook cells\n",
              "var notebookContainer = gd.closest('#notebook-container');\n",
              "if (notebookContainer) {{\n",
              "    x.observe(notebookContainer, {childList: true});\n",
              "}}\n",
              "\n",
              "// Listen for the clearing of the current output cell\n",
              "var outputEl = gd.closest('.output');\n",
              "if (outputEl) {{\n",
              "    x.observe(outputEl, {childList: true});\n",
              "}}\n",
              "\n",
              "                        })\n",
              "                };\n",
              "                \n",
              "            </script>\n",
              "        </div>\n",
              "</body>\n",
              "</html>"
            ]
          },
          "metadata": {
            "tags": []
          }
        }
      ]
    },
    {
      "cell_type": "markdown",
      "metadata": {
        "id": "1hh7OWqaoXlc"
      },
      "source": [
        "### Visualizating State Sales (Heatmap Plot of US)"
      ]
    },
    {
      "cell_type": "code",
      "metadata": {
        "colab": {
          "base_uri": "https://localhost:8080/",
          "height": 112
        },
        "id": "g06WjrpWwkfM",
        "outputId": "cc133a7a-20e9-41a1-89a7-ec4cf6aa04ea"
      },
      "source": [
        "#hide\n",
        "df_sales_st2.head(2)"
      ],
      "execution_count": 53,
      "outputs": [
        {
          "output_type": "execute_result",
          "data": {
            "text/html": [
              "<div>\n",
              "<style scoped>\n",
              "    .dataframe tbody tr th:only-of-type {\n",
              "        vertical-align: middle;\n",
              "    }\n",
              "\n",
              "    .dataframe tbody tr th {\n",
              "        vertical-align: top;\n",
              "    }\n",
              "\n",
              "    .dataframe thead th {\n",
              "        text-align: right;\n",
              "    }\n",
              "</style>\n",
              "<table border=\"1\" class=\"dataframe\">\n",
              "  <thead>\n",
              "    <tr style=\"text-align: right;\">\n",
              "      <th></th>\n",
              "      <th>State</th>\n",
              "      <th>Commodity</th>\n",
              "      <th>Time</th>\n",
              "      <th>Total Value ($US)</th>\n",
              "      <th>Abbrevation</th>\n",
              "    </tr>\n",
              "  </thead>\n",
              "  <tbody>\n",
              "    <tr>\n",
              "      <th>284</th>\n",
              "      <td>Wyoming</td>\n",
              "      <td>360410 Fireworks</td>\n",
              "      <td>2021-01-01</td>\n",
              "      <td>606265</td>\n",
              "      <td>WY</td>\n",
              "    </tr>\n",
              "    <tr>\n",
              "      <th>283</th>\n",
              "      <td>Wyoming</td>\n",
              "      <td>360410 Fireworks</td>\n",
              "      <td>2020-01-01</td>\n",
              "      <td>2208173</td>\n",
              "      <td>WY</td>\n",
              "    </tr>\n",
              "  </tbody>\n",
              "</table>\n",
              "</div>"
            ],
            "text/plain": [
              "       State         Commodity       Time  Total Value ($US) Abbrevation\n",
              "284  Wyoming  360410 Fireworks 2021-01-01             606265          WY\n",
              "283  Wyoming  360410 Fireworks 2020-01-01            2208173          WY"
            ]
          },
          "metadata": {
            "tags": []
          },
          "execution_count": 53
        }
      ]
    },
    {
      "cell_type": "code",
      "metadata": {
        "colab": {
          "base_uri": "https://localhost:8080/",
          "height": 542
        },
        "id": "E5btO8UByH1A",
        "outputId": "f2efd61f-cce5-4f56-95f9-5d1747fc9fd0"
      },
      "source": [
        "#collapse\n",
        "fig = px.choropleth(df_sales_st2,  # Input Pandas DataFrame\n",
        "                    locations=\"Abbrevation\",  # DataFrame column with locations\n",
        "                    color=\"Total Value ($US)\",  # DataFrame column with color values\n",
        "                    hover_name=\"Abbrevation\", # DataFrame column hover info\n",
        "                    locationmode = 'USA-states', # Set to plot as US States\n",
        "                    color_continuous_scale='Blues')\n",
        "\n",
        "fig.update_layout(\n",
        "    title={\n",
        "        'text': \"Firework Total Sales ($USD) 2016-2020\",\n",
        "        'y':.95,\n",
        "        'x':.5,\n",
        "        'xanchor': 'center',\n",
        "        'yanchor': 'top'},\n",
        "    geo_scope='usa')  # Plot only the USA instead of globe\n",
        "\n",
        "fig.show()\n",
        "\n",
        "# save fig to image\n",
        "fig.write_image(\"Total State Firework Sales ($USD) 2016-2020 (map).png\", \n",
        "                width=1980, \n",
        "                height=1080)\n",
        "fig.write_html(\"Total State Firework Sales ($USD) 2016-2020 (map).html\")"
      ],
      "execution_count": 103,
      "outputs": [
        {
          "output_type": "display_data",
          "data": {
            "text/html": [
              "<html>\n",
              "<head><meta charset=\"utf-8\" /></head>\n",
              "<body>\n",
              "    <div>\n",
              "            <script src=\"https://cdnjs.cloudflare.com/ajax/libs/mathjax/2.7.5/MathJax.js?config=TeX-AMS-MML_SVG\"></script><script type=\"text/javascript\">if (window.MathJax) {MathJax.Hub.Config({SVG: {font: \"STIX-Web\"}});}</script>\n",
              "                <script type=\"text/javascript\">window.PlotlyConfig = {MathJaxConfig: 'local'};</script>\n",
              "        <script src=\"https://cdn.plot.ly/plotly-latest.min.js\"></script>    \n",
              "            <div id=\"755dc16a-0208-459c-bc95-f538dc921060\" class=\"plotly-graph-div\" style=\"height:525px; width:100%;\"></div>\n",
              "            <script type=\"text/javascript\">\n",
              "                \n",
              "                    window.PLOTLYENV=window.PLOTLYENV || {};\n",
              "                    \n",
              "                if (document.getElementById(\"755dc16a-0208-459c-bc95-f538dc921060\")) {\n",
              "                    Plotly.newPlot(\n",
              "                        '755dc16a-0208-459c-bc95-f538dc921060',\n",
              "                        [{\"coloraxis\": \"coloraxis\", \"geo\": \"geo\", \"hoverlabel\": {\"namelength\": 0}, \"hovertemplate\": \"<b>%{hovertext}</b><br><br>Abbrevation=%{location}<br>Total Value ($US)=%{z}\", \"hovertext\": [\"AL\", \"AL\", \"AL\", \"AL\", \"AL\", \"AL\", \"AK\", \"AK\", \"AK\", \"AZ\", \"AZ\", \"AZ\", \"AZ\", \"AZ\", \"AZ\", \"AR\", \"AR\", \"AR\", \"AR\", \"AR\", \"AR\", \"CA\", \"CA\", \"CA\", \"CA\", \"CA\", \"CA\", \"CO\", \"CO\", \"CO\", \"CO\", \"CO\", \"CO\", \"CT\", \"CT\", \"CT\", \"CT\", \"CT\", \"CT\", \"FL\", \"FL\", \"FL\", \"FL\", \"FL\", \"FL\", \"GA\", \"GA\", \"GA\", \"GA\", \"GA\", \"GA\", \"HI\", \"HI\", \"HI\", \"HI\", \"HI\", \"ID\", \"ID\", \"ID\", \"ID\", \"ID\", \"ID\", \"IL\", \"IL\", \"IL\", \"IL\", \"IL\", \"IL\", \"IN\", \"IN\", \"IN\", \"IN\", \"IN\", \"IN\", \"IA\", \"IA\", \"IA\", \"IA\", \"IA\", \"IA\", \"KS\", \"KS\", \"KS\", \"KS\", \"KS\", \"KS\", \"KY\", \"KY\", \"KY\", \"KY\", \"KY\", \"KY\", \"LA\", \"LA\", \"LA\", \"LA\", \"LA\", \"LA\", \"ME\", \"ME\", \"ME\", \"ME\", \"ME\", \"ME\", \"MD\", \"MD\", \"MD\", \"MD\", \"MD\", \"MD\", \"MA\", \"MA\", \"MA\", \"MA\", \"MA\", \"MI\", \"MI\", \"MI\", \"MI\", \"MI\", \"MI\", \"MN\", \"MN\", \"MN\", \"MN\", \"MN\", \"MN\", \"MS\", \"MS\", \"MS\", \"MS\", \"MS\", \"MS\", \"MO\", \"MO\", \"MO\", \"MO\", \"MO\", \"MO\", \"MT\", \"MT\", \"MT\", \"MT\", \"MT\", \"MT\", \"NE\", \"NE\", \"NE\", \"NE\", \"NE\", \"NE\", \"NV\", \"NV\", \"NV\", \"NV\", \"NV\", \"NV\", \"NH\", \"NH\", \"NH\", \"NH\", \"NH\", \"NH\", \"NJ\", \"NJ\", \"NJ\", \"NJ\", \"NJ\", \"NJ\", \"NM\", \"NM\", \"NM\", \"NM\", \"NM\", \"NM\", \"NY\", \"NY\", \"NY\", \"NY\", \"NY\", \"NY\", \"NC\", \"NC\", \"NC\", \"NC\", \"ND\", \"ND\", \"ND\", \"ND\", \"ND\", \"ND\", \"OH\", \"OH\", \"OH\", \"OH\", \"OH\", \"OH\", \"OK\", \"OK\", \"OK\", \"OK\", \"OK\", \"OK\", \"OR\", \"OR\", \"OR\", \"OR\", \"OR\", \"OR\", \"PA\", \"PA\", \"PA\", \"PA\", \"PA\", \"PA\", \"PR\", \"RI\", \"RI\", \"RI\", \"RI\", \"SC\", \"SC\", \"SC\", \"SC\", \"SC\", \"SC\", \"SD\", \"SD\", \"SD\", \"SD\", \"SD\", \"SD\", \"TN\", \"TN\", \"TN\", \"TN\", \"TN\", \"TN\", \"TX\", \"TX\", \"TX\", \"TX\", \"TX\", \"TX\", \"UT\", \"UT\", \"UT\", \"UT\", \"UT\", \"UT\", \"VT\", \"VT\", \"VT\", \"VT\", \"VT\", \"VA\", \"VA\", \"VA\", \"VA\", \"VA\", \"VA\", \"WA\", \"WA\", \"WA\", \"WA\", \"WA\", \"WA\", \"WV\", \"WV\", \"WV\", \"WV\", \"WV\", \"WV\", \"WI\", \"WI\", \"WI\", \"WI\", \"WI\", \"WI\", \"WY\", \"WY\", \"WY\", \"WY\", \"WY\", \"WY\"], \"locationmode\": \"USA-states\", \"locations\": [\"AL\", \"AL\", \"AL\", \"AL\", \"AL\", \"AL\", \"AK\", \"AK\", \"AK\", \"AZ\", \"AZ\", \"AZ\", \"AZ\", \"AZ\", \"AZ\", \"AR\", \"AR\", \"AR\", \"AR\", \"AR\", \"AR\", \"CA\", \"CA\", \"CA\", \"CA\", \"CA\", \"CA\", \"CO\", \"CO\", \"CO\", \"CO\", \"CO\", \"CO\", \"CT\", \"CT\", \"CT\", \"CT\", \"CT\", \"CT\", \"FL\", \"FL\", \"FL\", \"FL\", \"FL\", \"FL\", \"GA\", \"GA\", \"GA\", \"GA\", \"GA\", \"GA\", \"HI\", \"HI\", \"HI\", \"HI\", \"HI\", \"ID\", \"ID\", \"ID\", \"ID\", \"ID\", \"ID\", \"IL\", \"IL\", \"IL\", \"IL\", \"IL\", \"IL\", \"IN\", \"IN\", \"IN\", \"IN\", \"IN\", \"IN\", \"IA\", \"IA\", \"IA\", \"IA\", \"IA\", \"IA\", \"KS\", \"KS\", \"KS\", \"KS\", \"KS\", \"KS\", \"KY\", \"KY\", \"KY\", \"KY\", \"KY\", \"KY\", \"LA\", \"LA\", \"LA\", \"LA\", \"LA\", \"LA\", \"ME\", \"ME\", \"ME\", \"ME\", \"ME\", \"ME\", \"MD\", \"MD\", \"MD\", \"MD\", \"MD\", \"MD\", \"MA\", \"MA\", \"MA\", \"MA\", \"MA\", \"MI\", \"MI\", \"MI\", \"MI\", \"MI\", \"MI\", \"MN\", \"MN\", \"MN\", \"MN\", \"MN\", \"MN\", \"MS\", \"MS\", \"MS\", \"MS\", \"MS\", \"MS\", \"MO\", \"MO\", \"MO\", \"MO\", \"MO\", \"MO\", \"MT\", \"MT\", \"MT\", \"MT\", \"MT\", \"MT\", \"NE\", \"NE\", \"NE\", \"NE\", \"NE\", \"NE\", \"NV\", \"NV\", \"NV\", \"NV\", \"NV\", \"NV\", \"NH\", \"NH\", \"NH\", \"NH\", \"NH\", \"NH\", \"NJ\", \"NJ\", \"NJ\", \"NJ\", \"NJ\", \"NJ\", \"NM\", \"NM\", \"NM\", \"NM\", \"NM\", \"NM\", \"NY\", \"NY\", \"NY\", \"NY\", \"NY\", \"NY\", \"NC\", \"NC\", \"NC\", \"NC\", \"ND\", \"ND\", \"ND\", \"ND\", \"ND\", \"ND\", \"OH\", \"OH\", \"OH\", \"OH\", \"OH\", \"OH\", \"OK\", \"OK\", \"OK\", \"OK\", \"OK\", \"OK\", \"OR\", \"OR\", \"OR\", \"OR\", \"OR\", \"OR\", \"PA\", \"PA\", \"PA\", \"PA\", \"PA\", \"PA\", \"PR\", \"RI\", \"RI\", \"RI\", \"RI\", \"SC\", \"SC\", \"SC\", \"SC\", \"SC\", \"SC\", \"SD\", \"SD\", \"SD\", \"SD\", \"SD\", \"SD\", \"TN\", \"TN\", \"TN\", \"TN\", \"TN\", \"TN\", \"TX\", \"TX\", \"TX\", \"TX\", \"TX\", \"TX\", \"UT\", \"UT\", \"UT\", \"UT\", \"UT\", \"UT\", \"VT\", \"VT\", \"VT\", \"VT\", \"VT\", \"VA\", \"VA\", \"VA\", \"VA\", \"VA\", \"VA\", \"WA\", \"WA\", \"WA\", \"WA\", \"WA\", \"WA\", \"WV\", \"WV\", \"WV\", \"WV\", \"WV\", \"WV\", \"WI\", \"WI\", \"WI\", \"WI\", \"WI\", \"WI\", \"WY\", \"WY\", \"WY\", \"WY\", \"WY\", \"WY\"], \"name\": \"\", \"type\": \"choropleth\", \"z\": [29602090, 19396430, 26399895, 28353392, 23141950, 12182078, 109001, 226399, 231243, 718000, 1034060, 1294404, 1042197, 1415936, 751640, 5808578, 2628217, 3956657, 3007191, 3800572, 2100336, 14067642, 13000442, 18402996, 17732810, 14968906, 5893441, 765963, 879850, 789824, 650888, 825313, 388155, 328714, 432540, 337954, 509653, 459680, 229605, 16666207, 18065772, 15931113, 16711138, 12022629, 4461091, 436063, 138007, 426309, 421266, 764976, 631432, 807483, 672925, 568458, 655480, 554955, 589311, 585801, 477691, 759796, 812962, 352596, 2461423, 1530614, 1390698, 3097163, 2746868, 1829695, 16652693, 16374560, 18239800, 14470363, 14005011, 6649006, 1742428, 1303879, 2609111, 2198849, 1119641, 108650, 12911925, 12247314, 18610498, 16099349, 14684427, 8413999, 2596400, 2405186, 2438346, 827564, 1254978, 544586, 1702419, 1082455, 1066447, 1290998, 2095682, 901738, 539235, 809437, 638882, 673825, 359297, 131687, 1229453, 1256016, 903650, 1957307, 598454, 719134, 80129, 80953, 185087, 164121, 534024, 8833036, 7236063, 7491151, 7810634, 7619099, 3287095, 419674, 484924, 872548, 642277, 961300, 29313, 2910675, 2069296, 2225561, 2258550, 2969119, 555513, 42662332, 42274580, 53918481, 51088748, 51835944, 26746992, 1572964, 1636271, 2452552, 2826581, 2380566, 956437, 18873198, 11182825, 7824307, 6648462, 6831504, 3375957, 6051183, 7548350, 8921663, 7366040, 5768449, 5773151, 2228863, 2097088, 1978039, 698641, 738995, 362949, 1001430, 1248003, 3498669, 1981527, 2612250, 280648, 211141, 223390, 193637, 104134, 236735, 131655, 3138765, 2841791, 3103837, 2251057, 3368009, 1546390, 276128, 197652, 275165, 513090, 2654136, 1913692, 1680911, 2199618, 2209584, 980664, 28969003, 26514838, 23636198, 31140380, 29260325, 16071093, 2128409, 1482712, 1933966, 1575292, 1145901, 486499, 710164, 891775, 1341795, 1494905, 1315321, 591434, 7563846, 8506912, 14542528, 15842819, 12740863, 6736289, 3512, 138439, 247992, 22629, 26424, 19483456, 18999940, 24564918, 18913998, 20753332, 13809613, 1542888, 914388, 1332329, 1916672, 2368591, 4020724, 7138557, 6690239, 7003917, 8806261, 7044736, 3376347, 17973475, 17158599, 16931495, 17435374, 16714499, 9361768, 3778233, 2671881, 3773807, 3149085, 3387747, 1883195, 235655, 355610, 346753, 186337, 318784, 677384, 1113267, 1649292, 1426308, 1520414, 517576, 6420545, 9339828, 10739279, 10587756, 11966065, 5613285, 34047, 173825, 300212, 180721, 168831, 179820, 8866292, 8052014, 10827106, 7936230, 6376219, 3590450, 1655074, 1853759, 2565544, 2390366, 2208173, 606265], \"zmax\": 100000}],\n",
              "                        {\"coloraxis\": {\"colorbar\": {\"title\": {\"text\": \"Total Value ($US)\"}}, \"colorscale\": [[0.0, \"rgb(247,251,255)\"], [0.125, \"rgb(222,235,247)\"], [0.25, \"rgb(198,219,239)\"], [0.375, \"rgb(158,202,225)\"], [0.5, \"rgb(107,174,214)\"], [0.625, \"rgb(66,146,198)\"], [0.75, \"rgb(33,113,181)\"], [0.875, \"rgb(8,81,156)\"], [1.0, \"rgb(8,48,107)\"]]}, \"geo\": {\"center\": {}, \"domain\": {\"x\": [0.0, 1.0], \"y\": [0.0, 1.0]}, \"scope\": \"usa\"}, \"legend\": {\"tracegroupgap\": 0}, \"margin\": {\"t\": 60}, \"template\": {\"data\": {\"bar\": [{\"error_x\": {\"color\": \"#2a3f5f\"}, \"error_y\": {\"color\": \"#2a3f5f\"}, \"marker\": {\"line\": {\"color\": \"#E5ECF6\", \"width\": 0.5}}, \"type\": \"bar\"}], \"barpolar\": [{\"marker\": {\"line\": {\"color\": \"#E5ECF6\", \"width\": 0.5}}, \"type\": \"barpolar\"}], \"carpet\": [{\"aaxis\": {\"endlinecolor\": \"#2a3f5f\", \"gridcolor\": \"white\", \"linecolor\": \"white\", \"minorgridcolor\": \"white\", \"startlinecolor\": \"#2a3f5f\"}, \"baxis\": {\"endlinecolor\": \"#2a3f5f\", \"gridcolor\": \"white\", \"linecolor\": \"white\", \"minorgridcolor\": \"white\", \"startlinecolor\": \"#2a3f5f\"}, \"type\": \"carpet\"}], \"choropleth\": [{\"colorbar\": {\"outlinewidth\": 0, \"ticks\": \"\"}, \"type\": \"choropleth\"}], \"contour\": [{\"colorbar\": {\"outlinewidth\": 0, \"ticks\": \"\"}, \"colorscale\": [[0.0, \"#0d0887\"], [0.1111111111111111, \"#46039f\"], [0.2222222222222222, \"#7201a8\"], [0.3333333333333333, \"#9c179e\"], [0.4444444444444444, \"#bd3786\"], [0.5555555555555556, \"#d8576b\"], [0.6666666666666666, \"#ed7953\"], [0.7777777777777778, \"#fb9f3a\"], [0.8888888888888888, \"#fdca26\"], [1.0, \"#f0f921\"]], \"type\": \"contour\"}], \"contourcarpet\": [{\"colorbar\": {\"outlinewidth\": 0, \"ticks\": \"\"}, \"type\": \"contourcarpet\"}], \"heatmap\": [{\"colorbar\": {\"outlinewidth\": 0, \"ticks\": \"\"}, \"colorscale\": [[0.0, \"#0d0887\"], [0.1111111111111111, \"#46039f\"], [0.2222222222222222, \"#7201a8\"], [0.3333333333333333, \"#9c179e\"], [0.4444444444444444, \"#bd3786\"], [0.5555555555555556, \"#d8576b\"], [0.6666666666666666, \"#ed7953\"], [0.7777777777777778, \"#fb9f3a\"], [0.8888888888888888, \"#fdca26\"], [1.0, \"#f0f921\"]], \"type\": \"heatmap\"}], \"heatmapgl\": [{\"colorbar\": {\"outlinewidth\": 0, \"ticks\": \"\"}, \"colorscale\": [[0.0, \"#0d0887\"], [0.1111111111111111, \"#46039f\"], [0.2222222222222222, \"#7201a8\"], [0.3333333333333333, \"#9c179e\"], [0.4444444444444444, \"#bd3786\"], [0.5555555555555556, \"#d8576b\"], [0.6666666666666666, \"#ed7953\"], [0.7777777777777778, \"#fb9f3a\"], [0.8888888888888888, \"#fdca26\"], [1.0, \"#f0f921\"]], \"type\": \"heatmapgl\"}], \"histogram\": [{\"marker\": {\"colorbar\": {\"outlinewidth\": 0, \"ticks\": \"\"}}, \"type\": \"histogram\"}], \"histogram2d\": [{\"colorbar\": {\"outlinewidth\": 0, \"ticks\": \"\"}, \"colorscale\": [[0.0, \"#0d0887\"], [0.1111111111111111, \"#46039f\"], [0.2222222222222222, \"#7201a8\"], [0.3333333333333333, \"#9c179e\"], [0.4444444444444444, \"#bd3786\"], [0.5555555555555556, \"#d8576b\"], [0.6666666666666666, \"#ed7953\"], [0.7777777777777778, \"#fb9f3a\"], [0.8888888888888888, \"#fdca26\"], [1.0, \"#f0f921\"]], \"type\": \"histogram2d\"}], \"histogram2dcontour\": [{\"colorbar\": {\"outlinewidth\": 0, \"ticks\": \"\"}, \"colorscale\": [[0.0, \"#0d0887\"], [0.1111111111111111, \"#46039f\"], [0.2222222222222222, \"#7201a8\"], [0.3333333333333333, \"#9c179e\"], [0.4444444444444444, \"#bd3786\"], [0.5555555555555556, \"#d8576b\"], [0.6666666666666666, \"#ed7953\"], [0.7777777777777778, \"#fb9f3a\"], [0.8888888888888888, \"#fdca26\"], [1.0, \"#f0f921\"]], \"type\": \"histogram2dcontour\"}], \"mesh3d\": [{\"colorbar\": {\"outlinewidth\": 0, \"ticks\": \"\"}, \"type\": \"mesh3d\"}], \"parcoords\": [{\"line\": {\"colorbar\": {\"outlinewidth\": 0, \"ticks\": \"\"}}, \"type\": \"parcoords\"}], \"pie\": [{\"automargin\": true, \"type\": \"pie\"}], \"scatter\": [{\"marker\": {\"colorbar\": {\"outlinewidth\": 0, \"ticks\": \"\"}}, \"type\": \"scatter\"}], \"scatter3d\": [{\"line\": {\"colorbar\": {\"outlinewidth\": 0, \"ticks\": \"\"}}, \"marker\": {\"colorbar\": {\"outlinewidth\": 0, \"ticks\": \"\"}}, \"type\": \"scatter3d\"}], \"scattercarpet\": [{\"marker\": {\"colorbar\": {\"outlinewidth\": 0, \"ticks\": \"\"}}, \"type\": \"scattercarpet\"}], \"scattergeo\": [{\"marker\": {\"colorbar\": {\"outlinewidth\": 0, \"ticks\": \"\"}}, \"type\": \"scattergeo\"}], \"scattergl\": [{\"marker\": {\"colorbar\": {\"outlinewidth\": 0, \"ticks\": \"\"}}, \"type\": \"scattergl\"}], \"scattermapbox\": [{\"marker\": {\"colorbar\": {\"outlinewidth\": 0, \"ticks\": \"\"}}, \"type\": \"scattermapbox\"}], \"scatterpolar\": [{\"marker\": {\"colorbar\": {\"outlinewidth\": 0, \"ticks\": \"\"}}, \"type\": \"scatterpolar\"}], \"scatterpolargl\": [{\"marker\": {\"colorbar\": {\"outlinewidth\": 0, \"ticks\": \"\"}}, \"type\": \"scatterpolargl\"}], \"scatterternary\": [{\"marker\": {\"colorbar\": {\"outlinewidth\": 0, \"ticks\": \"\"}}, \"type\": \"scatterternary\"}], \"surface\": [{\"colorbar\": {\"outlinewidth\": 0, \"ticks\": \"\"}, \"colorscale\": [[0.0, \"#0d0887\"], [0.1111111111111111, \"#46039f\"], [0.2222222222222222, \"#7201a8\"], [0.3333333333333333, \"#9c179e\"], [0.4444444444444444, \"#bd3786\"], [0.5555555555555556, \"#d8576b\"], [0.6666666666666666, \"#ed7953\"], [0.7777777777777778, \"#fb9f3a\"], [0.8888888888888888, \"#fdca26\"], [1.0, \"#f0f921\"]], \"type\": \"surface\"}], \"table\": [{\"cells\": {\"fill\": {\"color\": \"#EBF0F8\"}, \"line\": {\"color\": \"white\"}}, \"header\": {\"fill\": {\"color\": \"#C8D4E3\"}, \"line\": {\"color\": \"white\"}}, \"type\": \"table\"}]}, \"layout\": {\"annotationdefaults\": {\"arrowcolor\": \"#2a3f5f\", \"arrowhead\": 0, \"arrowwidth\": 1}, \"coloraxis\": {\"colorbar\": {\"outlinewidth\": 0, \"ticks\": \"\"}}, \"colorscale\": {\"diverging\": [[0, \"#8e0152\"], [0.1, \"#c51b7d\"], [0.2, \"#de77ae\"], [0.3, \"#f1b6da\"], [0.4, \"#fde0ef\"], [0.5, \"#f7f7f7\"], [0.6, \"#e6f5d0\"], [0.7, \"#b8e186\"], [0.8, \"#7fbc41\"], [0.9, \"#4d9221\"], [1, \"#276419\"]], \"sequential\": [[0.0, \"#0d0887\"], [0.1111111111111111, \"#46039f\"], [0.2222222222222222, \"#7201a8\"], [0.3333333333333333, \"#9c179e\"], [0.4444444444444444, \"#bd3786\"], [0.5555555555555556, \"#d8576b\"], [0.6666666666666666, \"#ed7953\"], [0.7777777777777778, \"#fb9f3a\"], [0.8888888888888888, \"#fdca26\"], [1.0, \"#f0f921\"]], \"sequentialminus\": [[0.0, \"#0d0887\"], [0.1111111111111111, \"#46039f\"], [0.2222222222222222, \"#7201a8\"], [0.3333333333333333, \"#9c179e\"], [0.4444444444444444, \"#bd3786\"], [0.5555555555555556, \"#d8576b\"], [0.6666666666666666, \"#ed7953\"], [0.7777777777777778, \"#fb9f3a\"], [0.8888888888888888, \"#fdca26\"], [1.0, \"#f0f921\"]]}, \"colorway\": [\"#636efa\", \"#EF553B\", \"#00cc96\", \"#ab63fa\", \"#FFA15A\", \"#19d3f3\", \"#FF6692\", \"#B6E880\", \"#FF97FF\", \"#FECB52\"], \"font\": {\"color\": \"#2a3f5f\"}, \"geo\": {\"bgcolor\": \"white\", \"lakecolor\": \"white\", \"landcolor\": \"#E5ECF6\", \"showlakes\": true, \"showland\": true, \"subunitcolor\": \"white\"}, \"hoverlabel\": {\"align\": \"left\"}, \"hovermode\": \"closest\", \"mapbox\": {\"style\": \"light\"}, \"paper_bgcolor\": \"white\", \"plot_bgcolor\": \"#E5ECF6\", \"polar\": {\"angularaxis\": {\"gridcolor\": \"white\", \"linecolor\": \"white\", \"ticks\": \"\"}, \"bgcolor\": \"#E5ECF6\", \"radialaxis\": {\"gridcolor\": \"white\", \"linecolor\": \"white\", \"ticks\": \"\"}}, \"scene\": {\"xaxis\": {\"backgroundcolor\": \"#E5ECF6\", \"gridcolor\": \"white\", \"gridwidth\": 2, \"linecolor\": \"white\", \"showbackground\": true, \"ticks\": \"\", \"zerolinecolor\": \"white\"}, \"yaxis\": {\"backgroundcolor\": \"#E5ECF6\", \"gridcolor\": \"white\", \"gridwidth\": 2, \"linecolor\": \"white\", \"showbackground\": true, \"ticks\": \"\", \"zerolinecolor\": \"white\"}, \"zaxis\": {\"backgroundcolor\": \"#E5ECF6\", \"gridcolor\": \"white\", \"gridwidth\": 2, \"linecolor\": \"white\", \"showbackground\": true, \"ticks\": \"\", \"zerolinecolor\": \"white\"}}, \"shapedefaults\": {\"line\": {\"color\": \"#2a3f5f\"}}, \"ternary\": {\"aaxis\": {\"gridcolor\": \"white\", \"linecolor\": \"white\", \"ticks\": \"\"}, \"baxis\": {\"gridcolor\": \"white\", \"linecolor\": \"white\", \"ticks\": \"\"}, \"bgcolor\": \"#E5ECF6\", \"caxis\": {\"gridcolor\": \"white\", \"linecolor\": \"white\", \"ticks\": \"\"}}, \"title\": {\"x\": 0.05}, \"xaxis\": {\"automargin\": true, \"gridcolor\": \"white\", \"linecolor\": \"white\", \"ticks\": \"\", \"title\": {\"standoff\": 15}, \"zerolinecolor\": \"white\", \"zerolinewidth\": 2}, \"yaxis\": {\"automargin\": true, \"gridcolor\": \"white\", \"linecolor\": \"white\", \"ticks\": \"\", \"title\": {\"standoff\": 15}, \"zerolinecolor\": \"white\", \"zerolinewidth\": 2}}}, \"title\": {\"text\": \"Firework Total Sales ($USD) 2016-2020\", \"x\": 0.5, \"xanchor\": \"center\", \"y\": 0.95, \"yanchor\": \"top\"}},\n",
              "                        {\"responsive\": true}\n",
              "                    ).then(function(){\n",
              "                            \n",
              "var gd = document.getElementById('755dc16a-0208-459c-bc95-f538dc921060');\n",
              "var x = new MutationObserver(function (mutations, observer) {{\n",
              "        var display = window.getComputedStyle(gd).display;\n",
              "        if (!display || display === 'none') {{\n",
              "            console.log([gd, 'removed!']);\n",
              "            Plotly.purge(gd);\n",
              "            observer.disconnect();\n",
              "        }}\n",
              "}});\n",
              "\n",
              "// Listen for the removal of the full notebook cells\n",
              "var notebookContainer = gd.closest('#notebook-container');\n",
              "if (notebookContainer) {{\n",
              "    x.observe(notebookContainer, {childList: true});\n",
              "}}\n",
              "\n",
              "// Listen for the clearing of the current output cell\n",
              "var outputEl = gd.closest('.output');\n",
              "if (outputEl) {{\n",
              "    x.observe(outputEl, {childList: true});\n",
              "}}\n",
              "\n",
              "                        })\n",
              "                };\n",
              "                \n",
              "            </script>\n",
              "        </div>\n",
              "</body>\n",
              "</html>"
            ]
          },
          "metadata": {
            "tags": []
          }
        }
      ]
    },
    {
      "cell_type": "markdown",
      "metadata": {
        "id": "IGoJz-c_L_Uk"
      },
      "source": [
        "# Putting It All Together \n",
        "\n",
        "* Combining injury and sales data.\n",
        "* Sales and Injury Correlation"
      ]
    },
    {
      "cell_type": "markdown",
      "metadata": {
        "id": "n1pr3FNlFfWw"
      },
      "source": [
        "### Total Sales Groupby Year"
      ]
    },
    {
      "cell_type": "code",
      "metadata": {
        "colab": {
          "base_uri": "https://localhost:8080/",
          "height": 238
        },
        "id": "xYeG9kfiM88U",
        "outputId": "edb88beb-b6ae-4520-c7ed-92b54b5c1e74"
      },
      "source": [
        "#collapse\n",
        "# Total Sales groupby Year\n",
        "sales_year = df_sales_st2.groupby(df_sales_st2['Time'].dt.year).sum().reset_index(drop=False)\n",
        "sales_year.rename(columns={'Time':'Year','Total Value ($US)':'Sales'},inplace=True)\n",
        "sales_year"
      ],
      "execution_count": 55,
      "outputs": [
        {
          "output_type": "execute_result",
          "data": {
            "text/html": [
              "<div>\n",
              "<style scoped>\n",
              "    .dataframe tbody tr th:only-of-type {\n",
              "        vertical-align: middle;\n",
              "    }\n",
              "\n",
              "    .dataframe tbody tr th {\n",
              "        vertical-align: top;\n",
              "    }\n",
              "\n",
              "    .dataframe thead th {\n",
              "        text-align: right;\n",
              "    }\n",
              "</style>\n",
              "<table border=\"1\" class=\"dataframe\">\n",
              "  <thead>\n",
              "    <tr style=\"text-align: right;\">\n",
              "      <th></th>\n",
              "      <th>Year</th>\n",
              "      <th>Sales</th>\n",
              "    </tr>\n",
              "  </thead>\n",
              "  <tbody>\n",
              "    <tr>\n",
              "      <th>0</th>\n",
              "      <td>2016</td>\n",
              "      <td>307825710</td>\n",
              "    </tr>\n",
              "    <tr>\n",
              "      <th>1</th>\n",
              "      <td>2017</td>\n",
              "      <td>279962808</td>\n",
              "    </tr>\n",
              "    <tr>\n",
              "      <th>2</th>\n",
              "      <td>2018</td>\n",
              "      <td>331072715</td>\n",
              "    </tr>\n",
              "    <tr>\n",
              "      <th>3</th>\n",
              "      <td>2019</td>\n",
              "      <td>320021354</td>\n",
              "    </tr>\n",
              "    <tr>\n",
              "      <th>4</th>\n",
              "      <td>2020</td>\n",
              "      <td>300987616</td>\n",
              "    </tr>\n",
              "    <tr>\n",
              "      <th>5</th>\n",
              "      <td>2021</td>\n",
              "      <td>157186415</td>\n",
              "    </tr>\n",
              "  </tbody>\n",
              "</table>\n",
              "</div>"
            ],
            "text/plain": [
              "   Year      Sales\n",
              "0  2016  307825710\n",
              "1  2017  279962808\n",
              "2  2018  331072715\n",
              "3  2019  320021354\n",
              "4  2020  300987616\n",
              "5  2021  157186415"
            ]
          },
          "metadata": {
            "tags": []
          },
          "execution_count": 55
        }
      ]
    },
    {
      "cell_type": "markdown",
      "metadata": {
        "id": "cB5RbRg5FhgQ"
      },
      "source": [
        "### Total Injuries Groupby Year"
      ]
    },
    {
      "cell_type": "code",
      "metadata": {
        "colab": {
          "base_uri": "https://localhost:8080/",
          "height": 206
        },
        "id": "U-zrJk59O3Z0",
        "outputId": "021e2949-0b90-4307-8e8c-2aae38b06e7d"
      },
      "source": [
        "#collapse\n",
        "# df_injury.groupby(['Treatment_Date']\n",
        "df_injury_count = df_injury.groupby(df_injury['Treatment_Date'].dt.year)['Age'].count().reset_index(name='Count')\n",
        "df_injury_count.rename(columns={'Treatment_Date':'Year'},inplace=True)\n",
        "df_injury_count"
      ],
      "execution_count": 56,
      "outputs": [
        {
          "output_type": "execute_result",
          "data": {
            "text/html": [
              "<div>\n",
              "<style scoped>\n",
              "    .dataframe tbody tr th:only-of-type {\n",
              "        vertical-align: middle;\n",
              "    }\n",
              "\n",
              "    .dataframe tbody tr th {\n",
              "        vertical-align: top;\n",
              "    }\n",
              "\n",
              "    .dataframe thead th {\n",
              "        text-align: right;\n",
              "    }\n",
              "</style>\n",
              "<table border=\"1\" class=\"dataframe\">\n",
              "  <thead>\n",
              "    <tr style=\"text-align: right;\">\n",
              "      <th></th>\n",
              "      <th>Year</th>\n",
              "      <th>Count</th>\n",
              "    </tr>\n",
              "  </thead>\n",
              "  <tbody>\n",
              "    <tr>\n",
              "      <th>0</th>\n",
              "      <td>2016</td>\n",
              "      <td>268</td>\n",
              "    </tr>\n",
              "    <tr>\n",
              "      <th>1</th>\n",
              "      <td>2017</td>\n",
              "      <td>329</td>\n",
              "    </tr>\n",
              "    <tr>\n",
              "      <th>2</th>\n",
              "      <td>2018</td>\n",
              "      <td>234</td>\n",
              "    </tr>\n",
              "    <tr>\n",
              "      <th>3</th>\n",
              "      <td>2019</td>\n",
              "      <td>261</td>\n",
              "    </tr>\n",
              "    <tr>\n",
              "      <th>4</th>\n",
              "      <td>2020</td>\n",
              "      <td>440</td>\n",
              "    </tr>\n",
              "  </tbody>\n",
              "</table>\n",
              "</div>"
            ],
            "text/plain": [
              "   Year  Count\n",
              "0  2016    268\n",
              "1  2017    329\n",
              "2  2018    234\n",
              "3  2019    261\n",
              "4  2020    440"
            ]
          },
          "metadata": {
            "tags": []
          },
          "execution_count": 56
        }
      ]
    },
    {
      "cell_type": "markdown",
      "metadata": {
        "id": "tD0D4VfWFowU"
      },
      "source": [
        "### Merging Sales and Injury DataFrame on Year"
      ]
    },
    {
      "cell_type": "code",
      "metadata": {
        "id": "kP1vz-62VRtM",
        "colab": {
          "base_uri": "https://localhost:8080/",
          "height": 238
        },
        "outputId": "d9709539-1a3c-4f2d-948c-ffed79dcc0d1"
      },
      "source": [
        "#collapse\n",
        "# Merge sales and injury dfs on year\n",
        "df_merged = sales_year.merge(df_injury_count,how='left')\n",
        "df_merged"
      ],
      "execution_count": 57,
      "outputs": [
        {
          "output_type": "execute_result",
          "data": {
            "text/html": [
              "<div>\n",
              "<style scoped>\n",
              "    .dataframe tbody tr th:only-of-type {\n",
              "        vertical-align: middle;\n",
              "    }\n",
              "\n",
              "    .dataframe tbody tr th {\n",
              "        vertical-align: top;\n",
              "    }\n",
              "\n",
              "    .dataframe thead th {\n",
              "        text-align: right;\n",
              "    }\n",
              "</style>\n",
              "<table border=\"1\" class=\"dataframe\">\n",
              "  <thead>\n",
              "    <tr style=\"text-align: right;\">\n",
              "      <th></th>\n",
              "      <th>Year</th>\n",
              "      <th>Sales</th>\n",
              "      <th>Count</th>\n",
              "    </tr>\n",
              "  </thead>\n",
              "  <tbody>\n",
              "    <tr>\n",
              "      <th>0</th>\n",
              "      <td>2016</td>\n",
              "      <td>307825710</td>\n",
              "      <td>268.0</td>\n",
              "    </tr>\n",
              "    <tr>\n",
              "      <th>1</th>\n",
              "      <td>2017</td>\n",
              "      <td>279962808</td>\n",
              "      <td>329.0</td>\n",
              "    </tr>\n",
              "    <tr>\n",
              "      <th>2</th>\n",
              "      <td>2018</td>\n",
              "      <td>331072715</td>\n",
              "      <td>234.0</td>\n",
              "    </tr>\n",
              "    <tr>\n",
              "      <th>3</th>\n",
              "      <td>2019</td>\n",
              "      <td>320021354</td>\n",
              "      <td>261.0</td>\n",
              "    </tr>\n",
              "    <tr>\n",
              "      <th>4</th>\n",
              "      <td>2020</td>\n",
              "      <td>300987616</td>\n",
              "      <td>440.0</td>\n",
              "    </tr>\n",
              "    <tr>\n",
              "      <th>5</th>\n",
              "      <td>2021</td>\n",
              "      <td>157186415</td>\n",
              "      <td>NaN</td>\n",
              "    </tr>\n",
              "  </tbody>\n",
              "</table>\n",
              "</div>"
            ],
            "text/plain": [
              "   Year      Sales  Count\n",
              "0  2016  307825710  268.0\n",
              "1  2017  279962808  329.0\n",
              "2  2018  331072715  234.0\n",
              "3  2019  320021354  261.0\n",
              "4  2020  300987616  440.0\n",
              "5  2021  157186415    NaN"
            ]
          },
          "metadata": {
            "tags": []
          },
          "execution_count": 57
        }
      ]
    },
    {
      "cell_type": "markdown",
      "metadata": {
        "id": "T-02ztCDFwkU"
      },
      "source": [
        "###Determining Correlation of New DataFrame"
      ]
    },
    {
      "cell_type": "code",
      "metadata": {
        "colab": {
          "base_uri": "https://localhost:8080/",
          "height": 143
        },
        "id": "zGfM6-vbaFRk",
        "outputId": "7149f9fe-81d4-4c84-f944-068062c40201"
      },
      "source": [
        "#collapse\n",
        "# Correlation\n",
        "df_merged.corr()"
      ],
      "execution_count": 58,
      "outputs": [
        {
          "output_type": "execute_result",
          "data": {
            "text/html": [
              "<div>\n",
              "<style scoped>\n",
              "    .dataframe tbody tr th:only-of-type {\n",
              "        vertical-align: middle;\n",
              "    }\n",
              "\n",
              "    .dataframe tbody tr th {\n",
              "        vertical-align: top;\n",
              "    }\n",
              "\n",
              "    .dataframe thead th {\n",
              "        text-align: right;\n",
              "    }\n",
              "</style>\n",
              "<table border=\"1\" class=\"dataframe\">\n",
              "  <thead>\n",
              "    <tr style=\"text-align: right;\">\n",
              "      <th></th>\n",
              "      <th>Year</th>\n",
              "      <th>Sales</th>\n",
              "      <th>Count</th>\n",
              "    </tr>\n",
              "  </thead>\n",
              "  <tbody>\n",
              "    <tr>\n",
              "      <th>Year</th>\n",
              "      <td>1.000000</td>\n",
              "      <td>-0.585906</td>\n",
              "      <td>0.529818</td>\n",
              "    </tr>\n",
              "    <tr>\n",
              "      <th>Sales</th>\n",
              "      <td>-0.585906</td>\n",
              "      <td>1.000000</td>\n",
              "      <td>-0.590087</td>\n",
              "    </tr>\n",
              "    <tr>\n",
              "      <th>Count</th>\n",
              "      <td>0.529818</td>\n",
              "      <td>-0.590087</td>\n",
              "      <td>1.000000</td>\n",
              "    </tr>\n",
              "  </tbody>\n",
              "</table>\n",
              "</div>"
            ],
            "text/plain": [
              "           Year     Sales     Count\n",
              "Year   1.000000 -0.585906  0.529818\n",
              "Sales -0.585906  1.000000 -0.590087\n",
              "Count  0.529818 -0.590087  1.000000"
            ]
          },
          "metadata": {
            "tags": []
          },
          "execution_count": 58
        }
      ]
    },
    {
      "cell_type": "markdown",
      "metadata": {
        "id": "pDb_PhWkw_8w"
      },
      "source": [
        "# __Summary__\n"
      ]
    },
    {
      "cell_type": "markdown",
      "metadata": {
        "id": "82X52FmVxJQE"
      },
      "source": [
        "__Injuries__\n",
        "\n",
        "<details>  \n",
        "<summary>Injury</summary>\n",
        "\n",
        "Ages 0-20 showed the highest rate of injury.  Injury rates by age decrease with age.  The 60+ age groups showed the lowest rate of injury\n",
        "\n",
        "Injuries to the hands, face, and eyes were the most common, while injuries to lower extemities were less common.\n",
        "\n",
        "</details>  \n",
        "\n",
        "__Sales__\n",
        "<details>  \n",
        "<summary>Sales</summary>\n",
        "\n",
        "The state of Missouri held the record for most spent on fireworks (over 250 million dollars over the past 5 years).  For comparision, Alaska spent around 560,000 dollars with the last five years\n",
        "\n",
        "</details>  \n",
        "\n",
        "__Correlation__\n",
        "<details>  \n",
        "<summary>Correlation</summary>\n",
        "\n",
        "There was no significate correlation between the number of injuries in a year compared to the number of sales.\n",
        "\n",
        "</details>  \n"
      ]
    }
  ]
}