{
  "nbformat": 4,
  "nbformat_minor": 0,
  "metadata": {
    "colab": {
      "name": "2021-08-01-bigquery-liquore-sales.ipynb",
      "provenance": [],
      "collapsed_sections": [],
      "authorship_tag": "ABX9TyMrPABG8a7QUDTNX5dYCICA",
      "include_colab_link": true
    },
    "kernelspec": {
      "name": "python3",
      "display_name": "Python 3"
    },
    "language_info": {
      "name": "python"
    },
    "accelerator": "GPU"
  },
  "cells": [
    {
      "cell_type": "markdown",
      "metadata": {
        "id": "view-in-github",
        "colab_type": "text"
      },
      "source": [
        "<a href=\"https://colab.research.google.com/github/drusho/blog/blob/master/_notebooks/2021-08-01-bigquery-liquore-sales.ipynb\" target=\"_parent\"><img src=\"https://colab.research.google.com/assets/colab-badge.svg\" alt=\"Open In Colab\"/></a>"
      ]
    },
    {
      "cell_type": "markdown",
      "metadata": {
        "id": "JQzq4lWjYYLE"
      },
      "source": [
        "# Using SQL to Analyze Iowa Liquor Sales\n",
        "> Exploring Public Datasets in Google BigQuery\n",
        "\n",
        "- toc: true\n",
        "- badges: true\n",
        "- comments: true\n",
        "- categories: [bigquery, pandas, plotly, sales, sql]\n",
        "- image: \"images/thumbnails/alcohol_money.jpg\"\n"
      ]
    },
    {
      "cell_type": "markdown",
      "metadata": {
        "id": "U6TAgugOE0NE"
      },
      "source": [
        "Notebook Created by: __David Rusho__ ([Github Blog](https://drusho.github.io/blog) | [Tableau](https://public.tableau.com/app/profile/drusho/) | [Linkedin](https://linkedin.com/in/davidrusho))"
      ]
    },
    {
      "cell_type": "markdown",
      "metadata": {
        "id": "20qqeZJB-u65"
      },
      "source": [
        "## About the Data \n",
        "\n",
        "__Data Source:__ [data.iowa.gov](https://data.iowa.gov/Sales-Distribution/Iowa-Liquor-Sales/m3tr-qhgy)\n",
        "\n",
        "__Provided by:__ Iowa Department of Commerce, Alcoholic Beverages Division\n",
        "\n",
        "__Data Created:__ November 7, 2014\n",
        "\n",
        "__Last Updated:__ July 1, 2021\n",
        "\n",
        "This dataset contains the spirits purchase information of Iowa Class “E” liquor licensees by product and date of purchase from January 1, 2014 to current. The dataset can be used to analyze total spirits sales in Iowa of individual products at the store level.\n",
        "\n",
        "Class E liquor license, for grocery stores, liquor stores, convenience stores, etc., allows commercial establishments to sell liquor for off-premises consumption in original unopened containers."
      ]
    },
    {
      "cell_type": "markdown",
      "metadata": {
        "id": "jd2Rd83lkRnj"
      },
      "source": [
        "#hide\n",
        "### Goals\n",
        "Determine sales trends for city/counties\n",
        "* Popular items sold\n",
        "* Locations for highest sales\n",
        "* Dates of most sales"
      ]
    },
    {
      "cell_type": "markdown",
      "metadata": {
        "id": "REhnXtKGbHUw"
      },
      "source": [
        "#hide\n",
        "#### Column Descriptions [(source)](https://data.iowa.gov/Sales-Distribution/Iowa-Liquor-Sales/m3tr-qhgy)\n",
        "\n",
        "<br> \n",
        "\n",
        "| Column Name | Description | Data Type |\n",
        "|:--|:--|:--|\n",
        "| Invoice/Item Number | Concatenated invoice and line number associated with the liquor order. | Plain Text |\n",
        "| Date | Date of Order | Date/Time |\n",
        "| Store Number | Unique number assigned to the store who ordered the liquor. | Plain Text |\n",
        "| Store Name | Name of store who ordered the liquor. | Plain Text  |\n",
        "| City | City where the store who ordered the liquor is located | Plain Text  |\n",
        "| Zip Code | Zip Code where the store who ordered the liquor is located | Plain Text  |\n",
        "| Store Location | Location of store who ordered the liquor. | Plain Text  |\n",
        "| County Number | Iowa county number for the county where store who ordered the liquor is located | Plain Text  |\n",
        "| County | County where the store who ordered the liquor is located | Plain Text  |\n",
        "| Category | Category code associated with the liquor ordered | Plain Text  |\n",
        "| Category Name | Category of the liquor ordered | Plain Text  |\n",
        "| Vendor Number | The vendor number of the company for the brand of liquor ordered | Plain Text  |\n",
        "| Vendor Name | The vendor name of the company for the brand of liquor ordered | Plain Text  |\n",
        "| Item Number | Item number for the individual liquor product ordered. | Plain Text  |\n",
        "| Item Description | Description of the individual liquor product ordered. | Plain Text  |\n",
        "| Pack | The number of bottles in a case for the liquor ordered | Number  |\n",
        "| Bottle Volume (ml) | Volume of each liquor bottle ordered in milliliters. | Number  |\n",
        "| State Bottle Cost | The amount that Alcoholic Beverages Division paid for each bottle of liquor ordered | Number  |\n",
        "| State Bottle Retail | The amount the store paid for each bottle of liquor ordered | Number |\n",
        "| Bottles Sold | The amount the store paid for each bottle of liquor ordered | Number |\n",
        "| Sale (Dollars) | Total cost of liquor order (number of bottles multiplied by the state bottle retail) | Number |\n",
        "| Volume Sold (Liters) | Total volume of liquor ordered in liters. (i.e. (Bottle Volume (ml) x Bottles Sold)/1,000) | Number |\n",
        "| Volume Sold (Gallons | Total volume of liquor ordered in gallons. (i.e. (Bottle Volume (ml) x Bottles Sold)/3785.411784) | Number |\n",
        "\n",
        "<br>\n",
        "\n",
        "_*Store Location_: \n",
        "\n",
        "The Address, City, State and Zip Code are geocoded to provide geographic coordinates. Accuracy of geocoding is dependent on how well the address is interpreted and the completeness of the reference data used. "
      ]
    },
    {
      "cell_type": "code",
      "metadata": {
        "colab": {
          "base_uri": "https://localhost:8080/"
        },
        "id": "QioR_MY95iNh",
        "outputId": "86d33056-2935-4ec6-91a1-3960a906822c"
      },
      "source": [
        "#hide\n",
        "# must upgrade plotly to avoid duplicate legend labels \n",
        "# https://community.plotly.com/t/redundant-legend-labels-unreproducable-tutorial/55175/2\n",
        "\n",
        "!pip install plotly --upgrade"
      ],
      "execution_count": 1,
      "outputs": [
        {
          "output_type": "stream",
          "text": [
            "Requirement already satisfied: plotly in /usr/local/lib/python3.7/dist-packages (4.4.1)\n",
            "Collecting plotly\n",
            "  Downloading plotly-5.2.1-py2.py3-none-any.whl (21.8 MB)\n",
            "\u001b[K     |████████████████████████████████| 21.8 MB 1.1 MB/s \n",
            "\u001b[?25hRequirement already satisfied: six in /usr/local/lib/python3.7/dist-packages (from plotly) (1.15.0)\n",
            "Collecting tenacity>=6.2.0\n",
            "  Downloading tenacity-8.0.1-py3-none-any.whl (24 kB)\n",
            "Installing collected packages: tenacity, plotly\n",
            "  Attempting uninstall: plotly\n",
            "    Found existing installation: plotly 4.4.1\n",
            "    Uninstalling plotly-4.4.1:\n",
            "      Successfully uninstalled plotly-4.4.1\n",
            "Successfully installed plotly-5.2.1 tenacity-8.0.1\n"
          ],
          "name": "stdout"
        }
      ]
    },
    {
      "cell_type": "code",
      "metadata": {
        "id": "CuskvqAo_x6a"
      },
      "source": [
        "#hide\n",
        "import pandas as pd\n",
        "from google.colab import auth\n",
        "auth.authenticate_user()\n",
        "\n",
        "#set global float format \n",
        "pd.options.display.float_format = '{:,.2f}'.format\n",
        "\n",
        "#display data tables with filters\n",
        "# %load_ext google.colab.data_table"
      ],
      "execution_count": 2,
      "outputs": []
    },
    {
      "cell_type": "code",
      "metadata": {
        "id": "iLyYaSMGmH1E"
      },
      "source": [
        "#hide\n",
        "# Google BigQuery Setup\n",
        "\n",
        "#Project ID\n",
        "pjt_id = \"brilliant-era-321603\" \n",
        "\n",
        "# data locations\n",
        "bpd = \"bigquery-public-data\"\n",
        "dataset = \"iowa_liquor_sales\"\n",
        "table = \"sales\"\n",
        "\n",
        "# data location full path\n",
        "dataloc = f\"`{bpd}.{dataset}.{table}`\""
      ],
      "execution_count": 3,
      "outputs": []
    },
    {
      "cell_type": "markdown",
      "metadata": {
        "id": "MB5xnBzV445P"
      },
      "source": [
        "## Google BigQuery (SQL Queries)"
      ]
    },
    {
      "cell_type": "markdown",
      "metadata": {
        "id": "-sRhWKj6neHh"
      },
      "source": [
        "### Count Table Rows"
      ]
    },
    {
      "cell_type": "code",
      "metadata": {
        "colab": {
          "base_uri": "https://localhost:8080/",
          "height": 81
        },
        "id": "q3Nbm8oZNCxX",
        "outputId": "bdb18193-cda2-4bde-8177-7c70d0e56f44"
      },
      "source": [
        "#collapse\n",
        "# query: count table rows and shows years\n",
        "row_count = pd.io.gbq.read_gbq(\n",
        "    f\"\"\"\n",
        " SELECT\n",
        "    COUNT(*) as total_rows\n",
        "  FROM {dataloc}\n",
        "  LIMIT 1\"\"\",\n",
        "    project_id=pjt_id,\n",
        "\n",
        ")\n",
        "\n",
        "row_count"
      ],
      "execution_count": 4,
      "outputs": [
        {
          "output_type": "execute_result",
          "data": {
            "text/html": [
              "<div>\n",
              "<style scoped>\n",
              "    .dataframe tbody tr th:only-of-type {\n",
              "        vertical-align: middle;\n",
              "    }\n",
              "\n",
              "    .dataframe tbody tr th {\n",
              "        vertical-align: top;\n",
              "    }\n",
              "\n",
              "    .dataframe thead th {\n",
              "        text-align: right;\n",
              "    }\n",
              "</style>\n",
              "<table border=\"1\" class=\"dataframe\">\n",
              "  <thead>\n",
              "    <tr style=\"text-align: right;\">\n",
              "      <th></th>\n",
              "      <th>total_rows</th>\n",
              "    </tr>\n",
              "  </thead>\n",
              "  <tbody>\n",
              "    <tr>\n",
              "      <th>0</th>\n",
              "      <td>19118960</td>\n",
              "    </tr>\n",
              "  </tbody>\n",
              "</table>\n",
              "</div>"
            ],
            "text/plain": [
              "   total_rows\n",
              "0    19118960"
            ]
          },
          "metadata": {},
          "execution_count": 4
        }
      ]
    },
    {
      "cell_type": "markdown",
      "metadata": {
        "id": "Ca1NL7EXngHV"
      },
      "source": [
        "### Show Distinct Years "
      ]
    },
    {
      "cell_type": "code",
      "metadata": {
        "colab": {
          "base_uri": "https://localhost:8080/",
          "height": 363
        },
        "id": "haEkFDe7nXZC",
        "outputId": "b1599886-20b5-4770-f886-1cc24f58c4ba"
      },
      "source": [
        "yrs = pd.io.gbq.read_gbq(\n",
        "    f\"\"\"SELECT\n",
        "  DISTINCT(FORMAT_DATE('%Y', date)) AS years,\n",
        "  FROM {dataloc}\n",
        "  ORDER BY\n",
        "    years DESC \"\"\",\n",
        "    project_id=pjt_id,)\n",
        "\n",
        "yrs"
      ],
      "execution_count": 5,
      "outputs": [
        {
          "output_type": "execute_result",
          "data": {
            "text/html": [
              "<div>\n",
              "<style scoped>\n",
              "    .dataframe tbody tr th:only-of-type {\n",
              "        vertical-align: middle;\n",
              "    }\n",
              "\n",
              "    .dataframe tbody tr th {\n",
              "        vertical-align: top;\n",
              "    }\n",
              "\n",
              "    .dataframe thead th {\n",
              "        text-align: right;\n",
              "    }\n",
              "</style>\n",
              "<table border=\"1\" class=\"dataframe\">\n",
              "  <thead>\n",
              "    <tr style=\"text-align: right;\">\n",
              "      <th></th>\n",
              "      <th>years</th>\n",
              "    </tr>\n",
              "  </thead>\n",
              "  <tbody>\n",
              "    <tr>\n",
              "      <th>0</th>\n",
              "      <td>2020</td>\n",
              "    </tr>\n",
              "    <tr>\n",
              "      <th>1</th>\n",
              "      <td>2019</td>\n",
              "    </tr>\n",
              "    <tr>\n",
              "      <th>2</th>\n",
              "      <td>2018</td>\n",
              "    </tr>\n",
              "    <tr>\n",
              "      <th>3</th>\n",
              "      <td>2017</td>\n",
              "    </tr>\n",
              "    <tr>\n",
              "      <th>4</th>\n",
              "      <td>2016</td>\n",
              "    </tr>\n",
              "    <tr>\n",
              "      <th>5</th>\n",
              "      <td>2015</td>\n",
              "    </tr>\n",
              "    <tr>\n",
              "      <th>6</th>\n",
              "      <td>2014</td>\n",
              "    </tr>\n",
              "    <tr>\n",
              "      <th>7</th>\n",
              "      <td>2013</td>\n",
              "    </tr>\n",
              "    <tr>\n",
              "      <th>8</th>\n",
              "      <td>2012</td>\n",
              "    </tr>\n",
              "    <tr>\n",
              "      <th>9</th>\n",
              "      <td>None</td>\n",
              "    </tr>\n",
              "  </tbody>\n",
              "</table>\n",
              "</div>"
            ],
            "text/plain": [
              "  years\n",
              "0  2020\n",
              "1  2019\n",
              "2  2018\n",
              "3  2017\n",
              "4  2016\n",
              "5  2015\n",
              "6  2014\n",
              "7  2013\n",
              "8  2012\n",
              "9  None"
            ]
          },
          "metadata": {},
          "execution_count": 5
        }
      ]
    },
    {
      "cell_type": "markdown",
      "metadata": {
        "id": "Z9M4HL6Z5S8j"
      },
      "source": [
        "### Total Liquior Sales by Date (Top 5)\n"
      ]
    },
    {
      "cell_type": "code",
      "metadata": {
        "colab": {
          "base_uri": "https://localhost:8080/",
          "height": 206
        },
        "id": "nEH0XcWvaiA4",
        "outputId": "0281b664-9b7d-4248-e838-f9598fb5cf04"
      },
      "source": [
        "#collapse\n",
        "# query: top 5 sales by date \n",
        "sum_sales_date = pd.io.gbq.read_gbq(\n",
        "    f\"\"\"\n",
        "  SELECT\n",
        "    date,\n",
        "    FORMAT_DATE('%A', date) AS day_name,\n",
        "    ROUND(SUM(sale_dollars),2) AS total_sales,\n",
        "  FROM\n",
        "    {dataloc}\n",
        "  GROUP BY\n",
        "    date\n",
        "  ORDER BY\n",
        "    total_sales DESC\n",
        "  \"\"\",\n",
        "    project_id=pjt_id,) \n",
        "\n",
        "sum_sales_date.head(5)"
      ],
      "execution_count": 6,
      "outputs": [
        {
          "output_type": "execute_result",
          "data": {
            "text/html": [
              "<div>\n",
              "<style scoped>\n",
              "    .dataframe tbody tr th:only-of-type {\n",
              "        vertical-align: middle;\n",
              "    }\n",
              "\n",
              "    .dataframe tbody tr th {\n",
              "        vertical-align: top;\n",
              "    }\n",
              "\n",
              "    .dataframe thead th {\n",
              "        text-align: right;\n",
              "    }\n",
              "</style>\n",
              "<table border=\"1\" class=\"dataframe\">\n",
              "  <thead>\n",
              "    <tr style=\"text-align: right;\">\n",
              "      <th></th>\n",
              "      <th>date</th>\n",
              "      <th>day_name</th>\n",
              "      <th>total_sales</th>\n",
              "    </tr>\n",
              "  </thead>\n",
              "  <tbody>\n",
              "    <tr>\n",
              "      <th>0</th>\n",
              "      <td>2013-10-04</td>\n",
              "      <td>Friday</td>\n",
              "      <td>3,516,318.05</td>\n",
              "    </tr>\n",
              "    <tr>\n",
              "      <th>1</th>\n",
              "      <td>2013-10-11</td>\n",
              "      <td>Friday</td>\n",
              "      <td>3,278,998.01</td>\n",
              "    </tr>\n",
              "    <tr>\n",
              "      <th>2</th>\n",
              "      <td>2020-09-29</td>\n",
              "      <td>Tuesday</td>\n",
              "      <td>2,420,417.11</td>\n",
              "    </tr>\n",
              "    <tr>\n",
              "      <th>3</th>\n",
              "      <td>2019-07-31</td>\n",
              "      <td>Wednesday</td>\n",
              "      <td>2,357,939.86</td>\n",
              "    </tr>\n",
              "    <tr>\n",
              "      <th>4</th>\n",
              "      <td>2019-09-05</td>\n",
              "      <td>Thursday</td>\n",
              "      <td>2,290,099.19</td>\n",
              "    </tr>\n",
              "  </tbody>\n",
              "</table>\n",
              "</div>"
            ],
            "text/plain": [
              "        date   day_name  total_sales\n",
              "0 2013-10-04     Friday 3,516,318.05\n",
              "1 2013-10-11     Friday 3,278,998.01\n",
              "2 2020-09-29    Tuesday 2,420,417.11\n",
              "3 2019-07-31  Wednesday 2,357,939.86\n",
              "4 2019-09-05   Thursday 2,290,099.19"
            ]
          },
          "metadata": {},
          "execution_count": 6
        }
      ]
    },
    {
      "cell_type": "markdown",
      "metadata": {
        "id": "3NJx-YaE5ZYQ"
      },
      "source": [
        "### Total Liquior Sales by Weekday\n",
        "\n",
        "Total liquior sales by weekdays tend to go in order of the week, with Sunday have the least amount of sales.  This could be due to city/county restrictions placed on alcohol sales for these days."
      ]
    },
    {
      "cell_type": "code",
      "metadata": {
        "colab": {
          "base_uri": "https://localhost:8080/",
          "height": 269
        },
        "id": "2TnWwIHpf3LJ",
        "outputId": "9f663880-9c99-4ac2-c8f8-978ef538bfac"
      },
      "source": [
        "#collapse\n",
        "# query: top 5 sales by weekday name\n",
        "sum_sales_wkday = pd.io.gbq.read_gbq(\n",
        "    f\"\"\"\n",
        "  SELECT\n",
        "    FORMAT_DATE('%A', date) AS day_name,\n",
        "    ROUND(SUM(sale_dollars),2) AS total_sales,\n",
        "  FROM\n",
        "    {dataloc}\n",
        "  GROUP BY\n",
        "    day_name\n",
        "  ORDER BY\n",
        "    total_sales DESC\n",
        "  \"\"\",\n",
        "    project_id=pjt_id,) \n",
        "\n",
        "sum_sales_wkday.head(7)"
      ],
      "execution_count": 7,
      "outputs": [
        {
          "output_type": "execute_result",
          "data": {
            "text/html": [
              "<div>\n",
              "<style scoped>\n",
              "    .dataframe tbody tr th:only-of-type {\n",
              "        vertical-align: middle;\n",
              "    }\n",
              "\n",
              "    .dataframe tbody tr th {\n",
              "        vertical-align: top;\n",
              "    }\n",
              "\n",
              "    .dataframe thead th {\n",
              "        text-align: right;\n",
              "    }\n",
              "</style>\n",
              "<table border=\"1\" class=\"dataframe\">\n",
              "  <thead>\n",
              "    <tr style=\"text-align: right;\">\n",
              "      <th></th>\n",
              "      <th>day_name</th>\n",
              "      <th>total_sales</th>\n",
              "    </tr>\n",
              "  </thead>\n",
              "  <tbody>\n",
              "    <tr>\n",
              "      <th>0</th>\n",
              "      <td>Monday</td>\n",
              "      <td>614,633,388.47</td>\n",
              "    </tr>\n",
              "    <tr>\n",
              "      <th>1</th>\n",
              "      <td>Wednesday</td>\n",
              "      <td>597,276,323.07</td>\n",
              "    </tr>\n",
              "    <tr>\n",
              "      <th>2</th>\n",
              "      <td>Tuesday</td>\n",
              "      <td>568,500,848.31</td>\n",
              "    </tr>\n",
              "    <tr>\n",
              "      <th>3</th>\n",
              "      <td>Thursday</td>\n",
              "      <td>541,557,663.51</td>\n",
              "    </tr>\n",
              "    <tr>\n",
              "      <th>4</th>\n",
              "      <td>Friday</td>\n",
              "      <td>240,018,689.70</td>\n",
              "    </tr>\n",
              "    <tr>\n",
              "      <th>5</th>\n",
              "      <td>Saturday</td>\n",
              "      <td>13,397,909.20</td>\n",
              "    </tr>\n",
              "    <tr>\n",
              "      <th>6</th>\n",
              "      <td>Sunday</td>\n",
              "      <td>23,760.06</td>\n",
              "    </tr>\n",
              "  </tbody>\n",
              "</table>\n",
              "</div>"
            ],
            "text/plain": [
              "    day_name    total_sales\n",
              "0     Monday 614,633,388.47\n",
              "1  Wednesday 597,276,323.07\n",
              "2    Tuesday 568,500,848.31\n",
              "3   Thursday 541,557,663.51\n",
              "4     Friday 240,018,689.70\n",
              "5   Saturday  13,397,909.20\n",
              "6     Sunday      23,760.06"
            ]
          },
          "metadata": {},
          "execution_count": 7
        }
      ]
    },
    {
      "cell_type": "markdown",
      "metadata": {
        "id": "Bbs5wO0G5gGG"
      },
      "source": [
        "### Total Liquior Sales by Month"
      ]
    },
    {
      "cell_type": "code",
      "metadata": {
        "colab": {
          "base_uri": "https://localhost:8080/",
          "height": 426
        },
        "id": "dN4YNml3iwYG",
        "outputId": "a06ba804-ea36-4e2a-97de-efd2bdce536f"
      },
      "source": [
        "#collapse\n",
        "# query: top 5 sales by month name\n",
        "sum_sales_mth = pd.io.gbq.read_gbq(\n",
        "    f\"\"\"\n",
        "  SELECT\n",
        "    FORMAT_DATE('%B', date) AS month,\n",
        "    ROUND(SUM(sale_dollars),2) AS total_sales,\n",
        "  FROM\n",
        "    {dataloc}\n",
        "  GROUP BY\n",
        "    month\n",
        "  ORDER BY\n",
        "    total_sales DESC\n",
        "  \"\"\",\n",
        "    project_id=pjt_id,) \n",
        "\n",
        "sum_sales_mth.head(12)"
      ],
      "execution_count": 9,
      "outputs": [
        {
          "output_type": "execute_result",
          "data": {
            "text/html": [
              "<div>\n",
              "<style scoped>\n",
              "    .dataframe tbody tr th:only-of-type {\n",
              "        vertical-align: middle;\n",
              "    }\n",
              "\n",
              "    .dataframe tbody tr th {\n",
              "        vertical-align: top;\n",
              "    }\n",
              "\n",
              "    .dataframe thead th {\n",
              "        text-align: right;\n",
              "    }\n",
              "</style>\n",
              "<table border=\"1\" class=\"dataframe\">\n",
              "  <thead>\n",
              "    <tr style=\"text-align: right;\">\n",
              "      <th></th>\n",
              "      <th>month</th>\n",
              "      <th>total_sales</th>\n",
              "    </tr>\n",
              "  </thead>\n",
              "  <tbody>\n",
              "    <tr>\n",
              "      <th>0</th>\n",
              "      <td>October</td>\n",
              "      <td>247,480,506.06</td>\n",
              "    </tr>\n",
              "    <tr>\n",
              "      <th>1</th>\n",
              "      <td>June</td>\n",
              "      <td>242,536,518.44</td>\n",
              "    </tr>\n",
              "    <tr>\n",
              "      <th>2</th>\n",
              "      <td>May</td>\n",
              "      <td>237,071,848.85</td>\n",
              "    </tr>\n",
              "    <tr>\n",
              "      <th>3</th>\n",
              "      <td>August</td>\n",
              "      <td>231,144,768.16</td>\n",
              "    </tr>\n",
              "    <tr>\n",
              "      <th>4</th>\n",
              "      <td>July</td>\n",
              "      <td>226,319,830.86</td>\n",
              "    </tr>\n",
              "    <tr>\n",
              "      <th>5</th>\n",
              "      <td>April</td>\n",
              "      <td>219,497,647.39</td>\n",
              "    </tr>\n",
              "    <tr>\n",
              "      <th>6</th>\n",
              "      <td>December</td>\n",
              "      <td>212,573,994.46</td>\n",
              "    </tr>\n",
              "    <tr>\n",
              "      <th>7</th>\n",
              "      <td>March</td>\n",
              "      <td>208,744,805.41</td>\n",
              "    </tr>\n",
              "    <tr>\n",
              "      <th>8</th>\n",
              "      <td>September</td>\n",
              "      <td>201,244,550.88</td>\n",
              "    </tr>\n",
              "    <tr>\n",
              "      <th>9</th>\n",
              "      <td>February</td>\n",
              "      <td>195,893,866.98</td>\n",
              "    </tr>\n",
              "    <tr>\n",
              "      <th>10</th>\n",
              "      <td>November</td>\n",
              "      <td>195,440,741.81</td>\n",
              "    </tr>\n",
              "    <tr>\n",
              "      <th>11</th>\n",
              "      <td>January</td>\n",
              "      <td>157,459,503.02</td>\n",
              "    </tr>\n",
              "  </tbody>\n",
              "</table>\n",
              "</div>"
            ],
            "text/plain": [
              "        month    total_sales\n",
              "0     October 247,480,506.06\n",
              "1        June 242,536,518.44\n",
              "2         May 237,071,848.85\n",
              "3      August 231,144,768.16\n",
              "4        July 226,319,830.86\n",
              "5       April 219,497,647.39\n",
              "6    December 212,573,994.46\n",
              "7       March 208,744,805.41\n",
              "8   September 201,244,550.88\n",
              "9    February 195,893,866.98\n",
              "10   November 195,440,741.81\n",
              "11    January 157,459,503.02"
            ]
          },
          "metadata": {},
          "execution_count": 9
        }
      ]
    },
    {
      "cell_type": "markdown",
      "metadata": {
        "id": "7R0aPF7Y5qWH"
      },
      "source": [
        "### Total Liquior Sales by Day for December (Top 5)"
      ]
    },
    {
      "cell_type": "code",
      "metadata": {
        "colab": {
          "base_uri": "https://localhost:8080/",
          "height": 206
        },
        "id": "cQwnOsUMjO8C",
        "outputId": "c9f341a2-24d9-4d3b-ab08-fbc79fd8bbc0"
      },
      "source": [
        "#collapse\n",
        "# query: top 5 sales by month (December)\n",
        "dec_sum_sales = pd.io.gbq.read_gbq(\n",
        "    f\"\"\"\n",
        "  SELECT\n",
        "    EXTRACT(DAY FROM date) AS day,\n",
        "    ROUND(SUM(sale_dollars),2) AS total_sales,\n",
        "  FROM\n",
        "     {dataloc}\n",
        "  WHERE\n",
        "    FORMAT_DATE('%B', date) = 'December'\n",
        "  GROUP BY\n",
        "    day\n",
        "  ORDER BY\n",
        "    total_sales DESC\n",
        "  \"\"\",\n",
        "    project_id=pjt_id,) \n",
        "\n",
        "dec_sum_sales.head(5)"
      ],
      "execution_count": 10,
      "outputs": [
        {
          "output_type": "execute_result",
          "data": {
            "text/html": [
              "<div>\n",
              "<style scoped>\n",
              "    .dataframe tbody tr th:only-of-type {\n",
              "        vertical-align: middle;\n",
              "    }\n",
              "\n",
              "    .dataframe tbody tr th {\n",
              "        vertical-align: top;\n",
              "    }\n",
              "\n",
              "    .dataframe thead th {\n",
              "        text-align: right;\n",
              "    }\n",
              "</style>\n",
              "<table border=\"1\" class=\"dataframe\">\n",
              "  <thead>\n",
              "    <tr style=\"text-align: right;\">\n",
              "      <th></th>\n",
              "      <th>day</th>\n",
              "      <th>total_sales</th>\n",
              "    </tr>\n",
              "  </thead>\n",
              "  <tbody>\n",
              "    <tr>\n",
              "      <th>0</th>\n",
              "      <td>26</td>\n",
              "      <td>11,284,143.90</td>\n",
              "    </tr>\n",
              "    <tr>\n",
              "      <th>1</th>\n",
              "      <td>27</td>\n",
              "      <td>10,255,324.46</td>\n",
              "    </tr>\n",
              "    <tr>\n",
              "      <th>2</th>\n",
              "      <td>19</td>\n",
              "      <td>9,622,026.31</td>\n",
              "    </tr>\n",
              "    <tr>\n",
              "      <th>3</th>\n",
              "      <td>21</td>\n",
              "      <td>9,506,483.97</td>\n",
              "    </tr>\n",
              "    <tr>\n",
              "      <th>4</th>\n",
              "      <td>18</td>\n",
              "      <td>9,504,026.97</td>\n",
              "    </tr>\n",
              "  </tbody>\n",
              "</table>\n",
              "</div>"
            ],
            "text/plain": [
              "   day   total_sales\n",
              "0   26 11,284,143.90\n",
              "1   27 10,255,324.46\n",
              "2   19  9,622,026.31\n",
              "3   21  9,506,483.97\n",
              "4   18  9,504,026.97"
            ]
          },
          "metadata": {},
          "execution_count": 10
        }
      ]
    },
    {
      "cell_type": "markdown",
      "metadata": {
        "id": "r1eJll5N5vDl"
      },
      "source": [
        "### Total Liquior Sales by Day for June (Top 5)"
      ]
    },
    {
      "cell_type": "code",
      "metadata": {
        "colab": {
          "base_uri": "https://localhost:8080/"
        },
        "id": "I3sU_7MAgVII",
        "outputId": "c4319e0c-38a9-4527-a2ee-e1fe63b966d2"
      },
      "source": [
        "#collapse\n",
        "# query: top 5 sales by month (June)\n",
        "june_sum_sales = pd.io.gbq.read_gbq(\n",
        "    f\"\"\"\n",
        "  SELECT\n",
        "    EXTRACT(DAY FROM date) AS day,\n",
        "    ROUND(SUM(sale_dollars),2) AS total_sales,\n",
        "  FROM\n",
        "     {dataloc}\n",
        "  WHERE\n",
        "    FORMAT_DATE('%B', date) = 'June'\n",
        "  GROUP BY\n",
        "    day\n",
        "  ORDER BY\n",
        "    total_sales DESC\n",
        "  \"\"\",\n",
        "    project_id=pjt_id,) \n",
        "\n",
        "june_sum_sales.head(5)"
      ],
      "execution_count": null,
      "outputs": [
        {
          "output_type": "execute_result",
          "data": {
            "text/html": [
              "<div>\n",
              "<style scoped>\n",
              "    .dataframe tbody tr th:only-of-type {\n",
              "        vertical-align: middle;\n",
              "    }\n",
              "\n",
              "    .dataframe tbody tr th {\n",
              "        vertical-align: top;\n",
              "    }\n",
              "\n",
              "    .dataframe thead th {\n",
              "        text-align: right;\n",
              "    }\n",
              "</style>\n",
              "<table border=\"1\" class=\"dataframe\">\n",
              "  <thead>\n",
              "    <tr style=\"text-align: right;\">\n",
              "      <th></th>\n",
              "      <th>day</th>\n",
              "      <th>total_sales</th>\n",
              "    </tr>\n",
              "  </thead>\n",
              "  <tbody>\n",
              "    <tr>\n",
              "      <th>0</th>\n",
              "      <td>26</td>\n",
              "      <td>12,997,654.91</td>\n",
              "    </tr>\n",
              "    <tr>\n",
              "      <th>1</th>\n",
              "      <td>27</td>\n",
              "      <td>11,085,004.80</td>\n",
              "    </tr>\n",
              "    <tr>\n",
              "      <th>2</th>\n",
              "      <td>25</td>\n",
              "      <td>10,683,658.61</td>\n",
              "    </tr>\n",
              "    <tr>\n",
              "      <th>3</th>\n",
              "      <td>5</td>\n",
              "      <td>9,840,296.04</td>\n",
              "    </tr>\n",
              "    <tr>\n",
              "      <th>4</th>\n",
              "      <td>4</td>\n",
              "      <td>9,823,520.72</td>\n",
              "    </tr>\n",
              "  </tbody>\n",
              "</table>\n",
              "</div>"
            ],
            "text/plain": [
              "   day   total_sales\n",
              "0   26 12,997,654.91\n",
              "1   27 11,085,004.80\n",
              "2   25 10,683,658.61\n",
              "3    5  9,840,296.04\n",
              "4    4  9,823,520.72"
            ]
          },
          "metadata": {},
          "execution_count": 35
        }
      ]
    },
    {
      "cell_type": "markdown",
      "metadata": {
        "id": "Ix4qmcc85zes"
      },
      "source": [
        "### Total Liquior Sales by City (Top 5)"
      ]
    },
    {
      "cell_type": "code",
      "metadata": {
        "colab": {
          "base_uri": "https://localhost:8080/"
        },
        "id": "BrMODgVK2KhK",
        "outputId": "b1b68aef-5fae-472f-b41e-9e7dac1c8895"
      },
      "source": [
        "#collapse\n",
        "# query: top 5 sales by city\n",
        "city_sum_sales = pd.io.gbq.read_gbq(\n",
        "    f\"\"\"\n",
        "  SELECT\n",
        "    LOWER(city) AS city,\n",
        "    ROUND(CAST(SUM(sale_dollars) AS numeric),0) AS total_sales,\n",
        "  FROM\n",
        "     {dataloc}\n",
        "  GROUP BY\n",
        "    city\n",
        "  ORDER BY\n",
        "    total_sales DESC\n",
        "  \"\"\",\n",
        "    project_id=pjt_id,) \n",
        "\n",
        "# title case for city col\n",
        "city_sum_sales.city = city_sum_sales.city.str.title()\n",
        "\n",
        "#convert total_sales to float\n",
        "city_sum_sales.total_sales = city_sum_sales.total_sales.astype('float')\n",
        "\n",
        "city_sum_sales.head()"
      ],
      "execution_count": null,
      "outputs": [
        {
          "output_type": "execute_result",
          "data": {
            "text/html": [
              "<div>\n",
              "<style scoped>\n",
              "    .dataframe tbody tr th:only-of-type {\n",
              "        vertical-align: middle;\n",
              "    }\n",
              "\n",
              "    .dataframe tbody tr th {\n",
              "        vertical-align: top;\n",
              "    }\n",
              "\n",
              "    .dataframe thead th {\n",
              "        text-align: right;\n",
              "    }\n",
              "</style>\n",
              "<table border=\"1\" class=\"dataframe\">\n",
              "  <thead>\n",
              "    <tr style=\"text-align: right;\">\n",
              "      <th></th>\n",
              "      <th>city</th>\n",
              "      <th>total_sales</th>\n",
              "    </tr>\n",
              "  </thead>\n",
              "  <tbody>\n",
              "    <tr>\n",
              "      <th>0</th>\n",
              "      <td>Des Moines</td>\n",
              "      <td>316,446,115.00</td>\n",
              "    </tr>\n",
              "    <tr>\n",
              "      <th>1</th>\n",
              "      <td>Cedar Rapids</td>\n",
              "      <td>173,729,963.00</td>\n",
              "    </tr>\n",
              "    <tr>\n",
              "      <th>2</th>\n",
              "      <td>Davenport</td>\n",
              "      <td>131,458,370.00</td>\n",
              "    </tr>\n",
              "    <tr>\n",
              "      <th>3</th>\n",
              "      <td>West Des Moines</td>\n",
              "      <td>98,289,070.00</td>\n",
              "    </tr>\n",
              "    <tr>\n",
              "      <th>4</th>\n",
              "      <td>Waterloo</td>\n",
              "      <td>91,743,568.00</td>\n",
              "    </tr>\n",
              "  </tbody>\n",
              "</table>\n",
              "</div>"
            ],
            "text/plain": [
              "              city    total_sales\n",
              "0       Des Moines 316,446,115.00\n",
              "1     Cedar Rapids 173,729,963.00\n",
              "2        Davenport 131,458,370.00\n",
              "3  West Des Moines  98,289,070.00\n",
              "4         Waterloo  91,743,568.00"
            ]
          },
          "metadata": {},
          "execution_count": 36
        }
      ]
    },
    {
      "cell_type": "markdown",
      "metadata": {
        "id": "vAyKfVUX6PI7"
      },
      "source": [
        "### Sales by County (Top 5)"
      ]
    },
    {
      "cell_type": "code",
      "metadata": {
        "colab": {
          "base_uri": "https://localhost:8080/"
        },
        "id": "7cCwRIiS9TWb",
        "outputId": "a295b309-be74-418c-baac-38445bd8bab1"
      },
      "source": [
        "#collapse\n",
        "# query: top 5 sales by county\n",
        "county_sum_sales = pd.io.gbq.read_gbq(\n",
        "    f\"\"\"\n",
        "  SELECT\n",
        "    LOWER(county) AS county,\n",
        "    ROUND(CAST(SUM(sale_dollars) AS numeric),0) AS total_sales,\n",
        "  FROM\n",
        "     {dataloc}\n",
        "  GROUP BY\n",
        "    county\n",
        "  ORDER BY\n",
        "    total_sales DESC\n",
        "  \"\"\",\n",
        "    project_id=pjt_id,) \n",
        "\n",
        "# title case for county col\n",
        "county_sum_sales.county = county_sum_sales.county.str.title()\n",
        "\n",
        "#convert total_sales to float\n",
        "county_sum_sales.total_sales = county_sum_sales.total_sales.astype('float')\n",
        "\n",
        "county_sum_sales.head()"
      ],
      "execution_count": null,
      "outputs": [
        {
          "output_type": "execute_result",
          "data": {
            "text/html": [
              "<div>\n",
              "<style scoped>\n",
              "    .dataframe tbody tr th:only-of-type {\n",
              "        vertical-align: middle;\n",
              "    }\n",
              "\n",
              "    .dataframe tbody tr th {\n",
              "        vertical-align: top;\n",
              "    }\n",
              "\n",
              "    .dataframe thead th {\n",
              "        text-align: right;\n",
              "    }\n",
              "</style>\n",
              "<table border=\"1\" class=\"dataframe\">\n",
              "  <thead>\n",
              "    <tr style=\"text-align: right;\">\n",
              "      <th></th>\n",
              "      <th>county</th>\n",
              "      <th>total_sales</th>\n",
              "    </tr>\n",
              "  </thead>\n",
              "  <tbody>\n",
              "    <tr>\n",
              "      <th>0</th>\n",
              "      <td>Polk</td>\n",
              "      <td>577,370,868.00</td>\n",
              "    </tr>\n",
              "    <tr>\n",
              "      <th>1</th>\n",
              "      <td>Linn</td>\n",
              "      <td>224,323,673.00</td>\n",
              "    </tr>\n",
              "    <tr>\n",
              "      <th>2</th>\n",
              "      <td>Scott</td>\n",
              "      <td>184,738,695.00</td>\n",
              "    </tr>\n",
              "    <tr>\n",
              "      <th>3</th>\n",
              "      <td>Johnson</td>\n",
              "      <td>153,257,799.00</td>\n",
              "    </tr>\n",
              "    <tr>\n",
              "      <th>4</th>\n",
              "      <td>Black Hawk</td>\n",
              "      <td>145,297,452.00</td>\n",
              "    </tr>\n",
              "  </tbody>\n",
              "</table>\n",
              "</div>"
            ],
            "text/plain": [
              "       county    total_sales\n",
              "0        Polk 577,370,868.00\n",
              "1        Linn 224,323,673.00\n",
              "2       Scott 184,738,695.00\n",
              "3     Johnson 153,257,799.00\n",
              "4  Black Hawk 145,297,452.00"
            ]
          },
          "metadata": {},
          "execution_count": 37
        }
      ]
    },
    {
      "cell_type": "markdown",
      "metadata": {
        "id": "kRY78T-D6WVu"
      },
      "source": [
        "### Sales by Vendor (Top 5)"
      ]
    },
    {
      "cell_type": "code",
      "metadata": {
        "colab": {
          "base_uri": "https://localhost:8080/"
        },
        "id": "8kEHBkn_p6Oa",
        "outputId": "53a3fcc2-350e-42e7-9380-8354fc5f322e"
      },
      "source": [
        "#collapse\n",
        "# query: top 5 sales by vendor \n",
        "vendor_sum_sales = pd.io.gbq.read_gbq(\n",
        "    f\"\"\"\n",
        "  SELECT\n",
        "    LOWER(vendor_name) AS vendor,\n",
        "    ROUND(CAST(SUM(sale_dollars) AS numeric),0) AS total_sales\n",
        "  FROM\n",
        "    {dataloc}\n",
        "  GROUP BY\n",
        "    vendor\n",
        "  ORDER BY\n",
        "    total_sales DESC\n",
        "  \"\"\",\n",
        "    project_id=pjt_id,) \n",
        "\n",
        "# title case for vendor col\n",
        "vendor_sum_sales.vendor = vendor_sum_sales.vendor.str.title()\n",
        "\n",
        "#convert total_sales to float\n",
        "vendor_sum_sales.total_sales = vendor_sum_sales.total_sales.astype('float')\n",
        "\n",
        "vendor_sum_sales.head()"
      ],
      "execution_count": null,
      "outputs": [
        {
          "output_type": "execute_result",
          "data": {
            "text/html": [
              "<div>\n",
              "<style scoped>\n",
              "    .dataframe tbody tr th:only-of-type {\n",
              "        vertical-align: middle;\n",
              "    }\n",
              "\n",
              "    .dataframe tbody tr th {\n",
              "        vertical-align: top;\n",
              "    }\n",
              "\n",
              "    .dataframe thead th {\n",
              "        text-align: right;\n",
              "    }\n",
              "</style>\n",
              "<table border=\"1\" class=\"dataframe\">\n",
              "  <thead>\n",
              "    <tr style=\"text-align: right;\">\n",
              "      <th></th>\n",
              "      <th>vendor</th>\n",
              "      <th>total_sales</th>\n",
              "    </tr>\n",
              "  </thead>\n",
              "  <tbody>\n",
              "    <tr>\n",
              "      <th>0</th>\n",
              "      <td>Diageo Americas</td>\n",
              "      <td>551,505,642.00</td>\n",
              "    </tr>\n",
              "    <tr>\n",
              "      <th>1</th>\n",
              "      <td>Jim Beam Brands</td>\n",
              "      <td>199,903,939.00</td>\n",
              "    </tr>\n",
              "    <tr>\n",
              "      <th>2</th>\n",
              "      <td>Sazerac Company  Inc</td>\n",
              "      <td>115,002,985.00</td>\n",
              "    </tr>\n",
              "    <tr>\n",
              "      <th>3</th>\n",
              "      <td>Pernod Ricard Usa</td>\n",
              "      <td>93,186,264.00</td>\n",
              "    </tr>\n",
              "    <tr>\n",
              "      <th>4</th>\n",
              "      <td>Pernod Ricard Usa/Austin Nichols</td>\n",
              "      <td>92,119,352.00</td>\n",
              "    </tr>\n",
              "  </tbody>\n",
              "</table>\n",
              "</div>"
            ],
            "text/plain": [
              "                             vendor    total_sales\n",
              "0                   Diageo Americas 551,505,642.00\n",
              "1                   Jim Beam Brands 199,903,939.00\n",
              "2              Sazerac Company  Inc 115,002,985.00\n",
              "3                 Pernod Ricard Usa  93,186,264.00\n",
              "4  Pernod Ricard Usa/Austin Nichols  92,119,352.00"
            ]
          },
          "metadata": {},
          "execution_count": 38
        }
      ]
    },
    {
      "cell_type": "markdown",
      "metadata": {
        "id": "hshyS4xs6anm"
      },
      "source": [
        "### Sales by Item (Top 5)"
      ]
    },
    {
      "cell_type": "code",
      "metadata": {
        "colab": {
          "base_uri": "https://localhost:8080/"
        },
        "id": "Ij1h5WsQsg37",
        "outputId": "5d0a9b0c-a69c-4665-f305-2a46cf1c2606"
      },
      "source": [
        "#collapse\n",
        "# query: top 5 sales by item \n",
        "\n",
        "item_sum_sales = pd.io.gbq.read_gbq(\n",
        "    f\"\"\"\n",
        "  SELECT\n",
        "    LOWER(item_description) AS item,\n",
        "    ROUND(CAST(SUM(sale_dollars) AS numeric),0) AS total_sales\n",
        "  FROM\n",
        "    {dataloc}\n",
        "  GROUP BY\n",
        "    item\n",
        "  ORDER BY\n",
        "    total_sales DESC\n",
        "     \"\"\",\n",
        "    project_id=pjt_id,) \n",
        "\n",
        "# title case for item col\n",
        "item_sum_sales.item = item_sum_sales.item.str.title()\n",
        "\n",
        "#convert total_sales to float\n",
        "item_sum_sales.total_sales = item_sum_sales.total_sales.astype('float')\n",
        "\n",
        "item_sum_sales.head()"
      ],
      "execution_count": null,
      "outputs": [
        {
          "output_type": "execute_result",
          "data": {
            "text/html": [
              "<div>\n",
              "<style scoped>\n",
              "    .dataframe tbody tr th:only-of-type {\n",
              "        vertical-align: middle;\n",
              "    }\n",
              "\n",
              "    .dataframe tbody tr th {\n",
              "        vertical-align: top;\n",
              "    }\n",
              "\n",
              "    .dataframe thead th {\n",
              "        text-align: right;\n",
              "    }\n",
              "</style>\n",
              "<table border=\"1\" class=\"dataframe\">\n",
              "  <thead>\n",
              "    <tr style=\"text-align: right;\">\n",
              "      <th></th>\n",
              "      <th>item</th>\n",
              "      <th>total_sales</th>\n",
              "    </tr>\n",
              "  </thead>\n",
              "  <tbody>\n",
              "    <tr>\n",
              "      <th>0</th>\n",
              "      <td>Black Velvet</td>\n",
              "      <td>103,941,337.00</td>\n",
              "    </tr>\n",
              "    <tr>\n",
              "      <th>1</th>\n",
              "      <td>Captain Morgan Spiced Rum</td>\n",
              "      <td>72,872,932.00</td>\n",
              "    </tr>\n",
              "    <tr>\n",
              "      <th>2</th>\n",
              "      <td>Titos Handmade Vodka</td>\n",
              "      <td>67,739,561.00</td>\n",
              "    </tr>\n",
              "    <tr>\n",
              "      <th>3</th>\n",
              "      <td>Jack Daniels Old #7 Black Lbl</td>\n",
              "      <td>67,262,715.00</td>\n",
              "    </tr>\n",
              "    <tr>\n",
              "      <th>4</th>\n",
              "      <td>Fireball Cinnamon Whiskey</td>\n",
              "      <td>55,922,339.00</td>\n",
              "    </tr>\n",
              "  </tbody>\n",
              "</table>\n",
              "</div>"
            ],
            "text/plain": [
              "                            item    total_sales\n",
              "0                   Black Velvet 103,941,337.00\n",
              "1      Captain Morgan Spiced Rum  72,872,932.00\n",
              "2           Titos Handmade Vodka  67,739,561.00\n",
              "3  Jack Daniels Old #7 Black Lbl  67,262,715.00\n",
              "4      Fireball Cinnamon Whiskey  55,922,339.00"
            ]
          },
          "metadata": {},
          "execution_count": 39
        }
      ]
    },
    {
      "cell_type": "markdown",
      "metadata": {
        "id": "4NcPbUQv6e8e"
      },
      "source": [
        "### Sales by Item and Category (Top 5)"
      ]
    },
    {
      "cell_type": "code",
      "metadata": {
        "colab": {
          "base_uri": "https://localhost:8080/"
        },
        "id": "doUGheyswGl9",
        "outputId": "4416ad4d-450d-4e53-b6bf-5f7e73ff531d"
      },
      "source": [
        "#collapse\n",
        "# query: top 5 sales by item & category\n",
        "\n",
        "item_cat_sum_sales = pd.io.gbq.read_gbq(\n",
        "    f\"\"\"\n",
        "  SELECT\n",
        "    LOWER(item_description) AS item,\n",
        "    LOWER(category_name) AS category,\n",
        "    ROUND(CAST(SUM(sale_dollars) AS numeric),0) AS total_sales\n",
        "  FROM\n",
        "    {dataloc}\n",
        "  GROUP BY\n",
        "    item,category\n",
        "  ORDER BY\n",
        "    total_sales DESC\n",
        "       \"\"\",\n",
        "    project_id=pjt_id,) \n",
        "\n",
        "# title case for item col\n",
        "item_cat_sum_sales.item = item_cat_sum_sales.item.str.title()\n",
        "\n",
        "# title case for category col\n",
        "item_cat_sum_sales.category = item_cat_sum_sales.category.str.title()\n",
        "\n",
        "#convert total_sales to float\n",
        "item_cat_sum_sales.total_sales = item_cat_sum_sales.total_sales.astype('float')\n",
        "\n",
        "item_cat_sum_sales.head()"
      ],
      "execution_count": null,
      "outputs": [
        {
          "output_type": "execute_result",
          "data": {
            "text/html": [
              "<div>\n",
              "<style scoped>\n",
              "    .dataframe tbody tr th:only-of-type {\n",
              "        vertical-align: middle;\n",
              "    }\n",
              "\n",
              "    .dataframe tbody tr th {\n",
              "        vertical-align: top;\n",
              "    }\n",
              "\n",
              "    .dataframe thead th {\n",
              "        text-align: right;\n",
              "    }\n",
              "</style>\n",
              "<table border=\"1\" class=\"dataframe\">\n",
              "  <thead>\n",
              "    <tr style=\"text-align: right;\">\n",
              "      <th></th>\n",
              "      <th>item</th>\n",
              "      <th>category</th>\n",
              "      <th>total_sales</th>\n",
              "    </tr>\n",
              "  </thead>\n",
              "  <tbody>\n",
              "    <tr>\n",
              "      <th>0</th>\n",
              "      <td>Black Velvet</td>\n",
              "      <td>Canadian Whiskies</td>\n",
              "      <td>103,941,337.00</td>\n",
              "    </tr>\n",
              "    <tr>\n",
              "      <th>1</th>\n",
              "      <td>Captain Morgan Spiced Rum</td>\n",
              "      <td>Spiced Rum</td>\n",
              "      <td>72,872,932.00</td>\n",
              "    </tr>\n",
              "    <tr>\n",
              "      <th>2</th>\n",
              "      <td>Jack Daniels Old #7 Black Lbl</td>\n",
              "      <td>Tennessee Whiskies</td>\n",
              "      <td>67,262,715.00</td>\n",
              "    </tr>\n",
              "    <tr>\n",
              "      <th>3</th>\n",
              "      <td>Titos Handmade Vodka</td>\n",
              "      <td>American Vodkas</td>\n",
              "      <td>60,750,450.00</td>\n",
              "    </tr>\n",
              "    <tr>\n",
              "      <th>4</th>\n",
              "      <td>Fireball Cinnamon Whiskey</td>\n",
              "      <td>Whiskey Liqueur</td>\n",
              "      <td>55,922,339.00</td>\n",
              "    </tr>\n",
              "  </tbody>\n",
              "</table>\n",
              "</div>"
            ],
            "text/plain": [
              "                            item            category    total_sales\n",
              "0                   Black Velvet   Canadian Whiskies 103,941,337.00\n",
              "1      Captain Morgan Spiced Rum          Spiced Rum  72,872,932.00\n",
              "2  Jack Daniels Old #7 Black Lbl  Tennessee Whiskies  67,262,715.00\n",
              "3           Titos Handmade Vodka     American Vodkas  60,750,450.00\n",
              "4      Fireball Cinnamon Whiskey     Whiskey Liqueur  55,922,339.00"
            ]
          },
          "metadata": {},
          "execution_count": 40
        }
      ]
    },
    {
      "cell_type": "markdown",
      "metadata": {
        "id": "_hnZdeTC6i9h"
      },
      "source": [
        "### Sales by Item and Category for the Year 2020 (Top 5)"
      ]
    },
    {
      "cell_type": "code",
      "metadata": {
        "id": "5QcDUaKWzpZ7",
        "colab": {
          "base_uri": "https://localhost:8080/",
          "height": 206
        },
        "outputId": "484f1462-684c-4108-d8ec-5b9a4d8c23a8"
      },
      "source": [
        "#collapse\n",
        "# query: top 5 sales by item & category for 2020\n",
        "\n",
        "item_cat_sum_sales_2020 = pd.io.gbq.read_gbq(\n",
        "    f\"\"\"\n",
        "  SELECT\n",
        "    FORMAT_DATE('%Y', date) AS year,\n",
        "    LOWER(item_description) AS item,\n",
        "    LOWER(category_name) AS category,\n",
        "    ROUND(CAST(SUM(sale_dollars) AS numeric),0) AS total_sales\n",
        "  FROM\n",
        "    {dataloc}\n",
        "  WHERE\n",
        "    FORMAT_DATE('%Y', date) LIKE ('%2020%')\n",
        "  GROUP BY\n",
        "    item,\n",
        "    category,\n",
        "    year\n",
        "  ORDER BY\n",
        "    total_sales DESC\n",
        "       \"\"\",\n",
        "    project_id=pjt_id,) \n",
        "\n",
        "# title case for item col\n",
        "item_cat_sum_sales_2020.item = item_cat_sum_sales_2020.item.str.title()\n",
        "\n",
        "# title case for category col\n",
        "item_cat_sum_sales_2020.category = item_cat_sum_sales_2020.category.str.title()\n",
        "\n",
        "#convert total_sales to float\n",
        "item_cat_sum_sales_2020.total_sales = item_cat_sum_sales_2020.total_sales.astype('float')\n",
        "\n",
        "item_cat_sum_sales_2020.head()"
      ],
      "execution_count": 17,
      "outputs": [
        {
          "output_type": "execute_result",
          "data": {
            "text/html": [
              "<div>\n",
              "<style scoped>\n",
              "    .dataframe tbody tr th:only-of-type {\n",
              "        vertical-align: middle;\n",
              "    }\n",
              "\n",
              "    .dataframe tbody tr th {\n",
              "        vertical-align: top;\n",
              "    }\n",
              "\n",
              "    .dataframe thead th {\n",
              "        text-align: right;\n",
              "    }\n",
              "</style>\n",
              "<table border=\"1\" class=\"dataframe\">\n",
              "  <thead>\n",
              "    <tr style=\"text-align: right;\">\n",
              "      <th></th>\n",
              "      <th>year</th>\n",
              "      <th>item</th>\n",
              "      <th>category</th>\n",
              "      <th>total_sales</th>\n",
              "    </tr>\n",
              "  </thead>\n",
              "  <tbody>\n",
              "    <tr>\n",
              "      <th>0</th>\n",
              "      <td>2020</td>\n",
              "      <td>Titos Handmade Vodka</td>\n",
              "      <td>American Vodkas</td>\n",
              "      <td>20,148,376.00</td>\n",
              "    </tr>\n",
              "    <tr>\n",
              "      <th>1</th>\n",
              "      <td>2020</td>\n",
              "      <td>Black Velvet</td>\n",
              "      <td>Canadian Whiskies</td>\n",
              "      <td>11,308,314.00</td>\n",
              "    </tr>\n",
              "    <tr>\n",
              "      <th>2</th>\n",
              "      <td>2020</td>\n",
              "      <td>Hennessy Vs</td>\n",
              "      <td>Imported Brandies</td>\n",
              "      <td>9,315,170.00</td>\n",
              "    </tr>\n",
              "    <tr>\n",
              "      <th>3</th>\n",
              "      <td>2020</td>\n",
              "      <td>Captain Morgan Original Spiced</td>\n",
              "      <td>Spiced Rum</td>\n",
              "      <td>8,696,774.00</td>\n",
              "    </tr>\n",
              "    <tr>\n",
              "      <th>4</th>\n",
              "      <td>2020</td>\n",
              "      <td>Crown Royal</td>\n",
              "      <td>Canadian Whiskies</td>\n",
              "      <td>8,448,506.00</td>\n",
              "    </tr>\n",
              "  </tbody>\n",
              "</table>\n",
              "</div>"
            ],
            "text/plain": [
              "   year                            item           category   total_sales\n",
              "0  2020            Titos Handmade Vodka    American Vodkas 20,148,376.00\n",
              "1  2020                    Black Velvet  Canadian Whiskies 11,308,314.00\n",
              "2  2020                     Hennessy Vs  Imported Brandies  9,315,170.00\n",
              "3  2020  Captain Morgan Original Spiced         Spiced Rum  8,696,774.00\n",
              "4  2020                     Crown Royal  Canadian Whiskies  8,448,506.00"
            ]
          },
          "metadata": {},
          "execution_count": 17
        }
      ]
    },
    {
      "cell_type": "code",
      "metadata": {
        "id": "BWCSDy5P5bbK",
        "colab": {
          "base_uri": "https://localhost:8080/",
          "height": 542
        },
        "outputId": "ebf99e1a-b23a-4517-d478-bd8333f371d5"
      },
      "source": [
        "#collapse\n",
        "# plot: top 5 sales by item & category for 2020\n",
        "import plotly.express as px\n",
        "\n",
        "item_2020 = (\n",
        "    item_cat_sum_sales_2020.sort_values(by=\"total_sales\", ascending=False)\n",
        "    .head(10)\n",
        "    .copy()\n",
        ")\n",
        "item_2020 = item_2020.sort_values(by=\"total_sales\", ascending=True)\n",
        "\n",
        "fig = px.bar(\n",
        "    item_2020,\n",
        "    x=\"total_sales\",\n",
        "    y=\"item\",\n",
        "    orientation=\"h\",\n",
        "    text=\"total_sales\",\n",
        "    color=\"category\",\n",
        ")\n",
        "\n",
        "# update bar markers\n",
        "fig.update_traces(textposition=\"inside\")\n",
        "\n",
        "# update plot details\n",
        "fig.update_layout(\n",
        "    {\"plot_bgcolor\": \"rgba(255,255,255, 0.9)\"},  # white background\n",
        "    title={\n",
        "        \"text\": f\"2020 Sales by Item & Category \",\n",
        "        \"y\": 0.98,\n",
        "        \"x\": 0.5,\n",
        "        \"xanchor\": \"center\",\n",
        "        \"yanchor\": \"top\",\n",
        "    },\n",
        "    yaxis_title=\"\" #remove axis titles\n",
        ")\n",
        "\n",
        "fig.show()"
      ],
      "execution_count": 20,
      "outputs": [
        {
          "output_type": "display_data",
          "data": {
            "text/html": [
              "<html>\n",
              "<head><meta charset=\"utf-8\" /></head>\n",
              "<body>\n",
              "    <div>            <script src=\"https://cdnjs.cloudflare.com/ajax/libs/mathjax/2.7.5/MathJax.js?config=TeX-AMS-MML_SVG\"></script><script type=\"text/javascript\">if (window.MathJax) {MathJax.Hub.Config({SVG: {font: \"STIX-Web\"}});}</script>                <script type=\"text/javascript\">window.PlotlyConfig = {MathJaxConfig: 'local'};</script>\n",
              "        <script src=\"https://cdn.plot.ly/plotly-2.3.1.min.js\"></script>                <div id=\"1da84c3d-d195-409a-88e9-c1520e2ef911\" class=\"plotly-graph-div\" style=\"height:525px; width:100%;\"></div>            <script type=\"text/javascript\">                                    window.PLOTLYENV=window.PLOTLYENV || {};                                    if (document.getElementById(\"1da84c3d-d195-409a-88e9-c1520e2ef911\")) {                    Plotly.newPlot(                        \"1da84c3d-d195-409a-88e9-c1520e2ef911\",                        [{\"alignmentgroup\":\"True\",\"hovertemplate\":\"category=100% Agave Tequila<br>total_sales=%{text}<br>item=%{y}<extra></extra>\",\"legendgroup\":\"100% Agave Tequila\",\"marker\":{\"color\":\"#636efa\",\"pattern\":{\"shape\":\"\"}},\"name\":\"100% Agave Tequila\",\"offsetgroup\":\"100% Agave Tequila\",\"orientation\":\"h\",\"showlegend\":true,\"text\":[4450610.0],\"textposition\":\"inside\",\"type\":\"bar\",\"x\":[4450610.0],\"xaxis\":\"x\",\"y\":[\"Patron Silver\"],\"yaxis\":\"y\"},{\"alignmentgroup\":\"True\",\"hovertemplate\":\"category=Irish Whiskies<br>total_sales=%{text}<br>item=%{y}<extra></extra>\",\"legendgroup\":\"Irish Whiskies\",\"marker\":{\"color\":\"#EF553B\",\"pattern\":{\"shape\":\"\"}},\"name\":\"Irish Whiskies\",\"offsetgroup\":\"Irish Whiskies\",\"orientation\":\"h\",\"showlegend\":true,\"text\":[4883275.0],\"textposition\":\"inside\",\"type\":\"bar\",\"x\":[4883275.0],\"xaxis\":\"x\",\"y\":[\"Jameson\"],\"yaxis\":\"y\"},{\"alignmentgroup\":\"True\",\"hovertemplate\":\"category=Canadian Whiskies<br>total_sales=%{text}<br>item=%{y}<extra></extra>\",\"legendgroup\":\"Canadian Whiskies\",\"marker\":{\"color\":\"#00cc96\",\"pattern\":{\"shape\":\"\"}},\"name\":\"Canadian Whiskies\",\"offsetgroup\":\"Canadian Whiskies\",\"orientation\":\"h\",\"showlegend\":true,\"text\":[6450812.0,8448506.0,11308314.0],\"textposition\":\"inside\",\"type\":\"bar\",\"x\":[6450812.0,8448506.0,11308314.0],\"xaxis\":\"x\",\"y\":[\"Crown Royal Regal Apple\",\"Crown Royal\",\"Black Velvet\"],\"yaxis\":\"y\"},{\"alignmentgroup\":\"True\",\"hovertemplate\":\"category=Tennessee Whiskies<br>total_sales=%{text}<br>item=%{y}<extra></extra>\",\"legendgroup\":\"Tennessee Whiskies\",\"marker\":{\"color\":\"#ab63fa\",\"pattern\":{\"shape\":\"\"}},\"name\":\"Tennessee Whiskies\",\"offsetgroup\":\"Tennessee Whiskies\",\"orientation\":\"h\",\"showlegend\":true,\"text\":[7926513.0],\"textposition\":\"inside\",\"type\":\"bar\",\"x\":[7926513.0],\"xaxis\":\"x\",\"y\":[\"Jack Daniels Old #7 Black Label\"],\"yaxis\":\"y\"},{\"alignmentgroup\":\"True\",\"hovertemplate\":\"category=Whiskey Liqueur<br>total_sales=%{text}<br>item=%{y}<extra></extra>\",\"legendgroup\":\"Whiskey Liqueur\",\"marker\":{\"color\":\"#FFA15A\",\"pattern\":{\"shape\":\"\"}},\"name\":\"Whiskey Liqueur\",\"offsetgroup\":\"Whiskey Liqueur\",\"orientation\":\"h\",\"showlegend\":true,\"text\":[7969663.0],\"textposition\":\"inside\",\"type\":\"bar\",\"x\":[7969663.0],\"xaxis\":\"x\",\"y\":[\"Fireball Cinnamon Whiskey\"],\"yaxis\":\"y\"},{\"alignmentgroup\":\"True\",\"hovertemplate\":\"category=Spiced Rum<br>total_sales=%{text}<br>item=%{y}<extra></extra>\",\"legendgroup\":\"Spiced Rum\",\"marker\":{\"color\":\"#19d3f3\",\"pattern\":{\"shape\":\"\"}},\"name\":\"Spiced Rum\",\"offsetgroup\":\"Spiced Rum\",\"orientation\":\"h\",\"showlegend\":true,\"text\":[8696774.0],\"textposition\":\"inside\",\"type\":\"bar\",\"x\":[8696774.0],\"xaxis\":\"x\",\"y\":[\"Captain Morgan Original Spiced\"],\"yaxis\":\"y\"},{\"alignmentgroup\":\"True\",\"hovertemplate\":\"category=Imported Brandies<br>total_sales=%{text}<br>item=%{y}<extra></extra>\",\"legendgroup\":\"Imported Brandies\",\"marker\":{\"color\":\"#FF6692\",\"pattern\":{\"shape\":\"\"}},\"name\":\"Imported Brandies\",\"offsetgroup\":\"Imported Brandies\",\"orientation\":\"h\",\"showlegend\":true,\"text\":[9315170.0],\"textposition\":\"inside\",\"type\":\"bar\",\"x\":[9315170.0],\"xaxis\":\"x\",\"y\":[\"Hennessy Vs\"],\"yaxis\":\"y\"},{\"alignmentgroup\":\"True\",\"hovertemplate\":\"category=American Vodkas<br>total_sales=%{text}<br>item=%{y}<extra></extra>\",\"legendgroup\":\"American Vodkas\",\"marker\":{\"color\":\"#B6E880\",\"pattern\":{\"shape\":\"\"}},\"name\":\"American Vodkas\",\"offsetgroup\":\"American Vodkas\",\"orientation\":\"h\",\"showlegend\":true,\"text\":[20148376.0],\"textposition\":\"inside\",\"type\":\"bar\",\"x\":[20148376.0],\"xaxis\":\"x\",\"y\":[\"Titos Handmade Vodka\"],\"yaxis\":\"y\"}],                        {\"barmode\":\"relative\",\"legend\":{\"title\":{\"text\":\"category\"},\"tracegroupgap\":0},\"margin\":{\"t\":60},\"plot_bgcolor\":\"rgba(255,255,255, 0.9)\",\"template\":{\"data\":{\"bar\":[{\"error_x\":{\"color\":\"#2a3f5f\"},\"error_y\":{\"color\":\"#2a3f5f\"},\"marker\":{\"line\":{\"color\":\"#E5ECF6\",\"width\":0.5},\"pattern\":{\"fillmode\":\"overlay\",\"size\":10,\"solidity\":0.2}},\"type\":\"bar\"}],\"barpolar\":[{\"marker\":{\"line\":{\"color\":\"#E5ECF6\",\"width\":0.5},\"pattern\":{\"fillmode\":\"overlay\",\"size\":10,\"solidity\":0.2}},\"type\":\"barpolar\"}],\"carpet\":[{\"aaxis\":{\"endlinecolor\":\"#2a3f5f\",\"gridcolor\":\"white\",\"linecolor\":\"white\",\"minorgridcolor\":\"white\",\"startlinecolor\":\"#2a3f5f\"},\"baxis\":{\"endlinecolor\":\"#2a3f5f\",\"gridcolor\":\"white\",\"linecolor\":\"white\",\"minorgridcolor\":\"white\",\"startlinecolor\":\"#2a3f5f\"},\"type\":\"carpet\"}],\"choropleth\":[{\"colorbar\":{\"outlinewidth\":0,\"ticks\":\"\"},\"type\":\"choropleth\"}],\"contour\":[{\"colorbar\":{\"outlinewidth\":0,\"ticks\":\"\"},\"colorscale\":[[0.0,\"#0d0887\"],[0.1111111111111111,\"#46039f\"],[0.2222222222222222,\"#7201a8\"],[0.3333333333333333,\"#9c179e\"],[0.4444444444444444,\"#bd3786\"],[0.5555555555555556,\"#d8576b\"],[0.6666666666666666,\"#ed7953\"],[0.7777777777777778,\"#fb9f3a\"],[0.8888888888888888,\"#fdca26\"],[1.0,\"#f0f921\"]],\"type\":\"contour\"}],\"contourcarpet\":[{\"colorbar\":{\"outlinewidth\":0,\"ticks\":\"\"},\"type\":\"contourcarpet\"}],\"heatmap\":[{\"colorbar\":{\"outlinewidth\":0,\"ticks\":\"\"},\"colorscale\":[[0.0,\"#0d0887\"],[0.1111111111111111,\"#46039f\"],[0.2222222222222222,\"#7201a8\"],[0.3333333333333333,\"#9c179e\"],[0.4444444444444444,\"#bd3786\"],[0.5555555555555556,\"#d8576b\"],[0.6666666666666666,\"#ed7953\"],[0.7777777777777778,\"#fb9f3a\"],[0.8888888888888888,\"#fdca26\"],[1.0,\"#f0f921\"]],\"type\":\"heatmap\"}],\"heatmapgl\":[{\"colorbar\":{\"outlinewidth\":0,\"ticks\":\"\"},\"colorscale\":[[0.0,\"#0d0887\"],[0.1111111111111111,\"#46039f\"],[0.2222222222222222,\"#7201a8\"],[0.3333333333333333,\"#9c179e\"],[0.4444444444444444,\"#bd3786\"],[0.5555555555555556,\"#d8576b\"],[0.6666666666666666,\"#ed7953\"],[0.7777777777777778,\"#fb9f3a\"],[0.8888888888888888,\"#fdca26\"],[1.0,\"#f0f921\"]],\"type\":\"heatmapgl\"}],\"histogram\":[{\"marker\":{\"pattern\":{\"fillmode\":\"overlay\",\"size\":10,\"solidity\":0.2}},\"type\":\"histogram\"}],\"histogram2d\":[{\"colorbar\":{\"outlinewidth\":0,\"ticks\":\"\"},\"colorscale\":[[0.0,\"#0d0887\"],[0.1111111111111111,\"#46039f\"],[0.2222222222222222,\"#7201a8\"],[0.3333333333333333,\"#9c179e\"],[0.4444444444444444,\"#bd3786\"],[0.5555555555555556,\"#d8576b\"],[0.6666666666666666,\"#ed7953\"],[0.7777777777777778,\"#fb9f3a\"],[0.8888888888888888,\"#fdca26\"],[1.0,\"#f0f921\"]],\"type\":\"histogram2d\"}],\"histogram2dcontour\":[{\"colorbar\":{\"outlinewidth\":0,\"ticks\":\"\"},\"colorscale\":[[0.0,\"#0d0887\"],[0.1111111111111111,\"#46039f\"],[0.2222222222222222,\"#7201a8\"],[0.3333333333333333,\"#9c179e\"],[0.4444444444444444,\"#bd3786\"],[0.5555555555555556,\"#d8576b\"],[0.6666666666666666,\"#ed7953\"],[0.7777777777777778,\"#fb9f3a\"],[0.8888888888888888,\"#fdca26\"],[1.0,\"#f0f921\"]],\"type\":\"histogram2dcontour\"}],\"mesh3d\":[{\"colorbar\":{\"outlinewidth\":0,\"ticks\":\"\"},\"type\":\"mesh3d\"}],\"parcoords\":[{\"line\":{\"colorbar\":{\"outlinewidth\":0,\"ticks\":\"\"}},\"type\":\"parcoords\"}],\"pie\":[{\"automargin\":true,\"type\":\"pie\"}],\"scatter\":[{\"marker\":{\"colorbar\":{\"outlinewidth\":0,\"ticks\":\"\"}},\"type\":\"scatter\"}],\"scatter3d\":[{\"line\":{\"colorbar\":{\"outlinewidth\":0,\"ticks\":\"\"}},\"marker\":{\"colorbar\":{\"outlinewidth\":0,\"ticks\":\"\"}},\"type\":\"scatter3d\"}],\"scattercarpet\":[{\"marker\":{\"colorbar\":{\"outlinewidth\":0,\"ticks\":\"\"}},\"type\":\"scattercarpet\"}],\"scattergeo\":[{\"marker\":{\"colorbar\":{\"outlinewidth\":0,\"ticks\":\"\"}},\"type\":\"scattergeo\"}],\"scattergl\":[{\"marker\":{\"colorbar\":{\"outlinewidth\":0,\"ticks\":\"\"}},\"type\":\"scattergl\"}],\"scattermapbox\":[{\"marker\":{\"colorbar\":{\"outlinewidth\":0,\"ticks\":\"\"}},\"type\":\"scattermapbox\"}],\"scatterpolar\":[{\"marker\":{\"colorbar\":{\"outlinewidth\":0,\"ticks\":\"\"}},\"type\":\"scatterpolar\"}],\"scatterpolargl\":[{\"marker\":{\"colorbar\":{\"outlinewidth\":0,\"ticks\":\"\"}},\"type\":\"scatterpolargl\"}],\"scatterternary\":[{\"marker\":{\"colorbar\":{\"outlinewidth\":0,\"ticks\":\"\"}},\"type\":\"scatterternary\"}],\"surface\":[{\"colorbar\":{\"outlinewidth\":0,\"ticks\":\"\"},\"colorscale\":[[0.0,\"#0d0887\"],[0.1111111111111111,\"#46039f\"],[0.2222222222222222,\"#7201a8\"],[0.3333333333333333,\"#9c179e\"],[0.4444444444444444,\"#bd3786\"],[0.5555555555555556,\"#d8576b\"],[0.6666666666666666,\"#ed7953\"],[0.7777777777777778,\"#fb9f3a\"],[0.8888888888888888,\"#fdca26\"],[1.0,\"#f0f921\"]],\"type\":\"surface\"}],\"table\":[{\"cells\":{\"fill\":{\"color\":\"#EBF0F8\"},\"line\":{\"color\":\"white\"}},\"header\":{\"fill\":{\"color\":\"#C8D4E3\"},\"line\":{\"color\":\"white\"}},\"type\":\"table\"}]},\"layout\":{\"annotationdefaults\":{\"arrowcolor\":\"#2a3f5f\",\"arrowhead\":0,\"arrowwidth\":1},\"autotypenumbers\":\"strict\",\"coloraxis\":{\"colorbar\":{\"outlinewidth\":0,\"ticks\":\"\"}},\"colorscale\":{\"diverging\":[[0,\"#8e0152\"],[0.1,\"#c51b7d\"],[0.2,\"#de77ae\"],[0.3,\"#f1b6da\"],[0.4,\"#fde0ef\"],[0.5,\"#f7f7f7\"],[0.6,\"#e6f5d0\"],[0.7,\"#b8e186\"],[0.8,\"#7fbc41\"],[0.9,\"#4d9221\"],[1,\"#276419\"]],\"sequential\":[[0.0,\"#0d0887\"],[0.1111111111111111,\"#46039f\"],[0.2222222222222222,\"#7201a8\"],[0.3333333333333333,\"#9c179e\"],[0.4444444444444444,\"#bd3786\"],[0.5555555555555556,\"#d8576b\"],[0.6666666666666666,\"#ed7953\"],[0.7777777777777778,\"#fb9f3a\"],[0.8888888888888888,\"#fdca26\"],[1.0,\"#f0f921\"]],\"sequentialminus\":[[0.0,\"#0d0887\"],[0.1111111111111111,\"#46039f\"],[0.2222222222222222,\"#7201a8\"],[0.3333333333333333,\"#9c179e\"],[0.4444444444444444,\"#bd3786\"],[0.5555555555555556,\"#d8576b\"],[0.6666666666666666,\"#ed7953\"],[0.7777777777777778,\"#fb9f3a\"],[0.8888888888888888,\"#fdca26\"],[1.0,\"#f0f921\"]]},\"colorway\":[\"#636efa\",\"#EF553B\",\"#00cc96\",\"#ab63fa\",\"#FFA15A\",\"#19d3f3\",\"#FF6692\",\"#B6E880\",\"#FF97FF\",\"#FECB52\"],\"font\":{\"color\":\"#2a3f5f\"},\"geo\":{\"bgcolor\":\"white\",\"lakecolor\":\"white\",\"landcolor\":\"#E5ECF6\",\"showlakes\":true,\"showland\":true,\"subunitcolor\":\"white\"},\"hoverlabel\":{\"align\":\"left\"},\"hovermode\":\"closest\",\"mapbox\":{\"style\":\"light\"},\"paper_bgcolor\":\"white\",\"plot_bgcolor\":\"#E5ECF6\",\"polar\":{\"angularaxis\":{\"gridcolor\":\"white\",\"linecolor\":\"white\",\"ticks\":\"\"},\"bgcolor\":\"#E5ECF6\",\"radialaxis\":{\"gridcolor\":\"white\",\"linecolor\":\"white\",\"ticks\":\"\"}},\"scene\":{\"xaxis\":{\"backgroundcolor\":\"#E5ECF6\",\"gridcolor\":\"white\",\"gridwidth\":2,\"linecolor\":\"white\",\"showbackground\":true,\"ticks\":\"\",\"zerolinecolor\":\"white\"},\"yaxis\":{\"backgroundcolor\":\"#E5ECF6\",\"gridcolor\":\"white\",\"gridwidth\":2,\"linecolor\":\"white\",\"showbackground\":true,\"ticks\":\"\",\"zerolinecolor\":\"white\"},\"zaxis\":{\"backgroundcolor\":\"#E5ECF6\",\"gridcolor\":\"white\",\"gridwidth\":2,\"linecolor\":\"white\",\"showbackground\":true,\"ticks\":\"\",\"zerolinecolor\":\"white\"}},\"shapedefaults\":{\"line\":{\"color\":\"#2a3f5f\"}},\"ternary\":{\"aaxis\":{\"gridcolor\":\"white\",\"linecolor\":\"white\",\"ticks\":\"\"},\"baxis\":{\"gridcolor\":\"white\",\"linecolor\":\"white\",\"ticks\":\"\"},\"bgcolor\":\"#E5ECF6\",\"caxis\":{\"gridcolor\":\"white\",\"linecolor\":\"white\",\"ticks\":\"\"}},\"title\":{\"x\":0.05},\"xaxis\":{\"automargin\":true,\"gridcolor\":\"white\",\"linecolor\":\"white\",\"ticks\":\"\",\"title\":{\"standoff\":15},\"zerolinecolor\":\"white\",\"zerolinewidth\":2},\"yaxis\":{\"automargin\":true,\"gridcolor\":\"white\",\"linecolor\":\"white\",\"ticks\":\"\",\"title\":{\"standoff\":15},\"zerolinecolor\":\"white\",\"zerolinewidth\":2}}},\"title\":{\"text\":\"2020 Sales by Item & Category \",\"x\":0.5,\"xanchor\":\"center\",\"y\":0.98,\"yanchor\":\"top\"},\"xaxis\":{\"anchor\":\"y\",\"domain\":[0.0,1.0],\"title\":{\"text\":\"total_sales\"}},\"yaxis\":{\"anchor\":\"x\",\"domain\":[0.0,1.0],\"title\":{\"text\":\"\"}}},                        {\"responsive\": true}                    ).then(function(){\n",
              "                            \n",
              "var gd = document.getElementById('1da84c3d-d195-409a-88e9-c1520e2ef911');\n",
              "var x = new MutationObserver(function (mutations, observer) {{\n",
              "        var display = window.getComputedStyle(gd).display;\n",
              "        if (!display || display === 'none') {{\n",
              "            console.log([gd, 'removed!']);\n",
              "            Plotly.purge(gd);\n",
              "            observer.disconnect();\n",
              "        }}\n",
              "}});\n",
              "\n",
              "// Listen for the removal of the full notebook cells\n",
              "var notebookContainer = gd.closest('#notebook-container');\n",
              "if (notebookContainer) {{\n",
              "    x.observe(notebookContainer, {childList: true});\n",
              "}}\n",
              "\n",
              "// Listen for the clearing of the current output cell\n",
              "var outputEl = gd.closest('.output');\n",
              "if (outputEl) {{\n",
              "    x.observe(outputEl, {childList: true});\n",
              "}}\n",
              "\n",
              "                        })                };                            </script>        </div>\n",
              "</body>\n",
              "</html>"
            ]
          },
          "metadata": {}
        }
      ]
    },
    {
      "cell_type": "markdown",
      "metadata": {
        "id": "6xAxgKeP6tEz"
      },
      "source": [
        "### Sales by Item and Category for the Past 10 Years (Top 10)"
      ]
    },
    {
      "cell_type": "code",
      "metadata": {
        "id": "90mJ5FW9acZO",
        "colab": {
          "base_uri": "https://localhost:8080/",
          "height": 363
        },
        "outputId": "3b75f011-beaf-4cea-8f9c-88ebac093685"
      },
      "source": [
        "#collapse\n",
        "# query: top 5 sales by item & category for past 10 years\n",
        "\n",
        "item_cat_sum_sales = pd.io.gbq.read_gbq(\n",
        "    f\"\"\"\n",
        "  SELECT\n",
        "    FORMAT_DATE('%Y', date) AS year,\n",
        "    LOWER(item_description) AS item,\n",
        "    LOWER(category_name) AS category,\n",
        "    ROUND(CAST(SUM(sale_dollars) AS numeric),0) AS total_sales\n",
        "  FROM\n",
        "    {dataloc}\n",
        "  GROUP BY\n",
        "    item,\n",
        "    category,\n",
        "    year\n",
        "  ORDER BY\n",
        "    total_sales DESC\n",
        "       \"\"\",\n",
        "    project_id=pjt_id,) \n",
        "\n",
        "# title case for item col\n",
        "item_cat_sum_sales.item = item_cat_sum_sales.item.str.title()\n",
        "\n",
        "# title case for category col\n",
        "item_cat_sum_sales.category = item_cat_sum_sales.category.str.title()\n",
        "\n",
        "#convert total_sales to float\n",
        "item_cat_sum_sales.total_sales = item_cat_sum_sales.total_sales.astype('float')\n",
        "\n",
        "item_cat_sum_sales.head(10)"
      ],
      "execution_count": 21,
      "outputs": [
        {
          "output_type": "execute_result",
          "data": {
            "text/html": [
              "<div>\n",
              "<style scoped>\n",
              "    .dataframe tbody tr th:only-of-type {\n",
              "        vertical-align: middle;\n",
              "    }\n",
              "\n",
              "    .dataframe tbody tr th {\n",
              "        vertical-align: top;\n",
              "    }\n",
              "\n",
              "    .dataframe thead th {\n",
              "        text-align: right;\n",
              "    }\n",
              "</style>\n",
              "<table border=\"1\" class=\"dataframe\">\n",
              "  <thead>\n",
              "    <tr style=\"text-align: right;\">\n",
              "      <th></th>\n",
              "      <th>year</th>\n",
              "      <th>item</th>\n",
              "      <th>category</th>\n",
              "      <th>total_sales</th>\n",
              "    </tr>\n",
              "  </thead>\n",
              "  <tbody>\n",
              "    <tr>\n",
              "      <th>0</th>\n",
              "      <td>2020</td>\n",
              "      <td>Titos Handmade Vodka</td>\n",
              "      <td>American Vodkas</td>\n",
              "      <td>20,148,376.00</td>\n",
              "    </tr>\n",
              "    <tr>\n",
              "      <th>1</th>\n",
              "      <td>2018</td>\n",
              "      <td>Titos Handmade Vodka</td>\n",
              "      <td>American Vodkas</td>\n",
              "      <td>14,943,390.00</td>\n",
              "    </tr>\n",
              "    <tr>\n",
              "      <th>2</th>\n",
              "      <td>2017</td>\n",
              "      <td>Black Velvet</td>\n",
              "      <td>Canadian Whiskies</td>\n",
              "      <td>13,258,183.00</td>\n",
              "    </tr>\n",
              "    <tr>\n",
              "      <th>3</th>\n",
              "      <td>2018</td>\n",
              "      <td>Black Velvet</td>\n",
              "      <td>Canadian Whiskies</td>\n",
              "      <td>13,079,561.00</td>\n",
              "    </tr>\n",
              "    <tr>\n",
              "      <th>4</th>\n",
              "      <td>2016</td>\n",
              "      <td>Black Velvet</td>\n",
              "      <td>Canadian Whiskies</td>\n",
              "      <td>12,378,453.00</td>\n",
              "    </tr>\n",
              "    <tr>\n",
              "      <th>5</th>\n",
              "      <td>2019</td>\n",
              "      <td>Titos Handmade Vodka</td>\n",
              "      <td>American Vodkas</td>\n",
              "      <td>12,125,095.00</td>\n",
              "    </tr>\n",
              "    <tr>\n",
              "      <th>6</th>\n",
              "      <td>2015</td>\n",
              "      <td>Black Velvet</td>\n",
              "      <td>Canadian Whiskies</td>\n",
              "      <td>12,113,647.00</td>\n",
              "    </tr>\n",
              "    <tr>\n",
              "      <th>7</th>\n",
              "      <td>2014</td>\n",
              "      <td>Black Velvet</td>\n",
              "      <td>Canadian Whiskies</td>\n",
              "      <td>11,697,936.00</td>\n",
              "    </tr>\n",
              "    <tr>\n",
              "      <th>8</th>\n",
              "      <td>2020</td>\n",
              "      <td>Black Velvet</td>\n",
              "      <td>Canadian Whiskies</td>\n",
              "      <td>11,308,314.00</td>\n",
              "    </tr>\n",
              "    <tr>\n",
              "      <th>9</th>\n",
              "      <td>2013</td>\n",
              "      <td>Black Velvet</td>\n",
              "      <td>Canadian Whiskies</td>\n",
              "      <td>11,096,985.00</td>\n",
              "    </tr>\n",
              "  </tbody>\n",
              "</table>\n",
              "</div>"
            ],
            "text/plain": [
              "   year                  item           category   total_sales\n",
              "0  2020  Titos Handmade Vodka    American Vodkas 20,148,376.00\n",
              "1  2018  Titos Handmade Vodka    American Vodkas 14,943,390.00\n",
              "2  2017          Black Velvet  Canadian Whiskies 13,258,183.00\n",
              "3  2018          Black Velvet  Canadian Whiskies 13,079,561.00\n",
              "4  2016          Black Velvet  Canadian Whiskies 12,378,453.00\n",
              "5  2019  Titos Handmade Vodka    American Vodkas 12,125,095.00\n",
              "6  2015          Black Velvet  Canadian Whiskies 12,113,647.00\n",
              "7  2014          Black Velvet  Canadian Whiskies 11,697,936.00\n",
              "8  2020          Black Velvet  Canadian Whiskies 11,308,314.00\n",
              "9  2013          Black Velvet  Canadian Whiskies 11,096,985.00"
            ]
          },
          "metadata": {},
          "execution_count": 21
        }
      ]
    },
    {
      "cell_type": "markdown",
      "metadata": {
        "id": "_RY19zSUgV01"
      },
      "source": [
        "# References \n",
        "\n",
        "Google Cloud Docs: [SQL Date Formating](https://cloud.google.com/bigquery/docs/reference/standard-sql/functions-and-operators#format_date)"
      ]
    }
  ]
}