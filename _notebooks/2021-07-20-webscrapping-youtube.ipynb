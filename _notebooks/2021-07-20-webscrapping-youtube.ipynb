{
  "nbformat": 4,
  "nbformat_minor": 0,
  "metadata": {
    "colab": {
      "name": "2021-07-20-webscrapping-youtube.ipynb",
      "provenance": [],
      "collapsed_sections": [],
      "authorship_tag": "ABX9TyPauWtV+EL0PdYF6Ijj3lqP",
      "include_colab_link": true
    },
    "kernelspec": {
      "name": "python3",
      "display_name": "Python 3"
    },
    "language_info": {
      "name": "python"
    }
  },
  "cells": [
    {
      "cell_type": "markdown",
      "metadata": {
        "id": "view-in-github",
        "colab_type": "text"
      },
      "source": [
        "<a href=\"https://colab.research.google.com/github/drusho/drusho.github.io/blob/master/_notebooks/2021-07-20-webscrapping-youtube.ipynb\" target=\"_parent\"><img src=\"https://colab.research.google.com/assets/colab-badge.svg\" alt=\"Open In Colab\"/></a>"
      ]
    },
    {
      "cell_type": "markdown",
      "metadata": {
        "id": "sriMBGHM_4X4"
      },
      "source": [
        "# Analyzing Youtube Tech Channels\n",
        "> Using Data Collected from Selenium\n",
        "\n",
        "- toc: false\n",
        "- badges: false\n",
        "- comments: true\n",
        "- categories: [Selenium, Web Scrapping, Pandas]\n",
        "- image: \"images/thumbnails/header_youtube_web.png\""
      ]
    },
    {
      "cell_type": "markdown",
      "metadata": {
        "id": "plq838Q7cdQs"
      },
      "source": [
        "<br>\n",
        "\n",
        "> Note: __Notebook Created by David Rusho__\n",
        ">\n",
        "> [Github Blog](https://drusho.github.io) | [Github](https://github.com/drusho/webscrape_youtube) | [Tableau](https://public.tableau.com/app/profile/drusho/) | [Linkedin](https://linkedin.com/in/davidrusho)\n",
        "\n",
        "\n",
        "<br> \n",
        "\n",
        "> Important: This notebook contains hidden cells when viewed as a blog post.\n",
        ">Visit the links below for more detailed code:  \n",
        "> * [Google Colab Notebook](https://colab.research.google.com/drive/1UxpBBsypGqUj7816zyvGNhJcPfaxBP_c?usp=sharing): **All code** related to data cleaning and data analaysis.\n",
        "> * [Github - Youtube Webscrapping](https://github.com/drusho/webscrape_youtube/tree/main/code):  **All code** related to web scrapping and data collection.\n"
      ]
    },
    {
      "cell_type": "markdown",
      "metadata": {
        "id": "QQcSYIoEcrGo"
      },
      "source": [
        "## About the Data\n",
        "\n",
        "Web scraping was performed on the _Top 10 Tech Channels_ on Youtube using _[Selenium](https://selenium-python.readthedocs.io/)_ (an automated browser (driver) controlled using python, which is often used in web scraping and web testing).  These channels were selected using a __[Top 10 Tech Youtubers](https://blog.bit.ai/top-tech-youtubers/)__ list from blog.bit.ai.  \n",
        "\n",
        "Data from 2,000 videos was scrapped, which equals about 200 of most popular videos per channel."
      ]
    },
    {
      "cell_type": "markdown",
      "metadata": {
        "id": "Zm0ocehrIZSE"
      },
      "source": [
        "## Introduction"
      ]
    },
    {
      "cell_type": "markdown",
      "metadata": {
        "id": "wuFRlWGg4JhU"
      },
      "source": [
        "### Web Scrapping Youtube Channels\n",
        "> Using Selenium"
      ]
    },
    {
      "cell_type": "code",
      "metadata": {
        "id": "8dSQjghe4Mq4"
      },
      "source": [
        "#collapse"
      ],
      "execution_count": null,
      "outputs": []
    },
    {
      "cell_type": "markdown",
      "metadata": {
        "id": "BkHNGMXT7HHs"
      },
      "source": [
        "### Web Scrapping Youtube Videos\n",
        "> Using Selenium"
      ]
    },
    {
      "cell_type": "code",
      "metadata": {
        "id": "VtcaqHPX7L20"
      },
      "source": [
        "#collapse"
      ],
      "execution_count": null,
      "outputs": []
    },
    {
      "cell_type": "markdown",
      "metadata": {
        "id": "Zgl968F6HI4Y"
      },
      "source": [
        "## Data Cleaning"
      ]
    },
    {
      "cell_type": "code",
      "metadata": {
        "id": "gNPkb9yLHMa8"
      },
      "source": [
        "#hide\n",
        "import pandas as pd"
      ],
      "execution_count": null,
      "outputs": []
    },
    {
      "cell_type": "markdown",
      "metadata": {
        "id": "_m_d2muYGFgc"
      },
      "source": [
        "#hide\n",
        "### Raw Dataframe Sample\n",
        "Data from Youtube Channels' main pages (Video and About)"
      ]
    },
    {
      "cell_type": "code",
      "metadata": {
        "colab": {
          "base_uri": "https://localhost:8080/",
          "height": 182
        },
        "id": "IvEQLRIxHSsg",
        "outputId": "813caa6d-d2de-4b33-be75-ce459b9e667f"
      },
      "source": [
        "#hide\n",
        "yt = pd.read_csv('yt_channel_scrap.csv',parse_dates=['channel_join_date'])\n",
        "yt.head(2)"
      ],
      "execution_count": null,
      "outputs": [
        {
          "output_type": "execute_result",
          "data": {
            "text/html": [
              "<div>\n",
              "<style scoped>\n",
              "    .dataframe tbody tr th:only-of-type {\n",
              "        vertical-align: middle;\n",
              "    }\n",
              "\n",
              "    .dataframe tbody tr th {\n",
              "        vertical-align: top;\n",
              "    }\n",
              "\n",
              "    .dataframe thead th {\n",
              "        text-align: right;\n",
              "    }\n",
              "</style>\n",
              "<table border=\"1\" class=\"dataframe\">\n",
              "  <thead>\n",
              "    <tr style=\"text-align: right;\">\n",
              "      <th></th>\n",
              "      <th>Unnamed: 0</th>\n",
              "      <th>channel_name</th>\n",
              "      <th>subscribers</th>\n",
              "      <th>title</th>\n",
              "      <th>views</th>\n",
              "      <th>post_date</th>\n",
              "      <th>url</th>\n",
              "      <th>channel_join_date</th>\n",
              "      <th>channel_views</th>\n",
              "      <th>channel_description</th>\n",
              "    </tr>\n",
              "  </thead>\n",
              "  <tbody>\n",
              "    <tr>\n",
              "      <th>0</th>\n",
              "      <td>0</td>\n",
              "      <td>iJustine</td>\n",
              "      <td>6.89M subscribers</td>\n",
              "      <td>Black Eyed Peas - I gotta Feeling (Parody)</td>\n",
              "      <td>18M views</td>\n",
              "      <td>11 years ago</td>\n",
              "      <td>https://www.youtube.com/watch?v=iPgaTmsYTT8</td>\n",
              "      <td>NaT</td>\n",
              "      <td>NaN</td>\n",
              "      <td>NaN</td>\n",
              "    </tr>\n",
              "    <tr>\n",
              "      <th>1</th>\n",
              "      <td>1</td>\n",
              "      <td>iJustine</td>\n",
              "      <td>6.89M subscribers</td>\n",
              "      <td>Cake Decorating Challenge with Ro | Nerdy Numm...</td>\n",
              "      <td>12M views</td>\n",
              "      <td>5 years ago</td>\n",
              "      <td>https://www.youtube.com/watch?v=y7xZ-kJDgvM</td>\n",
              "      <td>NaT</td>\n",
              "      <td>NaN</td>\n",
              "      <td>NaN</td>\n",
              "    </tr>\n",
              "  </tbody>\n",
              "</table>\n",
              "</div>"
            ],
            "text/plain": [
              "   Unnamed: 0 channel_name  ... channel_views channel_description\n",
              "0           0     iJustine  ...           NaN                 NaN\n",
              "1           1     iJustine  ...           NaN                 NaN\n",
              "\n",
              "[2 rows x 10 columns]"
            ]
          },
          "metadata": {
            "tags": []
          },
          "execution_count": 522
        }
      ]
    },
    {
      "cell_type": "code",
      "metadata": {
        "colab": {
          "base_uri": "https://localhost:8080/",
          "height": 112
        },
        "id": "ICOpHLxFHrO0",
        "outputId": "97308c9c-9162-40a6-b894-0c19d3f8928e"
      },
      "source": [
        "#hide\n",
        "# create df of Channel details\n",
        "channel_details = yt[yt.channel_join_date.notna()]\n",
        "channel_details = channel_details.drop(columns=['Unnamed: 0','subscribers','title','views','post_date']).reset_index(drop=True)\n",
        "channel_details.head(2)"
      ],
      "execution_count": null,
      "outputs": [
        {
          "output_type": "execute_result",
          "data": {
            "text/html": [
              "<div>\n",
              "<style scoped>\n",
              "    .dataframe tbody tr th:only-of-type {\n",
              "        vertical-align: middle;\n",
              "    }\n",
              "\n",
              "    .dataframe tbody tr th {\n",
              "        vertical-align: top;\n",
              "    }\n",
              "\n",
              "    .dataframe thead th {\n",
              "        text-align: right;\n",
              "    }\n",
              "</style>\n",
              "<table border=\"1\" class=\"dataframe\">\n",
              "  <thead>\n",
              "    <tr style=\"text-align: right;\">\n",
              "      <th></th>\n",
              "      <th>channel_name</th>\n",
              "      <th>url</th>\n",
              "      <th>channel_join_date</th>\n",
              "      <th>channel_views</th>\n",
              "      <th>channel_description</th>\n",
              "    </tr>\n",
              "  </thead>\n",
              "  <tbody>\n",
              "    <tr>\n",
              "      <th>0</th>\n",
              "      <td>iJustine</td>\n",
              "      <td>NaN</td>\n",
              "      <td>2006-05-07</td>\n",
              "      <td>1,288,987,476 views</td>\n",
              "      <td>Tech, video games, failed cooking attempts, vl...</td>\n",
              "    </tr>\n",
              "    <tr>\n",
              "      <th>1</th>\n",
              "      <td>Android Authority</td>\n",
              "      <td>NaN</td>\n",
              "      <td>2011-04-03</td>\n",
              "      <td>767,860,795 views</td>\n",
              "      <td>Your source for the best phones, streaming, ap...</td>\n",
              "    </tr>\n",
              "  </tbody>\n",
              "</table>\n",
              "</div>"
            ],
            "text/plain": [
              "        channel_name  ...                                channel_description\n",
              "0           iJustine  ...  Tech, video games, failed cooking attempts, vl...\n",
              "1  Android Authority  ...  Your source for the best phones, streaming, ap...\n",
              "\n",
              "[2 rows x 5 columns]"
            ]
          },
          "metadata": {
            "tags": []
          },
          "execution_count": 523
        }
      ]
    },
    {
      "cell_type": "code",
      "metadata": {
        "colab": {
          "base_uri": "https://localhost:8080/",
          "height": 112
        },
        "id": "ZXktrQpaIqqM",
        "outputId": "0e5561d8-96f7-43e3-f2a0-97544e5716a5"
      },
      "source": [
        "#hide\n",
        "#create df Video details\n",
        "video_details = yt[yt.channel_join_date.isna()]\n",
        "video_details = video_details.drop(columns=['Unnamed: 0','channel_join_date','channel_views','channel_description','post_date']).reset_index(drop=True)\n",
        "video_details.head(2)"
      ],
      "execution_count": null,
      "outputs": [
        {
          "output_type": "execute_result",
          "data": {
            "text/html": [
              "<div>\n",
              "<style scoped>\n",
              "    .dataframe tbody tr th:only-of-type {\n",
              "        vertical-align: middle;\n",
              "    }\n",
              "\n",
              "    .dataframe tbody tr th {\n",
              "        vertical-align: top;\n",
              "    }\n",
              "\n",
              "    .dataframe thead th {\n",
              "        text-align: right;\n",
              "    }\n",
              "</style>\n",
              "<table border=\"1\" class=\"dataframe\">\n",
              "  <thead>\n",
              "    <tr style=\"text-align: right;\">\n",
              "      <th></th>\n",
              "      <th>channel_name</th>\n",
              "      <th>subscribers</th>\n",
              "      <th>title</th>\n",
              "      <th>views</th>\n",
              "      <th>url</th>\n",
              "    </tr>\n",
              "  </thead>\n",
              "  <tbody>\n",
              "    <tr>\n",
              "      <th>0</th>\n",
              "      <td>iJustine</td>\n",
              "      <td>6.89M subscribers</td>\n",
              "      <td>Black Eyed Peas - I gotta Feeling (Parody)</td>\n",
              "      <td>18M views</td>\n",
              "      <td>https://www.youtube.com/watch?v=iPgaTmsYTT8</td>\n",
              "    </tr>\n",
              "    <tr>\n",
              "      <th>1</th>\n",
              "      <td>iJustine</td>\n",
              "      <td>6.89M subscribers</td>\n",
              "      <td>Cake Decorating Challenge with Ro | Nerdy Numm...</td>\n",
              "      <td>12M views</td>\n",
              "      <td>https://www.youtube.com/watch?v=y7xZ-kJDgvM</td>\n",
              "    </tr>\n",
              "  </tbody>\n",
              "</table>\n",
              "</div>"
            ],
            "text/plain": [
              "  channel_name  ...                                          url\n",
              "0     iJustine  ...  https://www.youtube.com/watch?v=iPgaTmsYTT8\n",
              "1     iJustine  ...  https://www.youtube.com/watch?v=y7xZ-kJDgvM\n",
              "\n",
              "[2 rows x 5 columns]"
            ]
          },
          "metadata": {
            "tags": []
          },
          "execution_count": 524
        }
      ]
    },
    {
      "cell_type": "code",
      "metadata": {
        "colab": {
          "base_uri": "https://localhost:8080/",
          "height": 147
        },
        "id": "sxhYebCPKkBY",
        "outputId": "5a070e67-9117-4983-ce17-3a7cb340e8b2"
      },
      "source": [
        "#hide\n",
        "# merge dfs \n",
        "merged = channel_details.merge(video_details, on='channel_name')\n",
        "merged.head(2)"
      ],
      "execution_count": null,
      "outputs": [
        {
          "output_type": "execute_result",
          "data": {
            "text/html": [
              "<div>\n",
              "<style scoped>\n",
              "    .dataframe tbody tr th:only-of-type {\n",
              "        vertical-align: middle;\n",
              "    }\n",
              "\n",
              "    .dataframe tbody tr th {\n",
              "        vertical-align: top;\n",
              "    }\n",
              "\n",
              "    .dataframe thead th {\n",
              "        text-align: right;\n",
              "    }\n",
              "</style>\n",
              "<table border=\"1\" class=\"dataframe\">\n",
              "  <thead>\n",
              "    <tr style=\"text-align: right;\">\n",
              "      <th></th>\n",
              "      <th>channel_name</th>\n",
              "      <th>url_x</th>\n",
              "      <th>channel_join_date</th>\n",
              "      <th>channel_views</th>\n",
              "      <th>channel_description</th>\n",
              "      <th>subscribers</th>\n",
              "      <th>title</th>\n",
              "      <th>views</th>\n",
              "      <th>url_y</th>\n",
              "    </tr>\n",
              "  </thead>\n",
              "  <tbody>\n",
              "    <tr>\n",
              "      <th>0</th>\n",
              "      <td>iJustine</td>\n",
              "      <td>NaN</td>\n",
              "      <td>2006-05-07</td>\n",
              "      <td>1,288,987,476 views</td>\n",
              "      <td>Tech, video games, failed cooking attempts, vl...</td>\n",
              "      <td>6.89M subscribers</td>\n",
              "      <td>Black Eyed Peas - I gotta Feeling (Parody)</td>\n",
              "      <td>18M views</td>\n",
              "      <td>https://www.youtube.com/watch?v=iPgaTmsYTT8</td>\n",
              "    </tr>\n",
              "    <tr>\n",
              "      <th>1</th>\n",
              "      <td>iJustine</td>\n",
              "      <td>NaN</td>\n",
              "      <td>2006-05-07</td>\n",
              "      <td>1,288,987,476 views</td>\n",
              "      <td>Tech, video games, failed cooking attempts, vl...</td>\n",
              "      <td>6.89M subscribers</td>\n",
              "      <td>Cake Decorating Challenge with Ro | Nerdy Numm...</td>\n",
              "      <td>12M views</td>\n",
              "      <td>https://www.youtube.com/watch?v=y7xZ-kJDgvM</td>\n",
              "    </tr>\n",
              "  </tbody>\n",
              "</table>\n",
              "</div>"
            ],
            "text/plain": [
              "  channel_name url_x  ...      views                                        url_y\n",
              "0     iJustine   NaN  ...  18M views  https://www.youtube.com/watch?v=iPgaTmsYTT8\n",
              "1     iJustine   NaN  ...  12M views  https://www.youtube.com/watch?v=y7xZ-kJDgvM\n",
              "\n",
              "[2 rows x 9 columns]"
            ]
          },
          "metadata": {
            "tags": []
          },
          "execution_count": 525
        }
      ]
    },
    {
      "cell_type": "code",
      "metadata": {
        "colab": {
          "base_uri": "https://localhost:8080/",
          "height": 293
        },
        "id": "gW70tgkL1nks",
        "outputId": "c2301a2d-5f17-493e-da60-924e478a8d9f"
      },
      "source": [
        "#hide\n",
        "# drop 2nd url column and rename remaining url col\n",
        "merged.drop(columns=('url_x'),inplace=True)\n",
        "merged.rename(columns={'url_y':'url'},inplace=True)\n",
        "merged.head()"
      ],
      "execution_count": null,
      "outputs": [
        {
          "output_type": "execute_result",
          "data": {
            "text/html": [
              "<div>\n",
              "<style scoped>\n",
              "    .dataframe tbody tr th:only-of-type {\n",
              "        vertical-align: middle;\n",
              "    }\n",
              "\n",
              "    .dataframe tbody tr th {\n",
              "        vertical-align: top;\n",
              "    }\n",
              "\n",
              "    .dataframe thead th {\n",
              "        text-align: right;\n",
              "    }\n",
              "</style>\n",
              "<table border=\"1\" class=\"dataframe\">\n",
              "  <thead>\n",
              "    <tr style=\"text-align: right;\">\n",
              "      <th></th>\n",
              "      <th>channel_name</th>\n",
              "      <th>channel_join_date</th>\n",
              "      <th>channel_views</th>\n",
              "      <th>channel_description</th>\n",
              "      <th>subscribers</th>\n",
              "      <th>title</th>\n",
              "      <th>views</th>\n",
              "      <th>url</th>\n",
              "    </tr>\n",
              "  </thead>\n",
              "  <tbody>\n",
              "    <tr>\n",
              "      <th>0</th>\n",
              "      <td>iJustine</td>\n",
              "      <td>2006-05-07</td>\n",
              "      <td>1,288,987,476 views</td>\n",
              "      <td>Tech, video games, failed cooking attempts, vl...</td>\n",
              "      <td>6.89M subscribers</td>\n",
              "      <td>Black Eyed Peas - I gotta Feeling (Parody)</td>\n",
              "      <td>18M views</td>\n",
              "      <td>https://www.youtube.com/watch?v=iPgaTmsYTT8</td>\n",
              "    </tr>\n",
              "    <tr>\n",
              "      <th>1</th>\n",
              "      <td>iJustine</td>\n",
              "      <td>2006-05-07</td>\n",
              "      <td>1,288,987,476 views</td>\n",
              "      <td>Tech, video games, failed cooking attempts, vl...</td>\n",
              "      <td>6.89M subscribers</td>\n",
              "      <td>Cake Decorating Challenge with Ro | Nerdy Numm...</td>\n",
              "      <td>12M views</td>\n",
              "      <td>https://www.youtube.com/watch?v=y7xZ-kJDgvM</td>\n",
              "    </tr>\n",
              "    <tr>\n",
              "      <th>2</th>\n",
              "      <td>iJustine</td>\n",
              "      <td>2006-05-07</td>\n",
              "      <td>1,288,987,476 views</td>\n",
              "      <td>Tech, video games, failed cooking attempts, vl...</td>\n",
              "      <td>6.89M subscribers</td>\n",
              "      <td>The Voice of Siri!</td>\n",
              "      <td>11M views</td>\n",
              "      <td>https://www.youtube.com/watch?v=W2bc72HClEE</td>\n",
              "    </tr>\n",
              "    <tr>\n",
              "      <th>3</th>\n",
              "      <td>iJustine</td>\n",
              "      <td>2006-05-07</td>\n",
              "      <td>1,288,987,476 views</td>\n",
              "      <td>Tech, video games, failed cooking attempts, vl...</td>\n",
              "      <td>6.89M subscribers</td>\n",
              "      <td>Ugliest iPhone Cases Ever?</td>\n",
              "      <td>9.4M views</td>\n",
              "      <td>https://www.youtube.com/watch?v=x06yBIHu26o</td>\n",
              "    </tr>\n",
              "    <tr>\n",
              "      <th>4</th>\n",
              "      <td>iJustine</td>\n",
              "      <td>2006-05-07</td>\n",
              "      <td>1,288,987,476 views</td>\n",
              "      <td>Tech, video games, failed cooking attempts, vl...</td>\n",
              "      <td>6.89M subscribers</td>\n",
              "      <td>Making a mini cake with Ro!</td>\n",
              "      <td>9.1M views</td>\n",
              "      <td>https://www.youtube.com/watch?v=MdmGtxyzwHA</td>\n",
              "    </tr>\n",
              "  </tbody>\n",
              "</table>\n",
              "</div>"
            ],
            "text/plain": [
              "  channel_name  ...                                          url\n",
              "0     iJustine  ...  https://www.youtube.com/watch?v=iPgaTmsYTT8\n",
              "1     iJustine  ...  https://www.youtube.com/watch?v=y7xZ-kJDgvM\n",
              "2     iJustine  ...  https://www.youtube.com/watch?v=W2bc72HClEE\n",
              "3     iJustine  ...  https://www.youtube.com/watch?v=x06yBIHu26o\n",
              "4     iJustine  ...  https://www.youtube.com/watch?v=MdmGtxyzwHA\n",
              "\n",
              "[5 rows x 8 columns]"
            ]
          },
          "metadata": {
            "tags": []
          },
          "execution_count": 526
        }
      ]
    },
    {
      "cell_type": "code",
      "metadata": {
        "colab": {
          "base_uri": "https://localhost:8080/",
          "height": 147
        },
        "id": "eTbEKKUwLWY0",
        "outputId": "5e114bd0-3f31-48b1-dd47-ad8f2c0d70e6"
      },
      "source": [
        "#hide\n",
        "# dtypes to float for views and subscribers\n",
        "merged.subscribers = merged.subscribers.str.replace('M subscribers','').astype('float')*1000000\n",
        "merged.head(2)"
      ],
      "execution_count": null,
      "outputs": [
        {
          "output_type": "execute_result",
          "data": {
            "text/html": [
              "<div>\n",
              "<style scoped>\n",
              "    .dataframe tbody tr th:only-of-type {\n",
              "        vertical-align: middle;\n",
              "    }\n",
              "\n",
              "    .dataframe tbody tr th {\n",
              "        vertical-align: top;\n",
              "    }\n",
              "\n",
              "    .dataframe thead th {\n",
              "        text-align: right;\n",
              "    }\n",
              "</style>\n",
              "<table border=\"1\" class=\"dataframe\">\n",
              "  <thead>\n",
              "    <tr style=\"text-align: right;\">\n",
              "      <th></th>\n",
              "      <th>channel_name</th>\n",
              "      <th>channel_join_date</th>\n",
              "      <th>channel_views</th>\n",
              "      <th>channel_description</th>\n",
              "      <th>subscribers</th>\n",
              "      <th>title</th>\n",
              "      <th>views</th>\n",
              "      <th>url</th>\n",
              "    </tr>\n",
              "  </thead>\n",
              "  <tbody>\n",
              "    <tr>\n",
              "      <th>0</th>\n",
              "      <td>iJustine</td>\n",
              "      <td>2006-05-07</td>\n",
              "      <td>1,288,987,476 views</td>\n",
              "      <td>Tech, video games, failed cooking attempts, vl...</td>\n",
              "      <td>6890000.0</td>\n",
              "      <td>Black Eyed Peas - I gotta Feeling (Parody)</td>\n",
              "      <td>18M views</td>\n",
              "      <td>https://www.youtube.com/watch?v=iPgaTmsYTT8</td>\n",
              "    </tr>\n",
              "    <tr>\n",
              "      <th>1</th>\n",
              "      <td>iJustine</td>\n",
              "      <td>2006-05-07</td>\n",
              "      <td>1,288,987,476 views</td>\n",
              "      <td>Tech, video games, failed cooking attempts, vl...</td>\n",
              "      <td>6890000.0</td>\n",
              "      <td>Cake Decorating Challenge with Ro | Nerdy Numm...</td>\n",
              "      <td>12M views</td>\n",
              "      <td>https://www.youtube.com/watch?v=y7xZ-kJDgvM</td>\n",
              "    </tr>\n",
              "  </tbody>\n",
              "</table>\n",
              "</div>"
            ],
            "text/plain": [
              "  channel_name  ...                                          url\n",
              "0     iJustine  ...  https://www.youtube.com/watch?v=iPgaTmsYTT8\n",
              "1     iJustine  ...  https://www.youtube.com/watch?v=y7xZ-kJDgvM\n",
              "\n",
              "[2 rows x 8 columns]"
            ]
          },
          "metadata": {
            "tags": []
          },
          "execution_count": 527
        }
      ]
    },
    {
      "cell_type": "code",
      "metadata": {
        "colab": {
          "base_uri": "https://localhost:8080/",
          "height": 147
        },
        "id": "VmD7fcGjFOMc",
        "outputId": "adde7e13-d9a7-4c81-eaaf-51e2835ad7b4"
      },
      "source": [
        "#hide\n",
        "# modify views col dtype to float\n",
        "def fix_views(col):\n",
        "  if 'M' in col:\n",
        "    return float(col.replace('M views',''))*1000000\n",
        "  elif 'K' in col:\n",
        "    return float(col.replace('K views',''))*1000\n",
        "  elif '1 year ago' in col:\n",
        "    return 0\n",
        "\n",
        "merged['views'] = merged['views'].apply(fix_views)\n",
        "\n",
        "merged.head(2)"
      ],
      "execution_count": null,
      "outputs": [
        {
          "output_type": "execute_result",
          "data": {
            "text/html": [
              "<div>\n",
              "<style scoped>\n",
              "    .dataframe tbody tr th:only-of-type {\n",
              "        vertical-align: middle;\n",
              "    }\n",
              "\n",
              "    .dataframe tbody tr th {\n",
              "        vertical-align: top;\n",
              "    }\n",
              "\n",
              "    .dataframe thead th {\n",
              "        text-align: right;\n",
              "    }\n",
              "</style>\n",
              "<table border=\"1\" class=\"dataframe\">\n",
              "  <thead>\n",
              "    <tr style=\"text-align: right;\">\n",
              "      <th></th>\n",
              "      <th>channel_name</th>\n",
              "      <th>channel_join_date</th>\n",
              "      <th>channel_views</th>\n",
              "      <th>channel_description</th>\n",
              "      <th>subscribers</th>\n",
              "      <th>title</th>\n",
              "      <th>views</th>\n",
              "      <th>url</th>\n",
              "    </tr>\n",
              "  </thead>\n",
              "  <tbody>\n",
              "    <tr>\n",
              "      <th>0</th>\n",
              "      <td>iJustine</td>\n",
              "      <td>2006-05-07</td>\n",
              "      <td>1,288,987,476 views</td>\n",
              "      <td>Tech, video games, failed cooking attempts, vl...</td>\n",
              "      <td>6890000.0</td>\n",
              "      <td>Black Eyed Peas - I gotta Feeling (Parody)</td>\n",
              "      <td>18000000.0</td>\n",
              "      <td>https://www.youtube.com/watch?v=iPgaTmsYTT8</td>\n",
              "    </tr>\n",
              "    <tr>\n",
              "      <th>1</th>\n",
              "      <td>iJustine</td>\n",
              "      <td>2006-05-07</td>\n",
              "      <td>1,288,987,476 views</td>\n",
              "      <td>Tech, video games, failed cooking attempts, vl...</td>\n",
              "      <td>6890000.0</td>\n",
              "      <td>Cake Decorating Challenge with Ro | Nerdy Numm...</td>\n",
              "      <td>12000000.0</td>\n",
              "      <td>https://www.youtube.com/watch?v=y7xZ-kJDgvM</td>\n",
              "    </tr>\n",
              "  </tbody>\n",
              "</table>\n",
              "</div>"
            ],
            "text/plain": [
              "  channel_name  ...                                          url\n",
              "0     iJustine  ...  https://www.youtube.com/watch?v=iPgaTmsYTT8\n",
              "1     iJustine  ...  https://www.youtube.com/watch?v=y7xZ-kJDgvM\n",
              "\n",
              "[2 rows x 8 columns]"
            ]
          },
          "metadata": {
            "tags": []
          },
          "execution_count": 528
        }
      ]
    },
    {
      "cell_type": "code",
      "metadata": {
        "id": "faIuF1F2IxRQ"
      },
      "source": [
        "#hide\n",
        "# Correct channel view column to display num only\n",
        "merged['channel_views'] = merged['channel_views'].str.replace(',','').str.replace(' views','').astype('int')"
      ],
      "execution_count": null,
      "outputs": []
    },
    {
      "cell_type": "markdown",
      "metadata": {
        "id": "yN1ZXq462MXY"
      },
      "source": [
        "#hide\n",
        "## Import Videos Data\n",
        "\n",
        "Specific data from 2000 youtube videos"
      ]
    },
    {
      "cell_type": "code",
      "metadata": {
        "colab": {
          "base_uri": "https://localhost:8080/",
          "height": 164
        },
        "id": "U2v_YRSm2hXI",
        "outputId": "750fc4de-9b24-4282-e692-c3fecbdd43f6"
      },
      "source": [
        "#hide\n",
        "# import videos \n",
        "df_videos = pd.read_csv('yt_videos_scrap_big_data.csv',parse_dates=['Publish Date','Upload_date'])\n",
        "df_videos.drop(columns=['Unnamed: 0','Duration','Channel Name','Title'],inplace=True)\n",
        "df_videos.sample(2)"
      ],
      "execution_count": null,
      "outputs": [
        {
          "output_type": "execute_result",
          "data": {
            "text/html": [
              "<div>\n",
              "<style scoped>\n",
              "    .dataframe tbody tr th:only-of-type {\n",
              "        vertical-align: middle;\n",
              "    }\n",
              "\n",
              "    .dataframe tbody tr th {\n",
              "        vertical-align: top;\n",
              "    }\n",
              "\n",
              "    .dataframe thead th {\n",
              "        text-align: right;\n",
              "    }\n",
              "</style>\n",
              "<table border=\"1\" class=\"dataframe\">\n",
              "  <thead>\n",
              "    <tr style=\"text-align: right;\">\n",
              "      <th></th>\n",
              "      <th>url</th>\n",
              "      <th>Partial Description</th>\n",
              "      <th>Publish Date</th>\n",
              "      <th>Upload_date</th>\n",
              "      <th>Genre</th>\n",
              "      <th>Width</th>\n",
              "      <th>Height</th>\n",
              "      <th>Likes</th>\n",
              "      <th>Comments</th>\n",
              "      <th>Interaction Count</th>\n",
              "    </tr>\n",
              "  </thead>\n",
              "  <tbody>\n",
              "    <tr>\n",
              "      <th>1186</th>\n",
              "      <td>https://www.youtube.com/watch?v=P0r9wR-Z2dc</td>\n",
              "      <td>For $200 how does a new vs used Windows 10 lap...</td>\n",
              "      <td>2018-03-11</td>\n",
              "      <td>2018-03-11</td>\n",
              "      <td>Science &amp; Technology</td>\n",
              "      <td>1280.0</td>\n",
              "      <td>720.0</td>\n",
              "      <td>31K</td>\n",
              "      <td>3,469 Comments</td>\n",
              "      <td>1634850</td>\n",
              "    </tr>\n",
              "    <tr>\n",
              "      <th>1209</th>\n",
              "      <td>https://www.youtube.com/watch?v=j6T1Mygucak</td>\n",
              "      <td>Use sharp scissors like these - http://amzn.to...</td>\n",
              "      <td>2012-12-08</td>\n",
              "      <td>2012-12-08</td>\n",
              "      <td>Science &amp; Technology</td>\n",
              "      <td>1280.0</td>\n",
              "      <td>720.0</td>\n",
              "      <td>46K</td>\n",
              "      <td>3,257 Comments</td>\n",
              "      <td>14169813</td>\n",
              "    </tr>\n",
              "  </tbody>\n",
              "</table>\n",
              "</div>"
            ],
            "text/plain": [
              "                                              url  ... Interaction Count\n",
              "1186  https://www.youtube.com/watch?v=P0r9wR-Z2dc  ...           1634850\n",
              "1209  https://www.youtube.com/watch?v=j6T1Mygucak  ...          14169813\n",
              "\n",
              "[2 rows x 10 columns]"
            ]
          },
          "metadata": {
            "tags": []
          },
          "execution_count": 530
        }
      ]
    },
    {
      "cell_type": "code",
      "metadata": {
        "colab": {
          "base_uri": "https://localhost:8080/",
          "height": 164
        },
        "id": "Uxx6RkBG3K8E",
        "outputId": "4a256df0-3489-45cb-be5e-72b3536c9948"
      },
      "source": [
        "#hide\n",
        "# comments dytpe to int\n",
        "df_videos['Comments'] = df_videos['Comments'].str.replace('Comments','').str.replace(',','').astype('int')\n",
        "df_videos.sample(2)"
      ],
      "execution_count": null,
      "outputs": [
        {
          "output_type": "execute_result",
          "data": {
            "text/html": [
              "<div>\n",
              "<style scoped>\n",
              "    .dataframe tbody tr th:only-of-type {\n",
              "        vertical-align: middle;\n",
              "    }\n",
              "\n",
              "    .dataframe tbody tr th {\n",
              "        vertical-align: top;\n",
              "    }\n",
              "\n",
              "    .dataframe thead th {\n",
              "        text-align: right;\n",
              "    }\n",
              "</style>\n",
              "<table border=\"1\" class=\"dataframe\">\n",
              "  <thead>\n",
              "    <tr style=\"text-align: right;\">\n",
              "      <th></th>\n",
              "      <th>url</th>\n",
              "      <th>Partial Description</th>\n",
              "      <th>Publish Date</th>\n",
              "      <th>Upload_date</th>\n",
              "      <th>Genre</th>\n",
              "      <th>Width</th>\n",
              "      <th>Height</th>\n",
              "      <th>Likes</th>\n",
              "      <th>Comments</th>\n",
              "      <th>Interaction Count</th>\n",
              "    </tr>\n",
              "  </thead>\n",
              "  <tbody>\n",
              "    <tr>\n",
              "      <th>1087</th>\n",
              "      <td>https://www.youtube.com/watch?v=TOyazdH2b-U</td>\n",
              "      <td>That's it. Ken has officially gone too far in ...</td>\n",
              "      <td>2019-04-01</td>\n",
              "      <td>2019-04-01</td>\n",
              "      <td>Science &amp; Technology</td>\n",
              "      <td>1280.0</td>\n",
              "      <td>720.0</td>\n",
              "      <td>55K</td>\n",
              "      <td>2890</td>\n",
              "      <td>2348400</td>\n",
              "    </tr>\n",
              "    <tr>\n",
              "      <th>1744</th>\n",
              "      <td>https://www.youtube.com/watch?v=K43mTKyaed8</td>\n",
              "      <td>It’s that time again! We’ve got another massiv...</td>\n",
              "      <td>2017-10-14</td>\n",
              "      <td>2017-10-14</td>\n",
              "      <td>Science &amp; Technology</td>\n",
              "      <td>1280.0</td>\n",
              "      <td>720.0</td>\n",
              "      <td>18K</td>\n",
              "      <td>1397</td>\n",
              "      <td>769452</td>\n",
              "    </tr>\n",
              "  </tbody>\n",
              "</table>\n",
              "</div>"
            ],
            "text/plain": [
              "                                              url  ... Interaction Count\n",
              "1087  https://www.youtube.com/watch?v=TOyazdH2b-U  ...           2348400\n",
              "1744  https://www.youtube.com/watch?v=K43mTKyaed8  ...            769452\n",
              "\n",
              "[2 rows x 10 columns]"
            ]
          },
          "metadata": {
            "tags": []
          },
          "execution_count": 531
        }
      ]
    },
    {
      "cell_type": "code",
      "metadata": {
        "colab": {
          "base_uri": "https://localhost:8080/",
          "height": 164
        },
        "id": "X_NWsgBt8dfQ",
        "outputId": "f8124c6e-229e-4a11-853a-326e8306f6d2"
      },
      "source": [
        "#hide\n",
        "# modify likes col dtype to float\n",
        "def fix_likes(col):\n",
        "  if 'M' in col:\n",
        "    return float(col.replace('M',''))*1000000\n",
        "  elif 'K' in col:\n",
        "    return float(col.replace('K',''))*1000\n",
        "  else:\n",
        "    return float(col)\n",
        "\n",
        "df_videos['Likes'] = df_videos['Likes'].apply(fix_likes)\n",
        "\n",
        "df_videos.head(2)"
      ],
      "execution_count": null,
      "outputs": [
        {
          "output_type": "execute_result",
          "data": {
            "text/html": [
              "<div>\n",
              "<style scoped>\n",
              "    .dataframe tbody tr th:only-of-type {\n",
              "        vertical-align: middle;\n",
              "    }\n",
              "\n",
              "    .dataframe tbody tr th {\n",
              "        vertical-align: top;\n",
              "    }\n",
              "\n",
              "    .dataframe thead th {\n",
              "        text-align: right;\n",
              "    }\n",
              "</style>\n",
              "<table border=\"1\" class=\"dataframe\">\n",
              "  <thead>\n",
              "    <tr style=\"text-align: right;\">\n",
              "      <th></th>\n",
              "      <th>url</th>\n",
              "      <th>Partial Description</th>\n",
              "      <th>Publish Date</th>\n",
              "      <th>Upload_date</th>\n",
              "      <th>Genre</th>\n",
              "      <th>Width</th>\n",
              "      <th>Height</th>\n",
              "      <th>Likes</th>\n",
              "      <th>Comments</th>\n",
              "      <th>Interaction Count</th>\n",
              "    </tr>\n",
              "  </thead>\n",
              "  <tbody>\n",
              "    <tr>\n",
              "      <th>0</th>\n",
              "      <td>https://www.youtube.com/watch?v=iPgaTmsYTT8</td>\n",
              "      <td>Thanks for watching! Don't forget to subscribe...</td>\n",
              "      <td>2009-07-30</td>\n",
              "      <td>2009-07-30</td>\n",
              "      <td>Comedy</td>\n",
              "      <td>1280.0</td>\n",
              "      <td>720.0</td>\n",
              "      <td>102000.0</td>\n",
              "      <td>23437</td>\n",
              "      <td>18198670</td>\n",
              "    </tr>\n",
              "    <tr>\n",
              "      <th>1</th>\n",
              "      <td>https://www.youtube.com/watch?v=y7xZ-kJDgvM</td>\n",
              "      <td>Thanks for watching! Don't forget to subscribe...</td>\n",
              "      <td>2016-02-18</td>\n",
              "      <td>2016-02-18</td>\n",
              "      <td>Howto &amp; Style</td>\n",
              "      <td>1280.0</td>\n",
              "      <td>720.0</td>\n",
              "      <td>99000.0</td>\n",
              "      <td>8421</td>\n",
              "      <td>12395700</td>\n",
              "    </tr>\n",
              "  </tbody>\n",
              "</table>\n",
              "</div>"
            ],
            "text/plain": [
              "                                           url  ... Interaction Count\n",
              "0  https://www.youtube.com/watch?v=iPgaTmsYTT8  ...          18198670\n",
              "1  https://www.youtube.com/watch?v=y7xZ-kJDgvM  ...          12395700\n",
              "\n",
              "[2 rows x 10 columns]"
            ]
          },
          "metadata": {
            "tags": []
          },
          "execution_count": 532
        }
      ]
    },
    {
      "cell_type": "code",
      "metadata": {
        "colab": {
          "base_uri": "https://localhost:8080/",
          "height": 164
        },
        "id": "I-ucbnU59QyE",
        "outputId": "d38d3047-7b5f-4e75-a7ca-7dd44e77b892"
      },
      "source": [
        "#hide\n",
        "# Fix Width and Height, remove '.' and '0' from end of str\n",
        "df_videos['Width'] = df_videos['Width'].astype('str').str.split(\".\", expand=True)[0]\n",
        "df_videos['Height'] = df_videos['Height'].astype('str').str.split(\".\", expand=True)[0]\n",
        "df_videos.head(2)"
      ],
      "execution_count": null,
      "outputs": [
        {
          "output_type": "execute_result",
          "data": {
            "text/html": [
              "<div>\n",
              "<style scoped>\n",
              "    .dataframe tbody tr th:only-of-type {\n",
              "        vertical-align: middle;\n",
              "    }\n",
              "\n",
              "    .dataframe tbody tr th {\n",
              "        vertical-align: top;\n",
              "    }\n",
              "\n",
              "    .dataframe thead th {\n",
              "        text-align: right;\n",
              "    }\n",
              "</style>\n",
              "<table border=\"1\" class=\"dataframe\">\n",
              "  <thead>\n",
              "    <tr style=\"text-align: right;\">\n",
              "      <th></th>\n",
              "      <th>url</th>\n",
              "      <th>Partial Description</th>\n",
              "      <th>Publish Date</th>\n",
              "      <th>Upload_date</th>\n",
              "      <th>Genre</th>\n",
              "      <th>Width</th>\n",
              "      <th>Height</th>\n",
              "      <th>Likes</th>\n",
              "      <th>Comments</th>\n",
              "      <th>Interaction Count</th>\n",
              "    </tr>\n",
              "  </thead>\n",
              "  <tbody>\n",
              "    <tr>\n",
              "      <th>0</th>\n",
              "      <td>https://www.youtube.com/watch?v=iPgaTmsYTT8</td>\n",
              "      <td>Thanks for watching! Don't forget to subscribe...</td>\n",
              "      <td>2009-07-30</td>\n",
              "      <td>2009-07-30</td>\n",
              "      <td>Comedy</td>\n",
              "      <td>1280</td>\n",
              "      <td>720</td>\n",
              "      <td>102000.0</td>\n",
              "      <td>23437</td>\n",
              "      <td>18198670</td>\n",
              "    </tr>\n",
              "    <tr>\n",
              "      <th>1</th>\n",
              "      <td>https://www.youtube.com/watch?v=y7xZ-kJDgvM</td>\n",
              "      <td>Thanks for watching! Don't forget to subscribe...</td>\n",
              "      <td>2016-02-18</td>\n",
              "      <td>2016-02-18</td>\n",
              "      <td>Howto &amp; Style</td>\n",
              "      <td>1280</td>\n",
              "      <td>720</td>\n",
              "      <td>99000.0</td>\n",
              "      <td>8421</td>\n",
              "      <td>12395700</td>\n",
              "    </tr>\n",
              "  </tbody>\n",
              "</table>\n",
              "</div>"
            ],
            "text/plain": [
              "                                           url  ... Interaction Count\n",
              "0  https://www.youtube.com/watch?v=iPgaTmsYTT8  ...          18198670\n",
              "1  https://www.youtube.com/watch?v=y7xZ-kJDgvM  ...          12395700\n",
              "\n",
              "[2 rows x 10 columns]"
            ]
          },
          "metadata": {
            "tags": []
          },
          "execution_count": 533
        }
      ]
    },
    {
      "cell_type": "markdown",
      "metadata": {
        "id": "J_qtqVTsCOYo"
      },
      "source": [
        "### The Cleaned Dataframe\n",
        "\n",
        "Sample of fully cleaned and merged dataframe\n",
        "\n",
        "Data from Youtubes Channels and all Videos pages merged."
      ]
    },
    {
      "cell_type": "code",
      "metadata": {
        "colab": {
          "base_uri": "https://localhost:8080/",
          "height": 323
        },
        "id": "DLuFtbU2BRqs",
        "outputId": "7aa8dd4b-8182-497f-e2bb-d958813dc2d6"
      },
      "source": [
        "#collapse\n",
        "\n",
        "vc_merged = merged.merge(df_videos, on='url') \n",
        "\n",
        "# rename columns to increase readability in analysis plots and tables\n",
        "vc_merged.rename(columns={\n",
        "    'channel_name':'Channel Name',\n",
        "    'channel_join_date':'Channel Join Date',\n",
        "    'channel_views':'Channel Views (M)',\n",
        "    'subscribers':'Subscribers (M)',\n",
        "    'Interaction Count':'Interactations (M)',\n",
        "    'views':'Video Views (M)',\n",
        "    'Partial Description':'Video Desc',\n",
        "    'Publish Date':'Publish Date',\n",
        "    'Upload_date':'Upload Date',\n",
        "    'Genre':'Video Genre',\n",
        "    'Width':'Width',\n",
        "    'Height':'Height',\n",
        "    'Comments':'Video Comments',\n",
        "    'title':'Video Title',\n",
        "    'url':'Video URL'\n",
        "    },inplace=True)\n",
        "\n",
        "vc_merged.head(2)"
      ],
      "execution_count": null,
      "outputs": [
        {
          "output_type": "execute_result",
          "data": {
            "text/html": [
              "<div>\n",
              "<style scoped>\n",
              "    .dataframe tbody tr th:only-of-type {\n",
              "        vertical-align: middle;\n",
              "    }\n",
              "\n",
              "    .dataframe tbody tr th {\n",
              "        vertical-align: top;\n",
              "    }\n",
              "\n",
              "    .dataframe thead th {\n",
              "        text-align: right;\n",
              "    }\n",
              "</style>\n",
              "<table border=\"1\" class=\"dataframe\">\n",
              "  <thead>\n",
              "    <tr style=\"text-align: right;\">\n",
              "      <th></th>\n",
              "      <th>Channel Name</th>\n",
              "      <th>Channel Join Date</th>\n",
              "      <th>Channel Views (M)</th>\n",
              "      <th>channel_description</th>\n",
              "      <th>Subscribers (M)</th>\n",
              "      <th>Video Title</th>\n",
              "      <th>Video Views (M)</th>\n",
              "      <th>Video URL</th>\n",
              "      <th>Video Desc</th>\n",
              "      <th>Publish Date</th>\n",
              "      <th>Upload Date</th>\n",
              "      <th>Video Genre</th>\n",
              "      <th>Width</th>\n",
              "      <th>Height</th>\n",
              "      <th>Likes</th>\n",
              "      <th>Video Comments</th>\n",
              "      <th>Interactations (M)</th>\n",
              "    </tr>\n",
              "  </thead>\n",
              "  <tbody>\n",
              "    <tr>\n",
              "      <th>0</th>\n",
              "      <td>iJustine</td>\n",
              "      <td>2006-05-07</td>\n",
              "      <td>1288987476</td>\n",
              "      <td>Tech, video games, failed cooking attempts, vl...</td>\n",
              "      <td>6890000.0</td>\n",
              "      <td>Black Eyed Peas - I gotta Feeling (Parody)</td>\n",
              "      <td>18000000.0</td>\n",
              "      <td>https://www.youtube.com/watch?v=iPgaTmsYTT8</td>\n",
              "      <td>Thanks for watching! Don't forget to subscribe...</td>\n",
              "      <td>2009-07-30</td>\n",
              "      <td>2009-07-30</td>\n",
              "      <td>Comedy</td>\n",
              "      <td>1280</td>\n",
              "      <td>720</td>\n",
              "      <td>102000.0</td>\n",
              "      <td>23437</td>\n",
              "      <td>18198670</td>\n",
              "    </tr>\n",
              "    <tr>\n",
              "      <th>1</th>\n",
              "      <td>iJustine</td>\n",
              "      <td>2006-05-07</td>\n",
              "      <td>1288987476</td>\n",
              "      <td>Tech, video games, failed cooking attempts, vl...</td>\n",
              "      <td>6890000.0</td>\n",
              "      <td>Cake Decorating Challenge with Ro | Nerdy Numm...</td>\n",
              "      <td>12000000.0</td>\n",
              "      <td>https://www.youtube.com/watch?v=y7xZ-kJDgvM</td>\n",
              "      <td>Thanks for watching! Don't forget to subscribe...</td>\n",
              "      <td>2016-02-18</td>\n",
              "      <td>2016-02-18</td>\n",
              "      <td>Howto &amp; Style</td>\n",
              "      <td>1280</td>\n",
              "      <td>720</td>\n",
              "      <td>99000.0</td>\n",
              "      <td>8421</td>\n",
              "      <td>12395700</td>\n",
              "    </tr>\n",
              "  </tbody>\n",
              "</table>\n",
              "</div>"
            ],
            "text/plain": [
              "  Channel Name Channel Join Date  ...  Video Comments Interactations (M)\n",
              "0     iJustine        2006-05-07  ...           23437           18198670\n",
              "1     iJustine        2006-05-07  ...            8421           12395700\n",
              "\n",
              "[2 rows x 17 columns]"
            ]
          },
          "metadata": {
            "tags": []
          },
          "execution_count": 535
        }
      ]
    },
    {
      "cell_type": "code",
      "metadata": {
        "colab": {
          "base_uri": "https://localhost:8080/",
          "height": 323
        },
        "id": "RNB0MnskN5cY",
        "outputId": "7bac0d81-26dc-434d-f531-3cf3febba137"
      },
      "source": [
        "#hide\n",
        "# shorten column numbers length by millions \n",
        "\n",
        "vc_merged['Channel Views (M)'] = round(vc_merged['Channel Views (M)']/1000000,2)\n",
        "vc_merged['Video Views (M)'] = vc_merged['Video Views (M)']/1000000\n",
        "vc_merged['Subscribers (M)'] = vc_merged['Subscribers (M)']/1000000\n",
        "vc_merged['Interactations (M)'] = round(vc_merged['Interactations (M)']/1000000,2)\n",
        "\n",
        "vc_merged.head(2)"
      ],
      "execution_count": null,
      "outputs": [
        {
          "output_type": "execute_result",
          "data": {
            "text/html": [
              "<div>\n",
              "<style scoped>\n",
              "    .dataframe tbody tr th:only-of-type {\n",
              "        vertical-align: middle;\n",
              "    }\n",
              "\n",
              "    .dataframe tbody tr th {\n",
              "        vertical-align: top;\n",
              "    }\n",
              "\n",
              "    .dataframe thead th {\n",
              "        text-align: right;\n",
              "    }\n",
              "</style>\n",
              "<table border=\"1\" class=\"dataframe\">\n",
              "  <thead>\n",
              "    <tr style=\"text-align: right;\">\n",
              "      <th></th>\n",
              "      <th>Channel Name</th>\n",
              "      <th>Channel Join Date</th>\n",
              "      <th>Channel Views (M)</th>\n",
              "      <th>channel_description</th>\n",
              "      <th>Subscribers (M)</th>\n",
              "      <th>Video Title</th>\n",
              "      <th>Video Views (M)</th>\n",
              "      <th>Video URL</th>\n",
              "      <th>Video Desc</th>\n",
              "      <th>Publish Date</th>\n",
              "      <th>Upload Date</th>\n",
              "      <th>Video Genre</th>\n",
              "      <th>Width</th>\n",
              "      <th>Height</th>\n",
              "      <th>Likes</th>\n",
              "      <th>Video Comments</th>\n",
              "      <th>Interactations (M)</th>\n",
              "    </tr>\n",
              "  </thead>\n",
              "  <tbody>\n",
              "    <tr>\n",
              "      <th>0</th>\n",
              "      <td>iJustine</td>\n",
              "      <td>2006-05-07</td>\n",
              "      <td>1288.99</td>\n",
              "      <td>Tech, video games, failed cooking attempts, vl...</td>\n",
              "      <td>6.89</td>\n",
              "      <td>Black Eyed Peas - I gotta Feeling (Parody)</td>\n",
              "      <td>18.0</td>\n",
              "      <td>https://www.youtube.com/watch?v=iPgaTmsYTT8</td>\n",
              "      <td>Thanks for watching! Don't forget to subscribe...</td>\n",
              "      <td>2009-07-30</td>\n",
              "      <td>2009-07-30</td>\n",
              "      <td>Comedy</td>\n",
              "      <td>1280</td>\n",
              "      <td>720</td>\n",
              "      <td>102000.0</td>\n",
              "      <td>23437</td>\n",
              "      <td>18.2</td>\n",
              "    </tr>\n",
              "    <tr>\n",
              "      <th>1</th>\n",
              "      <td>iJustine</td>\n",
              "      <td>2006-05-07</td>\n",
              "      <td>1288.99</td>\n",
              "      <td>Tech, video games, failed cooking attempts, vl...</td>\n",
              "      <td>6.89</td>\n",
              "      <td>Cake Decorating Challenge with Ro | Nerdy Numm...</td>\n",
              "      <td>12.0</td>\n",
              "      <td>https://www.youtube.com/watch?v=y7xZ-kJDgvM</td>\n",
              "      <td>Thanks for watching! Don't forget to subscribe...</td>\n",
              "      <td>2016-02-18</td>\n",
              "      <td>2016-02-18</td>\n",
              "      <td>Howto &amp; Style</td>\n",
              "      <td>1280</td>\n",
              "      <td>720</td>\n",
              "      <td>99000.0</td>\n",
              "      <td>8421</td>\n",
              "      <td>12.4</td>\n",
              "    </tr>\n",
              "  </tbody>\n",
              "</table>\n",
              "</div>"
            ],
            "text/plain": [
              "  Channel Name Channel Join Date  ...  Video Comments Interactations (M)\n",
              "0     iJustine        2006-05-07  ...           23437               18.2\n",
              "1     iJustine        2006-05-07  ...            8421               12.4\n",
              "\n",
              "[2 rows x 17 columns]"
            ]
          },
          "metadata": {
            "tags": []
          },
          "execution_count": 536
        }
      ]
    },
    {
      "cell_type": "markdown",
      "metadata": {
        "id": "SCls6kuixin8"
      },
      "source": [
        "#hide\n",
        "#### Column Descriptions\n",
        "\n",
        "|Column Name  | Description |\n",
        "|:--|:--|\n",
        "|Channel Name|Name of Youtube Channel  |\n",
        "|Channel Join Date|Date Channel was created|\n",
        "|Channel Views (M)|Total views the channel has received (in millions)|\n",
        "|Channel Description|Description of Youtube Channel|\n",
        "|Subscribers (M)|Number of channel subscribers (in millions)|\n",
        "|Video Title|Video title|\n",
        "|Video Views (M)|Total views for video (in millions)|\n",
        "|Video URL|Video url|\n",
        "|Video Desc|Description of video|\n",
        "|Publish Date|Date video was published|\n",
        "|Upload Date|Date video was uploaded|\n",
        "|Video Genre|Genre of video|\n",
        "|Width|Width of video|\n",
        "|Height|Height of video|\n",
        "|Likes|Total likes for video|\n",
        "|Video Comments|Total comments for video|\n",
        "|Interactions (M)|Number of interactions video has received (in millions)|\n"
      ]
    },
    {
      "cell_type": "markdown",
      "metadata": {
        "id": "6RsDL9aOYx7w"
      },
      "source": [
        "#hide\n",
        "### Data Analysis"
      ]
    },
    {
      "cell_type": "markdown",
      "metadata": {
        "id": "0n5Du1QEl0oE"
      },
      "source": [
        "#### Youtube Channels Ordered by Join Date"
      ]
    },
    {
      "cell_type": "code",
      "metadata": {
        "colab": {
          "base_uri": "https://localhost:8080/",
          "height": 254
        },
        "id": "VJmkObrolaIw",
        "outputId": "c5aa2922-b711-4390-ded3-85de120f5252"
      },
      "source": [
        "#collapse\n",
        "# List of Video Channels\n",
        "yt_chan = vc_merged.groupby(['Channel Join Date','Channel Name','Channel Views (M)'])['Subscribers (M)'].max().to_frame().reset_index()\n",
        "\n",
        "# rename columns to increase readability\n",
        "yt_chan.rename(columns={\n",
        "    'Channel Name':'Channel',\n",
        "    'Channel Join Date':'Join Date',\n",
        "    'Subscribers (M)':'Subscribers',\n",
        "    'Channel Views (M)':'Channel Views'\n",
        "    },inplace=True)\n",
        "\n",
        "# style dateframe to highlight highest values\n",
        "yt_chan.style.format(formatter={'Subscribers': \"{:,} M\",\n",
        "                                 'Channel Views': \"{:,} M\",\n",
        "                                 'Join Date': \"{:%Y-%m-%d}\"}).background_gradient(subset=['Channel Views',\n",
        "                                                                                          'Subscribers'], \n",
        "                                                                                  cmap='Wistia').hide_index()"
      ],
      "execution_count": null,
      "outputs": [
        {
          "output_type": "execute_result",
          "data": {
            "text/html": [
              "<style  type=\"text/css\" >\n",
              "#T_b39d6a70_e98e_11eb_9141_0242ac1c0002row0_col2{\n",
              "            background-color:  #f8ee32;\n",
              "            color:  #000000;\n",
              "        }#T_b39d6a70_e98e_11eb_9141_0242ac1c0002row0_col3{\n",
              "            background-color:  #ffdc13;\n",
              "            color:  #000000;\n",
              "        }#T_b39d6a70_e98e_11eb_9141_0242ac1c0002row1_col2{\n",
              "            background-color:  #e7fc6e;\n",
              "            color:  #000000;\n",
              "        }#T_b39d6a70_e98e_11eb_9141_0242ac1c0002row1_col3,#T_b39d6a70_e98e_11eb_9141_0242ac1c0002row5_col2,#T_b39d6a70_e98e_11eb_9141_0242ac1c0002row9_col2{\n",
              "            background-color:  #e4ff7a;\n",
              "            color:  #000000;\n",
              "        }#T_b39d6a70_e98e_11eb_9141_0242ac1c0002row2_col2{\n",
              "            background-color:  #f5f13f;\n",
              "            color:  #000000;\n",
              "        }#T_b39d6a70_e98e_11eb_9141_0242ac1c0002row2_col3{\n",
              "            background-color:  #fbec29;\n",
              "            color:  #000000;\n",
              "        }#T_b39d6a70_e98e_11eb_9141_0242ac1c0002row3_col2{\n",
              "            background-color:  #ffc002;\n",
              "            color:  #000000;\n",
              "        }#T_b39d6a70_e98e_11eb_9141_0242ac1c0002row3_col3{\n",
              "            background-color:  #ff9d00;\n",
              "            color:  #000000;\n",
              "        }#T_b39d6a70_e98e_11eb_9141_0242ac1c0002row4_col2,#T_b39d6a70_e98e_11eb_9141_0242ac1c0002row6_col3{\n",
              "            background-color:  #fc7f00;\n",
              "            color:  #000000;\n",
              "        }#T_b39d6a70_e98e_11eb_9141_0242ac1c0002row4_col3{\n",
              "            background-color:  #ffa100;\n",
              "            color:  #000000;\n",
              "        }#T_b39d6a70_e98e_11eb_9141_0242ac1c0002row5_col3{\n",
              "            background-color:  #ebf962;\n",
              "            color:  #000000;\n",
              "        }#T_b39d6a70_e98e_11eb_9141_0242ac1c0002row6_col2{\n",
              "            background-color:  #fe9700;\n",
              "            color:  #000000;\n",
              "        }#T_b39d6a70_e98e_11eb_9141_0242ac1c0002row7_col2{\n",
              "            background-color:  #ecf85d;\n",
              "            color:  #000000;\n",
              "        }#T_b39d6a70_e98e_11eb_9141_0242ac1c0002row7_col3{\n",
              "            background-color:  #eff551;\n",
              "            color:  #000000;\n",
              "        }#T_b39d6a70_e98e_11eb_9141_0242ac1c0002row8_col2{\n",
              "            background-color:  #f7ef38;\n",
              "            color:  #000000;\n",
              "        }#T_b39d6a70_e98e_11eb_9141_0242ac1c0002row8_col3{\n",
              "            background-color:  #ffd30d;\n",
              "            color:  #000000;\n",
              "        }#T_b39d6a70_e98e_11eb_9141_0242ac1c0002row9_col3{\n",
              "            background-color:  #eef757;\n",
              "            color:  #000000;\n",
              "        }</style><table id=\"T_b39d6a70_e98e_11eb_9141_0242ac1c0002\" ><thead>    <tr>        <th class=\"col_heading level0 col0\" >Join Date</th>        <th class=\"col_heading level0 col1\" >Channel</th>        <th class=\"col_heading level0 col2\" >Channel Views</th>        <th class=\"col_heading level0 col3\" >Subscribers</th>    </tr></thead><tbody>\n",
              "                <tr>\n",
              "                                <td id=\"T_b39d6a70_e98e_11eb_9141_0242ac1c0002row0_col0\" class=\"data row0 col0\" >2006-05-07</td>\n",
              "                        <td id=\"T_b39d6a70_e98e_11eb_9141_0242ac1c0002row0_col1\" class=\"data row0 col1\" >iJustine</td>\n",
              "                        <td id=\"T_b39d6a70_e98e_11eb_9141_0242ac1c0002row0_col2\" class=\"data row0 col2\" >1,288.99 M</td>\n",
              "                        <td id=\"T_b39d6a70_e98e_11eb_9141_0242ac1c0002row0_col3\" class=\"data row0 col3\" >6.89 M</td>\n",
              "            </tr>\n",
              "            <tr>\n",
              "                                <td id=\"T_b39d6a70_e98e_11eb_9141_0242ac1c0002row1_col0\" class=\"data row1 col0\" >2007-06-07</td>\n",
              "                        <td id=\"T_b39d6a70_e98e_11eb_9141_0242ac1c0002row1_col1\" class=\"data row1 col1\" >Jon Rettinger</td>\n",
              "                        <td id=\"T_b39d6a70_e98e_11eb_9141_0242ac1c0002row1_col2\" class=\"data row1 col2\" >574.95 M</td>\n",
              "                        <td id=\"T_b39d6a70_e98e_11eb_9141_0242ac1c0002row1_col3\" class=\"data row1 col3\" >1.59 M</td>\n",
              "            </tr>\n",
              "            <tr>\n",
              "                                <td id=\"T_b39d6a70_e98e_11eb_9141_0242ac1c0002row2_col0\" class=\"data row2 col0\" >2007-08-04</td>\n",
              "                        <td id=\"T_b39d6a70_e98e_11eb_9141_0242ac1c0002row2_col1\" class=\"data row2 col1\" >Austin Evans</td>\n",
              "                        <td id=\"T_b39d6a70_e98e_11eb_9141_0242ac1c0002row2_col2\" class=\"data row2 col2\" >1,118.91 M</td>\n",
              "                        <td id=\"T_b39d6a70_e98e_11eb_9141_0242ac1c0002row2_col3\" class=\"data row2 col3\" >5.07 M</td>\n",
              "            </tr>\n",
              "            <tr>\n",
              "                                <td id=\"T_b39d6a70_e98e_11eb_9141_0242ac1c0002row3_col0\" class=\"data row3 col0\" >2008-03-21</td>\n",
              "                        <td id=\"T_b39d6a70_e98e_11eb_9141_0242ac1c0002row3_col1\" class=\"data row3 col1\" >Marques Brownlee</td>\n",
              "                        <td id=\"T_b39d6a70_e98e_11eb_9141_0242ac1c0002row3_col2\" class=\"data row3 col2\" >2,597.03 M</td>\n",
              "                        <td id=\"T_b39d6a70_e98e_11eb_9141_0242ac1c0002row3_col3\" class=\"data row3 col3\" >14.3 M</td>\n",
              "            </tr>\n",
              "            <tr>\n",
              "                                <td id=\"T_b39d6a70_e98e_11eb_9141_0242ac1c0002row4_col0\" class=\"data row4 col0\" >2008-11-24</td>\n",
              "                        <td id=\"T_b39d6a70_e98e_11eb_9141_0242ac1c0002row4_col1\" class=\"data row4 col1\" >Linus Tech Tips</td>\n",
              "                        <td id=\"T_b39d6a70_e98e_11eb_9141_0242ac1c0002row4_col2\" class=\"data row4 col2\" >4,934.74 M</td>\n",
              "                        <td id=\"T_b39d6a70_e98e_11eb_9141_0242ac1c0002row4_col3\" class=\"data row4 col3\" >13.7 M</td>\n",
              "            </tr>\n",
              "            <tr>\n",
              "                                <td id=\"T_b39d6a70_e98e_11eb_9141_0242ac1c0002row5_col0\" class=\"data row5 col0\" >2010-03-24</td>\n",
              "                        <td id=\"T_b39d6a70_e98e_11eb_9141_0242ac1c0002row5_col1\" class=\"data row5 col1\" >Jonathan Morrison</td>\n",
              "                        <td id=\"T_b39d6a70_e98e_11eb_9141_0242ac1c0002row5_col2\" class=\"data row5 col2\" >430.64 M</td>\n",
              "                        <td id=\"T_b39d6a70_e98e_11eb_9141_0242ac1c0002row5_col3\" class=\"data row5 col3\" >2.64 M</td>\n",
              "            </tr>\n",
              "            <tr>\n",
              "                                <td id=\"T_b39d6a70_e98e_11eb_9141_0242ac1c0002row6_col0\" class=\"data row6 col0\" >2010-12-21</td>\n",
              "                        <td id=\"T_b39d6a70_e98e_11eb_9141_0242ac1c0002row6_col1\" class=\"data row6 col1\" >Unbox Therapy</td>\n",
              "                        <td id=\"T_b39d6a70_e98e_11eb_9141_0242ac1c0002row6_col2\" class=\"data row6 col2\" >4,091.68 M</td>\n",
              "                        <td id=\"T_b39d6a70_e98e_11eb_9141_0242ac1c0002row6_col3\" class=\"data row6 col3\" >18.0 M</td>\n",
              "            </tr>\n",
              "            <tr>\n",
              "                                <td id=\"T_b39d6a70_e98e_11eb_9141_0242ac1c0002row7_col0\" class=\"data row7 col0\" >2011-04-03</td>\n",
              "                        <td id=\"T_b39d6a70_e98e_11eb_9141_0242ac1c0002row7_col1\" class=\"data row7 col1\" >Android Authority</td>\n",
              "                        <td id=\"T_b39d6a70_e98e_11eb_9141_0242ac1c0002row7_col2\" class=\"data row7 col2\" >767.86 M</td>\n",
              "                        <td id=\"T_b39d6a70_e98e_11eb_9141_0242ac1c0002row7_col3\" class=\"data row7 col3\" >3.36 M</td>\n",
              "            </tr>\n",
              "            <tr>\n",
              "                                <td id=\"T_b39d6a70_e98e_11eb_9141_0242ac1c0002row8_col0\" class=\"data row8 col0\" >2011-04-20</td>\n",
              "                        <td id=\"T_b39d6a70_e98e_11eb_9141_0242ac1c0002row8_col1\" class=\"data row8 col1\" >Mrwhosetheboss</td>\n",
              "                        <td id=\"T_b39d6a70_e98e_11eb_9141_0242ac1c0002row8_col2\" class=\"data row8 col2\" >1,208.15 M</td>\n",
              "                        <td id=\"T_b39d6a70_e98e_11eb_9141_0242ac1c0002row8_col3\" class=\"data row8 col3\" >7.71 M</td>\n",
              "            </tr>\n",
              "            <tr>\n",
              "                                <td id=\"T_b39d6a70_e98e_11eb_9141_0242ac1c0002row9_col0\" class=\"data row9 col0\" >2012-01-01</td>\n",
              "                        <td id=\"T_b39d6a70_e98e_11eb_9141_0242ac1c0002row9_col1\" class=\"data row9 col1\" >UrAvgConsumer</td>\n",
              "                        <td id=\"T_b39d6a70_e98e_11eb_9141_0242ac1c0002row9_col2\" class=\"data row9 col2\" >430.38 M</td>\n",
              "                        <td id=\"T_b39d6a70_e98e_11eb_9141_0242ac1c0002row9_col3\" class=\"data row9 col3\" >3.11 M</td>\n",
              "            </tr>\n",
              "    </tbody></table>"
            ],
            "text/plain": [
              "<pandas.io.formats.style.Styler at 0x7f8ef04221d0>"
            ]
          },
          "metadata": {
            "tags": []
          },
          "execution_count": 539
        }
      ]
    },
    {
      "cell_type": "markdown",
      "metadata": {
        "id": "5ov8vuAsY1q0"
      },
      "source": [
        "#### Top 10 Most Viewed Videos"
      ]
    },
    {
      "cell_type": "code",
      "metadata": {
        "colab": {
          "base_uri": "https://localhost:8080/",
          "height": 254
        },
        "id": "GvBkqfoEXQZk",
        "outputId": "926e54f3-135e-4f75-c779-b0a51aebe919"
      },
      "source": [
        "#collapse\n",
        "# Top 10 Videos by Views\n",
        "top_chan = vc_merged.groupby(['Video Title',\n",
        "                              'Channel Name',\n",
        "                              'Publish Date'])['Video Views (M)'].max().sort_values(ascending=False).head(10).reset_index()\n",
        "\n",
        "# rename columns to increase readability\n",
        "top_chan.rename(columns={\n",
        "    'Channel Name':'Channel',\n",
        "    'Video Views (M)':'Video Views'\n",
        "    },inplace=True)\n",
        "\n",
        "top_chan.style.format(formatter={'Video Views': \"{:,} M\",\n",
        "                                 'Publish Date': \"{:%Y-%m-%d}\"}).background_gradient(subset=['Video Views',\n",
        "                                                                                                   'Publish Date'], cmap='Wistia').hide_index()\n"
      ],
      "execution_count": null,
      "outputs": [
        {
          "output_type": "execute_result",
          "data": {
            "text/html": [
              "<style  type=\"text/css\" >\n",
              "#T_edde1d60_e98e_11eb_9141_0242ac1c0002row0_col2,#T_edde1d60_e98e_11eb_9141_0242ac1c0002row9_col3{\n",
              "            background-color:  #e4ff7a;\n",
              "            color:  #000000;\n",
              "        }#T_edde1d60_e98e_11eb_9141_0242ac1c0002row0_col3,#T_edde1d60_e98e_11eb_9141_0242ac1c0002row2_col2{\n",
              "            background-color:  #fc7f00;\n",
              "            color:  #000000;\n",
              "        }#T_edde1d60_e98e_11eb_9141_0242ac1c0002row1_col2,#T_edde1d60_e98e_11eb_9141_0242ac1c0002row3_col2{\n",
              "            background-color:  #fd8700;\n",
              "            color:  #000000;\n",
              "        }#T_edde1d60_e98e_11eb_9141_0242ac1c0002row1_col3{\n",
              "            background-color:  #f6f03b;\n",
              "            color:  #000000;\n",
              "        }#T_edde1d60_e98e_11eb_9141_0242ac1c0002row2_col3,#T_edde1d60_e98e_11eb_9141_0242ac1c0002row3_col3,#T_edde1d60_e98e_11eb_9141_0242ac1c0002row4_col3{\n",
              "            background-color:  #eafa65;\n",
              "            color:  #000000;\n",
              "        }#T_edde1d60_e98e_11eb_9141_0242ac1c0002row4_col2{\n",
              "            background-color:  #f7ef38;\n",
              "            color:  #000000;\n",
              "        }#T_edde1d60_e98e_11eb_9141_0242ac1c0002row5_col2{\n",
              "            background-color:  #ff9f00;\n",
              "            color:  #000000;\n",
              "        }#T_edde1d60_e98e_11eb_9141_0242ac1c0002row5_col3,#T_edde1d60_e98e_11eb_9141_0242ac1c0002row6_col3{\n",
              "            background-color:  #e8fc6c;\n",
              "            color:  #000000;\n",
              "        }#T_edde1d60_e98e_11eb_9141_0242ac1c0002row6_col2{\n",
              "            background-color:  #ff9e00;\n",
              "            color:  #000000;\n",
              "        }#T_edde1d60_e98e_11eb_9141_0242ac1c0002row7_col2{\n",
              "            background-color:  #ffdf15;\n",
              "            color:  #000000;\n",
              "        }#T_edde1d60_e98e_11eb_9141_0242ac1c0002row7_col3,#T_edde1d60_e98e_11eb_9141_0242ac1c0002row8_col3{\n",
              "            background-color:  #e6fe74;\n",
              "            color:  #000000;\n",
              "        }#T_edde1d60_e98e_11eb_9141_0242ac1c0002row8_col2{\n",
              "            background-color:  #ffd40e;\n",
              "            color:  #000000;\n",
              "        }#T_edde1d60_e98e_11eb_9141_0242ac1c0002row9_col2{\n",
              "            background-color:  #ffc304;\n",
              "            color:  #000000;\n",
              "        }</style><table id=\"T_edde1d60_e98e_11eb_9141_0242ac1c0002\" ><thead>    <tr>        <th class=\"col_heading level0 col0\" >Video Title</th>        <th class=\"col_heading level0 col1\" >Channel</th>        <th class=\"col_heading level0 col2\" >Publish Date</th>        <th class=\"col_heading level0 col3\" >Video Views</th>    </tr></thead><tbody>\n",
              "                <tr>\n",
              "                                <td id=\"T_edde1d60_e98e_11eb_9141_0242ac1c0002row0_col0\" class=\"data row0 col0\" >iPhone 6 Plus Bend Test</td>\n",
              "                        <td id=\"T_edde1d60_e98e_11eb_9141_0242ac1c0002row0_col1\" class=\"data row0 col1\" >Unbox Therapy</td>\n",
              "                        <td id=\"T_edde1d60_e98e_11eb_9141_0242ac1c0002row0_col2\" class=\"data row0 col2\" >2014-09-23</td>\n",
              "                        <td id=\"T_edde1d60_e98e_11eb_9141_0242ac1c0002row0_col3\" class=\"data row0 col3\" >73.0 M</td>\n",
              "            </tr>\n",
              "            <tr>\n",
              "                                <td id=\"T_edde1d60_e98e_11eb_9141_0242ac1c0002row1_col0\" class=\"data row1 col0\" >Retro Tech: Game Boy</td>\n",
              "                        <td id=\"T_edde1d60_e98e_11eb_9141_0242ac1c0002row1_col1\" class=\"data row1 col1\" >Marques Brownlee</td>\n",
              "                        <td id=\"T_edde1d60_e98e_11eb_9141_0242ac1c0002row1_col2\" class=\"data row1 col2\" >2019-04-19</td>\n",
              "                        <td id=\"T_edde1d60_e98e_11eb_9141_0242ac1c0002row1_col3\" class=\"data row1 col3\" >28.0 M</td>\n",
              "            </tr>\n",
              "            <tr>\n",
              "                                <td id=\"T_edde1d60_e98e_11eb_9141_0242ac1c0002row2_col0\" class=\"data row2 col0\" >BROKE vs PRO Gaming</td>\n",
              "                        <td id=\"T_edde1d60_e98e_11eb_9141_0242ac1c0002row2_col1\" class=\"data row2 col1\" >Austin Evans</td>\n",
              "                        <td id=\"T_edde1d60_e98e_11eb_9141_0242ac1c0002row2_col2\" class=\"data row2 col2\" >2019-08-03</td>\n",
              "                        <td id=\"T_edde1d60_e98e_11eb_9141_0242ac1c0002row2_col3\" class=\"data row2 col3\" >22.0 M</td>\n",
              "            </tr>\n",
              "            <tr>\n",
              "                                <td id=\"T_edde1d60_e98e_11eb_9141_0242ac1c0002row3_col0\" class=\"data row3 col0\" >Samsung Galaxy Fold Unboxing: Magnets!</td>\n",
              "                        <td id=\"T_edde1d60_e98e_11eb_9141_0242ac1c0002row3_col1\" class=\"data row3 col1\" >Marques Brownlee</td>\n",
              "                        <td id=\"T_edde1d60_e98e_11eb_9141_0242ac1c0002row3_col2\" class=\"data row3 col2\" >2019-04-16</td>\n",
              "                        <td id=\"T_edde1d60_e98e_11eb_9141_0242ac1c0002row3_col3\" class=\"data row3 col3\" >22.0 M</td>\n",
              "            </tr>\n",
              "            <tr>\n",
              "                                <td id=\"T_edde1d60_e98e_11eb_9141_0242ac1c0002row4_col0\" class=\"data row4 col0\" >Turn your Smartphone into a 3D Hologram | 4K</td>\n",
              "                        <td id=\"T_edde1d60_e98e_11eb_9141_0242ac1c0002row4_col1\" class=\"data row4 col1\" >Mrwhosetheboss</td>\n",
              "                        <td id=\"T_edde1d60_e98e_11eb_9141_0242ac1c0002row4_col2\" class=\"data row4 col2\" >2015-08-01</td>\n",
              "                        <td id=\"T_edde1d60_e98e_11eb_9141_0242ac1c0002row4_col3\" class=\"data row4 col3\" >22.0 M</td>\n",
              "            </tr>\n",
              "            <tr>\n",
              "                                <td id=\"T_edde1d60_e98e_11eb_9141_0242ac1c0002row5_col0\" class=\"data row5 col0\" >OnePlus 6 Review: Right On the Money!</td>\n",
              "                        <td id=\"T_edde1d60_e98e_11eb_9141_0242ac1c0002row5_col1\" class=\"data row5 col1\" >Marques Brownlee</td>\n",
              "                        <td id=\"T_edde1d60_e98e_11eb_9141_0242ac1c0002row5_col2\" class=\"data row5 col2\" >2018-05-25</td>\n",
              "                        <td id=\"T_edde1d60_e98e_11eb_9141_0242ac1c0002row5_col3\" class=\"data row5 col3\" >21.0 M</td>\n",
              "            </tr>\n",
              "            <tr>\n",
              "                                <td id=\"T_edde1d60_e98e_11eb_9141_0242ac1c0002row6_col0\" class=\"data row6 col0\" >This Smartphone Changes Everything...</td>\n",
              "                        <td id=\"T_edde1d60_e98e_11eb_9141_0242ac1c0002row6_col1\" class=\"data row6 col1\" >Unbox Therapy</td>\n",
              "                        <td id=\"T_edde1d60_e98e_11eb_9141_0242ac1c0002row6_col2\" class=\"data row6 col2\" >2018-06-19</td>\n",
              "                        <td id=\"T_edde1d60_e98e_11eb_9141_0242ac1c0002row6_col3\" class=\"data row6 col3\" >21.0 M</td>\n",
              "            </tr>\n",
              "            <tr>\n",
              "                                <td id=\"T_edde1d60_e98e_11eb_9141_0242ac1c0002row7_col0\" class=\"data row7 col0\" >The 4 Dollar Android Smartphone</td>\n",
              "                        <td id=\"T_edde1d60_e98e_11eb_9141_0242ac1c0002row7_col1\" class=\"data row7 col1\" >Unbox Therapy</td>\n",
              "                        <td id=\"T_edde1d60_e98e_11eb_9141_0242ac1c0002row7_col2\" class=\"data row7 col2\" >2016-03-11</td>\n",
              "                        <td id=\"T_edde1d60_e98e_11eb_9141_0242ac1c0002row7_col3\" class=\"data row7 col3\" >20.0 M</td>\n",
              "            </tr>\n",
              "            <tr>\n",
              "                                <td id=\"T_edde1d60_e98e_11eb_9141_0242ac1c0002row8_col0\" class=\"data row8 col0\" >This Cup Is Unspillable - What Magic Is This?</td>\n",
              "                        <td id=\"T_edde1d60_e98e_11eb_9141_0242ac1c0002row8_col1\" class=\"data row8 col1\" >Unbox Therapy</td>\n",
              "                        <td id=\"T_edde1d60_e98e_11eb_9141_0242ac1c0002row8_col2\" class=\"data row8 col2\" >2016-07-03</td>\n",
              "                        <td id=\"T_edde1d60_e98e_11eb_9141_0242ac1c0002row8_col3\" class=\"data row8 col3\" >20.0 M</td>\n",
              "            </tr>\n",
              "            <tr>\n",
              "                                <td id=\"T_edde1d60_e98e_11eb_9141_0242ac1c0002row9_col0\" class=\"data row9 col0\" >Unboxing The $20,000 Smartphone</td>\n",
              "                        <td id=\"T_edde1d60_e98e_11eb_9141_0242ac1c0002row9_col1\" class=\"data row9 col1\" >Unbox Therapy</td>\n",
              "                        <td id=\"T_edde1d60_e98e_11eb_9141_0242ac1c0002row9_col2\" class=\"data row9 col2\" >2016-12-25</td>\n",
              "                        <td id=\"T_edde1d60_e98e_11eb_9141_0242ac1c0002row9_col3\" class=\"data row9 col3\" >19.0 M</td>\n",
              "            </tr>\n",
              "    </tbody></table>"
            ],
            "text/plain": [
              "<pandas.io.formats.style.Styler at 0x7f8ef017e410>"
            ]
          },
          "metadata": {
            "tags": []
          },
          "execution_count": 543
        }
      ]
    },
    {
      "cell_type": "markdown",
      "metadata": {
        "id": "RHTt3RGtts8o"
      },
      "source": [
        "#### Channels Grouped by Total Video Views\n",
        "\n",
        "Sum of all videos for each channel.\n"
      ]
    },
    {
      "cell_type": "code",
      "metadata": {
        "colab": {
          "base_uri": "https://localhost:8080/",
          "height": 254
        },
        "id": "pD6GjfndtIno",
        "outputId": "5578044a-f5a4-409b-8cd6-1c109faec588"
      },
      "source": [
        "#collapse\n",
        "# Total Views by Channel\n",
        "\n",
        "chan_views = vc_merged.groupby(['Channel Name','Subscribers (M)'])['Video Views (M)'].sum().sort_values(ascending=False).reset_index()\n",
        "\n",
        "# rename columns to increase readability\n",
        "chan_views.rename(columns={\n",
        "    'Channel Name':'Channel',\n",
        "    'Video Views (M)':'Video Views',\n",
        "    'Subscribers (M)':'Subscribers'\n",
        "    },inplace=True)\n",
        "\n",
        "chan_views.style.format(formatter={'Video Views': \"{:,}\",\n",
        "                                   'Video Views':'{0:,.0f} M',\n",
        "                                 'Subscribers': \"{:,} M\"}).background_gradient(subset=['Video Views','Subscribers'], cmap='Wistia').hide_index()"
      ],
      "execution_count": null,
      "outputs": [
        {
          "output_type": "execute_result",
          "data": {
            "text/html": [
              "<style  type=\"text/css\" >\n",
              "#T_1d1ae70c_e98f_11eb_9141_0242ac1c0002row0_col1,#T_1d1ae70c_e98f_11eb_9141_0242ac1c0002row0_col2{\n",
              "            background-color:  #fc7f00;\n",
              "            color:  #000000;\n",
              "        }#T_1d1ae70c_e98f_11eb_9141_0242ac1c0002row1_col1{\n",
              "            background-color:  #ff9d00;\n",
              "            color:  #000000;\n",
              "        }#T_1d1ae70c_e98f_11eb_9141_0242ac1c0002row1_col2{\n",
              "            background-color:  #fe9600;\n",
              "            color:  #000000;\n",
              "        }#T_1d1ae70c_e98f_11eb_9141_0242ac1c0002row2_col1{\n",
              "            background-color:  #ffa100;\n",
              "            color:  #000000;\n",
              "        }#T_1d1ae70c_e98f_11eb_9141_0242ac1c0002row2_col2{\n",
              "            background-color:  #ffa300;\n",
              "            color:  #000000;\n",
              "        }#T_1d1ae70c_e98f_11eb_9141_0242ac1c0002row3_col1{\n",
              "            background-color:  #ffd30d;\n",
              "            color:  #000000;\n",
              "        }#T_1d1ae70c_e98f_11eb_9141_0242ac1c0002row3_col2{\n",
              "            background-color:  #ffc303;\n",
              "            color:  #000000;\n",
              "        }#T_1d1ae70c_e98f_11eb_9141_0242ac1c0002row4_col1{\n",
              "            background-color:  #fbec29;\n",
              "            color:  #000000;\n",
              "        }#T_1d1ae70c_e98f_11eb_9141_0242ac1c0002row4_col2{\n",
              "            background-color:  #ffde14;\n",
              "            color:  #000000;\n",
              "        }#T_1d1ae70c_e98f_11eb_9141_0242ac1c0002row5_col1{\n",
              "            background-color:  #ffdc13;\n",
              "            color:  #000000;\n",
              "        }#T_1d1ae70c_e98f_11eb_9141_0242ac1c0002row5_col2{\n",
              "            background-color:  #ffdf15;\n",
              "            color:  #000000;\n",
              "        }#T_1d1ae70c_e98f_11eb_9141_0242ac1c0002row6_col1{\n",
              "            background-color:  #eff551;\n",
              "            color:  #000000;\n",
              "        }#T_1d1ae70c_e98f_11eb_9141_0242ac1c0002row6_col2{\n",
              "            background-color:  #ecf95f;\n",
              "            color:  #000000;\n",
              "        }#T_1d1ae70c_e98f_11eb_9141_0242ac1c0002row7_col1{\n",
              "            background-color:  #ebf962;\n",
              "            color:  #000000;\n",
              "        }#T_1d1ae70c_e98f_11eb_9141_0242ac1c0002row7_col2,#T_1d1ae70c_e98f_11eb_9141_0242ac1c0002row8_col2{\n",
              "            background-color:  #e8fb6b;\n",
              "            color:  #000000;\n",
              "        }#T_1d1ae70c_e98f_11eb_9141_0242ac1c0002row8_col1{\n",
              "            background-color:  #eef757;\n",
              "            color:  #000000;\n",
              "        }#T_1d1ae70c_e98f_11eb_9141_0242ac1c0002row9_col1,#T_1d1ae70c_e98f_11eb_9141_0242ac1c0002row9_col2{\n",
              "            background-color:  #e4ff7a;\n",
              "            color:  #000000;\n",
              "        }</style><table id=\"T_1d1ae70c_e98f_11eb_9141_0242ac1c0002\" ><thead>    <tr>        <th class=\"col_heading level0 col0\" >Channel</th>        <th class=\"col_heading level0 col1\" >Subscribers</th>        <th class=\"col_heading level0 col2\" >Video Views</th>    </tr></thead><tbody>\n",
              "                <tr>\n",
              "                                <td id=\"T_1d1ae70c_e98f_11eb_9141_0242ac1c0002row0_col0\" class=\"data row0 col0\" >Unbox Therapy</td>\n",
              "                        <td id=\"T_1d1ae70c_e98f_11eb_9141_0242ac1c0002row0_col1\" class=\"data row0 col1\" >18.0 M</td>\n",
              "                        <td id=\"T_1d1ae70c_e98f_11eb_9141_0242ac1c0002row0_col2\" class=\"data row0 col2\" >1,522 M</td>\n",
              "            </tr>\n",
              "            <tr>\n",
              "                                <td id=\"T_1d1ae70c_e98f_11eb_9141_0242ac1c0002row1_col0\" class=\"data row1 col0\" >Marques Brownlee</td>\n",
              "                        <td id=\"T_1d1ae70c_e98f_11eb_9141_0242ac1c0002row1_col1\" class=\"data row1 col1\" >14.3 M</td>\n",
              "                        <td id=\"T_1d1ae70c_e98f_11eb_9141_0242ac1c0002row1_col2\" class=\"data row1 col2\" >1,286 M</td>\n",
              "            </tr>\n",
              "            <tr>\n",
              "                                <td id=\"T_1d1ae70c_e98f_11eb_9141_0242ac1c0002row2_col0\" class=\"data row2 col0\" >Linus Tech Tips</td>\n",
              "                        <td id=\"T_1d1ae70c_e98f_11eb_9141_0242ac1c0002row2_col1\" class=\"data row2 col1\" >13.7 M</td>\n",
              "                        <td id=\"T_1d1ae70c_e98f_11eb_9141_0242ac1c0002row2_col2\" class=\"data row2 col2\" >1,158 M</td>\n",
              "            </tr>\n",
              "            <tr>\n",
              "                                <td id=\"T_1d1ae70c_e98f_11eb_9141_0242ac1c0002row3_col0\" class=\"data row3 col0\" >Mrwhosetheboss</td>\n",
              "                        <td id=\"T_1d1ae70c_e98f_11eb_9141_0242ac1c0002row3_col1\" class=\"data row3 col1\" >7.71 M</td>\n",
              "                        <td id=\"T_1d1ae70c_e98f_11eb_9141_0242ac1c0002row3_col2\" class=\"data row3 col2\" >816 M</td>\n",
              "            </tr>\n",
              "            <tr>\n",
              "                                <td id=\"T_1d1ae70c_e98f_11eb_9141_0242ac1c0002row4_col0\" class=\"data row4 col0\" >Austin Evans</td>\n",
              "                        <td id=\"T_1d1ae70c_e98f_11eb_9141_0242ac1c0002row4_col1\" class=\"data row4 col1\" >5.07 M</td>\n",
              "                        <td id=\"T_1d1ae70c_e98f_11eb_9141_0242ac1c0002row4_col2\" class=\"data row4 col2\" >600 M</td>\n",
              "            </tr>\n",
              "            <tr>\n",
              "                                <td id=\"T_1d1ae70c_e98f_11eb_9141_0242ac1c0002row5_col0\" class=\"data row5 col0\" >iJustine</td>\n",
              "                        <td id=\"T_1d1ae70c_e98f_11eb_9141_0242ac1c0002row5_col1\" class=\"data row5 col1\" >6.89 M</td>\n",
              "                        <td id=\"T_1d1ae70c_e98f_11eb_9141_0242ac1c0002row5_col2\" class=\"data row5 col2\" >597 M</td>\n",
              "            </tr>\n",
              "            <tr>\n",
              "                                <td id=\"T_1d1ae70c_e98f_11eb_9141_0242ac1c0002row6_col0\" class=\"data row6 col0\" >Android Authority</td>\n",
              "                        <td id=\"T_1d1ae70c_e98f_11eb_9141_0242ac1c0002row6_col1\" class=\"data row6 col1\" >3.36 M</td>\n",
              "                        <td id=\"T_1d1ae70c_e98f_11eb_9141_0242ac1c0002row6_col2\" class=\"data row6 col2\" >288 M</td>\n",
              "            </tr>\n",
              "            <tr>\n",
              "                                <td id=\"T_1d1ae70c_e98f_11eb_9141_0242ac1c0002row7_col0\" class=\"data row7 col0\" >Jonathan Morrison</td>\n",
              "                        <td id=\"T_1d1ae70c_e98f_11eb_9141_0242ac1c0002row7_col1\" class=\"data row7 col1\" >2.64 M</td>\n",
              "                        <td id=\"T_1d1ae70c_e98f_11eb_9141_0242ac1c0002row7_col2\" class=\"data row7 col2\" >249 M</td>\n",
              "            </tr>\n",
              "            <tr>\n",
              "                                <td id=\"T_1d1ae70c_e98f_11eb_9141_0242ac1c0002row8_col0\" class=\"data row8 col0\" >UrAvgConsumer</td>\n",
              "                        <td id=\"T_1d1ae70c_e98f_11eb_9141_0242ac1c0002row8_col1\" class=\"data row8 col1\" >3.11 M</td>\n",
              "                        <td id=\"T_1d1ae70c_e98f_11eb_9141_0242ac1c0002row8_col2\" class=\"data row8 col2\" >249 M</td>\n",
              "            </tr>\n",
              "            <tr>\n",
              "                                <td id=\"T_1d1ae70c_e98f_11eb_9141_0242ac1c0002row9_col0\" class=\"data row9 col0\" >Jon Rettinger</td>\n",
              "                        <td id=\"T_1d1ae70c_e98f_11eb_9141_0242ac1c0002row9_col1\" class=\"data row9 col1\" >1.59 M</td>\n",
              "                        <td id=\"T_1d1ae70c_e98f_11eb_9141_0242ac1c0002row9_col2\" class=\"data row9 col2\" >193 M</td>\n",
              "            </tr>\n",
              "    </tbody></table>"
            ],
            "text/plain": [
              "<pandas.io.formats.style.Styler at 0x7f8ef0381490>"
            ]
          },
          "metadata": {
            "tags": []
          },
          "execution_count": 544
        }
      ]
    },
    {
      "cell_type": "markdown",
      "metadata": {
        "id": "8FrqhwlVddqM"
      },
      "source": [
        "#### Correlations"
      ]
    },
    {
      "cell_type": "code",
      "metadata": {
        "colab": {
          "base_uri": "https://localhost:8080/",
          "height": 169
        },
        "id": "NYs4QPCcLdPg",
        "outputId": "02f426ed-64c9-4296-8fe6-4d25f7186334"
      },
      "source": [
        "#collapse\n",
        "vc_merged.corr().style.background_gradient(subset=['Channel Views (M)',\n",
        "                                                   'Subscribers (M)',\n",
        "                                                   'Video Views (M)',\n",
        "                                                   'Likes',\n",
        "                                                   'Video Comments',\n",
        "                                                   'Interactations (M)'],\n",
        "                                           cmap='Wistia')"
      ],
      "execution_count": null,
      "outputs": [
        {
          "output_type": "execute_result",
          "data": {
            "text/html": [
              "<style  type=\"text/css\" >\n",
              "#T_78dd852c_e994_11eb_9141_0242ac1c0002row0_col0,#T_78dd852c_e994_11eb_9141_0242ac1c0002row1_col1,#T_78dd852c_e994_11eb_9141_0242ac1c0002row2_col2,#T_78dd852c_e994_11eb_9141_0242ac1c0002row3_col3,#T_78dd852c_e994_11eb_9141_0242ac1c0002row4_col4,#T_78dd852c_e994_11eb_9141_0242ac1c0002row5_col5{\n",
              "            background-color:  #fc7f00;\n",
              "            color:  #000000;\n",
              "        }#T_78dd852c_e994_11eb_9141_0242ac1c0002row0_col1,#T_78dd852c_e994_11eb_9141_0242ac1c0002row1_col0{\n",
              "            background-color:  #fd8d00;\n",
              "            color:  #000000;\n",
              "        }#T_78dd852c_e994_11eb_9141_0242ac1c0002row0_col2,#T_78dd852c_e994_11eb_9141_0242ac1c0002row0_col5{\n",
              "            background-color:  #ffbc00;\n",
              "            color:  #000000;\n",
              "        }#T_78dd852c_e994_11eb_9141_0242ac1c0002row0_col3{\n",
              "            background-color:  #ffc706;\n",
              "            color:  #000000;\n",
              "        }#T_78dd852c_e994_11eb_9141_0242ac1c0002row0_col4,#T_78dd852c_e994_11eb_9141_0242ac1c0002row4_col0,#T_78dd852c_e994_11eb_9141_0242ac1c0002row4_col1,#T_78dd852c_e994_11eb_9141_0242ac1c0002row4_col2,#T_78dd852c_e994_11eb_9141_0242ac1c0002row4_col3,#T_78dd852c_e994_11eb_9141_0242ac1c0002row4_col5{\n",
              "            background-color:  #e4ff7a;\n",
              "            color:  #000000;\n",
              "        }#T_78dd852c_e994_11eb_9141_0242ac1c0002row1_col2,#T_78dd852c_e994_11eb_9141_0242ac1c0002row1_col5,#T_78dd852c_e994_11eb_9141_0242ac1c0002row2_col1,#T_78dd852c_e994_11eb_9141_0242ac1c0002row5_col1{\n",
              "            background-color:  #ffb200;\n",
              "            color:  #000000;\n",
              "        }#T_78dd852c_e994_11eb_9141_0242ac1c0002row1_col3{\n",
              "            background-color:  #ffb800;\n",
              "            color:  #000000;\n",
              "        }#T_78dd852c_e994_11eb_9141_0242ac1c0002row1_col4{\n",
              "            background-color:  #e7fc6f;\n",
              "            color:  #000000;\n",
              "        }#T_78dd852c_e994_11eb_9141_0242ac1c0002row2_col0,#T_78dd852c_e994_11eb_9141_0242ac1c0002row5_col0{\n",
              "            background-color:  #ffbb00;\n",
              "            color:  #000000;\n",
              "        }#T_78dd852c_e994_11eb_9141_0242ac1c0002row2_col3{\n",
              "            background-color:  #ffaf00;\n",
              "            color:  #000000;\n",
              "        }#T_78dd852c_e994_11eb_9141_0242ac1c0002row2_col4,#T_78dd852c_e994_11eb_9141_0242ac1c0002row5_col4{\n",
              "            background-color:  #e6fd72;\n",
              "            color:  #000000;\n",
              "        }#T_78dd852c_e994_11eb_9141_0242ac1c0002row2_col5,#T_78dd852c_e994_11eb_9141_0242ac1c0002row5_col2{\n",
              "            background-color:  #fc8000;\n",
              "            color:  #000000;\n",
              "        }#T_78dd852c_e994_11eb_9141_0242ac1c0002row3_col0{\n",
              "            background-color:  #ffbd00;\n",
              "            color:  #000000;\n",
              "        }#T_78dd852c_e994_11eb_9141_0242ac1c0002row3_col1{\n",
              "            background-color:  #ffb300;\n",
              "            color:  #000000;\n",
              "        }#T_78dd852c_e994_11eb_9141_0242ac1c0002row3_col2{\n",
              "            background-color:  #ffab00;\n",
              "            color:  #000000;\n",
              "        }#T_78dd852c_e994_11eb_9141_0242ac1c0002row3_col4{\n",
              "            background-color:  #f0f550;\n",
              "            color:  #000000;\n",
              "        }#T_78dd852c_e994_11eb_9141_0242ac1c0002row3_col5{\n",
              "            background-color:  #ffaa00;\n",
              "            color:  #000000;\n",
              "        }#T_78dd852c_e994_11eb_9141_0242ac1c0002row5_col3{\n",
              "            background-color:  #ffae00;\n",
              "            color:  #000000;\n",
              "        }</style><table id=\"T_78dd852c_e994_11eb_9141_0242ac1c0002\" ><thead>    <tr>        <th class=\"blank level0\" ></th>        <th class=\"col_heading level0 col0\" >Channel Views (M)</th>        <th class=\"col_heading level0 col1\" >Subscribers (M)</th>        <th class=\"col_heading level0 col2\" >Video Views (M)</th>        <th class=\"col_heading level0 col3\" >Likes</th>        <th class=\"col_heading level0 col4\" >Video Comments</th>        <th class=\"col_heading level0 col5\" >Interactations (M)</th>    </tr></thead><tbody>\n",
              "                <tr>\n",
              "                        <th id=\"T_78dd852c_e994_11eb_9141_0242ac1c0002level0_row0\" class=\"row_heading level0 row0\" >Channel Views (M)</th>\n",
              "                        <td id=\"T_78dd852c_e994_11eb_9141_0242ac1c0002row0_col0\" class=\"data row0 col0\" >1.000000</td>\n",
              "                        <td id=\"T_78dd852c_e994_11eb_9141_0242ac1c0002row0_col1\" class=\"data row0 col1\" >0.907635</td>\n",
              "                        <td id=\"T_78dd852c_e994_11eb_9141_0242ac1c0002row0_col2\" class=\"data row0 col2\" >0.586217</td>\n",
              "                        <td id=\"T_78dd852c_e994_11eb_9141_0242ac1c0002row0_col3\" class=\"data row0 col3\" >0.570409</td>\n",
              "                        <td id=\"T_78dd852c_e994_11eb_9141_0242ac1c0002row0_col4\" class=\"data row0 col4\" >0.138889</td>\n",
              "                        <td id=\"T_78dd852c_e994_11eb_9141_0242ac1c0002row0_col5\" class=\"data row0 col5\" >0.583878</td>\n",
              "            </tr>\n",
              "            <tr>\n",
              "                        <th id=\"T_78dd852c_e994_11eb_9141_0242ac1c0002level0_row1\" class=\"row_heading level0 row1\" >Subscribers (M)</th>\n",
              "                        <td id=\"T_78dd852c_e994_11eb_9141_0242ac1c0002row1_col0\" class=\"data row1 col0\" >0.907635</td>\n",
              "                        <td id=\"T_78dd852c_e994_11eb_9141_0242ac1c0002row1_col1\" class=\"data row1 col1\" >1.000000</td>\n",
              "                        <td id=\"T_78dd852c_e994_11eb_9141_0242ac1c0002row1_col2\" class=\"data row1 col2\" >0.659920</td>\n",
              "                        <td id=\"T_78dd852c_e994_11eb_9141_0242ac1c0002row1_col3\" class=\"data row1 col3\" >0.652701</td>\n",
              "                        <td id=\"T_78dd852c_e994_11eb_9141_0242ac1c0002row1_col4\" class=\"data row1 col4\" >0.163038</td>\n",
              "                        <td id=\"T_78dd852c_e994_11eb_9141_0242ac1c0002row1_col5\" class=\"data row1 col5\" >0.659026</td>\n",
              "            </tr>\n",
              "            <tr>\n",
              "                        <th id=\"T_78dd852c_e994_11eb_9141_0242ac1c0002level0_row2\" class=\"row_heading level0 row2\" >Video Views (M)</th>\n",
              "                        <td id=\"T_78dd852c_e994_11eb_9141_0242ac1c0002row2_col0\" class=\"data row2 col0\" >0.586217</td>\n",
              "                        <td id=\"T_78dd852c_e994_11eb_9141_0242ac1c0002row2_col1\" class=\"data row2 col1\" >0.659920</td>\n",
              "                        <td id=\"T_78dd852c_e994_11eb_9141_0242ac1c0002row2_col2\" class=\"data row2 col2\" >1.000000</td>\n",
              "                        <td id=\"T_78dd852c_e994_11eb_9141_0242ac1c0002row2_col3\" class=\"data row2 col3\" >0.708341</td>\n",
              "                        <td id=\"T_78dd852c_e994_11eb_9141_0242ac1c0002row2_col4\" class=\"data row2 col4\" >0.155869</td>\n",
              "                        <td id=\"T_78dd852c_e994_11eb_9141_0242ac1c0002row2_col5\" class=\"data row2 col5\" >0.996397</td>\n",
              "            </tr>\n",
              "            <tr>\n",
              "                        <th id=\"T_78dd852c_e994_11eb_9141_0242ac1c0002level0_row3\" class=\"row_heading level0 row3\" >Likes</th>\n",
              "                        <td id=\"T_78dd852c_e994_11eb_9141_0242ac1c0002row3_col0\" class=\"data row3 col0\" >0.570409</td>\n",
              "                        <td id=\"T_78dd852c_e994_11eb_9141_0242ac1c0002row3_col1\" class=\"data row3 col1\" >0.652701</td>\n",
              "                        <td id=\"T_78dd852c_e994_11eb_9141_0242ac1c0002row3_col2\" class=\"data row3 col2\" >0.708341</td>\n",
              "                        <td id=\"T_78dd852c_e994_11eb_9141_0242ac1c0002row3_col3\" class=\"data row3 col3\" >1.000000</td>\n",
              "                        <td id=\"T_78dd852c_e994_11eb_9141_0242ac1c0002row3_col4\" class=\"data row3 col4\" >0.235680</td>\n",
              "                        <td id=\"T_78dd852c_e994_11eb_9141_0242ac1c0002row3_col5\" class=\"data row3 col5\" >0.715335</td>\n",
              "            </tr>\n",
              "            <tr>\n",
              "                        <th id=\"T_78dd852c_e994_11eb_9141_0242ac1c0002level0_row4\" class=\"row_heading level0 row4\" >Video Comments</th>\n",
              "                        <td id=\"T_78dd852c_e994_11eb_9141_0242ac1c0002row4_col0\" class=\"data row4 col0\" >0.138889</td>\n",
              "                        <td id=\"T_78dd852c_e994_11eb_9141_0242ac1c0002row4_col1\" class=\"data row4 col1\" >0.163038</td>\n",
              "                        <td id=\"T_78dd852c_e994_11eb_9141_0242ac1c0002row4_col2\" class=\"data row4 col2\" >0.155869</td>\n",
              "                        <td id=\"T_78dd852c_e994_11eb_9141_0242ac1c0002row4_col3\" class=\"data row4 col3\" >0.235680</td>\n",
              "                        <td id=\"T_78dd852c_e994_11eb_9141_0242ac1c0002row4_col4\" class=\"data row4 col4\" >1.000000</td>\n",
              "                        <td id=\"T_78dd852c_e994_11eb_9141_0242ac1c0002row4_col5\" class=\"data row4 col5\" >0.156037</td>\n",
              "            </tr>\n",
              "            <tr>\n",
              "                        <th id=\"T_78dd852c_e994_11eb_9141_0242ac1c0002level0_row5\" class=\"row_heading level0 row5\" >Interactations (M)</th>\n",
              "                        <td id=\"T_78dd852c_e994_11eb_9141_0242ac1c0002row5_col0\" class=\"data row5 col0\" >0.583878</td>\n",
              "                        <td id=\"T_78dd852c_e994_11eb_9141_0242ac1c0002row5_col1\" class=\"data row5 col1\" >0.659026</td>\n",
              "                        <td id=\"T_78dd852c_e994_11eb_9141_0242ac1c0002row5_col2\" class=\"data row5 col2\" >0.996397</td>\n",
              "                        <td id=\"T_78dd852c_e994_11eb_9141_0242ac1c0002row5_col3\" class=\"data row5 col3\" >0.715335</td>\n",
              "                        <td id=\"T_78dd852c_e994_11eb_9141_0242ac1c0002row5_col4\" class=\"data row5 col4\" >0.156037</td>\n",
              "                        <td id=\"T_78dd852c_e994_11eb_9141_0242ac1c0002row5_col5\" class=\"data row5 col5\" >1.000000</td>\n",
              "            </tr>\n",
              "    </tbody></table>"
            ],
            "text/plain": [
              "<pandas.io.formats.style.Styler at 0x7f8ef0c3f650>"
            ]
          },
          "metadata": {
            "tags": []
          },
          "execution_count": 567
        }
      ]
    },
    {
      "cell_type": "markdown",
      "metadata": {
        "id": "Vqr8bZ0rhQPM"
      },
      "source": [
        "### Conclusion\n",
        "\n",
        "* Video Comment numbers have very little correlation to any data that was obtained in this project."
      ]
    },
    {
      "cell_type": "markdown",
      "metadata": {
        "id": "3sqJwCA1_xI0"
      },
      "source": [
        "## Resources\n",
        "\n",
        "- [Top 25 Selenium Functions That Will Make You Pro In Web Scraping](https://towardsdatascience.com/top-25-selenium-functions-that-will-make-you-pro-in-web-scraping-5c937e027244)\n",
        "\n",
        "- [How to build a Web Scraper or Bot in Python using Selenium](https://medium.com/daily-programming-tips/how-to-build-a-web-scraper-or-bot-in-python-using-selenium-2815f20023f7)\n",
        "\n",
        "- [Web Scraping: Introduction, Best Practices & Caveats](https://medium.com/velotio-perspectives/web-scraping-introduction-best-practices-caveats-9cbf4acc8d0f)\n",
        "\n",
        "- [Web Scraping Job Postings from Indeed.com using Selenium](https://towardsdatascience.com/web-scraping-job-postings-from-indeed-com-using-selenium-5ae58d155daf)\n",
        "\n",
        "\n",
        "- [How I Use Selenium to Automate the Web With Python. Pt1 -  John Watson Rooney\n",
        "](https://www.youtube.com/watch?v=pUUhvJvs-R4)"
      ]
    }
  ]
}