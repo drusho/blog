{
  "nbformat": 4,
  "nbformat_minor": 0,
  "metadata": {
    "colab": {
      "name": "2021-07-20-webscrapping-youtube.ipynb",
      "provenance": [],
      "collapsed_sections": [],
      "authorship_tag": "ABX9TyPYVY+QpzpmibCtTDPugP9I",
      "include_colab_link": true
    },
    "kernelspec": {
      "name": "python3",
      "display_name": "Python 3"
    },
    "language_info": {
      "name": "python"
    }
  },
  "cells": [
    {
      "cell_type": "markdown",
      "metadata": {
        "id": "view-in-github",
        "colab_type": "text"
      },
      "source": [
        "<a href=\"https://colab.research.google.com/github/drusho/drusho.github.io/blob/master/_notebooks/2021-07-20-webscrapping-youtube.ipynb\" target=\"_parent\"><img src=\"https://colab.research.google.com/assets/colab-badge.svg\" alt=\"Open In Colab\"/></a>"
      ]
    },
    {
      "cell_type": "markdown",
      "metadata": {
        "id": "sriMBGHM_4X4"
      },
      "source": [
        "# Analyzing the Top 10 Youtube Tech Channels\n",
        "> Using Selenium to Scrape Data from Youtube\n",
        "\n",
        "- toc: false\n",
        "- badges: false\n",
        "- comments: true\n",
        "- categories: [Selenium, Web Scrapping, Pandas]\n",
        "- image: \"images/thumbnails/header_youtube_web.png\""
      ]
    },
    {
      "cell_type": "markdown",
      "metadata": {
        "id": "plq838Q7cdQs"
      },
      "source": [
        "<br>\n",
        "\n",
        "__Notebook Created by David Rusho__\n",
        "\n",
        "\n",
        "[Github Blog](https://drusho.github.io) | [Github](https://github.com/drusho/webscrape_youtube) | [Tableau](https://public.tableau.com/app/profile/drusho/) | [Linkedin](https://linkedin.com/in/davidrusho)\n",
        "\n",
        "\n",
        "<br> \n",
        "\n",
        "_*This notebook contains hidden cells when viewed in blog posts in order to increase readability._  \n",
        "\n",
        "_Visit the links below for more detailed code._  \n",
        "\n",
        "* [Google Colab Notebook](https://colab.research.google.com/drive/1UxpBBsypGqUj7816zyvGNhJcPfaxBP_c?usp=sharing): **All code** related to data cleaning and data analaysis.\n",
        "\n",
        "* [Github - Youtube Webscrapping](https://github.com/drusho/webscrape_youtube/tree/main/code):  **All code** related to web scrapping and data collection.\n"
      ]
    },
    {
      "cell_type": "markdown",
      "metadata": {
        "id": "QQcSYIoEcrGo"
      },
      "source": [
        "## About the Data\n",
        "\n",
        "Web scraping was performed on the _Top 10 Tech Channels_ on Youtube using _[Selenium](https://selenium-python.readthedocs.io/)_ (an automated browser (driver) controlled using python, which is often used in web scraping and web testing).  Web scrapped Youtube channels were determined using a __[Top 10 Tech Youtubers](https://blog.bit.ai/top-tech-youtubers/)__ list from blog.bit.ai.  Scraping included:\n",
        "\n",
        "* General data for each channel.\n",
        " * ex. join date, name, no. of subscribers\n",
        "\n",
        "* Data from most popular videos per channel\n",
        " * ex. video titles, views\n",
        "\n",
        "* Data specific to each video.\n",
        " * ex. post date, no. of upvotes, no. comments\n",
        "\n",
        "<br>\n",
        "\n",
        "The average number of videos per channel was around 200.  In total, the data from 2000 videos was scrapped."
      ]
    },
    {
      "cell_type": "markdown",
      "metadata": {
        "id": "Zm0ocehrIZSE"
      },
      "source": [
        "## Introduction"
      ]
    },
    {
      "cell_type": "markdown",
      "metadata": {
        "id": "Zgl968F6HI4Y"
      },
      "source": [
        "#hide\n",
        "## Data Cleaning"
      ]
    },
    {
      "cell_type": "code",
      "metadata": {
        "id": "gNPkb9yLHMa8"
      },
      "source": [
        "#hide\n",
        "import pandas as pd"
      ],
      "execution_count": 195,
      "outputs": []
    },
    {
      "cell_type": "markdown",
      "metadata": {
        "id": "_m_d2muYGFgc"
      },
      "source": [
        "#hide\n",
        "### Raw Dataframe Sample\n",
        "Data from Youtube Channels' main pages (Video and About)"
      ]
    },
    {
      "cell_type": "code",
      "metadata": {
        "colab": {
          "base_uri": "https://localhost:8080/",
          "height": 182
        },
        "id": "IvEQLRIxHSsg",
        "outputId": "36be483f-cd99-44a6-e6e1-cabef834ba93"
      },
      "source": [
        "#hide\n",
        "yt = pd.read_csv('yt_channel_scrap.csv',parse_dates=['channel_join_date'])\n",
        "yt.head(2)"
      ],
      "execution_count": 196,
      "outputs": [
        {
          "output_type": "execute_result",
          "data": {
            "text/html": [
              "<div>\n",
              "<style scoped>\n",
              "    .dataframe tbody tr th:only-of-type {\n",
              "        vertical-align: middle;\n",
              "    }\n",
              "\n",
              "    .dataframe tbody tr th {\n",
              "        vertical-align: top;\n",
              "    }\n",
              "\n",
              "    .dataframe thead th {\n",
              "        text-align: right;\n",
              "    }\n",
              "</style>\n",
              "<table border=\"1\" class=\"dataframe\">\n",
              "  <thead>\n",
              "    <tr style=\"text-align: right;\">\n",
              "      <th></th>\n",
              "      <th>Unnamed: 0</th>\n",
              "      <th>channel_name</th>\n",
              "      <th>subscribers</th>\n",
              "      <th>title</th>\n",
              "      <th>views</th>\n",
              "      <th>post_date</th>\n",
              "      <th>url</th>\n",
              "      <th>channel_join_date</th>\n",
              "      <th>channel_views</th>\n",
              "      <th>channel_description</th>\n",
              "    </tr>\n",
              "  </thead>\n",
              "  <tbody>\n",
              "    <tr>\n",
              "      <th>0</th>\n",
              "      <td>0</td>\n",
              "      <td>iJustine</td>\n",
              "      <td>6.89M subscribers</td>\n",
              "      <td>Black Eyed Peas - I gotta Feeling (Parody)</td>\n",
              "      <td>18M views</td>\n",
              "      <td>11 years ago</td>\n",
              "      <td>https://www.youtube.com/watch?v=iPgaTmsYTT8</td>\n",
              "      <td>NaT</td>\n",
              "      <td>NaN</td>\n",
              "      <td>NaN</td>\n",
              "    </tr>\n",
              "    <tr>\n",
              "      <th>1</th>\n",
              "      <td>1</td>\n",
              "      <td>iJustine</td>\n",
              "      <td>6.89M subscribers</td>\n",
              "      <td>Cake Decorating Challenge with Ro | Nerdy Numm...</td>\n",
              "      <td>12M views</td>\n",
              "      <td>5 years ago</td>\n",
              "      <td>https://www.youtube.com/watch?v=y7xZ-kJDgvM</td>\n",
              "      <td>NaT</td>\n",
              "      <td>NaN</td>\n",
              "      <td>NaN</td>\n",
              "    </tr>\n",
              "  </tbody>\n",
              "</table>\n",
              "</div>"
            ],
            "text/plain": [
              "   Unnamed: 0 channel_name  ... channel_views channel_description\n",
              "0           0     iJustine  ...           NaN                 NaN\n",
              "1           1     iJustine  ...           NaN                 NaN\n",
              "\n",
              "[2 rows x 10 columns]"
            ]
          },
          "metadata": {
            "tags": []
          },
          "execution_count": 196
        }
      ]
    },
    {
      "cell_type": "code",
      "metadata": {
        "colab": {
          "base_uri": "https://localhost:8080/",
          "height": 112
        },
        "id": "ICOpHLxFHrO0",
        "outputId": "29770b5d-b448-46c6-9721-7a39d58f4ee0"
      },
      "source": [
        "#hide\n",
        "# create df of Channel details\n",
        "channel_details = yt[yt.channel_join_date.notna()]\n",
        "channel_details = channel_details.drop(columns=['Unnamed: 0','subscribers','title','views','post_date']).reset_index(drop=True)\n",
        "channel_details.head(2)"
      ],
      "execution_count": 197,
      "outputs": [
        {
          "output_type": "execute_result",
          "data": {
            "text/html": [
              "<div>\n",
              "<style scoped>\n",
              "    .dataframe tbody tr th:only-of-type {\n",
              "        vertical-align: middle;\n",
              "    }\n",
              "\n",
              "    .dataframe tbody tr th {\n",
              "        vertical-align: top;\n",
              "    }\n",
              "\n",
              "    .dataframe thead th {\n",
              "        text-align: right;\n",
              "    }\n",
              "</style>\n",
              "<table border=\"1\" class=\"dataframe\">\n",
              "  <thead>\n",
              "    <tr style=\"text-align: right;\">\n",
              "      <th></th>\n",
              "      <th>channel_name</th>\n",
              "      <th>url</th>\n",
              "      <th>channel_join_date</th>\n",
              "      <th>channel_views</th>\n",
              "      <th>channel_description</th>\n",
              "    </tr>\n",
              "  </thead>\n",
              "  <tbody>\n",
              "    <tr>\n",
              "      <th>0</th>\n",
              "      <td>iJustine</td>\n",
              "      <td>NaN</td>\n",
              "      <td>2006-05-07</td>\n",
              "      <td>1,288,987,476 views</td>\n",
              "      <td>Tech, video games, failed cooking attempts, vl...</td>\n",
              "    </tr>\n",
              "    <tr>\n",
              "      <th>1</th>\n",
              "      <td>Android Authority</td>\n",
              "      <td>NaN</td>\n",
              "      <td>2011-04-03</td>\n",
              "      <td>767,860,795 views</td>\n",
              "      <td>Your source for the best phones, streaming, ap...</td>\n",
              "    </tr>\n",
              "  </tbody>\n",
              "</table>\n",
              "</div>"
            ],
            "text/plain": [
              "        channel_name  ...                                channel_description\n",
              "0           iJustine  ...  Tech, video games, failed cooking attempts, vl...\n",
              "1  Android Authority  ...  Your source for the best phones, streaming, ap...\n",
              "\n",
              "[2 rows x 5 columns]"
            ]
          },
          "metadata": {
            "tags": []
          },
          "execution_count": 197
        }
      ]
    },
    {
      "cell_type": "code",
      "metadata": {
        "colab": {
          "base_uri": "https://localhost:8080/",
          "height": 112
        },
        "id": "ZXktrQpaIqqM",
        "outputId": "80f9a399-90b2-4935-d577-eb0b07a99dff"
      },
      "source": [
        "#hide\n",
        "#create df Video details\n",
        "video_details = yt[yt.channel_join_date.isna()]\n",
        "video_details = video_details.drop(columns=['Unnamed: 0','channel_join_date','channel_views','channel_description','post_date']).reset_index(drop=True)\n",
        "video_details.head(2)"
      ],
      "execution_count": 198,
      "outputs": [
        {
          "output_type": "execute_result",
          "data": {
            "text/html": [
              "<div>\n",
              "<style scoped>\n",
              "    .dataframe tbody tr th:only-of-type {\n",
              "        vertical-align: middle;\n",
              "    }\n",
              "\n",
              "    .dataframe tbody tr th {\n",
              "        vertical-align: top;\n",
              "    }\n",
              "\n",
              "    .dataframe thead th {\n",
              "        text-align: right;\n",
              "    }\n",
              "</style>\n",
              "<table border=\"1\" class=\"dataframe\">\n",
              "  <thead>\n",
              "    <tr style=\"text-align: right;\">\n",
              "      <th></th>\n",
              "      <th>channel_name</th>\n",
              "      <th>subscribers</th>\n",
              "      <th>title</th>\n",
              "      <th>views</th>\n",
              "      <th>url</th>\n",
              "    </tr>\n",
              "  </thead>\n",
              "  <tbody>\n",
              "    <tr>\n",
              "      <th>0</th>\n",
              "      <td>iJustine</td>\n",
              "      <td>6.89M subscribers</td>\n",
              "      <td>Black Eyed Peas - I gotta Feeling (Parody)</td>\n",
              "      <td>18M views</td>\n",
              "      <td>https://www.youtube.com/watch?v=iPgaTmsYTT8</td>\n",
              "    </tr>\n",
              "    <tr>\n",
              "      <th>1</th>\n",
              "      <td>iJustine</td>\n",
              "      <td>6.89M subscribers</td>\n",
              "      <td>Cake Decorating Challenge with Ro | Nerdy Numm...</td>\n",
              "      <td>12M views</td>\n",
              "      <td>https://www.youtube.com/watch?v=y7xZ-kJDgvM</td>\n",
              "    </tr>\n",
              "  </tbody>\n",
              "</table>\n",
              "</div>"
            ],
            "text/plain": [
              "  channel_name  ...                                          url\n",
              "0     iJustine  ...  https://www.youtube.com/watch?v=iPgaTmsYTT8\n",
              "1     iJustine  ...  https://www.youtube.com/watch?v=y7xZ-kJDgvM\n",
              "\n",
              "[2 rows x 5 columns]"
            ]
          },
          "metadata": {
            "tags": []
          },
          "execution_count": 198
        }
      ]
    },
    {
      "cell_type": "code",
      "metadata": {
        "colab": {
          "base_uri": "https://localhost:8080/",
          "height": 147
        },
        "id": "sxhYebCPKkBY",
        "outputId": "bacc8ea2-5c88-42d0-a2d6-90d1980befa1"
      },
      "source": [
        "#hide\n",
        "# merge dfs \n",
        "merged = channel_details.merge(video_details, on='channel_name')\n",
        "merged.head(2)"
      ],
      "execution_count": 199,
      "outputs": [
        {
          "output_type": "execute_result",
          "data": {
            "text/html": [
              "<div>\n",
              "<style scoped>\n",
              "    .dataframe tbody tr th:only-of-type {\n",
              "        vertical-align: middle;\n",
              "    }\n",
              "\n",
              "    .dataframe tbody tr th {\n",
              "        vertical-align: top;\n",
              "    }\n",
              "\n",
              "    .dataframe thead th {\n",
              "        text-align: right;\n",
              "    }\n",
              "</style>\n",
              "<table border=\"1\" class=\"dataframe\">\n",
              "  <thead>\n",
              "    <tr style=\"text-align: right;\">\n",
              "      <th></th>\n",
              "      <th>channel_name</th>\n",
              "      <th>url_x</th>\n",
              "      <th>channel_join_date</th>\n",
              "      <th>channel_views</th>\n",
              "      <th>channel_description</th>\n",
              "      <th>subscribers</th>\n",
              "      <th>title</th>\n",
              "      <th>views</th>\n",
              "      <th>url_y</th>\n",
              "    </tr>\n",
              "  </thead>\n",
              "  <tbody>\n",
              "    <tr>\n",
              "      <th>0</th>\n",
              "      <td>iJustine</td>\n",
              "      <td>NaN</td>\n",
              "      <td>2006-05-07</td>\n",
              "      <td>1,288,987,476 views</td>\n",
              "      <td>Tech, video games, failed cooking attempts, vl...</td>\n",
              "      <td>6.89M subscribers</td>\n",
              "      <td>Black Eyed Peas - I gotta Feeling (Parody)</td>\n",
              "      <td>18M views</td>\n",
              "      <td>https://www.youtube.com/watch?v=iPgaTmsYTT8</td>\n",
              "    </tr>\n",
              "    <tr>\n",
              "      <th>1</th>\n",
              "      <td>iJustine</td>\n",
              "      <td>NaN</td>\n",
              "      <td>2006-05-07</td>\n",
              "      <td>1,288,987,476 views</td>\n",
              "      <td>Tech, video games, failed cooking attempts, vl...</td>\n",
              "      <td>6.89M subscribers</td>\n",
              "      <td>Cake Decorating Challenge with Ro | Nerdy Numm...</td>\n",
              "      <td>12M views</td>\n",
              "      <td>https://www.youtube.com/watch?v=y7xZ-kJDgvM</td>\n",
              "    </tr>\n",
              "  </tbody>\n",
              "</table>\n",
              "</div>"
            ],
            "text/plain": [
              "  channel_name url_x  ...      views                                        url_y\n",
              "0     iJustine   NaN  ...  18M views  https://www.youtube.com/watch?v=iPgaTmsYTT8\n",
              "1     iJustine   NaN  ...  12M views  https://www.youtube.com/watch?v=y7xZ-kJDgvM\n",
              "\n",
              "[2 rows x 9 columns]"
            ]
          },
          "metadata": {
            "tags": []
          },
          "execution_count": 199
        }
      ]
    },
    {
      "cell_type": "code",
      "metadata": {
        "colab": {
          "base_uri": "https://localhost:8080/",
          "height": 147
        },
        "id": "gW70tgkL1nks",
        "outputId": "19af1462-7759-44b8-c862-a4110e6d0626"
      },
      "source": [
        "#hide\n",
        "# drop 2nd url column and rename remaining url col\n",
        "merged.drop(columns=('url_x'),inplace=True)\n",
        "merged.rename(columns={'url_y':'url'},inplace=True)\n",
        "merged.sample(2)"
      ],
      "execution_count": 200,
      "outputs": [
        {
          "output_type": "execute_result",
          "data": {
            "text/html": [
              "<div>\n",
              "<style scoped>\n",
              "    .dataframe tbody tr th:only-of-type {\n",
              "        vertical-align: middle;\n",
              "    }\n",
              "\n",
              "    .dataframe tbody tr th {\n",
              "        vertical-align: top;\n",
              "    }\n",
              "\n",
              "    .dataframe thead th {\n",
              "        text-align: right;\n",
              "    }\n",
              "</style>\n",
              "<table border=\"1\" class=\"dataframe\">\n",
              "  <thead>\n",
              "    <tr style=\"text-align: right;\">\n",
              "      <th></th>\n",
              "      <th>channel_name</th>\n",
              "      <th>channel_join_date</th>\n",
              "      <th>channel_views</th>\n",
              "      <th>channel_description</th>\n",
              "      <th>subscribers</th>\n",
              "      <th>title</th>\n",
              "      <th>views</th>\n",
              "      <th>url</th>\n",
              "    </tr>\n",
              "  </thead>\n",
              "  <tbody>\n",
              "    <tr>\n",
              "      <th>1248</th>\n",
              "      <td>Unbox Therapy</td>\n",
              "      <td>2010-12-21</td>\n",
              "      <td>4,091,676,835 views</td>\n",
              "      <td>Where products get naked.\\n\\nHere you will fin...</td>\n",
              "      <td>18M subscribers</td>\n",
              "      <td>Which Smartphone Do They ACTUALLY Use? --- MKB...</td>\n",
              "      <td>8.5M views</td>\n",
              "      <td>https://www.youtube.com/watch?v=Hi2tjMLVpdQ</td>\n",
              "    </tr>\n",
              "    <tr>\n",
              "      <th>1975</th>\n",
              "      <td>Marques Brownlee</td>\n",
              "      <td>2008-03-21</td>\n",
              "      <td>2,597,028,774 views</td>\n",
              "      <td>MKBHD: Quality Tech Videos | YouTuber | Geek |...</td>\n",
              "      <td>14.3M subscribers</td>\n",
              "      <td>Samsung Galaxy Note 5 Review!</td>\n",
              "      <td>4.2M views</td>\n",
              "      <td>https://www.youtube.com/watch?v=V-nBAcr_huw</td>\n",
              "    </tr>\n",
              "  </tbody>\n",
              "</table>\n",
              "</div>"
            ],
            "text/plain": [
              "          channel_name  ...                                          url\n",
              "1248     Unbox Therapy  ...  https://www.youtube.com/watch?v=Hi2tjMLVpdQ\n",
              "1975  Marques Brownlee  ...  https://www.youtube.com/watch?v=V-nBAcr_huw\n",
              "\n",
              "[2 rows x 8 columns]"
            ]
          },
          "metadata": {
            "tags": []
          },
          "execution_count": 200
        }
      ]
    },
    {
      "cell_type": "code",
      "metadata": {
        "colab": {
          "base_uri": "https://localhost:8080/"
        },
        "id": "eTbEKKUwLWY0",
        "outputId": "81bef062-8edf-48fc-c536-9c376cea802a"
      },
      "source": [
        "#hide\n",
        "# dtypes to int for views and subscribers\n",
        "merged.subscribers = merged.subscribers.str.replace('M subscribers','000000').str.replace('.','').astype('int')\n",
        "merged.views = merged.views.str.replace('M views','000000').str.replace('K views','000').str.replace('.','').str.replace('1 year ago','0').astype('int')\n",
        "merged.info()"
      ],
      "execution_count": 201,
      "outputs": [
        {
          "output_type": "stream",
          "text": [
            "<class 'pandas.core.frame.DataFrame'>\n",
            "Int64Index: 1999 entries, 0 to 1998\n",
            "Data columns (total 8 columns):\n",
            " #   Column               Non-Null Count  Dtype         \n",
            "---  ------               --------------  -----         \n",
            " 0   channel_name         1999 non-null   object        \n",
            " 1   channel_join_date    1999 non-null   datetime64[ns]\n",
            " 2   channel_views        1999 non-null   object        \n",
            " 3   channel_description  1999 non-null   object        \n",
            " 4   subscribers          1999 non-null   int64         \n",
            " 5   title                1999 non-null   object        \n",
            " 6   views                1999 non-null   int64         \n",
            " 7   url                  1999 non-null   object        \n",
            "dtypes: datetime64[ns](1), int64(2), object(5)\n",
            "memory usage: 140.6+ KB\n"
          ],
          "name": "stdout"
        }
      ]
    },
    {
      "cell_type": "markdown",
      "metadata": {
        "id": "fSdazTubl780"
      },
      "source": [
        "#### Cleaned Dataframe Sample\n",
        "\n",
        "_*Data from Youtube Channels' main pages (Video and About)_ "
      ]
    },
    {
      "cell_type": "code",
      "metadata": {
        "colab": {
          "base_uri": "https://localhost:8080/",
          "height": 147
        },
        "id": "rHkfRB0MSTdM",
        "outputId": "12f57e90-2ad4-4aa7-84ea-6af65ba749c3"
      },
      "source": [
        "#hide\n",
        "# channel views to dtype\n",
        "merged.channel_views = merged.channel_views.str.replace(',','').str.replace('views','').astype('int')\n",
        "merged.head(2)"
      ],
      "execution_count": 202,
      "outputs": [
        {
          "output_type": "execute_result",
          "data": {
            "text/html": [
              "<div>\n",
              "<style scoped>\n",
              "    .dataframe tbody tr th:only-of-type {\n",
              "        vertical-align: middle;\n",
              "    }\n",
              "\n",
              "    .dataframe tbody tr th {\n",
              "        vertical-align: top;\n",
              "    }\n",
              "\n",
              "    .dataframe thead th {\n",
              "        text-align: right;\n",
              "    }\n",
              "</style>\n",
              "<table border=\"1\" class=\"dataframe\">\n",
              "  <thead>\n",
              "    <tr style=\"text-align: right;\">\n",
              "      <th></th>\n",
              "      <th>channel_name</th>\n",
              "      <th>channel_join_date</th>\n",
              "      <th>channel_views</th>\n",
              "      <th>channel_description</th>\n",
              "      <th>subscribers</th>\n",
              "      <th>title</th>\n",
              "      <th>views</th>\n",
              "      <th>url</th>\n",
              "    </tr>\n",
              "  </thead>\n",
              "  <tbody>\n",
              "    <tr>\n",
              "      <th>0</th>\n",
              "      <td>iJustine</td>\n",
              "      <td>2006-05-07</td>\n",
              "      <td>1288987476</td>\n",
              "      <td>Tech, video games, failed cooking attempts, vl...</td>\n",
              "      <td>689000000</td>\n",
              "      <td>Black Eyed Peas - I gotta Feeling (Parody)</td>\n",
              "      <td>18000000</td>\n",
              "      <td>https://www.youtube.com/watch?v=iPgaTmsYTT8</td>\n",
              "    </tr>\n",
              "    <tr>\n",
              "      <th>1</th>\n",
              "      <td>iJustine</td>\n",
              "      <td>2006-05-07</td>\n",
              "      <td>1288987476</td>\n",
              "      <td>Tech, video games, failed cooking attempts, vl...</td>\n",
              "      <td>689000000</td>\n",
              "      <td>Cake Decorating Challenge with Ro | Nerdy Numm...</td>\n",
              "      <td>12000000</td>\n",
              "      <td>https://www.youtube.com/watch?v=y7xZ-kJDgvM</td>\n",
              "    </tr>\n",
              "  </tbody>\n",
              "</table>\n",
              "</div>"
            ],
            "text/plain": [
              "  channel_name  ...                                          url\n",
              "0     iJustine  ...  https://www.youtube.com/watch?v=iPgaTmsYTT8\n",
              "1     iJustine  ...  https://www.youtube.com/watch?v=y7xZ-kJDgvM\n",
              "\n",
              "[2 rows x 8 columns]"
            ]
          },
          "metadata": {
            "tags": []
          },
          "execution_count": 202
        }
      ]
    },
    {
      "cell_type": "markdown",
      "metadata": {
        "id": "yN1ZXq462MXY"
      },
      "source": [
        "#hide\n",
        "## Import Videos Data\n",
        "\n",
        "Specific data from 2000 youtube videos"
      ]
    },
    {
      "cell_type": "code",
      "metadata": {
        "colab": {
          "base_uri": "https://localhost:8080/",
          "height": 164
        },
        "id": "U2v_YRSm2hXI",
        "outputId": "90c49dac-e339-488e-d42e-cc9128f2022b"
      },
      "source": [
        "#hide\n",
        "# import videos \n",
        "df_videos = pd.read_csv('yt_videos_scrap_big_data.csv',parse_dates=['Publish Date','Upload_date'])\n",
        "df_videos.drop(columns=['Unnamed: 0','Duration','Channel Name','Title'],inplace=True)\n",
        "df_videos.sample(2)"
      ],
      "execution_count": 203,
      "outputs": [
        {
          "output_type": "execute_result",
          "data": {
            "text/html": [
              "<div>\n",
              "<style scoped>\n",
              "    .dataframe tbody tr th:only-of-type {\n",
              "        vertical-align: middle;\n",
              "    }\n",
              "\n",
              "    .dataframe tbody tr th {\n",
              "        vertical-align: top;\n",
              "    }\n",
              "\n",
              "    .dataframe thead th {\n",
              "        text-align: right;\n",
              "    }\n",
              "</style>\n",
              "<table border=\"1\" class=\"dataframe\">\n",
              "  <thead>\n",
              "    <tr style=\"text-align: right;\">\n",
              "      <th></th>\n",
              "      <th>url</th>\n",
              "      <th>Partial Description</th>\n",
              "      <th>Publish Date</th>\n",
              "      <th>Upload_date</th>\n",
              "      <th>Genre</th>\n",
              "      <th>Width</th>\n",
              "      <th>Height</th>\n",
              "      <th>Likes</th>\n",
              "      <th>Comments</th>\n",
              "      <th>Interaction Count</th>\n",
              "    </tr>\n",
              "  </thead>\n",
              "  <tbody>\n",
              "    <tr>\n",
              "      <th>521</th>\n",
              "      <td>https://www.youtube.com/watch?v=7jiQ46OMcCA</td>\n",
              "      <td>Huawei has officially announced that they will...</td>\n",
              "      <td>2020-09-11</td>\n",
              "      <td>2020-09-11</td>\n",
              "      <td>Science &amp; Technology</td>\n",
              "      <td>1280.0</td>\n",
              "      <td>720.0</td>\n",
              "      <td>152K</td>\n",
              "      <td>15,040 Comments</td>\n",
              "      <td>3074271</td>\n",
              "    </tr>\n",
              "    <tr>\n",
              "      <th>1046</th>\n",
              "      <td>https://www.youtube.com/watch?v=q4vayNhU5Vc</td>\n",
              "      <td>Fortnite Battle Royale meets four gaming lapto...</td>\n",
              "      <td>2018-05-19</td>\n",
              "      <td>2018-05-19</td>\n",
              "      <td>Science &amp; Technology</td>\n",
              "      <td>1280.0</td>\n",
              "      <td>720.0</td>\n",
              "      <td>56K</td>\n",
              "      <td>7,036 Comments</td>\n",
              "      <td>3450756</td>\n",
              "    </tr>\n",
              "  </tbody>\n",
              "</table>\n",
              "</div>"
            ],
            "text/plain": [
              "                                              url  ... Interaction Count\n",
              "521   https://www.youtube.com/watch?v=7jiQ46OMcCA  ...           3074271\n",
              "1046  https://www.youtube.com/watch?v=q4vayNhU5Vc  ...           3450756\n",
              "\n",
              "[2 rows x 10 columns]"
            ]
          },
          "metadata": {
            "tags": []
          },
          "execution_count": 203
        }
      ]
    },
    {
      "cell_type": "code",
      "metadata": {
        "colab": {
          "base_uri": "https://localhost:8080/",
          "height": 164
        },
        "id": "Uxx6RkBG3K8E",
        "outputId": "bced81cd-0949-4d62-da57-94048e412161"
      },
      "source": [
        "#hide\n",
        "# comments dytpe to int\n",
        "df_videos['Comments'] = df_videos['Comments'].str.replace('Comments','').str.replace(',','').astype('int')\n",
        "df_videos.sample(2)"
      ],
      "execution_count": 204,
      "outputs": [
        {
          "output_type": "execute_result",
          "data": {
            "text/html": [
              "<div>\n",
              "<style scoped>\n",
              "    .dataframe tbody tr th:only-of-type {\n",
              "        vertical-align: middle;\n",
              "    }\n",
              "\n",
              "    .dataframe tbody tr th {\n",
              "        vertical-align: top;\n",
              "    }\n",
              "\n",
              "    .dataframe thead th {\n",
              "        text-align: right;\n",
              "    }\n",
              "</style>\n",
              "<table border=\"1\" class=\"dataframe\">\n",
              "  <thead>\n",
              "    <tr style=\"text-align: right;\">\n",
              "      <th></th>\n",
              "      <th>url</th>\n",
              "      <th>Partial Description</th>\n",
              "      <th>Publish Date</th>\n",
              "      <th>Upload_date</th>\n",
              "      <th>Genre</th>\n",
              "      <th>Width</th>\n",
              "      <th>Height</th>\n",
              "      <th>Likes</th>\n",
              "      <th>Comments</th>\n",
              "      <th>Interaction Count</th>\n",
              "    </tr>\n",
              "  </thead>\n",
              "  <tbody>\n",
              "    <tr>\n",
              "      <th>1657</th>\n",
              "      <td>https://www.youtube.com/watch?v=dRObA6vI6UU</td>\n",
              "      <td>Here are my top 5 favorite bluetooth headphone...</td>\n",
              "      <td>2015-09-01</td>\n",
              "      <td>2015-09-01</td>\n",
              "      <td>Science &amp; Technology</td>\n",
              "      <td>1280.0</td>\n",
              "      <td>720.0</td>\n",
              "      <td>13K</td>\n",
              "      <td>1544</td>\n",
              "      <td>1246027</td>\n",
              "    </tr>\n",
              "    <tr>\n",
              "      <th>1944</th>\n",
              "      <td>https://www.youtube.com/watch?v=0T0rop9pE58</td>\n",
              "      <td>Galaxy Note is a family now, and the 10+ is th...</td>\n",
              "      <td>2019-08-22</td>\n",
              "      <td>2019-08-22</td>\n",
              "      <td>Science &amp; Technology</td>\n",
              "      <td>1280.0</td>\n",
              "      <td>720.0</td>\n",
              "      <td>116K</td>\n",
              "      <td>11728</td>\n",
              "      <td>4736147</td>\n",
              "    </tr>\n",
              "  </tbody>\n",
              "</table>\n",
              "</div>"
            ],
            "text/plain": [
              "                                              url  ... Interaction Count\n",
              "1657  https://www.youtube.com/watch?v=dRObA6vI6UU  ...           1246027\n",
              "1944  https://www.youtube.com/watch?v=0T0rop9pE58  ...           4736147\n",
              "\n",
              "[2 rows x 10 columns]"
            ]
          },
          "metadata": {
            "tags": []
          },
          "execution_count": 204
        }
      ]
    },
    {
      "cell_type": "code",
      "metadata": {
        "colab": {
          "base_uri": "https://localhost:8080/",
          "height": 164
        },
        "id": "X_NWsgBt8dfQ",
        "outputId": "d70e6743-0e45-4e9d-c67a-235d0cd93c24"
      },
      "source": [
        "#hide\n",
        "# Likes dytpe to int\n",
        "df_videos['Likes'] = df_videos['Likes'].str.replace('K','000').str.replace(\"M\",'000000').str.replace('.','').astype('int')\n",
        "df_videos.sample(2)"
      ],
      "execution_count": 205,
      "outputs": [
        {
          "output_type": "execute_result",
          "data": {
            "text/html": [
              "<div>\n",
              "<style scoped>\n",
              "    .dataframe tbody tr th:only-of-type {\n",
              "        vertical-align: middle;\n",
              "    }\n",
              "\n",
              "    .dataframe tbody tr th {\n",
              "        vertical-align: top;\n",
              "    }\n",
              "\n",
              "    .dataframe thead th {\n",
              "        text-align: right;\n",
              "    }\n",
              "</style>\n",
              "<table border=\"1\" class=\"dataframe\">\n",
              "  <thead>\n",
              "    <tr style=\"text-align: right;\">\n",
              "      <th></th>\n",
              "      <th>url</th>\n",
              "      <th>Partial Description</th>\n",
              "      <th>Publish Date</th>\n",
              "      <th>Upload_date</th>\n",
              "      <th>Genre</th>\n",
              "      <th>Width</th>\n",
              "      <th>Height</th>\n",
              "      <th>Likes</th>\n",
              "      <th>Comments</th>\n",
              "      <th>Interaction Count</th>\n",
              "    </tr>\n",
              "  </thead>\n",
              "  <tbody>\n",
              "    <tr>\n",
              "      <th>1439</th>\n",
              "      <td>https://www.youtube.com/watch?v=75L8Hrb49A4</td>\n",
              "      <td>Get the Ring Doorbell Welcome Kit today at htt...</td>\n",
              "      <td>2019-07-25</td>\n",
              "      <td>2019-07-25</td>\n",
              "      <td>Science &amp; Technology</td>\n",
              "      <td>1280.0</td>\n",
              "      <td>720.0</td>\n",
              "      <td>170000</td>\n",
              "      <td>15589</td>\n",
              "      <td>6886917</td>\n",
              "    </tr>\n",
              "    <tr>\n",
              "      <th>1239</th>\n",
              "      <td>https://www.youtube.com/watch?v=FZe7OllHUXw</td>\n",
              "      <td>( ͡° ͜ʖ ͡°) --- Today's Mystery Video - https:...</td>\n",
              "      <td>2016-08-06</td>\n",
              "      <td>2016-08-06</td>\n",
              "      <td>Science &amp; Technology</td>\n",
              "      <td>1280.0</td>\n",
              "      <td>720.0</td>\n",
              "      <td>132000</td>\n",
              "      <td>6516</td>\n",
              "      <td>9272684</td>\n",
              "    </tr>\n",
              "  </tbody>\n",
              "</table>\n",
              "</div>"
            ],
            "text/plain": [
              "                                              url  ... Interaction Count\n",
              "1439  https://www.youtube.com/watch?v=75L8Hrb49A4  ...           6886917\n",
              "1239  https://www.youtube.com/watch?v=FZe7OllHUXw  ...           9272684\n",
              "\n",
              "[2 rows x 10 columns]"
            ]
          },
          "metadata": {
            "tags": []
          },
          "execution_count": 205
        }
      ]
    },
    {
      "cell_type": "code",
      "metadata": {
        "colab": {
          "base_uri": "https://localhost:8080/",
          "height": 164
        },
        "id": "I-ucbnU59QyE",
        "outputId": "b32ec065-650c-4dd5-c76f-e3482741bd7e"
      },
      "source": [
        "#hide\n",
        "# Fix Width and Height, remove '.' and '0' from end of str\n",
        "df_videos['Width'] = df_videos['Width'].astype('str').str.split(\".\", expand=True)[0]\n",
        "df_videos['Height'] = df_videos['Height'].astype('str').str.split(\".\", expand=True)[0]\n",
        "df_videos.head(2)"
      ],
      "execution_count": 206,
      "outputs": [
        {
          "output_type": "execute_result",
          "data": {
            "text/html": [
              "<div>\n",
              "<style scoped>\n",
              "    .dataframe tbody tr th:only-of-type {\n",
              "        vertical-align: middle;\n",
              "    }\n",
              "\n",
              "    .dataframe tbody tr th {\n",
              "        vertical-align: top;\n",
              "    }\n",
              "\n",
              "    .dataframe thead th {\n",
              "        text-align: right;\n",
              "    }\n",
              "</style>\n",
              "<table border=\"1\" class=\"dataframe\">\n",
              "  <thead>\n",
              "    <tr style=\"text-align: right;\">\n",
              "      <th></th>\n",
              "      <th>url</th>\n",
              "      <th>Partial Description</th>\n",
              "      <th>Publish Date</th>\n",
              "      <th>Upload_date</th>\n",
              "      <th>Genre</th>\n",
              "      <th>Width</th>\n",
              "      <th>Height</th>\n",
              "      <th>Likes</th>\n",
              "      <th>Comments</th>\n",
              "      <th>Interaction Count</th>\n",
              "    </tr>\n",
              "  </thead>\n",
              "  <tbody>\n",
              "    <tr>\n",
              "      <th>0</th>\n",
              "      <td>https://www.youtube.com/watch?v=iPgaTmsYTT8</td>\n",
              "      <td>Thanks for watching! Don't forget to subscribe...</td>\n",
              "      <td>2009-07-30</td>\n",
              "      <td>2009-07-30</td>\n",
              "      <td>Comedy</td>\n",
              "      <td>1280</td>\n",
              "      <td>720</td>\n",
              "      <td>102000</td>\n",
              "      <td>23437</td>\n",
              "      <td>18198670</td>\n",
              "    </tr>\n",
              "    <tr>\n",
              "      <th>1</th>\n",
              "      <td>https://www.youtube.com/watch?v=y7xZ-kJDgvM</td>\n",
              "      <td>Thanks for watching! Don't forget to subscribe...</td>\n",
              "      <td>2016-02-18</td>\n",
              "      <td>2016-02-18</td>\n",
              "      <td>Howto &amp; Style</td>\n",
              "      <td>1280</td>\n",
              "      <td>720</td>\n",
              "      <td>99000</td>\n",
              "      <td>8421</td>\n",
              "      <td>12395700</td>\n",
              "    </tr>\n",
              "  </tbody>\n",
              "</table>\n",
              "</div>"
            ],
            "text/plain": [
              "                                           url  ... Interaction Count\n",
              "0  https://www.youtube.com/watch?v=iPgaTmsYTT8  ...          18198670\n",
              "1  https://www.youtube.com/watch?v=y7xZ-kJDgvM  ...          12395700\n",
              "\n",
              "[2 rows x 10 columns]"
            ]
          },
          "metadata": {
            "tags": []
          },
          "execution_count": 206
        }
      ]
    },
    {
      "cell_type": "markdown",
      "metadata": {
        "id": "J_qtqVTsCOYo"
      },
      "source": [
        "## Cleaned Dataframe\n",
        "\n",
        "Sample of fully cleaned and merged dataframe\n",
        "\n",
        "Data from Youtubes Channels and all Videos pages were merged."
      ]
    },
    {
      "cell_type": "code",
      "metadata": {
        "colab": {
          "base_uri": "https://localhost:8080/",
          "height": 271
        },
        "id": "DLuFtbU2BRqs",
        "outputId": "d3a910ab-5b12-4327-cd34-db3167c172db"
      },
      "source": [
        "#collapse\n",
        "# merge df2 \n",
        "vc_merged = merged.merge(df_videos, on='url') \n",
        "vc_merged.rename(columns={\n",
        "    'Partial Description':'video_desc',\n",
        "    'Publish Date':'video_publish_date',\n",
        "    'Upload_date':'video_upload_date',\n",
        "    'Interaction Count':'video_interactations',\n",
        "    'Genre':'video_genre',\n",
        "    'Width':'video_width',\n",
        "    'Height':'video_height',\n",
        "    'Comments':'video_comments',\n",
        "    'views':'video_views',\n",
        "    'title':'video_title',\n",
        "    'url':'video_url'\n",
        "    },inplace=True)\n",
        "\n",
        "vc_merged.head(2)"
      ],
      "execution_count": 215,
      "outputs": [
        {
          "output_type": "execute_result",
          "data": {
            "text/html": [
              "<div>\n",
              "<style scoped>\n",
              "    .dataframe tbody tr th:only-of-type {\n",
              "        vertical-align: middle;\n",
              "    }\n",
              "\n",
              "    .dataframe tbody tr th {\n",
              "        vertical-align: top;\n",
              "    }\n",
              "\n",
              "    .dataframe thead th {\n",
              "        text-align: right;\n",
              "    }\n",
              "</style>\n",
              "<table border=\"1\" class=\"dataframe\">\n",
              "  <thead>\n",
              "    <tr style=\"text-align: right;\">\n",
              "      <th></th>\n",
              "      <th>channel_name</th>\n",
              "      <th>channel_join_date</th>\n",
              "      <th>channel_views</th>\n",
              "      <th>channel_description</th>\n",
              "      <th>subscribers</th>\n",
              "      <th>video_title</th>\n",
              "      <th>video_views</th>\n",
              "      <th>video_url</th>\n",
              "      <th>video_desc</th>\n",
              "      <th>video_publish_date</th>\n",
              "      <th>video_upload_date</th>\n",
              "      <th>video_genre</th>\n",
              "      <th>video_width</th>\n",
              "      <th>video_height</th>\n",
              "      <th>Likes</th>\n",
              "      <th>video_comments</th>\n",
              "      <th>video_interactations</th>\n",
              "    </tr>\n",
              "  </thead>\n",
              "  <tbody>\n",
              "    <tr>\n",
              "      <th>0</th>\n",
              "      <td>iJustine</td>\n",
              "      <td>2006-05-07</td>\n",
              "      <td>1288987476</td>\n",
              "      <td>Tech, video games, failed cooking attempts, vl...</td>\n",
              "      <td>689000000</td>\n",
              "      <td>Black Eyed Peas - I gotta Feeling (Parody)</td>\n",
              "      <td>18000000</td>\n",
              "      <td>https://www.youtube.com/watch?v=iPgaTmsYTT8</td>\n",
              "      <td>Thanks for watching! Don't forget to subscribe...</td>\n",
              "      <td>2009-07-30</td>\n",
              "      <td>2009-07-30</td>\n",
              "      <td>Comedy</td>\n",
              "      <td>1280</td>\n",
              "      <td>720</td>\n",
              "      <td>102000</td>\n",
              "      <td>23437</td>\n",
              "      <td>18198670</td>\n",
              "    </tr>\n",
              "    <tr>\n",
              "      <th>1</th>\n",
              "      <td>iJustine</td>\n",
              "      <td>2006-05-07</td>\n",
              "      <td>1288987476</td>\n",
              "      <td>Tech, video games, failed cooking attempts, vl...</td>\n",
              "      <td>689000000</td>\n",
              "      <td>Cake Decorating Challenge with Ro | Nerdy Numm...</td>\n",
              "      <td>12000000</td>\n",
              "      <td>https://www.youtube.com/watch?v=y7xZ-kJDgvM</td>\n",
              "      <td>Thanks for watching! Don't forget to subscribe...</td>\n",
              "      <td>2016-02-18</td>\n",
              "      <td>2016-02-18</td>\n",
              "      <td>Howto &amp; Style</td>\n",
              "      <td>1280</td>\n",
              "      <td>720</td>\n",
              "      <td>99000</td>\n",
              "      <td>8421</td>\n",
              "      <td>12395700</td>\n",
              "    </tr>\n",
              "  </tbody>\n",
              "</table>\n",
              "</div>"
            ],
            "text/plain": [
              "  channel_name channel_join_date  ...  video_comments video_interactations\n",
              "0     iJustine        2006-05-07  ...           23437             18198670\n",
              "1     iJustine        2006-05-07  ...            8421             12395700\n",
              "\n",
              "[2 rows x 17 columns]"
            ]
          },
          "metadata": {
            "tags": []
          },
          "execution_count": 215
        }
      ]
    },
    {
      "cell_type": "markdown",
      "metadata": {
        "id": "SCls6kuixin8"
      },
      "source": [
        "### Column Descriptions\n",
        "\n",
        "|Column Name  | Description |\n",
        "|:--|:--|\n",
        "|channel_name|Name of Youtube Channel  |\n",
        "|channel_join_date|Date Channel was created|\n",
        "|channel_views|Total views the channel has received|\n",
        "|channel_description|Description of Youtube Channel|\n",
        "|subscribers|Number of channel subscribers|\n",
        "|video_title|Video title|\n",
        "|video_views|Total views for vidoe|\n",
        "|video_url|Video url|\n",
        "|video_desc|Description of video|\n",
        "|video_publish_date|Date video was published|\n",
        "|video_upload_date|Date video was uploaded|\n",
        "|video_genre|Genre of video|\n",
        "|video_width|Width of video|\n",
        "|video_height|Height of video|\n",
        "|video_likes|Total likes for video|\n",
        "|video_comments|Total comments for video|\n",
        "|video_interactions|Number of interactions video has received|"
      ]
    },
    {
      "cell_type": "markdown",
      "metadata": {
        "id": "6RsDL9aOYx7w"
      },
      "source": [
        "## Data Analysis"
      ]
    },
    {
      "cell_type": "markdown",
      "metadata": {
        "id": "0n5Du1QEl0oE"
      },
      "source": [
        "### List of Youtube Channels"
      ]
    },
    {
      "cell_type": "code",
      "metadata": {
        "colab": {
          "base_uri": "https://localhost:8080/",
          "height": 254
        },
        "id": "VJmkObrolaIw",
        "outputId": "276b9702-7c24-4588-caac-84c907323d9a"
      },
      "source": [
        "#collapse\n",
        "# List of Video Channels\n",
        "yt_chan = vc_merged.groupby(['channel_join_date','channel_name','channel_views'])['subscribers'].max().to_frame().reset_index()\n",
        "\n",
        "# rename columns to increase readability\n",
        "yt_chan.rename(columns={\n",
        "    'channel_name':'Channel',\n",
        "    'channel_join_date':'Join Date',\n",
        "    'subscribers':'Subscribers',\n",
        "    'channel_views':'Views',\n",
        "    },inplace=True)\n",
        "\n",
        "# style dateframe to highlight highest values\n",
        "yt_chan.style.format(formatter={'Subscribers': \"{:,}\",\n",
        "                                 'Views': \"{:,}\",\n",
        "                                 'Join Date': \"{:%Y-%m-%d}\"}).background_gradient(subset=['Views',\n",
        "                                                                                          'Subscribers'], \n",
        "                                                                                  cmap='Wistia').hide_index()"
      ],
      "execution_count": 216,
      "outputs": [
        {
          "output_type": "execute_result",
          "data": {
            "text/html": [
              "<style  type=\"text/css\" >\n",
              "#T_909c87b4_e979_11eb_9141_0242ac1c0002row0_col2{\n",
              "            background-color:  #f8ee32;\n",
              "            color:  #000000;\n",
              "        }#T_909c87b4_e979_11eb_9141_0242ac1c0002row0_col3{\n",
              "            background-color:  #fd8d00;\n",
              "            color:  #000000;\n",
              "        }#T_909c87b4_e979_11eb_9141_0242ac1c0002row1_col2{\n",
              "            background-color:  #e7fc6e;\n",
              "            color:  #000000;\n",
              "        }#T_909c87b4_e979_11eb_9141_0242ac1c0002row1_col3{\n",
              "            background-color:  #f8ee33;\n",
              "            color:  #000000;\n",
              "        }#T_909c87b4_e979_11eb_9141_0242ac1c0002row2_col2{\n",
              "            background-color:  #f5f13f;\n",
              "            color:  #000000;\n",
              "        }#T_909c87b4_e979_11eb_9141_0242ac1c0002row2_col3{\n",
              "            background-color:  #ffab00;\n",
              "            color:  #000000;\n",
              "        }#T_909c87b4_e979_11eb_9141_0242ac1c0002row3_col2{\n",
              "            background-color:  #ffc002;\n",
              "            color:  #000000;\n",
              "        }#T_909c87b4_e979_11eb_9141_0242ac1c0002row3_col3{\n",
              "            background-color:  #f6f03b;\n",
              "            color:  #000000;\n",
              "        }#T_909c87b4_e979_11eb_9141_0242ac1c0002row4_col2,#T_909c87b4_e979_11eb_9141_0242ac1c0002row8_col3{\n",
              "            background-color:  #fc7f00;\n",
              "            color:  #000000;\n",
              "        }#T_909c87b4_e979_11eb_9141_0242ac1c0002row4_col3{\n",
              "            background-color:  #f5f13e;\n",
              "            color:  #000000;\n",
              "        }#T_909c87b4_e979_11eb_9141_0242ac1c0002row5_col2,#T_909c87b4_e979_11eb_9141_0242ac1c0002row6_col3,#T_909c87b4_e979_11eb_9141_0242ac1c0002row9_col2{\n",
              "            background-color:  #e4ff7a;\n",
              "            color:  #000000;\n",
              "        }#T_909c87b4_e979_11eb_9141_0242ac1c0002row5_col3{\n",
              "            background-color:  #ffdb12;\n",
              "            color:  #000000;\n",
              "        }#T_909c87b4_e979_11eb_9141_0242ac1c0002row6_col2{\n",
              "            background-color:  #fe9700;\n",
              "            color:  #000000;\n",
              "        }#T_909c87b4_e979_11eb_9141_0242ac1c0002row7_col2{\n",
              "            background-color:  #ecf85d;\n",
              "            color:  #000000;\n",
              "        }#T_909c87b4_e979_11eb_9141_0242ac1c0002row7_col3{\n",
              "            background-color:  #ffca08;\n",
              "            color:  #000000;\n",
              "        }#T_909c87b4_e979_11eb_9141_0242ac1c0002row8_col2{\n",
              "            background-color:  #f7ef38;\n",
              "            color:  #000000;\n",
              "        }#T_909c87b4_e979_11eb_9141_0242ac1c0002row9_col3{\n",
              "            background-color:  #ffd00c;\n",
              "            color:  #000000;\n",
              "        }</style><table id=\"T_909c87b4_e979_11eb_9141_0242ac1c0002\" ><thead>    <tr>        <th class=\"col_heading level0 col0\" >Join Date</th>        <th class=\"col_heading level0 col1\" >Channel</th>        <th class=\"col_heading level0 col2\" >Views</th>        <th class=\"col_heading level0 col3\" >Subscribers</th>    </tr></thead><tbody>\n",
              "                <tr>\n",
              "                                <td id=\"T_909c87b4_e979_11eb_9141_0242ac1c0002row0_col0\" class=\"data row0 col0\" >2006-05-07</td>\n",
              "                        <td id=\"T_909c87b4_e979_11eb_9141_0242ac1c0002row0_col1\" class=\"data row0 col1\" >iJustine</td>\n",
              "                        <td id=\"T_909c87b4_e979_11eb_9141_0242ac1c0002row0_col2\" class=\"data row0 col2\" >1,288,987,476</td>\n",
              "                        <td id=\"T_909c87b4_e979_11eb_9141_0242ac1c0002row0_col3\" class=\"data row0 col3\" >689,000,000</td>\n",
              "            </tr>\n",
              "            <tr>\n",
              "                                <td id=\"T_909c87b4_e979_11eb_9141_0242ac1c0002row1_col0\" class=\"data row1 col0\" >2007-06-07</td>\n",
              "                        <td id=\"T_909c87b4_e979_11eb_9141_0242ac1c0002row1_col1\" class=\"data row1 col1\" >Jon Rettinger</td>\n",
              "                        <td id=\"T_909c87b4_e979_11eb_9141_0242ac1c0002row1_col2\" class=\"data row1 col2\" >574,947,199</td>\n",
              "                        <td id=\"T_909c87b4_e979_11eb_9141_0242ac1c0002row1_col3\" class=\"data row1 col3\" >159,000,000</td>\n",
              "            </tr>\n",
              "            <tr>\n",
              "                                <td id=\"T_909c87b4_e979_11eb_9141_0242ac1c0002row2_col0\" class=\"data row2 col0\" >2007-08-04</td>\n",
              "                        <td id=\"T_909c87b4_e979_11eb_9141_0242ac1c0002row2_col1\" class=\"data row2 col1\" >Austin Evans</td>\n",
              "                        <td id=\"T_909c87b4_e979_11eb_9141_0242ac1c0002row2_col2\" class=\"data row2 col2\" >1,118,911,675</td>\n",
              "                        <td id=\"T_909c87b4_e979_11eb_9141_0242ac1c0002row2_col3\" class=\"data row2 col3\" >507,000,000</td>\n",
              "            </tr>\n",
              "            <tr>\n",
              "                                <td id=\"T_909c87b4_e979_11eb_9141_0242ac1c0002row3_col0\" class=\"data row3 col0\" >2008-03-21</td>\n",
              "                        <td id=\"T_909c87b4_e979_11eb_9141_0242ac1c0002row3_col1\" class=\"data row3 col1\" >Marques Brownlee</td>\n",
              "                        <td id=\"T_909c87b4_e979_11eb_9141_0242ac1c0002row3_col2\" class=\"data row3 col2\" >2,597,028,774</td>\n",
              "                        <td id=\"T_909c87b4_e979_11eb_9141_0242ac1c0002row3_col3\" class=\"data row3 col3\" >143,000,000</td>\n",
              "            </tr>\n",
              "            <tr>\n",
              "                                <td id=\"T_909c87b4_e979_11eb_9141_0242ac1c0002row4_col0\" class=\"data row4 col0\" >2008-11-24</td>\n",
              "                        <td id=\"T_909c87b4_e979_11eb_9141_0242ac1c0002row4_col1\" class=\"data row4 col1\" >Linus Tech Tips</td>\n",
              "                        <td id=\"T_909c87b4_e979_11eb_9141_0242ac1c0002row4_col2\" class=\"data row4 col2\" >4,934,741,560</td>\n",
              "                        <td id=\"T_909c87b4_e979_11eb_9141_0242ac1c0002row4_col3\" class=\"data row4 col3\" >137,000,000</td>\n",
              "            </tr>\n",
              "            <tr>\n",
              "                                <td id=\"T_909c87b4_e979_11eb_9141_0242ac1c0002row5_col0\" class=\"data row5 col0\" >2010-03-24</td>\n",
              "                        <td id=\"T_909c87b4_e979_11eb_9141_0242ac1c0002row5_col1\" class=\"data row5 col1\" >Jonathan Morrison</td>\n",
              "                        <td id=\"T_909c87b4_e979_11eb_9141_0242ac1c0002row5_col2\" class=\"data row5 col2\" >430,639,061</td>\n",
              "                        <td id=\"T_909c87b4_e979_11eb_9141_0242ac1c0002row5_col3\" class=\"data row5 col3\" >264,000,000</td>\n",
              "            </tr>\n",
              "            <tr>\n",
              "                                <td id=\"T_909c87b4_e979_11eb_9141_0242ac1c0002row6_col0\" class=\"data row6 col0\" >2010-12-21</td>\n",
              "                        <td id=\"T_909c87b4_e979_11eb_9141_0242ac1c0002row6_col1\" class=\"data row6 col1\" >Unbox Therapy</td>\n",
              "                        <td id=\"T_909c87b4_e979_11eb_9141_0242ac1c0002row6_col2\" class=\"data row6 col2\" >4,091,676,835</td>\n",
              "                        <td id=\"T_909c87b4_e979_11eb_9141_0242ac1c0002row6_col3\" class=\"data row6 col3\" >18,000,000</td>\n",
              "            </tr>\n",
              "            <tr>\n",
              "                                <td id=\"T_909c87b4_e979_11eb_9141_0242ac1c0002row7_col0\" class=\"data row7 col0\" >2011-04-03</td>\n",
              "                        <td id=\"T_909c87b4_e979_11eb_9141_0242ac1c0002row7_col1\" class=\"data row7 col1\" >Android Authority</td>\n",
              "                        <td id=\"T_909c87b4_e979_11eb_9141_0242ac1c0002row7_col2\" class=\"data row7 col2\" >767,860,795</td>\n",
              "                        <td id=\"T_909c87b4_e979_11eb_9141_0242ac1c0002row7_col3\" class=\"data row7 col3\" >336,000,000</td>\n",
              "            </tr>\n",
              "            <tr>\n",
              "                                <td id=\"T_909c87b4_e979_11eb_9141_0242ac1c0002row8_col0\" class=\"data row8 col0\" >2011-04-20</td>\n",
              "                        <td id=\"T_909c87b4_e979_11eb_9141_0242ac1c0002row8_col1\" class=\"data row8 col1\" >Mrwhosetheboss</td>\n",
              "                        <td id=\"T_909c87b4_e979_11eb_9141_0242ac1c0002row8_col2\" class=\"data row8 col2\" >1,208,148,200</td>\n",
              "                        <td id=\"T_909c87b4_e979_11eb_9141_0242ac1c0002row8_col3\" class=\"data row8 col3\" >771,000,000</td>\n",
              "            </tr>\n",
              "            <tr>\n",
              "                                <td id=\"T_909c87b4_e979_11eb_9141_0242ac1c0002row9_col0\" class=\"data row9 col0\" >2012-01-01</td>\n",
              "                        <td id=\"T_909c87b4_e979_11eb_9141_0242ac1c0002row9_col1\" class=\"data row9 col1\" >UrAvgConsumer</td>\n",
              "                        <td id=\"T_909c87b4_e979_11eb_9141_0242ac1c0002row9_col2\" class=\"data row9 col2\" >430,378,637</td>\n",
              "                        <td id=\"T_909c87b4_e979_11eb_9141_0242ac1c0002row9_col3\" class=\"data row9 col3\" >311,000,000</td>\n",
              "            </tr>\n",
              "    </tbody></table>"
            ],
            "text/plain": [
              "<pandas.io.formats.style.Styler at 0x7f8ef80e7a10>"
            ]
          },
          "metadata": {
            "tags": []
          },
          "execution_count": 216
        }
      ]
    },
    {
      "cell_type": "markdown",
      "metadata": {
        "id": "5ov8vuAsY1q0"
      },
      "source": [
        "### Top 10 Videos by Views\n",
        "\n",
        "Discoveries so far:\n",
        "\n",
        "* Majority of these vidoes are over a year old.  Meaning that as time goes by more video views will be acquired.\n",
        "\n",
        "* Two videos list a dollar amount in the title.\n",
        "\n",
        "* Marques Brownlee labels some videos (ex: \"Dope Tech\")\n",
        "\n",
        "* Unbox Therapy dominates videos by views list, 8 of 10 videos belong to this channel alone."
      ]
    },
    {
      "cell_type": "code",
      "metadata": {
        "colab": {
          "base_uri": "https://localhost:8080/",
          "height": 254
        },
        "id": "GvBkqfoEXQZk",
        "outputId": "c5a5e57d-3d57-42de-cd18-fd440d1f3f38"
      },
      "source": [
        "#collapse\n",
        "# Top 10 Videos by Views\n",
        "top_chan = vc_merged.groupby(['video_title',\n",
        "                              'channel_name',\n",
        "                              'video_publish_date'])['video_views'].max().sort_values(ascending=False).head(10).reset_index()\n",
        "\n",
        "# rename columns to increase readability\n",
        "top_chan.rename(columns={\n",
        "    'channel_name':'Channel',\n",
        "    'video_publish_date':'Publish Date',\n",
        "    'video_views':'Views',\n",
        "    'video_title':'Title',\n",
        "    },inplace=True)\n",
        "\n",
        "top_chan.style.format(formatter={'Views': \"{:,}\",\n",
        "                                 'Publish Date': \"{:%Y-%m-%d}\"}).background_gradient(subset=['Views',\n",
        "                                                                                                   'Publish Date'], cmap='Wistia').hide_index()\n"
      ],
      "execution_count": 224,
      "outputs": [
        {
          "output_type": "execute_result",
          "data": {
            "text/html": [
              "<style  type=\"text/css\" >\n",
              "#T_6386e106_e97a_11eb_9141_0242ac1c0002row0_col2{\n",
              "            background-color:  #fd8a00;\n",
              "            color:  #000000;\n",
              "        }#T_6386e106_e97a_11eb_9141_0242ac1c0002row0_col3,#T_6386e106_e97a_11eb_9141_0242ac1c0002row2_col2{\n",
              "            background-color:  #fc7f00;\n",
              "            color:  #000000;\n",
              "        }#T_6386e106_e97a_11eb_9141_0242ac1c0002row1_col2{\n",
              "            background-color:  #ffe217;\n",
              "            color:  #000000;\n",
              "        }#T_6386e106_e97a_11eb_9141_0242ac1c0002row1_col3,#T_6386e106_e97a_11eb_9141_0242ac1c0002row2_col3,#T_6386e106_e97a_11eb_9141_0242ac1c0002row3_col3,#T_6386e106_e97a_11eb_9141_0242ac1c0002row4_col3,#T_6386e106_e97a_11eb_9141_0242ac1c0002row5_col3,#T_6386e106_e97a_11eb_9141_0242ac1c0002row6_col3{\n",
              "            background-color:  #ffbd00;\n",
              "            color:  #000000;\n",
              "        }#T_6386e106_e97a_11eb_9141_0242ac1c0002row3_col2{\n",
              "            background-color:  #ffe216;\n",
              "            color:  #000000;\n",
              "        }#T_6386e106_e97a_11eb_9141_0242ac1c0002row4_col2{\n",
              "            background-color:  #ffa400;\n",
              "            color:  #000000;\n",
              "        }#T_6386e106_e97a_11eb_9141_0242ac1c0002row5_col2{\n",
              "            background-color:  #ffb200;\n",
              "            color:  #000000;\n",
              "        }#T_6386e106_e97a_11eb_9141_0242ac1c0002row6_col2{\n",
              "            background-color:  #ffd40e;\n",
              "            color:  #000000;\n",
              "        }#T_6386e106_e97a_11eb_9141_0242ac1c0002row7_col2{\n",
              "            background-color:  #fd8900;\n",
              "            color:  #000000;\n",
              "        }#T_6386e106_e97a_11eb_9141_0242ac1c0002row7_col3,#T_6386e106_e97a_11eb_9141_0242ac1c0002row8_col3,#T_6386e106_e97a_11eb_9141_0242ac1c0002row9_col2,#T_6386e106_e97a_11eb_9141_0242ac1c0002row9_col3{\n",
              "            background-color:  #e4ff7a;\n",
              "            color:  #000000;\n",
              "        }#T_6386e106_e97a_11eb_9141_0242ac1c0002row8_col2{\n",
              "            background-color:  #fe9600;\n",
              "            color:  #000000;\n",
              "        }</style><table id=\"T_6386e106_e97a_11eb_9141_0242ac1c0002\" ><thead>    <tr>        <th class=\"col_heading level0 col0\" >Title</th>        <th class=\"col_heading level0 col1\" >Channel</th>        <th class=\"col_heading level0 col2\" >Publish Date</th>        <th class=\"col_heading level0 col3\" >Views</th>    </tr></thead><tbody>\n",
              "                <tr>\n",
              "                                <td id=\"T_6386e106_e97a_11eb_9141_0242ac1c0002row0_col0\" class=\"data row0 col0\" >2020 iPad Pro Review: It's... A Computer?!</td>\n",
              "                        <td id=\"T_6386e106_e97a_11eb_9141_0242ac1c0002row0_col1\" class=\"data row0 col1\" >Marques Brownlee</td>\n",
              "                        <td id=\"T_6386e106_e97a_11eb_9141_0242ac1c0002row0_col2\" class=\"data row0 col2\" >2020-03-24</td>\n",
              "                        <td id=\"T_6386e106_e97a_11eb_9141_0242ac1c0002row0_col3\" class=\"data row0 col3\" >99,000,000</td>\n",
              "            </tr>\n",
              "            <tr>\n",
              "                                <td id=\"T_6386e106_e97a_11eb_9141_0242ac1c0002row1_col0\" class=\"data row1 col0\" >A Keyboard Made Of Glass?</td>\n",
              "                        <td id=\"T_6386e106_e97a_11eb_9141_0242ac1c0002row1_col1\" class=\"data row1 col1\" >Unbox Therapy</td>\n",
              "                        <td id=\"T_6386e106_e97a_11eb_9141_0242ac1c0002row1_col2\" class=\"data row1 col2\" >2016-04-09</td>\n",
              "                        <td id=\"T_6386e106_e97a_11eb_9141_0242ac1c0002row1_col3\" class=\"data row1 col3\" >98,000,000</td>\n",
              "            </tr>\n",
              "            <tr>\n",
              "                                <td id=\"T_6386e106_e97a_11eb_9141_0242ac1c0002row2_col0\" class=\"data row2 col0\" >iPhone 12 - The iPhone is New Again</td>\n",
              "                        <td id=\"T_6386e106_e97a_11eb_9141_0242ac1c0002row2_col1\" class=\"data row2 col1\" >Unbox Therapy</td>\n",
              "                        <td id=\"T_6386e106_e97a_11eb_9141_0242ac1c0002row2_col2\" class=\"data row2 col2\" >2020-10-13</td>\n",
              "                        <td id=\"T_6386e106_e97a_11eb_9141_0242ac1c0002row2_col3\" class=\"data row2 col3\" >98,000,000</td>\n",
              "            </tr>\n",
              "            <tr>\n",
              "                                <td id=\"T_6386e106_e97a_11eb_9141_0242ac1c0002row3_col0\" class=\"data row3 col0\" >The Secret Android Button</td>\n",
              "                        <td id=\"T_6386e106_e97a_11eb_9141_0242ac1c0002row3_col1\" class=\"data row3 col1\" >Unbox Therapy</td>\n",
              "                        <td id=\"T_6386e106_e97a_11eb_9141_0242ac1c0002row3_col2\" class=\"data row3 col2\" >2016-04-13</td>\n",
              "                        <td id=\"T_6386e106_e97a_11eb_9141_0242ac1c0002row3_col3\" class=\"data row3 col3\" >98,000,000</td>\n",
              "            </tr>\n",
              "            <tr>\n",
              "                                <td id=\"T_6386e106_e97a_11eb_9141_0242ac1c0002row4_col0\" class=\"data row4 col0\" >The FASTEST gaming PC money can buy</td>\n",
              "                        <td id=\"T_6386e106_e97a_11eb_9141_0242ac1c0002row4_col1\" class=\"data row4 col1\" >Linus Tech Tips</td>\n",
              "                        <td id=\"T_6386e106_e97a_11eb_9141_0242ac1c0002row4_col2\" class=\"data row4 col2\" >2018-12-27</td>\n",
              "                        <td id=\"T_6386e106_e97a_11eb_9141_0242ac1c0002row4_col3\" class=\"data row4 col3\" >98,000,000</td>\n",
              "            </tr>\n",
              "            <tr>\n",
              "                                <td id=\"T_6386e106_e97a_11eb_9141_0242ac1c0002row5_col0\" class=\"data row5 col0\" >Fortnite on an INSANE $20,000 Gaming PC</td>\n",
              "                        <td id=\"T_6386e106_e97a_11eb_9141_0242ac1c0002row5_col1\" class=\"data row5 col1\" >Unbox Therapy</td>\n",
              "                        <td id=\"T_6386e106_e97a_11eb_9141_0242ac1c0002row5_col2\" class=\"data row5 col2\" >2018-03-18</td>\n",
              "                        <td id=\"T_6386e106_e97a_11eb_9141_0242ac1c0002row5_col3\" class=\"data row5 col3\" >98,000,000</td>\n",
              "            </tr>\n",
              "            <tr>\n",
              "                                <td id=\"T_6386e106_e97a_11eb_9141_0242ac1c0002row6_col0\" class=\"data row6 col0\" >Dope Tech: Self-Lacing Nike Mag!</td>\n",
              "                        <td id=\"T_6386e106_e97a_11eb_9141_0242ac1c0002row6_col1\" class=\"data row6 col1\" >Marques Brownlee</td>\n",
              "                        <td id=\"T_6386e106_e97a_11eb_9141_0242ac1c0002row6_col2\" class=\"data row6 col2\" >2016-10-07</td>\n",
              "                        <td id=\"T_6386e106_e97a_11eb_9141_0242ac1c0002row6_col3\" class=\"data row6 col3\" >98,000,000</td>\n",
              "            </tr>\n",
              "            <tr>\n",
              "                                <td id=\"T_6386e106_e97a_11eb_9141_0242ac1c0002row7_col0\" class=\"data row7 col0\" >This is the iPhone SE 2</td>\n",
              "                        <td id=\"T_6386e106_e97a_11eb_9141_0242ac1c0002row7_col1\" class=\"data row7 col1\" >Unbox Therapy</td>\n",
              "                        <td id=\"T_6386e106_e97a_11eb_9141_0242ac1c0002row7_col2\" class=\"data row7 col2\" >2020-04-15</td>\n",
              "                        <td id=\"T_6386e106_e97a_11eb_9141_0242ac1c0002row7_col3\" class=\"data row7 col3\" >97,000,000</td>\n",
              "            </tr>\n",
              "            <tr>\n",
              "                                <td id=\"T_6386e106_e97a_11eb_9141_0242ac1c0002row8_col0\" class=\"data row8 col0\" >Human Headphones Just Changed The Game</td>\n",
              "                        <td id=\"T_6386e106_e97a_11eb_9141_0242ac1c0002row8_col1\" class=\"data row8 col1\" >Unbox Therapy</td>\n",
              "                        <td id=\"T_6386e106_e97a_11eb_9141_0242ac1c0002row8_col2\" class=\"data row8 col2\" >2019-08-30</td>\n",
              "                        <td id=\"T_6386e106_e97a_11eb_9141_0242ac1c0002row8_col3\" class=\"data row8 col3\" >97,000,000</td>\n",
              "            </tr>\n",
              "            <tr>\n",
              "                                <td id=\"T_6386e106_e97a_11eb_9141_0242ac1c0002row9_col0\" class=\"data row9 col0\" >$1000 Earphones! (Shure SE846 Unboxing & Test)</td>\n",
              "                        <td id=\"T_6386e106_e97a_11eb_9141_0242ac1c0002row9_col1\" class=\"data row9 col1\" >Unbox Therapy</td>\n",
              "                        <td id=\"T_6386e106_e97a_11eb_9141_0242ac1c0002row9_col2\" class=\"data row9 col2\" >2014-06-23</td>\n",
              "                        <td id=\"T_6386e106_e97a_11eb_9141_0242ac1c0002row9_col3\" class=\"data row9 col3\" >97,000,000</td>\n",
              "            </tr>\n",
              "    </tbody></table>"
            ],
            "text/plain": [
              "<pandas.io.formats.style.Styler at 0x7f8ef7789d10>"
            ]
          },
          "metadata": {
            "tags": []
          },
          "execution_count": 224
        }
      ]
    },
    {
      "cell_type": "markdown",
      "metadata": {
        "id": "RHTt3RGtts8o"
      },
      "source": [
        "### Total Views by Channel"
      ]
    },
    {
      "cell_type": "code",
      "metadata": {
        "colab": {
          "base_uri": "https://localhost:8080/",
          "height": 254
        },
        "id": "pD6GjfndtIno",
        "outputId": "d389aec4-cdb2-4871-fe1b-3249d803364c"
      },
      "source": [
        "#collapse\n",
        "# Total Views by Channel\n",
        "\n",
        "chan_views = vc_merged.groupby(['channel_name','subscribers'])['video_views'].sum().sort_values(ascending=False).reset_index()\n",
        "\n",
        "# rename columns to increase readability\n",
        "chan_views.rename(columns={\n",
        "    'channel_name':'Channel',\n",
        "    'subscribers':'Subscribers',\n",
        "    'video_views':'Views',\n",
        "    },inplace=True)\n",
        "\n",
        "chan_views.style.format(formatter={'Views': \"{:,}\",\n",
        "                                 'Subscribers': \"{:,}\"}).background_gradient(subset=['Views','Subscribers'], cmap='Wistia').hide_index()"
      ],
      "execution_count": 226,
      "outputs": [
        {
          "output_type": "execute_result",
          "data": {
            "text/html": [
              "<style  type=\"text/css\" >\n",
              "#T_95b15ca6_e97a_11eb_9141_0242ac1c0002row0_col1,#T_95b15ca6_e97a_11eb_9141_0242ac1c0002row9_col2{\n",
              "            background-color:  #e4ff7a;\n",
              "            color:  #000000;\n",
              "        }#T_95b15ca6_e97a_11eb_9141_0242ac1c0002row0_col2,#T_95b15ca6_e97a_11eb_9141_0242ac1c0002row3_col1{\n",
              "            background-color:  #fc7f00;\n",
              "            color:  #000000;\n",
              "        }#T_95b15ca6_e97a_11eb_9141_0242ac1c0002row1_col1{\n",
              "            background-color:  #f5f13e;\n",
              "            color:  #000000;\n",
              "        }#T_95b15ca6_e97a_11eb_9141_0242ac1c0002row1_col2{\n",
              "            background-color:  #fd8500;\n",
              "            color:  #000000;\n",
              "        }#T_95b15ca6_e97a_11eb_9141_0242ac1c0002row2_col1{\n",
              "            background-color:  #f6f03b;\n",
              "            color:  #000000;\n",
              "        }#T_95b15ca6_e97a_11eb_9141_0242ac1c0002row2_col2{\n",
              "            background-color:  #fd8600;\n",
              "            color:  #000000;\n",
              "        }#T_95b15ca6_e97a_11eb_9141_0242ac1c0002row3_col2{\n",
              "            background-color:  #ffae00;\n",
              "            color:  #000000;\n",
              "        }#T_95b15ca6_e97a_11eb_9141_0242ac1c0002row4_col1{\n",
              "            background-color:  #ffab00;\n",
              "            color:  #000000;\n",
              "        }#T_95b15ca6_e97a_11eb_9141_0242ac1c0002row4_col2,#T_95b15ca6_e97a_11eb_9141_0242ac1c0002row5_col2{\n",
              "            background-color:  #ffc908;\n",
              "            color:  #000000;\n",
              "        }#T_95b15ca6_e97a_11eb_9141_0242ac1c0002row5_col1{\n",
              "            background-color:  #fd8d00;\n",
              "            color:  #000000;\n",
              "        }#T_95b15ca6_e97a_11eb_9141_0242ac1c0002row6_col1{\n",
              "            background-color:  #ffca08;\n",
              "            color:  #000000;\n",
              "        }#T_95b15ca6_e97a_11eb_9141_0242ac1c0002row6_col2{\n",
              "            background-color:  #eafa65;\n",
              "            color:  #000000;\n",
              "        }#T_95b15ca6_e97a_11eb_9141_0242ac1c0002row7_col1{\n",
              "            background-color:  #ffd00c;\n",
              "            color:  #000000;\n",
              "        }#T_95b15ca6_e97a_11eb_9141_0242ac1c0002row7_col2{\n",
              "            background-color:  #e9fb68;\n",
              "            color:  #000000;\n",
              "        }#T_95b15ca6_e97a_11eb_9141_0242ac1c0002row8_col1{\n",
              "            background-color:  #ffdb12;\n",
              "            color:  #000000;\n",
              "        }#T_95b15ca6_e97a_11eb_9141_0242ac1c0002row8_col2{\n",
              "            background-color:  #e7fc6f;\n",
              "            color:  #000000;\n",
              "        }#T_95b15ca6_e97a_11eb_9141_0242ac1c0002row9_col1{\n",
              "            background-color:  #f8ee33;\n",
              "            color:  #000000;\n",
              "        }</style><table id=\"T_95b15ca6_e97a_11eb_9141_0242ac1c0002\" ><thead>    <tr>        <th class=\"col_heading level0 col0\" >Channel</th>        <th class=\"col_heading level0 col1\" >Subscribers</th>        <th class=\"col_heading level0 col2\" >Views</th>    </tr></thead><tbody>\n",
              "                <tr>\n",
              "                                <td id=\"T_95b15ca6_e97a_11eb_9141_0242ac1c0002row0_col0\" class=\"data row0 col0\" >Unbox Therapy</td>\n",
              "                        <td id=\"T_95b15ca6_e97a_11eb_9141_0242ac1c0002row0_col1\" class=\"data row0 col1\" >18,000,000</td>\n",
              "                        <td id=\"T_95b15ca6_e97a_11eb_9141_0242ac1c0002row0_col2\" class=\"data row0 col2\" >10,357,000,000</td>\n",
              "            </tr>\n",
              "            <tr>\n",
              "                                <td id=\"T_95b15ca6_e97a_11eb_9141_0242ac1c0002row1_col0\" class=\"data row1 col0\" >Linus Tech Tips</td>\n",
              "                        <td id=\"T_95b15ca6_e97a_11eb_9141_0242ac1c0002row1_col1\" class=\"data row1 col1\" >137,000,000</td>\n",
              "                        <td id=\"T_95b15ca6_e97a_11eb_9141_0242ac1c0002row1_col2\" class=\"data row1 col2\" >9,895,000,000</td>\n",
              "            </tr>\n",
              "            <tr>\n",
              "                                <td id=\"T_95b15ca6_e97a_11eb_9141_0242ac1c0002row2_col0\" class=\"data row2 col0\" >Marques Brownlee</td>\n",
              "                        <td id=\"T_95b15ca6_e97a_11eb_9141_0242ac1c0002row2_col1\" class=\"data row2 col1\" >143,000,000</td>\n",
              "                        <td id=\"T_95b15ca6_e97a_11eb_9141_0242ac1c0002row2_col2\" class=\"data row2 col2\" >9,864,000,000</td>\n",
              "            </tr>\n",
              "            <tr>\n",
              "                                <td id=\"T_95b15ca6_e97a_11eb_9141_0242ac1c0002row3_col0\" class=\"data row3 col0\" >Mrwhosetheboss</td>\n",
              "                        <td id=\"T_95b15ca6_e97a_11eb_9141_0242ac1c0002row3_col1\" class=\"data row3 col1\" >771,000,000</td>\n",
              "                        <td id=\"T_95b15ca6_e97a_11eb_9141_0242ac1c0002row3_col2\" class=\"data row3 col2\" >6,870,000,000</td>\n",
              "            </tr>\n",
              "            <tr>\n",
              "                                <td id=\"T_95b15ca6_e97a_11eb_9141_0242ac1c0002row4_col0\" class=\"data row4 col0\" >Austin Evans</td>\n",
              "                        <td id=\"T_95b15ca6_e97a_11eb_9141_0242ac1c0002row4_col1\" class=\"data row4 col1\" >507,000,000</td>\n",
              "                        <td id=\"T_95b15ca6_e97a_11eb_9141_0242ac1c0002row4_col2\" class=\"data row4 col2\" >5,041,000,000</td>\n",
              "            </tr>\n",
              "            <tr>\n",
              "                                <td id=\"T_95b15ca6_e97a_11eb_9141_0242ac1c0002row5_col0\" class=\"data row5 col0\" >iJustine</td>\n",
              "                        <td id=\"T_95b15ca6_e97a_11eb_9141_0242ac1c0002row5_col1\" class=\"data row5 col1\" >689,000,000</td>\n",
              "                        <td id=\"T_95b15ca6_e97a_11eb_9141_0242ac1c0002row5_col2\" class=\"data row5 col2\" >5,017,000,000</td>\n",
              "            </tr>\n",
              "            <tr>\n",
              "                                <td id=\"T_95b15ca6_e97a_11eb_9141_0242ac1c0002row6_col0\" class=\"data row6 col0\" >Android Authority</td>\n",
              "                        <td id=\"T_95b15ca6_e97a_11eb_9141_0242ac1c0002row6_col1\" class=\"data row6 col1\" >336,000,000</td>\n",
              "                        <td id=\"T_95b15ca6_e97a_11eb_9141_0242ac1c0002row6_col2\" class=\"data row6 col2\" >1,590,710,000</td>\n",
              "            </tr>\n",
              "            <tr>\n",
              "                                <td id=\"T_95b15ca6_e97a_11eb_9141_0242ac1c0002row7_col0\" class=\"data row7 col0\" >UrAvgConsumer</td>\n",
              "                        <td id=\"T_95b15ca6_e97a_11eb_9141_0242ac1c0002row7_col1\" class=\"data row7 col1\" >311,000,000</td>\n",
              "                        <td id=\"T_95b15ca6_e97a_11eb_9141_0242ac1c0002row7_col2\" class=\"data row7 col2\" >1,500,732,000</td>\n",
              "            </tr>\n",
              "            <tr>\n",
              "                                <td id=\"T_95b15ca6_e97a_11eb_9141_0242ac1c0002row8_col0\" class=\"data row8 col0\" >Jonathan Morrison</td>\n",
              "                        <td id=\"T_95b15ca6_e97a_11eb_9141_0242ac1c0002row8_col1\" class=\"data row8 col1\" >264,000,000</td>\n",
              "                        <td id=\"T_95b15ca6_e97a_11eb_9141_0242ac1c0002row8_col2\" class=\"data row8 col2\" >1,340,207,000</td>\n",
              "            </tr>\n",
              "            <tr>\n",
              "                                <td id=\"T_95b15ca6_e97a_11eb_9141_0242ac1c0002row9_col0\" class=\"data row9 col0\" >Jon Rettinger</td>\n",
              "                        <td id=\"T_95b15ca6_e97a_11eb_9141_0242ac1c0002row9_col1\" class=\"data row9 col1\" >159,000,000</td>\n",
              "                        <td id=\"T_95b15ca6_e97a_11eb_9141_0242ac1c0002row9_col2\" class=\"data row9 col2\" >1,051,493,000</td>\n",
              "            </tr>\n",
              "    </tbody></table>"
            ],
            "text/plain": [
              "<pandas.io.formats.style.Styler at 0x7f8ef7756d90>"
            ]
          },
          "metadata": {
            "tags": []
          },
          "execution_count": 226
        }
      ]
    },
    {
      "cell_type": "markdown",
      "metadata": {
        "id": "3sqJwCA1_xI0"
      },
      "source": [
        "## Resources\n",
        "\n",
        "- [Top 25 Selenium Functions That Will Make You Pro In Web Scraping](https://towardsdatascience.com/top-25-selenium-functions-that-will-make-you-pro-in-web-scraping-5c937e027244)\n",
        "\n",
        "- [How to build a Web Scraper or Bot in Python using Selenium](https://medium.com/daily-programming-tips/how-to-build-a-web-scraper-or-bot-in-python-using-selenium-2815f20023f7)\n",
        "\n",
        "- [Web Scraping: Introduction, Best Practices & Caveats](https://medium.com/velotio-perspectives/web-scraping-introduction-best-practices-caveats-9cbf4acc8d0f)\n",
        "\n",
        "- [Web Scraping Job Postings from Indeed.com using Selenium](https://towardsdatascience.com/web-scraping-job-postings-from-indeed-com-using-selenium-5ae58d155daf)\n",
        "\n",
        "\n",
        "- [How I Use Selenium to Automate the Web With Python. Pt1 -  John Watson Rooney\n",
        "](https://www.youtube.com/watch?v=pUUhvJvs-R4)"
      ]
    }
  ]
}